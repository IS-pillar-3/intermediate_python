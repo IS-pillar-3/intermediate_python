{
 "cells": [
  {
   "cell_type": "markdown",
   "metadata": {
    "slideshow": {
     "slide_type": "slide"
    }
   },
   "source": [
    "#### <center>Intermediate Python and Software Enginnering</center>\n",
    "\n",
    "\n",
    "## <center>Section 04 - Part 03 - Bash Variables and Pipelines</center>\n",
    "\n",
    "\n",
    "### <center>Innovation Scholars Programme</center>\n",
    "### <center>King's College London, Medical Research Council and UKRI <center>"
   ]
  },
  {
   "cell_type": "markdown",
   "metadata": {
    "slideshow": {
     "slide_type": "slide"
    }
   },
   "source": [
    "* Variables are assigned with `=` without spaces around the operator\n",
    "* All variables essentially are treated as if they stored string information\n",
    "* `$` must precede variables so that bash knows these aren't meant to be interpreted as text\n",
    "* Variables that don't exist produce empty strings\n",
    "* `{}` are used to ensure there's no ambiguity and perform string operations\n",
    "\n",
    "```sh\n",
    "$ msg=\"Hello, variable\"\n",
    "$ echo msg\n",
    "msg\n",
    "$ echo $msg\n",
    "Hello, variable\n",
    "$ echo ${msg}\n",
    "Hello, variable\n",
    "$ echo ${msg:3:8}  # take 8 characters starting from position 3\n",
    "lo, vari\n",
    "```"
   ]
  },
  {
   "cell_type": "markdown",
   "metadata": {
    "slideshow": {
     "slide_type": "slide"
    }
   },
   "source": [
    "* NO SPACE AROUND `=`, very important\n",
    "* `msg = \"Hello, variable\"` interpreted by bash as running the program `msg` with `=` and `\"Hello, variable\"` passed as arguments\n",
    "* `msg= \"Hello, variable\"` interpreted as running the program `\"Hello, variable\"` with the environment variable `msg` set to the empty string (more on environment variables later)\n",
    "* This and other quirks are the result of bash's lineage and its focus as an interpreted, interactive language\n",
    "\n",
    "```sh\n",
    "$ msg = \"Hello, variable\"\n",
    "bash: msg: command not found\n",
    "$ msg= \"Hello, variable\"\n",
    "bash: Hello, variable: command not found\n",
    "```"
   ]
  },
  {
   "cell_type": "markdown",
   "metadata": {
    "slideshow": {
     "slide_type": "slide"
    }
   },
   "source": [
    "* Since variables store text doing math is a little harder, modern versions of bash help us though\n",
    "\n",
    "```sh\n",
    "x=1\n",
    "y=2\n",
    "echo $x + $y  # prints \"1 + 2\"\n",
    "echo \"$x + $y\"  # prints \"1 + 2\", double quotes allow expansion\n",
    "echo '$x + $y'  # prints \"$x + $y\", single quotes prevent expansion\n",
    "echo $((x+y))  # prints \"3\"\n",
    "((x+=1))  # increment x by 1\n",
    "echo $((x+y))  # prints \"4\"\n",
    "```"
   ]
  },
  {
   "cell_type": "markdown",
   "metadata": {
    "slideshow": {
     "slide_type": "slide"
    }
   },
   "source": [
    "* Processes can be run in `$()` constructs and evaluate to whatever was written to stdout\n",
    "* Like other languages `;` can be used to chain commands together as a single unit\n",
    "\n",
    "```sh\n",
    "$ pwd\n",
    "/home/localek10/workspace/BMEISWorkshops/13_bash_linux\n",
    "$ parent_dir=$(cd ..; pwd)  # move to the parent directory and print current path\n",
    "$ echo $parent_dir\n",
    "/home/localek10/workspace/BMEISWorkshops\n",
    "```"
   ]
  },
  {
   "cell_type": "markdown",
   "metadata": {
    "slideshow": {
     "slide_type": "slide"
    }
   },
   "source": [
    "* Arguments to commands are tokenized by spaces, whether they come from variables or not\n",
    "* Double-quotes can be used to tie arguments together, single-quotes to pass the value literally without variable expansion\n",
    "* `\\` can be used to escape characters and not interpret them for special meaning\n",
    "\n",
    "```sh\n",
    "$ x=\"hello, argument\"\n",
    "$ python -c 'import sys; print(sys.argv)' $x\n",
    "['-c', 'hello,', 'argument']\n",
    "$ python -c 'import sys; print(sys.argv)' \"$x\"\n",
    "['-c', 'hello, argument']\n",
    "$ python -c 'import sys; print(sys.argv)' '$x'\n",
    "['-c', '$x']\n",
    "$ python -c 'import sys; print(sys.argv)' hello,\\ argument\n",
    "['-c', 'hello, argument']\n",
    "```"
   ]
  },
  {
   "cell_type": "markdown",
   "metadata": {
    "slideshow": {
     "slide_type": "slide"
    }
   },
   "source": [
    "* Filenames can be selected using a simple regular expression system called filename expansion when assigning to variables or used as arguments\n",
    "* Uses `*` to stand for anything, `?` for one character, `{}` to present a list of choices\n",
    "\n",
    "```sh\n",
    "$ echo /bin/w*\n",
    "/bin/wdctl /bin/which /bin/whiptail\n",
    "$ echo /bin/??d\n",
    "/bin/pwd /bin/red /bin/sed\n",
    "```\n",
    "\n",
    "* If a pattern matches no existing files it stay unexpanded:\n",
    "\n",
    "```sh\n",
    "$ echo foo*bar\n",
    "foo*bar\n",
    "```"
   ]
  },
  {
   "cell_type": "markdown",
   "metadata": {
    "slideshow": {
     "slide_type": "slide"
    }
   },
   "source": [
    "* All running programs have a process identifier or PID number which is unique, `$$` stores current shell's PID\n",
    "* Programs return an exist status integer, 0 means success, positive values indicate various failure results, negative numbers indicate errors\n",
    "* Exit status captured in variable `$?`, used for decisions in conditional blocks:\n",
    "\n",
    "```sh\n",
    "$ echo \"Success!\"\n",
    "Success!\n",
    "$ echo $?\n",
    "0\n",
    "```"
   ]
  },
  {
   "cell_type": "markdown",
   "metadata": {
    "slideshow": {
     "slide_type": "slide"
    }
   },
   "source": [
    "* Appending `&` to a command causes it to run in the background without control of the session\n",
    "* Program will run as normal, reading/writing standard input/output/error\n",
    "* Bash prints the PID and immediately assumes control \n",
    "* PID is accessible through `$!` special variable:\n",
    "\n",
    "```sh\n",
    "$ python -c 'import time;time.sleep(10);print(\"Done\")' &\n",
    "[1] 21919\n",
    "$ echo $!\n",
    "21919\n",
    "$ Done\n",
    "[1]+  Done                    python -c 'import time;time.sleep(10);print(\"Done\")'\n",
    "```"
   ]
  },
  {
   "cell_type": "markdown",
   "metadata": {
    "slideshow": {
     "slide_type": "slide"
    }
   },
   "source": [
    "* Pressing `ctrl+z` suspends a running program and returns control to bash\n",
    "* Variable `$!` contains the PID of most recent backgrounded process\n",
    "* `fg` brings it back to the foreground and hands it control, `bg` sends it to run the background:\n",
    "\n",
    "```sh\n",
    "$ python -c 'import time;time.sleep(10);print(\"Done\")'\n",
    "^Z\n",
    "[1]+  Stopped                 python -c 'import time;time.sleep(10);print(\"Done\")'\n",
    "$ bg\n",
    "[1]+ python -c 'import time;time.sleep(10);print(\"Done\")' &\n",
    "$ echo $!\n",
    "21919\n",
    "$ Done\n",
    "[1]+  Done                    python -c 'import time;time.sleep(10);print(\"Done\")'\n",
    "```"
   ]
  },
  {
   "cell_type": "markdown",
   "metadata": {
    "slideshow": {
     "slide_type": "slide"
    }
   },
   "source": [
    "* Other useful key commands for process control:\n",
    "  * `ctrl+c`: attempt to kill current command, this sends the `SIGINT` signal to the process which can be ignored\n",
    "  * `ctrl+d`: exit current shell\n",
    "* Other key commands for editing control available, see `man bash` (`man` is the manual program, another is `info`)\n",
    "  \n",
    "```sh\n",
    "$ python -c 'import time;time.sleep(10);print(\"Done\")'\n",
    "^CTraceback (most recent call last):\n",
    "  File \"<string>\", line 1, in <module>\n",
    "KeyboardInterrupt\n",
    "$ logout\n",
    "Connection to localhost closed.\n",
    "\n",
    "```"
   ]
  },
  {
   "cell_type": "markdown",
   "metadata": {
    "slideshow": {
     "slide_type": "slide"
    }
   },
   "source": [
    "* Important Bash/Unit concept is data pipelines where outputs from one program get fed into inputs of others\n",
    "* Bash provides syntax for piping data between commands, to and from files, and from text on the command line\n",
    "* `|` used between commands to pipe output from one to input of other:\n",
    "\n",
    "```sh\n",
    "$ echo \"hello, lowercase\" | tr \"[a-z]\" \"[A-Z]\"\n",
    "HELLO, LOWERCASE\n",
    "```\n",
    "\n",
    "* `tr` performs various text translation operations"
   ]
  },
  {
   "cell_type": "markdown",
   "metadata": {
    "slideshow": {
     "slide_type": "slide"
    }
   },
   "source": [
    "* `<` pipes data from file to command, `>` sends output to file\n",
    "\n",
    "```sh\n",
    "$ echo \"hello, lowercase\" | tee lower.txt\n",
    "hello, lowercase\n",
    "$ tr -d l < lower.txt | wc > wordcount.txt\n",
    "$ cat wordcount.txt\n",
    "      1       2      14\n",
    "```\n",
    "\n",
    "* `tee` is a T-junction, sending data to given file(s) and stdout\n",
    "* `wc` is word count program, produces number of lines, words, and characters"
   ]
  },
  {
   "cell_type": "markdown",
   "metadata": {
    "slideshow": {
     "slide_type": "slide"
    }
   },
   "source": [
    "* `<<` (called \"here-document\") used to read text from the command line or script file until a sentinel line is encountered, useful for writing out multi-line files in a command\n",
    "\n",
    "```sh\n",
    "$ cat - << _EOF_ > multiline.txt\n",
    "I am a\n",
    "multi-line\n",
    "file\n",
    "_EOF_\n",
    "\n",
    "$ wc < multiline.txt\n",
    "3  5 23\n",
    "```\n",
    "\n",
    "* In `cat -` the `-` means concatenate data from stdin rather than a file, in this case this will be the here-document"
   ]
  }
 ],
 "metadata": {
  "celltoolbar": "Slideshow",
  "kernelspec": {
   "display_name": "Python 3 (ipykernel)",
   "language": "python",
   "name": "python3"
  },
  "language_info": {
   "codemirror_mode": {
    "name": "ipython",
    "version": 3
   },
   "file_extension": ".py",
   "mimetype": "text/x-python",
   "name": "python",
   "nbconvert_exporter": "python",
   "pygments_lexer": "ipython3",
   "version": "3.10.13"
  }
 },
 "nbformat": 4,
 "nbformat_minor": 4
}
