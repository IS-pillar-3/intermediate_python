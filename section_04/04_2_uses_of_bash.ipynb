{
 "cells": [
  {
   "cell_type": "markdown",
   "metadata": {
    "slideshow": {
     "slide_type": "slide"
    }
   },
   "source": [
    "#### <center>Intermediate Python and Software Enginnering</center>\n",
    "\n",
    "\n",
    "## <center>Section 04 - Part 02 - What is Bash used for?</center>\n",
    "\n",
    "\n",
    "### <center>Innovation Scholars Programme</center>\n",
    "### <center>King's College London, Medical Research Council and UKRI <center>"
   ]
  },
  {
   "cell_type": "markdown",
   "metadata": {
    "slideshow": {
     "slide_type": "slide"
    }
   },
   "source": [
    "* What is bash used for? Just about anything but especially controlling running programs and managing files\n",
    "* Programs and commands are provided for manipulating files/directories:\n",
    "  * `cd`: change directory to given path, to the previous directory if `-`, or home if none given\n",
    "  * `pwd`: print the current working directory\n",
    "  * `ls`: list files and directories\n",
    "  * `mkdir`: program to create a directory\n",
    "  * `cp`: copy files/directories\n",
    "  * `rm`: delete files or directories\n",
    "  * `mv`: move files or directories\n",
    "  * `cat`: concatenate files together and print to stdout"
   ]
  },
  {
   "cell_type": "code",
   "execution_count": 28,
   "metadata": {
    "slideshow": {
     "slide_type": "slide"
    }
   },
   "outputs": [
    {
     "name": "stdout",
     "output_type": "stream",
     "text": [
      "01_lecture.css\n",
      "01_lecture.ipynb\n",
      "out.txt\n",
      "/home/localek10/workspace/BMEISWorkshops/13_bash_linux/test_dir\n",
      "Thought you could avoid Python this lecture, eh?\n",
      "/home/localek10/workspace/BMEISWorkshops/13_bash_linux\n"
     ]
    }
   ],
   "source": [
    "%%bash\n",
    "python -c 'open(\"out.txt\",\"w\").write(\"Thought you could avoid Python this lecture, eh?\\n\")'\n",
    "ls\n",
    "mkdir test_dir\n",
    "cd test_dir\n",
    "pwd\n",
    "cp ../out.txt .\n",
    "cat out.txt\n",
    "cd -  # NB: this will print the current directory\n",
    "rm -rf test_dir out.txt"
   ]
  },
  {
   "cell_type": "markdown",
   "metadata": {
    "slideshow": {
     "slide_type": "slide"
    }
   },
   "source": [
    "* As a user interactive environment, you navigate around the directory tree with `cd`, use `pwd` to see where you are, `ls` to see what you've got, and invoke programs to do things where you're at\n",
    "* Essence of bash is job control, managing the running of programs and combining them to accomplish tasks\n",
    "* Bash provides job control facilities, key commands, and special variables to manage this"
   ]
  }
 ],
 "metadata": {
  "celltoolbar": "Slideshow",
  "kernelspec": {
   "display_name": "Python 3 (ipykernel)",
   "language": "python",
   "name": "python3"
  },
  "language_info": {
   "codemirror_mode": {
    "name": "ipython",
    "version": 3
   },
   "file_extension": ".py",
   "mimetype": "text/x-python",
   "name": "python",
   "nbconvert_exporter": "python",
   "pygments_lexer": "ipython3",
   "version": "3.10.13"
  }
 },
 "nbformat": 4,
 "nbformat_minor": 4
}
