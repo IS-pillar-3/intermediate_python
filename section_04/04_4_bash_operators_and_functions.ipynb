{
 "cells": [
  {
   "cell_type": "markdown",
   "metadata": {
    "slideshow": {
     "slide_type": "slide"
    }
   },
   "source": [
    "#### <center>Intermediate Python and Software Enginnering</center>\n",
    "\n",
    "\n",
    "## <center>Section 04 - Part 04 - Bash Operators and Functions</center>\n",
    "\n",
    "\n",
    "### <center>Innovation Scholars Programme</center>\n",
    "### <center>King's College London, Medical Research Council and UKRI <center>"
   ]
  },
  {
   "cell_type": "markdown",
   "metadata": {
    "slideshow": {
     "slide_type": "slide"
    }
   },
   "source": [
    "* Bash has the usual constructs expected of a structured programming language\n",
    "* If-elif-elf implemented with statements which can be used as commands:\n",
    "\n",
    "```sh\n",
    "if cmd1\n",
    "then\n",
    "    true-cmds1\n",
    "elif cmd2 ;then  # can use ; instead of newline\n",
    "    true-cmds2\n",
    "else\n",
    "    false-cmds\n",
    "fi\n",
    "```\n",
    "\n",
    "* Conditionals are commands themselves, exit value of 0 is true, otherwise is false"
   ]
  },
  {
   "cell_type": "markdown",
   "metadata": {
    "slideshow": {
     "slide_type": "slide"
    }
   },
   "source": [
    "```sh\n",
    "$ if ps | grep bash > /dev/null\n",
    "then \n",
    "    echo \"Bash is running\"\n",
    "else \n",
    "    echo \"Bash isn't running somehow?!\"\n",
    "fi\n",
    "Bash is running\n",
    "```\n",
    "\n",
    "* `grep` searches for a pattern and exits with 0 if something found, send results of the search we don't want to the null device"
   ]
  },
  {
   "cell_type": "markdown",
   "metadata": {
    "slideshow": {
     "slide_type": "slide"
    }
   },
   "source": [
    "* Testing for number or string conditions is done with the `test` program which evaluates expressions given in its arguments\n",
    "\n",
    "```sh\n",
    "x='hello'\n",
    "if test -z \"$x\"; then echo \"x was empty\"; else echo \"x is non-empty\"; fi\n",
    "```\n",
    "\n",
    "* `[]` is used as short-hand for invoking `test`, but be sure to put spaces around them:\n",
    "\n",
    "```sh\n",
    "if [ 1 != 2 ] ; then echo \"Math works\"; fi\n",
    "```\n",
    "\n",
    "* See `man test` for more details"
   ]
  },
  {
   "cell_type": "markdown",
   "metadata": {
    "slideshow": {
     "slide_type": "slide"
    }
   },
   "source": [
    "* `for`, `while`, and `until` loops are also provided\n",
    "\n",
    "```sh\n",
    "$ while [ ! -z \"$x\" ]  # ! is negation for test, so while \"$x\" is not empty\n",
    "do \n",
    "    echo $x\n",
    "    x=${x:1}  # ${x:1} means x after first character\n",
    "done\n",
    "hello\n",
    "ello\n",
    "llo\n",
    "lo\n",
    "o\n",
    "```"
   ]
  },
  {
   "cell_type": "markdown",
   "metadata": {
    "slideshow": {
     "slide_type": "slide"
    }
   },
   "source": [
    "* `for` loops range over the arguments passed to them:\n",
    "\n",
    "```sh\n",
    "$ values=\"foo bar baz thunk\"\n",
    "$ for i in $values\n",
    "do\n",
    "    echo $i\n",
    "done\n",
    "foo\n",
    "bar\n",
    "baz\n",
    "thunk\n",
    "```"
   ]
  },
  {
   "cell_type": "markdown",
   "metadata": {
    "slideshow": {
     "slide_type": "slide"
    }
   },
   "source": [
    "* Bash includes helper syntax for doing C-style loops\n",
    "\n",
    "```sh\n",
    "$ for((i=0; i<5; i++))\n",
    "do\n",
    "    echo -n \"$i \"  # -n means don't print newline\n",
    "done\n",
    "0 1 2 3 4\n",
    "```"
   ]
  },
  {
   "cell_type": "markdown",
   "metadata": {
    "slideshow": {
     "slide_type": "slide"
    }
   },
   "source": [
    "* These constructs can be treated as commands themselves, so pipes and redirection are just as valid\n",
    "\n",
    "```sh\n",
    "$ i=0\n",
    "$ ls -lh | while read line; do ((i++)); echo \"Line $i: $line\"; done > files.txt\n",
    "$ cat files.txt\n",
    "Line 1: total 28K\n",
    "Line 2: -rw-r--r-- 1 localek10 bioeng  60 Jul  7 00:56 01_lecture.css\n",
    "Line 3: -rw-r--r-- 1 localek10 bioeng 19K Jul  8 00:13 01_lecture.ipynb\n",
    "Line 4: -rw-r--r-- 1 localek10 bioeng   0 Jul  8 00:14 files.txt\n",
    "Line 5: -rw-r--r-- 1 localek10 bioeng  23 Jul  7 23:33 multiline.txt\n",
    "```\n",
    "\n",
    "* `read` is a magic command which reads a line from stdin and assigns it to the variable, exits with false when nothing to read"
   ]
  },
  {
   "cell_type": "markdown",
   "metadata": {
    "slideshow": {
     "slide_type": "slide"
    }
   },
   "source": [
    "* `{}` can be used to enclose multiple commands as a single command:\n",
    "\n",
    "```sh\n",
    "$ {\n",
    "    echo \"hello\"\n",
    "    echo \"multiple statements\"\n",
    "} | tr \"[a-z]\" \"[A-Z]\"\n",
    "HELLO\n",
    "MULTIPLE STATEMENTS\n",
    "```"
   ]
  },
  {
   "cell_type": "markdown",
   "metadata": {
    "slideshow": {
     "slide_type": "slide"
    }
   },
   "source": [
    "* Functions can be defined by naming `{}` blocks:\n",
    "\n",
    "```sh\n",
    "function func_name() { ...cmds... }\n",
    "```\n",
    "\n",
    "* One of `function` or `()` can be omitted but not both\n",
    "* Functions are then invoked like any other command\n",
    "* Arguments are referred to by index, so `$1` is first, `$2` second, etc."
   ]
  },
  {
   "cell_type": "code",
   "execution_count": 77,
   "metadata": {
    "slideshow": {
     "slide_type": "slide"
    }
   },
   "outputs": [
    {
     "name": "stdout",
     "output_type": "stream",
     "text": [
      "All args: \"hello argument list\"\n",
      "Arg 1: hello\n",
      "Arg 2: argument\n",
      "Arg 3: list\n",
      "done\n"
     ]
    }
   ],
   "source": [
    "%%bash\n",
    "print_args() {\n",
    "    echo \"All args: \\\"$@\\\"\"  # $@ is all arguments passed to function\n",
    "    local i=1\n",
    "    \n",
    "    while (($# > 0))  # $# is number of arguments\n",
    "    do\n",
    "        echo \"Arg $i: $1\"  # $1 is argument 1, $2 arg 2, etc.\n",
    "        shift  # toss away argument 1 and shift others left in the list\n",
    "        ((i++))\n",
    "    done\n",
    "    return 0  # command returns a true result\n",
    "}\n",
    "\n",
    "print_args hello argument list"
   ]
  },
  {
   "cell_type": "markdown",
   "metadata": {
    "slideshow": {
     "slide_type": "slide"
    }
   },
   "source": [
    "* Bash scripts use arguments in the same way:"
   ]
  },
  {
   "cell_type": "code",
   "execution_count": 10,
   "metadata": {
    "slideshow": {
     "slide_type": "fragment"
    }
   },
   "outputs": [
    {
     "name": "stdout",
     "output_type": "stream",
     "text": [
      "Number of args: 3\n",
      "hello\n",
      "argument\n",
      "42\n"
     ]
    }
   ],
   "source": [
    "%%bash\n",
    "# write a shell script file using here-document, escaping $ so variables don't get expanded\n",
    "cat - << _EOF_ > example.sh\n",
    "#! /bin/bash\n",
    "echo \"Number of args: \\$#\"\n",
    "for i in \\$@; do echo \\$i; done\n",
    "_EOF_\n",
    "\n",
    "chmod u+x example.sh # add execute permission for user\n",
    "\n",
    "./example.sh hello argument 42"
   ]
  },
  {
   "cell_type": "markdown",
   "metadata": {
    "slideshow": {
     "slide_type": "fragment"
    }
   },
   "source": [
    "* Shebang `#!` at beginning of file used to indicate interpreter to use for script"
   ]
  },
  {
   "cell_type": "markdown",
   "metadata": {
    "slideshow": {
     "slide_type": "slide"
    }
   },
   "source": [
    "* These are the basics of bash\n",
    "* Powerful scripts and operations can be invoked by combining this with the wide range of standard commands that come with Unix systems:\n",
    "  * `find` is used to find files based on complex criteria and invoke operations on them, useful for walking file trees and manipulating things along the way\n",
    "  * `awk` is an interpreter for a text processing programming language, useful for doing small inline text manipulation\n",
    "  * `grep` searchs for strings or patterns in text files\n",
    "  * `diff` compares files and prints human-readable comparison digests\n",
    "  * `sed` is the stream editor for manipulating text as part of a pipeline\n",
    "  * Many more, consult `man` and `info` to learn more about them"
   ]
  },
  {
   "cell_type": "markdown",
   "metadata": {
    "slideshow": {
     "slide_type": "slide"
    }
   },
   "source": [
    "* Useful links:\n",
    "  * The bash manual: https://www.gnu.org/software/bash/manual/\n",
    "  * Bash man page: https://www.man7.org/linux/man-pages/man1/bash.1.html\n",
    "  * Bash guide for beginners: https://tldp.org/LDP/Bash-Beginners-Guide/html/index.html\n",
    "  * Advanced bash scripting guide: https://tldp.org/LDP/abs/html/"
   ]
  },
  {
   "cell_type": "markdown",
   "metadata": {
    "slideshow": {
     "slide_type": "slide"
    }
   },
   "source": [
    "# That's it!\n",
    "\n",
    "On to exercises..."
   ]
  }
 ],
 "metadata": {
  "celltoolbar": "Slideshow",
  "kernelspec": {
   "display_name": "Python 3 (ipykernel)",
   "language": "python",
   "name": "python3"
  },
  "language_info": {
   "codemirror_mode": {
    "name": "ipython",
    "version": 3
   },
   "file_extension": ".py",
   "mimetype": "text/x-python",
   "name": "python",
   "nbconvert_exporter": "python",
   "pygments_lexer": "ipython3",
   "version": "3.10.13"
  }
 },
 "nbformat": 4,
 "nbformat_minor": 4
}
