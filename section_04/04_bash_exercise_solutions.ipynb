{
 "cells": [
  {
   "cell_type": "markdown",
   "metadata": {
    "slideshow": {
     "slide_type": "slide"
    }
   },
   "source": [
    "#### <center>Intermediate Python and Software Enginnering</center>\n",
    "\n",
    "\n",
    "## <center>Section 04 - Bash - Solutions</center>\n",
    "\n",
    "\n",
    "### <center>Innovation Scholars Programme</center>\n",
    "### <center>King's College London, Medical Research Council and UKRI <center>"
   ]
  },
  {
   "cell_type": "markdown",
   "metadata": {},
   "source": [
    "### 01 Exercises\n",
    "\n",
    "This notebook for practicing some bash scripting with Jupyter cells. We use the `%%bash` cell magic to send the cell contents to a bash process and capture the results, but you could instead write your answers to a `.sh` file and run them on the command line, the effect is the same.\n",
    "\n",
    "The exercises will require you to use commands and arguments you haven't seen. The manual pages for almost all commands are accessible with the `man` command, so if you need to look up information on a program like `ls` the command `man ls` will give you a scrollable page of info. If you get stuck Google brings up answers to virtually any question, typically on Stack Overflow or related sites.\n",
    "\n",
    "This notebook uses two really useful Jupyter features, `!` lines and `%%bash` cells as described above. Lines in code cells beginning with `!` will be treated like bash commands and will be run when the cell runs, this allows you to mix Python and bash commands in one place. Cells beginning with `%%bash` are treated as bash scripts but be aware that user input can't be done and process control doesn't always behave as expected, it's sometimes best to write to script files and run them separately."
   ]
  },
  {
   "cell_type": "markdown",
   "metadata": {},
   "source": [
    "### Exercise 1\n",
    "\n",
    "One of the magic devices on Unix/Linux systems is `/dev/urandom` which will produce an endless stream of pseudo random bytes when read like a file. There's also `/dev/random` but it blocks so we won't use it here. Construct a script to read 100 bytes from `/dev/urandom` and keep only those which correspond to ASCII lower case letters. Suggested commands: `head`, `tr`."
   ]
  },
  {
   "cell_type": "code",
   "execution_count": 4,
   "metadata": {},
   "outputs": [
    {
     "name": "stdout",
     "output_type": "stream",
     "text": [
      "jetxytvmenzwu"
     ]
    }
   ],
   "source": [
    "%%bash\n",
    "\n",
    "\n",
    "head -c 100 /dev/urandom | tr -dc \"a-z\""
   ]
  },
  {
   "cell_type": "markdown",
   "metadata": {},
   "source": [
    "### Exercise 2\n",
    "\n",
    "Print the list of files in this directory in order of size from smallest to largest. Suggested commands: `du`, `sort`."
   ]
  },
  {
   "cell_type": "code",
   "execution_count": 8,
   "metadata": {},
   "outputs": [
    {
     "name": "stdout",
     "output_type": "stream",
     "text": [
      "21\thello.sh\n",
      "60\t01_lecture.css\n",
      "69\texample.sh\n",
      "3065\t01_exercises.ipynb\n",
      "18993\tBash_Cookbook.ipynb\n",
      "25107\t01_lecture.ipynb\n"
     ]
    }
   ],
   "source": [
    "%%bash \n",
    "\n",
    "du -bs * | sort -n"
   ]
  },
  {
   "cell_type": "markdown",
   "metadata": {},
   "source": [
    "### Exercise 3:\n",
    "\n",
    "Do the same thing but print only those files over 1kB in size."
   ]
  },
  {
   "cell_type": "code",
   "execution_count": 18,
   "metadata": {
    "scrolled": true
   },
   "outputs": [
    {
     "name": "stdout",
     "output_type": "stream",
     "text": [
      "21 hello.sh\n",
      "60 01_lecture.css\n",
      "69 example.sh\n"
     ]
    }
   ],
   "source": [
    "%%bash \n",
    "\n",
    "du -bs * | sort -n | while read i\n",
    "do \n",
    "    size=$(echo $i |awk '{print $1;}')\n",
    "    if (($size < 1024))\n",
    "    then \n",
    "        echo $i\n",
    "    fi\n",
    "done"
   ]
  },
  {
   "cell_type": "markdown",
   "metadata": {},
   "source": [
    "### Exercise 4:\n",
    "\n",
    "Below is the code for creating a simple Python server. Run this cell to generate the script file in the current directory."
   ]
  },
  {
   "cell_type": "code",
   "execution_count": 30,
   "metadata": {},
   "outputs": [
    {
     "name": "stdout",
     "output_type": "stream",
     "text": [
      "Overwriting hello.py\n"
     ]
    }
   ],
   "source": [
    "%%writefile hello.py\n",
    "\n",
    "from http.server import SimpleHTTPRequestHandler\n",
    "from socketserver import TCPServer\n",
    "from http import HTTPStatus\n",
    "\n",
    "\n",
    "class Handler(SimpleHTTPRequestHandler):\n",
    "    def do_GET(self):\n",
    "        self.send_response(HTTPStatus.OK)\n",
    "        self.end_headers()\n",
    "        self.wfile.write(b'Hello, world!\\n')\n",
    "\n",
    "\n",
    "TCPServer.allow_reuse_address = True  # allow the address to be reused faster if you restart the server\n",
    "TCPServer(('', 8000), Handler).serve_forever()"
   ]
  },
  {
   "cell_type": "markdown",
   "metadata": {},
   "source": [
    "Write a script which starts the server in the background, queries it through the address `localhost:8000` and prints the result, then kills the server. This probably won't work correctly here in a Jupyter cell so a separate `.sh` file is needed. Assuming this is called `exercise4.sh` you can run it in the cell below. Suggested commands: `curl`, `kill`."
   ]
  },
  {
   "cell_type": "code",
   "execution_count": 37,
   "metadata": {},
   "outputs": [
    {
     "name": "stdout",
     "output_type": "stream",
     "text": [
      "Overwriting exercise4.sh\n"
     ]
    }
   ],
   "source": [
    "%%writefile exercise4.sh\n",
    "\n",
    "# Write your script in this cell then run it to write to the file exercise4.sh\n",
    "# You can then run your script on the command line or by running the next cell\n",
    "# This is needed as process control through Jupyter doesn't work like we want.\n",
    "\n",
    "python hello.py &\n",
    "lastpid=$!\n",
    "sleep 1\n",
    "\n",
    "curl localhost:8000\n",
    "kill -9 $lastpid"
   ]
  },
  {
   "cell_type": "code",
   "execution_count": 36,
   "metadata": {},
   "outputs": [
    {
     "name": "stdout",
     "output_type": "stream",
     "text": [
      "127.0.0.1 - - [09/Jul/2020 17:25:12] \"GET / HTTP/1.1\" 200 -\r\n",
      "Hello, world!\r\n"
     ]
    }
   ],
   "source": [
    "# use ! to indicate a single line shell command\n",
    "! bash exercise4.sh"
   ]
  },
  {
   "cell_type": "markdown",
   "metadata": {},
   "source": [
    "If you get instances of the server running in the background that you can't kill anymore, use the `ps` command or `top` to see what instances are there. These will tell you what the PID is, which you can then use to kill the process."
   ]
  },
  {
   "cell_type": "markdown",
   "metadata": {},
   "source": [
    "### Exercise 5\n",
    "\n",
    "Define a script which prints a directory tree from some starting directory. This can be implemented as functions for example to keep track of state and where you are in the tree. The displayed tree should indicate where each file/directory exists by giving their names prepended with the number of spaces corresponding to depth, this means files will be one space to the right of the containing directory. This will produce a tree like structure and you can include whatever other ascii art or pretty printing you want to make the tree look readable. "
   ]
  },
  {
   "cell_type": "code",
   "execution_count": 127,
   "metadata": {
    "scrolled": false
   },
   "outputs": [
    {
     "name": "stdout",
     "output_type": "stream",
     "text": [
      "|\\ 04_Testing\n",
      "||\\ 01_exercise\n",
      "||- interval.py\n",
      "||- test_example.py\n",
      "||- test_interval.py\n",
      "||\\ 01_solution\n",
      "||- interval.py\n",
      "||- test_interval.py\n",
      "||\\ 02_exercise\n",
      "||- board.ipynb\n",
      "||- test_tictactoe.py\n",
      "||- tictactoe.py\n",
      "||\\ 02_solution\n",
      "||- tictactoe.py\n",
      "|- 01_lecture.ipynb\n",
      "|- 02_lecture.ipynb\n",
      "|- sqrt.py\n",
      "|- testsqrt.py\n",
      "|- typetest.py\n"
     ]
    }
   ],
   "source": [
    "%%bash \n",
    "\n",
    "function print_spaces(){\n",
    "    for((x=0;x<=$1;x++))\n",
    "    do \n",
    "        echo -n '|'\n",
    "    done\n",
    "}\n",
    "\n",
    "function traverse(){\n",
    "    # special syntax: keyword local is needed since this function is called recursively and each call needs its own copy\n",
    "    local depth=$2\n",
    "    \n",
    "    print_spaces $depth\n",
    "    echo \"\\ $(basename $1)\"\n",
    "    \n",
    "    for i in $1/*\n",
    "    do\n",
    "        if [ -d \"$i\" ]\n",
    "        then\n",
    "            traverse \"$i\" $((depth+1))\n",
    "        fi\n",
    "    done\n",
    "    \n",
    "    for i in $1/*\n",
    "    do\n",
    "        if [ ! -d \"$i\" ]\n",
    "        then\n",
    "            print_spaces $depth\n",
    "            echo \"- $(basename $i)\"\n",
    "        fi\n",
    "    done\n",
    "}\n",
    "\n",
    "function traverse_tree() { traverse $1 0 ; }\n",
    "\n",
    "traverse_tree ../04_Testing"
   ]
  }
 ],
 "metadata": {
  "kernelspec": {
   "display_name": "Python 3 (ipykernel)",
   "language": "python",
   "name": "python3"
  },
  "language_info": {
   "codemirror_mode": {
    "name": "ipython",
    "version": 3
   },
   "file_extension": ".py",
   "mimetype": "text/x-python",
   "name": "python",
   "nbconvert_exporter": "python",
   "pygments_lexer": "ipython3",
   "version": "3.10.13"
  }
 },
 "nbformat": 4,
 "nbformat_minor": 4
}
