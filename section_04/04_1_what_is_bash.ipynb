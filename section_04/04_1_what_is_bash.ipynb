{
 "cells": [
  {
   "cell_type": "markdown",
   "metadata": {
    "slideshow": {
     "slide_type": "slide"
    }
   },
   "source": [
    "#### <center>Intermediate Python and Software Enginnering</center>\n",
    "\n",
    "\n",
    "## <center>Section 04 - Part 01 - What is Bash?</center>\n",
    "\n",
    "\n",
    "### <center>Innovation Scholars Programme</center>\n",
    "### <center>King's College London, Medical Research Council and UKRI <center>"
   ]
  },
  {
   "cell_type": "markdown",
   "metadata": {
    "slideshow": {
     "slide_type": "slide"
    }
   },
   "source": [
    "### What We'll Cover\n",
    "\n",
    "* Bash: what is it\n",
    "* Basic usage\n",
    "* Variables\n",
    "* Pipes and redirection\n",
    "* Control flow"
   ]
  },
  {
   "cell_type": "markdown",
   "metadata": {
    "slideshow": {
     "slide_type": "slide"
    }
   },
   "source": [
    "### What is Bash?\n",
    "\n",
    "* Bash is the Bourne Again Shell\n",
    "* It's a shell, a program for providing interactivity on a command line\n",
    "* Specifically Bash or `bash` (and its predecessors and relations `sh`, `bsh`,`csh`, `ksh`, `tcsh`, etc.) provide shells for terminals\n",
    "* Terminals, or nowadays terminal emulators, are serial textual interfaces to a computer "
   ]
  },
  {
   "cell_type": "markdown",
   "metadata": {
    "slideshow": {
     "slide_type": "slide"
    }
   },
   "source": [
    "* Teleprinter terminal for a mainframe ☞ <img style=\"float: right;\" src=\"https://upload.wikimedia.org/wikipedia/commons/thumb/d/df/ASR-33_at_CHM.agr.jpg/640px-ASR-33_at_CHM.agr.jpg\"/>\n",
    "* Typing sent text to the computer, responses printed on the paper\n",
    "* Interaction handled by the shell which responded to commands and produced outputs\n",
    "* Terminals like this got replaced with video terminals, then terminal emulators\n",
    "* You'll be using terminal emulators like konsole or mintty"
   ]
  },
  {
   "cell_type": "markdown",
   "metadata": {
    "slideshow": {
     "slide_type": "slide"
    }
   },
   "source": [
    "* Bash interprets the commands you type into a terminal and sends the results back\n",
    "* Commands are the statements in the bash programming language, so you interact with the computer by programming\n",
    "* Unlike regular programming languages, the basic units of computation are other programs rather than algorithms and routines implemented in the language itself\n",
    "* Bash programs as it were are build up of other programs, shells are meant primarily for invoking other programs and job control"
   ]
  },
  {
   "cell_type": "markdown",
   "metadata": {
    "slideshow": {
     "slide_type": "slide"
    }
   },
   "source": [
    "* Obvious first example program:"
   ]
  },
  {
   "cell_type": "code",
   "execution_count": 1,
   "metadata": {
    "slideshow": {
     "slide_type": "fragment"
    }
   },
   "outputs": [
    {
     "name": "stdout",
     "output_type": "stream",
     "text": [
      "Hello, world!\n"
     ]
    }
   ],
   "source": [
    "%%bash\n",
    "echo \"Hello, world!\""
   ]
  },
  {
   "cell_type": "markdown",
   "metadata": {
    "slideshow": {
     "slide_type": "fragment"
    }
   },
   "source": [
    "* We can save this to a file instead and run it as a script:"
   ]
  },
  {
   "cell_type": "code",
   "execution_count": 1,
   "metadata": {
    "slideshow": {
     "slide_type": "fragment"
    }
   },
   "outputs": [
    {
     "name": "stdout",
     "output_type": "stream",
     "text": [
      "Hello, world!\n"
     ]
    }
   ],
   "source": [
    "%%bash\n",
    "bash hello.sh"
   ]
  },
  {
   "cell_type": "markdown",
   "metadata": {
    "slideshow": {
     "slide_type": "slide"
    }
   },
   "source": [
    "* `%%bash` tells Jupyter to run the bash commands in the cell and produce the output\n",
    "* `echo` is a program which prints its arguments to the `stdout` device\n",
    "* What happened is bash created a new program, passed control of input and output to it, managed the lifecycle of running the program, and captured its return code when it finished\n",
    "* Running programs are the building blocks of bash and its scripts, you can see these programs with `ps`:\n",
    "\n",
    "```sh\n",
    "$ ps --forest\n",
    "  PID TTY          TIME CMD\n",
    "20197 pts/2    00:00:02 bash\n",
    "20570 pts/2    00:00:00  \\_ ps\n",
    "19949 pts/2    00:17:16 python\n",
    "```"
   ]
  }
 ],
 "metadata": {
  "celltoolbar": "Slideshow",
  "kernelspec": {
   "display_name": "Python 3 (ipykernel)",
   "language": "python",
   "name": "python3"
  },
  "language_info": {
   "codemirror_mode": {
    "name": "ipython",
    "version": 3
   },
   "file_extension": ".py",
   "mimetype": "text/x-python",
   "name": "python",
   "nbconvert_exporter": "python",
   "pygments_lexer": "ipython3",
   "version": "3.10.13"
  }
 },
 "nbformat": 4,
 "nbformat_minor": 4
}
