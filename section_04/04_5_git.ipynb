{
 "cells": [
  {
   "cell_type": "markdown",
   "metadata": {
    "slideshow": {
     "slide_type": "slide"
    }
   },
   "source": [
    "#### <center>Intermediate Python and Software Enginnering</center>\n",
    "\n",
    "\n",
    "## <center>Section 04 - Version Control</center>\n",
    "\n",
    "\n",
    "### <center>Innovation Scholars Programme</center>\n",
    "### <center>King's College London, Medical Research Council and UKRI <center>"
   ]
  },
  {
   "cell_type": "markdown",
   "metadata": {
    "slideshow": {
     "slide_type": "slide"
    }
   },
   "source": [
    "### What we'll cover:\n",
    "* Version control\n",
    "* Git\n",
    "  * The Good\n",
    "  * The Bad\n",
    "* The concepts\n",
    "  * Commits\n",
    "  * Graphs\n",
    "  * Branches / Tags\n",
    "\n"
   ]
  },
  {
   "cell_type": "markdown",
   "metadata": {
    "slideshow": {
     "slide_type": "slide"
    }
   },
   "source": [
    "### Version Control\n",
    "* 'Version Control' and 'Source Control' are synonyms\n",
    "  * We'll use 'version control' throughout\n",
    "* Version control systems are not new\n",
    "* They do the following things:\n",
    "  * Keep a 'true copy' of a project, known as a 'repository'\n",
    "  * Provide the ability to recreate past snapshots of a project\n",
    "  * Provide the ability to keep multiple, concurrent versions of a project\n",
    "  * Provide the ability to 'check out' a copy of a repository locally to work on\n",
    "  * Provide the ability to merge changes together in a way that is 'often' automatic"
   ]
  },
  {
   "cell_type": "markdown",
   "metadata": {
    "slideshow": {
     "slide_type": "slide"
    }
   },
   "source": [
    "## Version control - an illustration\n",
    "<img src='version_control.png' />"
   ]
  },
  {
   "cell_type": "markdown",
   "metadata": {
    "slideshow": {
     "slide_type": "slide"
    }
   },
   "source": [
    "### Innovations over time\n",
    "* File locking -> merging\n",
    "  * e.g. CVS, Subversion\n",
    "* One true copy of repo -> Every copy of repo is 'true copy'\n",
    "  * e.g. Git"
   ]
  },
  {
   "cell_type": "markdown",
   "metadata": {
    "slideshow": {
     "slide_type": "slide"
    }
   },
   "source": [
    "### Git - the good\n",
    "* Git is a new approach to version control\n",
    "* Clone rather than 'check out'\n",
    "  * Every clone of a git repo is a fully copy of the repository\n",
    "* Every file in a Git repository is a full copy of the file at a point in its history\n",
    "  * Version control systems before this tended to store deltas (changes) between files"
   ]
  },
  {
   "cell_type": "markdown",
   "metadata": {
    "slideshow": {
     "slide_type": "slide"
    }
   },
   "source": [
    "### Git - the bad\n",
    "* You can't use git without understanding the concepts behind it\n",
    "  * They aren't hard to get - but you need to get them\n",
    "* Commands are badly named\n",
    "  * The names don't represent what the commands do\n",
    "  * You just have to get used to this\n",
    "* Concepts and statuses are badly named\n",
    "  * The dreaded 'detached head'\n",
    "* You can break things with git - not easily, but you can"
   ]
  },
  {
   "cell_type": "markdown",
   "metadata": {
    "slideshow": {
     "slide_type": "slide"
    }
   },
   "source": [
    "### Git entities\n",
    "* A git repo is composed of:\n",
    "  * commits - a set of trees and blobs that make up a repository, linked together into a graph\n",
    "  * branches - a reference to a series of commits that we can trace back through a repository graph\n",
    "  * tags - a reference to a particular commit\n",
    "* A git commit is composed of:\n",
    "  * trees - references to file names, contents, other trees (directory-like)\n",
    "  * blobs - files\n"
   ]
  },
  {
   "cell_type": "markdown",
   "metadata": {
    "slideshow": {
     "slide_type": "slide"
    }
   },
   "source": [
    "### Plumbing and Porcelain\n",
    "* Git splits its commands up into two sets\n",
    "  * Plumbing refers to all the low level commands that deal with the nuts and bolts of the git repository format\n",
    "  * Porcelain refers to the commands that are typically used to make commits, merge, etc.\n",
    "* We'll mostly use the 'porcelain' commands"
   ]
  },
  {
   "cell_type": "markdown",
   "metadata": {
    "slideshow": {
     "slide_type": "slide"
    }
   },
   "source": [
    "### Let's get started\n",
    "* Phase 1\n",
    "  * Initialise a new repository\n",
    "  * Introducing the .git folder\n",
    "  * Adding files\n",
    "  * Committing changes\n",
    "  * More changes\n",
    "  * Creating a branch\n",
    "  * Merging a branch\n",
    "  * Creating another branch\n",
    "  * Conflicts\n",
    "  "
   ]
  },
  {
   "cell_type": "markdown",
   "metadata": {
    "slideshow": {
     "slide_type": "slide"
    }
   },
   "source": [
    "* Phase 2\n",
    "  * Detaching heads (no, really)\n",
    "  * Rebasing commits\n",
    "  * Cherry-picking commits\n",
    "  * Remote repositories\n",
    "  * Going further"
   ]
  },
  {
   "cell_type": "markdown",
   "metadata": {
    "slideshow": {
     "slide_type": "slide"
    }
   },
   "source": [
    "### Initialising a repository\n",
    "* Any directory can be made into a git repository by typing ```git init```\n",
    "* A repository can be entirely local\n",
    "* A local repository can added to a remote git repository hosting service at any time\n",
    "\n",
    "```sh\n",
    "$git init\n",
    "\n",
    "Initialised empty Git repository in /path/to/testrepo/.git/\n",
    "```\n"
   ]
  },
  {
   "cell_type": "markdown",
   "metadata": {
    "slideshow": {
     "slide_type": "slide"
    }
   },
   "source": [
    "### Introducing the .git folder\n",
    "* A folder named ```.git``` has been created\n",
    "* This is where git stores all the different elements of your repository\n",
    "  * All the blobs representing different versions of the files in your repo\n",
    "  * All the trees managing the directory structure\n",
    "  * Interesting bits underlined\n",
    "\n",
    "```sh\n",
    "$ls .git\n",
    "\n",
    "branches  COMMIT_EDITMSG  config  description  HEAD  hooks  index  info  logs  objects  refs\n",
    "--------                                       ----                            -------  ----\n",
    "```"
   ]
  },
  {
   "cell_type": "markdown",
   "metadata": {
    "slideshow": {
     "slide_type": "slide"
    }
   },
   "source": [
    "### Adding files - 1\n",
    "* Let's create our initial commit - a new file \"foo.txt\":\n",
    "\n",
    "```\n",
    "a = 1\n",
    "b = 2\n",
    "c = 3\n",
    "d = 4\n",
    "e = 5\n",
    "```\n",
    "* First we see what git thinks of the change that we have just made, using ```git status```:\n",
    "\n",
    "```sh\n",
    "$git status\n",
    "On branch master\n",
    "\n",
    "No commits yet\n",
    "\n",
    "Untracked files:\n",
    "  (use \"git add <file>...\" to include in what will be committed)\n",
    "\n",
    "\tfoo.txt\n",
    "\n",
    "nothing added to commit but untracked files present (use \"git add\" to track)\n",
    "```"
   ]
  },
  {
   "cell_type": "markdown",
   "metadata": {
    "slideshow": {
     "slide_type": "slide"
    }
   },
   "source": [
    "### Adding files - 2\n",
    "\n",
    "* Let's add this file to the staging area\n",
    "* ```git add``` adds a file to the repo to be tracked\n",
    "\n",
    "```sh\n",
    "$git add foo.txt\n",
    "On branch master\n",
    "\n",
    "No commits yet\n",
    "\n",
    "Changes to be committed:\n",
    "  (use \"git rm --cached <file>...\" to unstage)\n",
    "\n",
    "        new file:   foo.txt\n",
    "```"
   ]
  },
  {
   "cell_type": "markdown",
   "metadata": {
    "slideshow": {
     "slide_type": "slide"
    }
   },
   "source": [
    "### Commiting changes - 1\n",
    "\n",
    "* Let's make our first addition official by making a commit\n",
    "* ```git commit -m \"<comment>\"``` allows us commit without using an editor to describe your changes\n",
    "* Always write descriptive and useful commit messages\n",
    "  * In some cases, you will have an issue or feature id relating to your changes\n",
    "    \n",
    "```sh\n",
    "$git commit -m \"Adding foo.txt with its initial values\"\n",
    "[master (root-commit) ad72668] Adding foo.txt with its initial values\n",
    " 1 file changed, 5 insertions(+)\n",
    " create mode 100644 foo.txt\n",
    "```\n",
    "\n",
    "* and that's a commit!\n"
   ]
  },
  {
   "cell_type": "markdown",
   "metadata": {
    "slideshow": {
     "slide_type": "slide"
    }
   },
   "source": [
    "### Commiting changes - 2\n",
    "\n",
    "* Using ```git log```, we can see the commit in our history\n",
    "```sh\n",
    "$git log\n",
    "commit 6e9e6906084f5626e45524507a8021dd03b3ca96 (HEAD -> master)\n",
    "Author: FBar <foo.bar@hmail.com>\n",
    "Date:   Fri Oct 11 12:02:16 2019 +0100\n",
    "\n",
    "    Adding foo.txt with its initial values\n",
    "```\n",
    "* We'll use this command a lot"
   ]
  },
  {
   "cell_type": "markdown",
   "metadata": {
    "slideshow": {
     "slide_type": "slide"
    }
   },
   "source": [
    "### Master and HEAD\n",
    "* 'master' is the name of the default ```branch``` for a Git repository\n",
    "  * Nothing special about it; it is just created by default when you initialise a repo\n",
    "  * A ```branch``` is a reference to a ```commit```, plus the history of commits that led to it\n",
    "    * Each ```commit``` has a ```parent``` field that points to the previous ```commit(s)```\n",
    "    * Start from the ```commit``` that the ```branch``` refers to and follow the chain of ```parent``` fields\n",
    "  * When you commit to the branch ```master```, you'll see that ```master``` updates to the new commit\n",
    "* HEAD is a special reference to 'what I am working on at the moment'\n",
    "  * HEAD always points to the active commit"
   ]
  },
  {
   "cell_type": "markdown",
   "metadata": {
    "slideshow": {
     "slide_type": "slide"
    }
   },
   "source": [
    "### More changes - 1\n",
    "* Let's change the value of `e` to `6` in `foo.txt`\n",
    "* use 'git status'\n",
    "\n",
    "```sh\n",
    "$git status\n",
    "On branch master\n",
    "Changes not staged for commit:\n",
    "  (use \"git add <file>...\" to update what will be committed)\n",
    "  (use \"git checkout -- <file>...\" to discard changes in working directory)\n",
    "\n",
    "\tmodified:   foo.txt\n",
    "\n",
    "no changes added to commit (use \"git add\" and/or \"git commit -a\")\n",
    "```"
   ]
  },
  {
   "cell_type": "markdown",
   "metadata": {
    "slideshow": {
     "slide_type": "slide"
    }
   },
   "source": [
    "### More changes - 2\n",
    "* ```git diff``` can show us what has changed:\n",
    "\n",
    "```sh\n",
    "$git diff\n",
    "```\n",
    "```diff\n",
    "diff --git a/foo.txt b/foo.txt\n",
    "index 8e44d29..0320a54 100644\n",
    "--- a/foo.txt\n",
    "+++ b/foo.txt\n",
    "@@ -2,4 +2,4 @@ a = 1\n",
    " b = 2\n",
    " c = 3\n",
    " d = 4\n",
    "-e = 5\n",
    "+e = 6\n",
    "```\n"
   ]
  },
  {
   "cell_type": "markdown",
   "metadata": {
    "slideshow": {
     "slide_type": "slide"
    }
   },
   "source": [
    "### More changes - 3\n",
    "\n",
    "* Add the file and commit as before\n",
    "* Use the commit comment \"Changing e to 6\"\n",
    "\n",
    "```sh\n",
    "$git log\n",
    "commit b0ef9298d036c53a76a2e1c86e1d1c5fbaf538e0 (HEAD -> master)\n",
    "Author: FBar <foo.bar@hmail.com>\n",
    "Date:   Fri Oct 11 12:04:53 2019 +0100\n",
    "\n",
    "    Changing e to 6\n",
    "\n",
    "commit 6e9e6906084f5626e45524507a8021dd03b3ca96\n",
    "Author: FBar <foo.bar@hmail.com>\n",
    "Date:   Fri Oct 11 12:02:16 2019 +0100\n",
    "\n",
    "    Adding foo.txt with its initial values\n",
    "```"
   ]
  },
  {
   "cell_type": "markdown",
   "metadata": {
    "slideshow": {
     "slide_type": "slide"
    }
   },
   "source": [
    "### A look in the .git directory - 1\n",
    "\n",
    "* We'll focus on the ```.git/objects``` directory\n",
    "* There are a number of two character directory names\n",
    "* In each directory blobs with 38 character names\n",
    "* Directory and blob names make up a SHA ID for the blob\n",
    "* Use ```git cat-file -p <dir-name><file-name>``` to see contents\n",
    "\n",
    "```sh\n",
    "$git cat-file -p 8e44d29ac1179521ef6bc233e9b90f08bfb99a7a\n",
    "a=1\n",
    "b=2\n",
    "c=3\n",
    "d=4\n",
    "e=5\n",
    "```"
   ]
  },
  {
   "cell_type": "markdown",
   "metadata": {
    "slideshow": {
     "slide_type": "slide"
    }
   },
   "source": [
    "### A look in the .git directory - 2\n",
    "* We can also see commits and trees in these blobs\n",
    "\n",
    "```sh\n",
    "$git cat-file -p 6e9e\n",
    "tree 06645bece43319dd32db4bb6d709f776751f7618\n",
    "author FBar <foo.bar@hmail.com> 1570741533 +0100\n",
    "committer FBar <foo.bar@hmail.com> 1570741533 +0100\n",
    "```\n",
    "\n",
    "* ```tree``` shows the top level tree for this commit\n",
    "* following this blob takes us to the tree for the commit\n",
    "\n",
    "```sh\n",
    "$git cat-file -p 0664\n",
    "100644 blob 8e44d29ac1179521ef6bc233e9b90f08bfb99a7a    foo.txt\n",
    "```\n",
    "\n",
    "* in this case we find a single blob representing the only file in our repo"
   ]
  },
  {
   "cell_type": "markdown",
   "metadata": {
    "slideshow": {
     "slide_type": "slide"
    }
   },
   "source": [
    "### A look in the .git directory - 3\n",
    "\n",
    "* We have two version of ```foo.txt```\n",
    "  * ```8e44d29ac1179521ef6bc233e9b90f08bfb99a7a```\n",
    "  * ```0320a54fe8b3cf6f68313e7f621f9ce1ec34e4f1```\n",
    "\n",
    "* What happens if we decide changing e to 6 wa\n",
    "s a mistake?\n",
    "* Set `e` back to `5`\n",
    "* ```git add foo.txt```\n",
    "* ```git commit -m \"e needs to be 5\"```\n",
    "* After changing e back to 5 and committing we see that we still have two versions of foo.txt\n",
    "* File blobs get a hash identical to their contents\n",
    "* ```foo.txt``` is identical for the first and third commits, so the existing blob is used for both"
   ]
  },
  {
   "cell_type": "markdown",
   "metadata": {
    "slideshow": {
     "slide_type": "slide"
    }
   },
   "source": [
    "### A look in the .git directory - 4\n",
    "<img src='git_entities.png' />\n",
    "\n",
    "* commit ```6e9e6906084f5626e45524507a8021dd03b3ca96```\n",
    "  * tree ```06645bece43319dd32db4bb6d709f776751f7618``` (same for both commits!)\n",
    "  * blob ```8e44d29ac1179521ef6bc233e9b90f08bfb99a7a``` (same for both commits!)\n",
    "* commit ```86b56165ec50e5471cb6a4b226c3a1a6e573a773```\n",
    "  * tree ```06645bece43319dd32db4bb6d709f776751f7618```\n",
    "  * blob ```8e44d29ac1179521ef6bc233e9b90f08bfb99a7a```"
   ]
  },
  {
   "cell_type": "markdown",
   "metadata": {
    "slideshow": {
     "slide_type": "slide"
    }
   },
   "source": [
    "### Branching - 1\n",
    "* Branches allow you to have different versions of the same repository\n",
    "* `master` is created by default when initialize a new repo and isn't special otherwise\n",
    "* Some projects use `master` only for releases of software, `dev` for collecting together active development\n",
    "* Other branches can be created to experiment\n",
    "    * Do work outside of the main development branch and then ```merge``` it after"
   ]
  },
  {
   "cell_type": "markdown",
   "metadata": {
    "slideshow": {
     "slide_type": "slide"
    }
   },
   "source": [
    "* Lets create the branch ```try_c_seven``` after setting c to 7\n",
    "\n",
    "```\n",
    "git branch try_c_seven\n",
    "git checkout try_c_seven\n",
    "```\n",
    "or\n",
    "```\n",
    "git checkout -b try_c_seven\n",
    "```\n",
    "* We can create the branch before or after making the change"
   ]
  },
  {
   "cell_type": "markdown",
   "metadata": {
    "slideshow": {
     "slide_type": "slide"
    }
   },
   "source": [
    "### Branching - 2\n",
    "* After the commit, we can use another feature of ```git log```; the ```--graph``` argument\n",
    "\n",
    "```\n",
    "* commit c58646cb5f42bfa746f3569e4b30551af43a8d76 (HEAD -> try_c_seven)\n",
    "| Author: FBar <foo.bar@hmail.com>\n",
    "| Date:   Fri Oct 11 12:23:23 2019 +0100\n",
    "| \n",
    "|     Making try_c_seven branch\n",
    "| \n",
    "* commit 86b56165ec50e5471cb6a4b226c3a1a6e573a773 (master)\n",
    "| Author: FBar <foo.bar@hmail.com>\n",
    "| Date:   Fri Oct 11 12:13:23 2019 +0100\n",
    "| \n",
    "|     e needs to be 5\n",
    "| \n",
    "* commit b0ef9298d036c53a76a2e1c86e1d1c5fbaf538e0\n",
    "| Author: FBar <foo.bar@hmail.com>\n",
    "| Date:   Fri Oct 11 12:04:53 2019 +0100\n",
    "| \n",
    "|     Changing e to 6\n",
    "| \n",
    "* commit 6e9e6906084f5626e45524507a8021dd03b3ca96\n",
    "  Author: FBar <foo.bar@hmail.com>\n",
    "  Date:   Fri Oct 11 12:02:16 2019 +0100\n",
    "  \n",
    "      Adding foo.txt with its initial values\n",
    "```\n",
    "* Not too useful yet"
   ]
  },
  {
   "cell_type": "markdown",
   "metadata": {
    "slideshow": {
     "slide_type": "slide"
    }
   },
   "source": [
    "### Branching - 3\n",
    "\n",
    "* So while we are experimenting with the new branch, we need to make a change on master\n",
    "* ```git branch master``` sets the repository back to master\n",
    "  * ```foo.txt``` will change back to its unbranched state\n",
    "\n",
    "```\n",
    "a=1\n",
    "b=2\n",
    "c=3\n",
    "d=4\n",
    "e=5\n",
    "```\n",
    "\n",
    "* Swapping back and forth between `master` and `try_c_seven` will change between the two versions of `foo.txt`\n",
    "* We'll change `a = 1.5` on master and commit it"
   ]
  },
  {
   "cell_type": "markdown",
   "metadata": {
    "slideshow": {
     "slide_type": "slide"
    }
   },
   "source": [
    "### Branching - 4\n",
    "\n",
    "* Let's add another option to ```git log```; the ```--all``` flag\n",
    "\n",
    "```sh\n",
    "$git log --graph --all\n",
    "* commit 3a7c46097424f92e354534a730da29f40bac46c3 (HEAD -> master)\n",
    "| Author: FBar <foo.bar@hmail.com>\n",
    "| Date:   Fri Oct 11 12:26:03 2019 +0100\n",
    "| \n",
    "|     Setting a to 1.5\n",
    "|   \n",
    "| * commit c58646cb5f42bfa746f3569e4b30551af43a8d76 (try_c_seven)\n",
    "|/  Author: FBar <foo.bar@hmail.com>\n",
    "|   Date:   Fri Oct 11 12:23:23 2019 +0100\n",
    "|   \n",
    "|       Making try_c_seven branch\n",
    "| \n",
    "* commit 86b56165ec50e5471cb6a4b226c3a1a6e573a773\n",
    "| Author: FBar <foo.bar@hmail.com>\n",
    "| Date:   Fri Oct 11 12:13:23 2019 +0100\n",
    "| \n",
    "|     e needs to be 5\n",
    "| \n",
    "* commit b0ef9298d036c53a76a2e1c86e1d1c5fbaf538e0\n",
    "| Author: FBar <foo.bar@hmail.com>\n",
    "| Date:   Fri Oct 11 12:04:53 2019 +0100\n",
    "| \n",
    "|     Changing e to 6\n",
    "| \n",
    "* commit 6e9e6906084f5626e45524507a8021dd03b3ca96\n",
    "  Author: FBar <foo.bar@hmail.com>\n",
    "  Date:   Fri Oct 11 12:02:16 2019 +0100\n",
    "  \n",
    "      Adding foo.txt with its initial values\n",
    "```"
   ]
  },
  {
   "cell_type": "markdown",
   "metadata": {
    "slideshow": {
     "slide_type": "slide"
    }
   },
   "source": [
    "## Merging\n",
    "<img src='git_merge.png' />"
   ]
  },
  {
   "cell_type": "markdown",
   "metadata": {
    "slideshow": {
     "slide_type": "slide"
    }
   },
   "source": [
    "### Merging - 1\n",
    "* Let's say that we are happy with c being 7\n",
    "* We can merge it back into master with `git checkout master` followed by `git merge try_c_seven`\n",
    "\n",
    "```sh\n",
    "$git merge try_c_seven\n",
    "Auto-merging foo.txt\n",
    "Merge made by the 'recursive' strategy.\n",
    " foo.txt | 2 +-\n",
    " 1 file changed, 1 insertion(+), 1 deletion(-)\n",
    "```\n",
    "\n",
    "* In this case, the auto-merge was able to work fine\n",
    "* Note that this doesn't imply correct functionality of your code!"
   ]
  },
  {
   "cell_type": "markdown",
   "metadata": {
    "slideshow": {
     "slide_type": "slide"
    }
   },
   "source": [
    "### Merging - 2\n",
    "\n",
    "* Let's take a look at the resulting commit graph\n",
    "\n",
    "```sh\n",
    "$git log --graph --all\n",
    "*   commit 6ec1e89ce92888bfb9f57914562f97e73efbf887 (HEAD -> master)\n",
    "|\\  Merge: 3a7c460 c58646c\n",
    "| | Author: FBar <foo.bar@hmail.com>\n",
    "| | Date:   Fri Oct 11 12:35:44 2019 +0100\n",
    "| | \n",
    "| |     Merge branch 'try_c_seven'\n",
    "| | \n",
    "| * commit c58646cb5f42bfa746f3569e4b30551af43a8d76 (try_c_seven)\n",
    "| | Author: FBar <foo.bar@hmail.com>\n",
    "| | Date:   Fri Oct 11 12:23:23 2019 +0100\n",
    "| | \n",
    "| |     Making try_c_seven branch\n",
    "| | \n",
    "* | commit 3a7c46097424f92e354534a730da29f40bac46c3\n",
    "|/  Author: FBar <foo.bar@hmail.com>\n",
    "|   Date:   Fri Oct 11 12:26:03 2019 +0100\n",
    "|   \n",
    "|       Setting a to 1.5\n",
    "| \n",
    "* commit 86b56165ec50e5471cb6a4b226c3a1a6e573a773\n",
    "| Author: FBar <foo.bar@hmail.com>\n",
    "| Date:   Fri Oct 11 12:13:23 2019 +0100\n",
    "| \n",
    "|     e needs to be 5\n",
    "| \n",
    "* commit b0ef9298d036c53a76a2e1c86e1d1c5fbaf538e0\n",
    "| Author: FBar <foo.bar@hmail.com>\n",
    "| Date:   Fri Oct 11 12:04:53 2019 +0100\n",
    "| \n",
    "|     Changing e to 6\n",
    "| \n",
    "* commit 6e9e6906084f5626e45524507a8021dd03b3ca96\n",
    "  Author: FBar <foo.bar@hmail.com>\n",
    "  Date:   Fri Oct 11 12:02:16 2019 +0100\n",
    "  \n",
    "      Adding foo.txt with its initial values\n",
    "```"
   ]
  },
  {
   "cell_type": "markdown",
   "metadata": {
    "slideshow": {
     "slide_type": "slide"
    }
   },
   "source": [
    "### A note on branching and merging\n",
    "* We have been merging from a short-lived development branch to master\n",
    "* We can just as well merge the other way\n",
    "* Remember, nothing special about master\n",
    "* If you have a long running branch, merging from the main branch keeps your branch up to date\n",
    "* Rebasing as an alternative - see later"
   ]
  },
  {
   "cell_type": "markdown",
   "metadata": {
    "slideshow": {
     "slide_type": "slide"
    }
   },
   "source": [
    "### Conflicts - 1\n",
    "\n",
    "* Merges can't always be resolved automagically\n",
    "* Let's create such a scenario\n",
    "  * ```git checkout -b try_d_eight```\n",
    "  * d=8\n",
    "  * ```git add foo.txt```\n",
    "  * ```git commit -m \"Experimenting with d=8\"```\n",
    "  * ```git checkout master```\n",
    "  * d=4.5\n",
    "  * ```git add foo.txt```\n",
    "  * ```git commit -m \"Need to set d to 4.5\"```"
   ]
  },
  {
   "cell_type": "markdown",
   "metadata": {
    "slideshow": {
     "slide_type": "slide"
    }
   },
   "source": [
    "  * ```git merge try_d_eight```\n",
    "\n",
    "```sh\n",
    "$git merge try_d_eight\n",
    "Auto-merging foo.txt\n",
    "CONFLICT (content): Merge conflict in foo.txt\n",
    "Automatic merge failed; fix conflicts and then commit the result.\n",
    "```"
   ]
  },
  {
   "cell_type": "markdown",
   "metadata": {
    "slideshow": {
     "slide_type": "slide"
    }
   },
   "source": [
    "### Conflicts - 2\n",
    "\n",
    "* Auto-merge didn't work; lets take a look at `foo.txt`\n",
    "\n",
    "```diff\n",
    "a=1.5\n",
    "b=2\n",
    "c=7\n",
    "<<<<<<< HEAD\n",
    "d=4.5\n",
    "=======\n",
    "d=8\n",
    ">>>>>>> try_d_eight\n",
    "e=5\n",
    "```"
   ]
  },
  {
   "cell_type": "markdown",
   "metadata": {
    "slideshow": {
     "slide_type": "slide"
    }
   },
   "source": [
    "* We have several options here\n",
    "  * Resolve the conflict manually and then add the merged file:\n",
    "    * e.g. ```git add foo.txt```\n",
    "    * ``` git commit -m \"Merge branch 'try_d_eight'```\n",
    "  * Abort the merge and then re-merge the conflict using \"ours\" or \"theirs\"\n",
    "    * e.g. ```git merge try_d_eight --strategy-option theirs```"
   ]
  },
  {
   "cell_type": "markdown",
   "metadata": {
    "slideshow": {
     "slide_type": "slide"
    }
   },
   "source": [
    "### Conflicts - 3\n",
    "* Here is the end of the resulting git log call\n",
    "\n",
    "```sh\n",
    "$git log --graph --all\n",
    "*   commit 599d6da9b7d29dc36f745b1590a66acfa60838c2 (master)\n",
    "|\\  Merge: ab3ea4c 7c298fd\n",
    "| | Author: FBar <foo.bar@hmail.com>\n",
    "| | Date:   Fri Oct 11 13:26:14 2019 +0100\n",
    "| | \n",
    "| |     Merge branch 'try_d_eight'\n",
    "| | \n",
    "| * commit 7c298fd9de24e29f680684eecaa2d2e5b4fecc64 (try_d_eight)\n",
    "| | Author: FBar <foo.bar@hmail.com>\n",
    "| | Date:   Fri Oct 11 12:47:21 2019 +0100\n",
    "| | \n",
    "| |     Experimenting with d=8\n",
    "| | \n",
    "* | commit ab3ea4cf66fe9c23ab90ef5410881db814d00754 (HEAD)\n",
    "|/  Author: FBar <foo.bar@hmail.com>\n",
    "|   Date:   Fri Oct 11 12:47:59 2019 +0100\n",
    "|   \n",
    "|       Need to set d to 4.5\n",
    "|   \n",
    "*   commit 6ec1e89ce92888bfb9f57914562f97e73efbf887\n",
    "|\\  Merge: 3a7c460 c58646c\n",
    "| | Author: FBar <foo.bar@hmail.com>\n",
    "| | Date:   Fri Oct 11 12:35:44 2019 +0100\n",
    "| | \n",
    "| |     Merge branch 'try_c_seven'\n",
    "| |\n",
    "```\n"
   ]
  },
  {
   "cell_type": "markdown",
   "metadata": {
    "slideshow": {
     "slide_type": "slide"
    }
   },
   "source": [
    "### Detaching HEAD - 1\n",
    "\n",
    "* What???\n",
    "  * A great example of how git is powerful but not user friendly\n",
    "* HEAD is special; it normally references a branch\n",
    "  * HEAD follows the branch as commits are added to it\n",
    "* If we do a ```git checkout``` with a commit number, HEAD follows a commit instead\n",
    "  * For some reason, they thought \"Detached HEAD\" was the best way to describe this\n",
    "* We'll do a bit of head detaching as a way to try the other merge strategy"
   ]
  },
  {
   "cell_type": "markdown",
   "metadata": {
    "slideshow": {
     "slide_type": "slide"
    }
   },
   "source": [
    "### Detaching HEAD - 2\n",
    "* Let's go back to the commit on master before the merge\n",
    "  * Several ways to do this\n",
    "    * ```git checkout HEAD~``` HEAD~ is 'the commit before this one'\n",
    "    * ```git checkout ab3e``` target that commit by name\n",
    "\n",
    "```sh\n",
    "$git checkout HEAD~\n",
    "```\n",
    "```\n",
    "Note: checking out 'HEAD~'.\n",
    "You are in 'detached HEAD' state. You can look around, make experimental\n",
    "changes and commit them, and you can discard any commits you make in this\n",
    "state without impacting any branches by performing another checkout.\n",
    "\n",
    "If you want to create a new branch to retain commits you create, you may\n",
    "do so (now or later) by using -b with the checkout command again. Example:\n",
    "\n",
    "  git checkout -b <new-branch-name>\n",
    "\n",
    "HEAD is now at ab3ea4c Need to set d to 4.5\n",
    "```"
   ]
  },
  {
   "cell_type": "markdown",
   "metadata": {
    "slideshow": {
     "slide_type": "slide"
    }
   },
   "source": [
    "### Detaching HEAD - 3\n",
    "* Now we point the master branch at this commit\n",
    "  * We are making this commit 'master' again\n",
    "  * We use the catchily named ```git branch -f master HEAD```\n",
    "```sh\n",
    "$git branch -f master HEAD\n",
    "$git status\n",
    "HEAD detached at ab3ea4c\n",
    "nothing to commit, working tree clean\n",
    "```\n",
    "* note; head HEAD is still detached, it points to the commit, not master\n",
    "\n",
    "```sh\n",
    "$git log --graph --all\n",
    "* commit ab3ea4cf66fe9c23ab90ef5410881db814d00754 (HEAD, master)\n",
    "| Author: FBar <foo.bar@hmail.com>\n",
    "| Date:   Fri Oct 11 12:47:59 2019 +0100\n",
    "| \n",
    "|     Need to set d to 4.5\n",
    "|   \n",
    "| * commit 7c298fd9de24e29f680684eecaa2d2e5b4fecc64 (try_d_eight)\n",
    "|/  Author: FBar <foo.bar@hmail.com>\n",
    "|   Date:   Fri Oct 11 12:47:21 2019 +0100\n",
    "|   \n",
    "|       Experimenting with d=8\n",
    "|\n",
    "```"
   ]
  },
  {
   "cell_type": "markdown",
   "metadata": {
    "slideshow": {
     "slide_type": "slide"
    }
   },
   "source": [
    "### Detaching HEAD - 4\n",
    "* The solution is simple; just checkout master\n",
    "\n",
    "```sh\n",
    "$git checkout master\n",
    "Switched to branch 'master'\n",
    "$git log --graph --all\n",
    "* commit ab3ea4cf66fe9c23ab90ef5410881db814d00754 (HEAD -> master)\n",
    "| Author: FBar <foo.bar@hmail.com>\n",
    "| Date:   Fri Oct 11 12:47:59 2019 +0100\n",
    "| \n",
    "|     Need to set d to 4.5\n",
    "|   \n",
    "| * commit 7c298fd9de24e29f680684eecaa2d2e5b4fecc64 (try_d_eight)\n",
    "|/  Author: FBar <foo.bar@hmail.com>\n",
    "|   Date:   Fri Oct 11 12:47:21 2019 +0100\n",
    "|   \n",
    "|       Experimenting with d=8\n",
    "|\n",
    "```\n",
    "\n"
   ]
  },
  {
   "cell_type": "markdown",
   "metadata": {
    "slideshow": {
     "slide_type": "slide"
    }
   },
   "source": [
    "### Conflicts - Redux - 1\n",
    " * Just to wrap up, lets manually resolve the conflict this time\n",
    "\n",
    "```sh\n",
    "$git merge try_d_eight\n",
    "Auto-merging foo.txt\n",
    "CONFLICT (content): Merge conflict in foo.txt\n",
    "Automatic merge failed; fix conflicts and then commit the result.\n",
    "```\n",
    "* one manual merge later...\n",
    "\n",
    "```sh\n",
    "$git add foo.txt\n",
    "$git commit -m \"Merging in try_d_eight; keeping d=8\"\n",
    "```"
   ]
  },
  {
   "cell_type": "markdown",
   "metadata": {
    "slideshow": {
     "slide_type": "slide"
    }
   },
   "source": [
    "### Conflicts - Redux - 2\n",
    "```sh\n",
    "$git log --graph --all\n",
    "*   commit d87f434a550f3243874c1af888cab2b8d6bd16d8 (HEAD -> master)\n",
    "|\\  Merge: ab3ea4c 7c298fd\n",
    "| | Author: FBar <foo.bar@hmail.com>\n",
    "| | Date:   Fri Oct 11 13:33:01 2019 +0100\n",
    "| | \n",
    "| |     Merging in try_d_eight; keepings d=8\n",
    "| | \n",
    "| * commit 7c298fd9de24e29f680684eecaa2d2e5b4fecc64 (try_d_eight)\n",
    "| | Author: FBar <foo.bar@hmail.com>\n",
    "| | Date:   Fri Oct 11 12:47:21 2019 +0100\n",
    "| | \n",
    "| |     Experimenting with d=8\n",
    "| | \n",
    "* | commit ab3ea4cf66fe9c23ab90ef5410881db814d00754\n",
    "|/  Author: FBar <foo.bar@hmail.com>\n",
    "|   Date:   Fri Oct 11 12:47:59 2019 +0100\n",
    "|   \n",
    "|       Need to set d to 4.5\n",
    "|\n",
    "\n",
    "```"
   ]
  },
  {
   "cell_type": "markdown",
   "metadata": {
    "slideshow": {
     "slide_type": "slide"
    }
   },
   "source": [
    "### Conflicts - Redux - 3\n",
    "* Note that our first attempt at merging is still around\n",
    "  * We can still checkout by its commit number\n",
    "\n",
    "```sh\n",
    "$git checkout 599d\n",
    "$git log --graph --all\n",
    "*   commit d87f434a550f3243874c1af888cab2b8d6bd16d8 (master)\n",
    "|\\  Merge: ab3ea4c 7c298fd\n",
    "| | Author: FBar <foo.bar@hmail.com>\n",
    "| | Date:   Fri Oct 11 13:33:01 2019 +0100\n",
    "| | \n",
    "| |     Merging in try_d_eight; keeping d=8\n",
    "| |     \n",
    "| | *   commit 599d6da9b7d29dc36f745b1590a66acfa60838c2 (HEAD)\n",
    "| | |\\  Merge: ab3ea4c 7c298fd\n",
    "| |/ /  Author: FBar <foo.bar@hmail.com>\n",
    "|/| /   Date:   Fri Oct 11 13:26:14 2019 +0100\n",
    "| |/    \n",
    "| |         Merge branch 'try_d_eight'\n",
    "| | \n",
    "| * commit 7c298fd9de24e29f680684eecaa2d2e5b4fecc64 (try_d_eight)\n",
    "| | Author: FBar <foo.bar@hmail.com>\n",
    "| | Date:   Fri Oct 11 12:47:21 2019 +0100\n",
    "| | \n",
    "| |     Experimenting with d=8\n",
    "| | \n",
    "* | commit ab3ea4cf66fe9c23ab90ef5410881db814d00754\n",
    "|/  Author: FBar <foo.bar@hmail.com>\n",
    "|   Date:   Fri Oct 11 12:47:59 2019 +0100\n",
    "|   \n",
    "|       Need to set d to 4.5\n",
    "|\n",
    "```"
   ]
  },
  {
   "cell_type": "markdown",
   "metadata": {
    "slideshow": {
     "slide_type": "slide"
    }
   },
   "source": [
    "### Unbranched commit\n",
    "* commit ```599d6da9b7d29dc36f745b1590a66acfa60838c2``` is not on any branch\n",
    "* Git will warn us if we checkout master without pointing a branch at it\n",
    "\n",
    "```sh\n",
    "$git checkout master\n",
    "Warning: you are leaving 1 commit behind, not connected to\n",
    "any of your branches:\n",
    "\n",
    "  599d6da Merge branch 'try_d_eight'\n",
    "\n",
    "If you want to keep it by creating a new branch, this may be a good time\n",
    "to do so with:\n",
    "\n",
    " git branch <new-branch-name> 599d6da\n",
    "\n",
    "Switched to branch 'master'\n",
    "```\n",
    "* We don't need it in this instance, so we can leave it orphaned\n",
    "  * Remember, it hardly takes up any space\n",
    "    * Same tree (in this case) and same ```foo.txt``` blob"
   ]
  },
  {
   "cell_type": "markdown",
   "metadata": {
    "slideshow": {
     "slide_type": "slide"
    }
   },
   "source": [
    "## Rebasing\n",
    "<img src='git_rebase.png' />"
   ]
  },
  {
   "cell_type": "markdown",
   "metadata": {
    "slideshow": {
     "slide_type": "slide"
    }
   },
   "source": [
    "### Rebasing - 1\n",
    "* Rebasing is an alternative to merging\n",
    "  * Git gives you several mechanisms to do similar things\n",
    "  * 'Merge vs Rebase' is an ideological debate in the git community\n",
    "* Merging creates a pathway\n",
    "  * From the branch specified in the merge (e.g. try_d_eight)\n",
    "  * To the branch specified in the merge (e.g. master)\n",
    "* Rebasing makes a copy of one or more commits and adds them to the the 'new base' i.e. the target\n",
    "  * Let's create a branch, do work on master than then rebase the branch"
   ]
  },
  {
   "cell_type": "markdown",
   "metadata": {
    "slideshow": {
     "slide_type": "slide"
    }
   },
   "source": [
    "### Rebasing - 2\n",
    "* First lets make a branch ```adding_f``` and introduce a new parameter 'f=100'\n",
    "* Then we'll do work on ```master```\n",
    "  * We'll change a to 1 and b to 2.5\n",
    "  * Then we'll change d back to 4\n",
    "* Then finally, change f to 50 on the ```adding_f``` branch\n",
    "* The end of the log now looks like this"
   ]
  },
  {
   "cell_type": "markdown",
   "metadata": {
    "slideshow": {
     "slide_type": "slide"
    }
   },
   "source": [
    "```sh\n",
    "$git log --graph --all\n",
    "```\n",
    "```\n",
    "* commit 4742f19bb926812c7a94df7eba7b335320fece50 (HEAD -> adding_f)\n",
    "| Author: FBar <foo.bar@hmail.com>\n",
    "| Date:   Fri Oct 11 12:10:44 2019 +0100\n",
    "| \n",
    "|     Reducing f to half\n",
    "| \n",
    "* commit edf20f354132343439cb60f48c247e01fc738d94\n",
    "| Author: FBar <foo.bar@hmail.com>\n",
    "| Date:   Fri Oct 11 12:02:24 2019 +0100\n",
    "| \n",
    "|     Adding f\n",
    "|  \n",
    "| * commit ea048dd930b5040331bb9cec89fa1e6542915fd1 (master)\n",
    "| | Author: FBar <foo.bar@hmail.com>\n",
    "| | Date:   Fri Oct 11 12:03:19 2019 +0100\n",
    "| | \n",
    "| |     Setting d to 4\n",
    "| | \n",
    "| * commit efd79fc623258dc3fe0ef6639188a78d95cf6baf\n",
    "|/  Author: FBar <foo.bar@hmail.com>\n",
    "|   Date:   Fri Oct 11 12:02:56 2019 +0100\n",
    "|   \n",
    "|       Setting a to 1 and b to 2.5\n",
    "| \n",
    "```"
   ]
  },
  {
   "cell_type": "markdown",
   "metadata": {
    "slideshow": {
     "slide_type": "slide"
    }
   },
   "source": [
    "### Rebasing - 3\n",
    "* Now, lets copy the two commits from ```master``` to our branch ```adding_f```\n",
    "* Merge vs. rebase\n",
    "  * Note, with merge, we merge from the specified branch to the active branch\n",
    "  * With rebase, we rebase from the active branch to the specified branch\n",
    "  * Thanks git\n",
    "* Git works out what has happened on ```master``` since we branched ```adding_f```\n",
    "  * It then opens an editor, since we picked interactive mode\n",
    "\n",
    "```sh\n",
    "$git rebase -i adding_f\n",
    "pick edf20f3 Adding f\n",
    "pick 4742f19 Reducing f to half\n",
    "\n",
    "# Rebase edf20f3..4742f19 onto d87f424 (2 commands)\n",
    "#\n",
    "# Commands:\n",
    "...\n",
    "```\n",
    "\n",
    "* Note:\n",
    "  * in git log, earliest commits are at the bottom\n",
    "  * in interactive rebase earlier commits are at the top\n",
    "  * Thanks git\n"
   ]
  },
  {
   "cell_type": "markdown",
   "metadata": {
    "slideshow": {
     "slide_type": "slide"
    }
   },
   "source": [
    "### Rebasing - 4\n",
    "* What are all these commands?\n",
    "  * Interactive allows us to 'tidy up' while rebasing commits\n",
    "\n",
    "```sh\n",
    "# p, pick = use commit\n",
    "# r, reword = use commit, but edit the commit message\n",
    "# e, edit = use commit, but stop for amending\n",
    "# s, squash = use commit, but meld into previous commit\n",
    "# f, fixup = like \"squash\", but discard this commit's log message\n",
    "# x, exec = run command (the rest of the line) using shell\n",
    "# d, drop = remove commit\n",
    "```"
   ]
  },
  {
   "cell_type": "markdown",
   "metadata": {
    "slideshow": {
     "slide_type": "slide"
    }
   },
   "source": [
    "### Rebasing - 5\n",
    "* Let's squash 4742f19 and pick edf20f3\n",
    "  * We often want to squash commits on a development branch together\n",
    "  * Nice for a main branch to have a simple history of added features rather than messy details\n",
    "  \n",
    "\n",
    "```sh\n",
    "pick edf20f3 Adding f\n",
    "squash 4742f19 Reducing f to half\n",
    "```\n",
    "\n",
    "```sh\n",
    "* commit 5a14bc0f1327db89257a0cb2361c35cf5b54664f (HEAD -> adding_f)\n",
    "| Author: FBar <foo.bar@hmail.com>\n",
    "| Date:   Fri Oct 11 14:02:24 2019 +0100\n",
    "| \n",
    "|     Adding f\n",
    "| \n",
    "* commit ea048dd930b5040331bb9cec89fa1e6542915fd1 (master)\n",
    "| Author: FBar <foo.bar@hmail.com>\n",
    "| Date:   Fri Oct 11 14:03:19 2019 +0100\n",
    "| \n",
    "|     Setting d to 4\n",
    "| \n",
    "* commit efd79fc623258dc3fe0ef6639188a78d95cf6baf\n",
    "| Author: FBar <foo.bar@hmail.com>\n",
    "| Date:   Fri Oct 11 14:02:56 2019 +0100\n",
    "| \n",
    "|     Setting a to 1 and b to 2.5\n",
    "|   \n",
    "```"
   ]
  },
  {
   "cell_type": "markdown",
   "metadata": {
    "slideshow": {
     "slide_type": "slide"
    }
   },
   "source": [
    "## Cherry picking\n",
    "<img src='git_cherry_pick.png'>"
   ]
  },
  {
   "cell_type": "markdown",
   "metadata": {
    "slideshow": {
     "slide_type": "slide"
    }
   },
   "source": [
    "### Cherry picking - 1\n",
    "* Sometimes you want a single commit or small set of commits from another branch\n",
    "  * An important security fix from a development branch, for example\n",
    "  * '''git cherry pick <commit>''' allows us to get it easily\n",
    "* Lets add a new branch ```tweaking e```\n",
    "  * First commit sets e to 6\n",
    "  * Next commit sets b back to 2\n",
    "  * Next commit sets e to 7\n",
    "* We really want that change that sets b back to 2 so let's cherry pick it"
   ]
  },
  {
   "cell_type": "markdown",
   "metadata": {
    "slideshow": {
     "slide_type": "slide"
    }
   },
   "source": [
    "### Cherry picking - 2\n",
    "```sh\n",
    "$git checkout master\n",
    "$git cherry-pick 0a3adc2\n",
    "$git log --graph --all\n",
    "* commit 1942efcd683af5dc3c5a129378850be74b91ad1c (HEAD -> master)\n",
    "| Author: FBar <foo.bar@hmail.com>\n",
    "| Date:   Fri Oct 11 14:29:52 2019 +0100\n",
    "| \n",
    "|     Setting b to 2; 2.5 doesn't work!\n",
    "|   \n",
    "| * commit 106c69c1666d7c57c85711b1623ce0c64d4d7541 (tweaking_e)\n",
    "| | Author: FBar <foo.bar@hmail.com>\n",
    "| | Date:   Fri Oct 11 14:30:28 2019 +0100\n",
    "| | \n",
    "| |     Setting e to 7\n",
    "| | \n",
    "| * commit 0a3adc293d69b5c2457d8966813946a5e3761faf\n",
    "| | Author: FBar <foo.bar@hmail.com>\n",
    "| | Date:   Fri Oct 11 14:29:52 2019 +0100\n",
    "| | \n",
    "| |     Setting b to 2; 2.5 doesn't work!\n",
    "| | \n",
    "| * commit 052a0c4e0db6a9e0f49e9080be568cb51415b2cd\n",
    "|/  Author: FBar <foo.bar@hmail.com>\n",
    "|   Date:   Fri Oct 11 14:29:17 2019 +0100\n",
    "|   \n",
    "|       Setting e to 6\n",
    "|\n",
    "```"
   ]
  },
  {
   "cell_type": "markdown",
   "metadata": {
    "slideshow": {
     "slide_type": "slide"
    }
   },
   "source": [
    "### Remote repositories - 1\n",
    "* This is all still on my drive\n",
    "  * let's create a remote repository to back up all this hard work to\n",
    "  * it also allows us to share our work with others\n",
    "\n",
    "* There are a number of git remote repository services\n",
    "  * github\n",
    "  * gitlab\n",
    "  * and others...\n",
    "\n",
    "* KCL has a github server, so we'll use that!\n",
    "  * ```https://github.kcl.ac.uk```\n",
    "\n",
    "\n"
   ]
  },
  {
   "cell_type": "markdown",
   "metadata": {
    "slideshow": {
     "slide_type": "slide"
    }
   },
   "source": [
    "### Remote repositories - 2\n",
    "* Creating a new repository is very simple\n",
    "  * Go to the repositories tab\n",
    "  * Create a new repository (public or private)\n",
    "* GitHub helpfully gives us some commands to finish setting up\n",
    "  * We'll follow the commands to push an existing repository\n",
    "\n",
    "```sh\n",
    "git remote add origin https://github.kcl.ac.uk/k1234567/testrepo.git\n",
    "git push -u origin master\n",
    "```"
   ]
  },
  {
   "cell_type": "markdown",
   "metadata": {
    "slideshow": {
     "slide_type": "slide"
    }
   },
   "source": [
    "### Remote repositories - 3\n",
    "* First, let's add the githup repo to our list of remotes\n",
    "\n",
    "```sh\n",
    "$git remote add origin https://github.kcl.ac.uk/k1234567/testrepo.git\n",
    "$git remote --v\n",
    "origin  https://github.kcl.ac.uk/k1780948/testrepo.git (fetch)\n",
    "origin  https://github.kcl.ac.uk/k1780948/testrepo.git (push)\n",
    "```\n",
    "* As with ```master```, ```origin``` is just a convention\n",
    "* A repo may also have multiple remotes defined for it"
   ]
  },
  {
   "cell_type": "markdown",
   "metadata": {
    "slideshow": {
     "slide_type": "slide"
    }
   },
   "source": [
    "### Remote repositories - 4\n",
    "* Now, let's push our local repo to our github repo\n",
    "\n",
    "```sh\n",
    "$git push -u origin master\n",
    "Enumerating objects: 23, done.\n",
    "Counting objects: 100% (23/23), done.\n",
    "Delta compression using up to 8 threads\n",
    "Compressing objects: 100% (9/9), done.\n",
    "Writing objects: 100% (23/23), 1.91 KiB | 979.00 KiB/s, done.\n",
    "Total 23 (delta 1), reused 0 (delta 0)\n",
    "remote: Resolving deltas: 100% (1/1), done.\n",
    "To https://github.kcl.ac.uk/k1780948/testrepo.git\n",
    " * [new branch]      master -> master\n",
    "Branch 'master' set up to track remote branch 'master' from 'origin'.\n",
    "```\n",
    "* Done! We have saved our repository on KCL's github server\n",
    "  * From now on, we can\n",
    "    * Make it public for anyone else to use\n",
    "    * Work with a team on further developing the project\n"
   ]
  },
  {
   "cell_type": "markdown",
   "metadata": {
    "slideshow": {
     "slide_type": "slide"
    }
   },
   "source": [
    "### Remote repositories - 5\n",
    "* You can get a local copy of a github repo\n",
    "  * ```git clone``` is used to make a local clone of a remote repo\n",
    "\n",
    "```sh\n",
    "$ git clone https://github.kcl.ac.uk/r1234567/testrepo.git testrepo2\n",
    "Cloning into 'testrepo2'...\n",
    "remote: Enumerating objects: 23, done.\n",
    "remote: Counting objects: 100% (23/23), done.\n",
    "remote: Compressing objects: 100% (8/8), done.\n",
    "remote: Total 23 (delta 1), reused 23 (delta 1), pack-reused 0\n",
    "Unpacking objects: 100% (23/23), done.\n",
    "```\n",
    "\n",
    "* We now have a new copy of ```testrepo```"
   ]
  },
  {
   "cell_type": "markdown",
   "metadata": {
    "slideshow": {
     "slide_type": "slide"
    }
   },
   "source": [
    "### Remote repositories - 6\n",
    "* Let's make a quick change to ```testrepo2```\n",
    "* append `f=10` to the end of ```foo.txt```\n",
    "* ```add```, ```commit```, and then ```push```\n",
    "\n",
    "```sh\n",
    "$git checkout master\n",
    "$git add foo.txt\n",
    "$git commit -m \"Introducing g\"\n",
    "$git push origin master <TODO>\n",
    "Enumerating objects: 5, done.\n",
    "Counting objects: 100% (5/5), done.\n",
    "Writing objects: 100% (3/3), 271 bytes | 271.00 KiB/s, done.\n",
    "Total 3 (delta 0), reused 0 (delta 0)\n",
    "To https://github.kcl.ac.uk/k1234567/testrepo.git\n",
    "   f93b146..6471784  master -> master\n",
    "```"
   ]
  },
  {
   "cell_type": "markdown",
   "metadata": {
    "slideshow": {
     "slide_type": "slide"
    }
   },
   "source": [
    "### Remote repositories - 7\n",
    "* Now go back to ```testrepo```\n",
    "* ```git pull``` will fetch the changes on the remote repo and merge them\n",
    "* Alternately, ```git fetch``` followed by ```git merge`` allows you to do this in two stages\n",
    "* Now both repos are up to date!\n",
    "\n"
   ]
  },
  {
   "cell_type": "markdown",
   "metadata": {
    "slideshow": {
     "slide_type": "slide"
    }
   },
   "source": [
    "### Things that we haven't covered - 1\n",
    "* Interactive commits\n",
    "  * pick subsets of a commit\n",
    "* Forking\n",
    "  * a forked repository is like a cloned repository, except the clone is itself a remote\n",
    "* Issues\n",
    "  * github / gitlab repos have basic issue tracking\n",
    "* Tagging\n",
    "  * Tags are quite simple in git; ```git tag -a version_0.1```\n",
    "  * Tags come in 'annotated' and 'lightweight' flavours; generally, use annotate\n"
   ]
  },
  {
   "cell_type": "markdown",
   "metadata": {
    "slideshow": {
     "slide_type": "slide"
    }
   },
   "source": [
    "### Things that we haven't covered - 2\n",
    "* Pull requests\n",
    "  * Package up a set of changes to be reviewed and merged to a repo\n",
    "  * Typically from a fork\n",
    "* Git flow\n",
    "  * Git is powerful and doesn't impose a 'one true way'\n",
    "    * See the ideological wars on merge vs. rebase as an example\n",
    "  * Git flow is a set of conventions that large teams use\n",
    "    * Semantics for long lived branches and ephemeral branches\n",
    "* And much more\n",
    "  * Git is huge"
   ]
  },
  {
   "cell_type": "markdown",
   "metadata": {
    "slideshow": {
     "slide_type": "slide"
    }
   },
   "source": [
    "### Other things\n",
    "* Git UI\n",
    "  * You can get by fine with the command line\n",
    "  * A number of UI tools exist to make life simpler\n",
    "    * We recommend GitAhead https://gitahead.github.io/gitahead.com/\n",
    "    * It is particularly useful when merging or rebasing complex branches"
   ]
  },
  {
   "cell_type": "markdown",
   "metadata": {
    "slideshow": {
     "slide_type": "slide"
    }
   },
   "source": [
    "### Remember, git is a deep topic\n",
    "* Discretion is the better part of valour\n",
    "  * It is fine to make a copy of your project in case things 'go wrong', before you start\n",
    "  * Later, you'll have the experience to recover most situations\n",
    "* Useful resources\n",
    "  * https://learngitbranching.js.org/ this is beyond useful; please consider it an exercise\n",
    "  * https://git-scm.com/book/en/v2 get the book\n"
   ]
  },
  {
   "cell_type": "markdown",
   "metadata": {
    "slideshow": {
     "slide_type": "slide"
    }
   },
   "source": [
    "# That's it!"
   ]
  }
 ],
 "metadata": {
  "celltoolbar": "Slideshow",
  "kernelspec": {
   "display_name": "Python 3 (ipykernel)",
   "language": "python",
   "name": "python3"
  },
  "language_info": {
   "codemirror_mode": {
    "name": "ipython",
    "version": 3
   },
   "file_extension": ".py",
   "mimetype": "text/x-python",
   "name": "python",
   "nbconvert_exporter": "python",
   "pygments_lexer": "ipython3",
   "version": "3.10.13"
  }
 },
 "nbformat": 4,
 "nbformat_minor": 4
}
