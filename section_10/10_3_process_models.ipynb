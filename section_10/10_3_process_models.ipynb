{
 "cells": [
  {
   "cell_type": "markdown",
   "metadata": {
    "slideshow": {
     "slide_type": "slide"
    }
   },
   "source": [
    "#### <center>Intermediate Python and Software Enginnering</center>\n",
    "\n",
    "\n",
    "## <center>Section 10 - Part 03 - Process Models</center>\n",
    "\n",
    "\n",
    "### <center>Innovation Scholars Programme</center>\n",
    "### <center>King's College London, Medical Research Council and UKRI <center>"
   ]
  },
  {
   "cell_type": "markdown",
   "metadata": {
    "slideshow": {
     "slide_type": "slide"
    }
   },
   "source": [
    "* How do teams develop software?\n",
    "* A process model for doing development is used\n",
    "* This describes the development activities and how they are scheduled\n",
    "* Important aspect to how the team is managed, how and when software is delivered, and interaction (customers) with stakeholders is mediated"
   ]
  },
  {
   "cell_type": "markdown",
   "metadata": {
    "slideshow": {
     "slide_type": "slide"
    }
   },
   "source": [
    "<img style=\"float:right\" src=\"https://upload.wikimedia.org/wikipedia/commons/thumb/e/e2/Waterfall_model.svg/500px-Waterfall_model.svg.png\"/>\n",
    "\n",
    "* Simplest is the Waterfall model where the five activities are done in sequence\n",
    "* Very simple model to use but prone to a lot of issues:\n",
    "  * First phase (requirements) must be frozen for rest to be implemented\n",
    "  * Encourages requirements block\n",
    "  * All or nothing delivery\n",
    "  * Any major fault found in one stage may require starting from the top\n",
    "* Generally considered a bad way of managing development"
   ]
  },
  {
   "cell_type": "markdown",
   "metadata": {
    "slideshow": {
     "slide_type": "slide"
    }
   },
   "source": [
    "* One alternative is prototyping\n",
    "* Useful when requirements are not clearly defined/understood\n",
    "* Throwaway prototypes are developed to analyze requirements, then in the next step full development begins\n",
    "* Can be developed multiple times to rapidly refine ideas, then implement real system\n",
    "* Involves informal design and implementation with stakeholders\n",
    "* Downside is this takes time, still suffers if initial requirements are bad, giving clients prototypes to try can be frustrating"
   ]
  },
  {
   "cell_type": "markdown",
   "metadata": {
    "slideshow": {
     "slide_type": "slide"
    }
   },
   "source": [
    "* Iterative enhancement is similar\n",
    "* After initial requirements, iteratively define tasks then design and implement them\n",
    "* Incremental delivery of software, each iteration through the process adds more to delivered software\n",
    "* Still can suffer from poor initial requirements, takes time\n",
    "* Timeboxing attempts to stagger out interative cycles"
   ]
  },
  {
   "cell_type": "markdown",
   "metadata": {
    "slideshow": {
     "slide_type": "slide"
    }
   },
   "source": [
    "* Agile methods are designed to tackle these issues and manage interaction with stakeholders\n",
    "* Reaction against excessive documentation and process around design\n",
    "* Emphasizes working software as a metric\n",
    "* Incremental development activities with close integration of stakeholders into the process\n",
    "* Face-to-face communication and feedback important"
   ]
  },
  {
   "cell_type": "markdown",
   "metadata": {
    "slideshow": {
     "slide_type": "slide"
    }
   },
   "source": [
    "* Extreme Programming is an example:\n",
    "  * Start with informal requirements based on user stories \n",
    "  * Release plan estimated from this, prioritizing important stories\n",
    "  * Development done in iterations having an acceptance test and often implemented with paired programming\n",
    "  * Frequent integration is done as the releases are small"
   ]
  },
  {
   "cell_type": "markdown",
   "metadata": {
    "slideshow": {
     "slide_type": "slide"
    }
   },
   "source": [
    "* Kanban:\n",
    "\n",
    "  * Organisation of work and activities centred around kanban board\n",
    "  * Board visualises tasks to be done (user stories, etc.), what stage they are in, what the workflow is, and other elements\n",
    "  * Designed to help visualise what needs to be done, manage dependencies, and identify blockers to be removed\n",
    "  \n",
    "  <img style=\"float:right\" src=https://upload.wikimedia.org/wikipedia/commons/thumb/f/f5/Kanban_board_example.jpg/440px-Kanban_board_example.jpg>\n",
    "\n"
   ]
  },
  {
   "cell_type": "markdown",
   "metadata": {
    "slideshow": {
     "slide_type": "slide"
    }
   },
   "source": [
    "Agile suits projects where:\n",
    "* Skilled developers who know agile can make the process work\n",
    "* Pace of change is high, new requirements frequently developed\n",
    "* Stakeholder communication can be high\n",
    "* Stakeholders can be directly involved"
   ]
  },
  {
   "cell_type": "markdown",
   "metadata": {
    "slideshow": {
     "slide_type": "slide"
    }
   },
   "source": [
    "Model       | Advantages                   | Disadvantages      \n",
    "------------|------------------------------|--------------------\n",
    "Waterfall   | Simple                       | Frozen requirements\n",
    "            |                              | All or nothing\n",
    "            |                              | Document Driven\n",
    "Prototyping | Helps determine requirements | All or nothing \n",
    "            | Testing prototypes reduces risk | Prototypes take time\n",
    "            ||Requirements become set once prototyping ends\n",
    "Iterative   | Incremental delivery         | Initial design not robust\n",
    "            | Working systems for cliet feedback | Iterations take time\n",
    "            | Allows new requirements to be added | Requirements bloat\n",
    "Agile/XP/   | Reduced documentation | Needs client involvement\n",
    "Kanban      | More robust code, lower risk | Too little documentation\n",
    "            | Dynamic and adaptable process| Requires significant developer skill\n",
    "            \n"
   ]
  }
 ],
 "metadata": {
  "celltoolbar": "Slideshow",
  "kernelspec": {
   "display_name": "Python 3 (ipykernel)",
   "language": "python",
   "name": "python3"
  },
  "language_info": {
   "codemirror_mode": {
    "name": "ipython",
    "version": 3
   },
   "file_extension": ".py",
   "mimetype": "text/x-python",
   "name": "python",
   "nbconvert_exporter": "python",
   "pygments_lexer": "ipython3",
   "version": "3.10.9"
  }
 },
 "nbformat": 4,
 "nbformat_minor": 2
}
