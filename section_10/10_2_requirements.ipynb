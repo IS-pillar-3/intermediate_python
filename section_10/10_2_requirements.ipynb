{
 "cells": [
  {
   "cell_type": "markdown",
   "metadata": {
    "slideshow": {
     "slide_type": "slide"
    }
   },
   "source": [
    "#### <center>Intermediate Python and Software Enginnering</center>\n",
    "\n",
    "\n",
    "## <center>Section 10 - Part 02 - Requirements</center>\n",
    "\n",
    "\n",
    "### <center>Innovation Scholars Programme</center>\n",
    "### <center>King's College London, Medical Research Council and UKRI <center>"
   ]
  },
  {
   "cell_type": "markdown",
   "metadata": {
    "slideshow": {
     "slide_type": "slide"
    }
   },
   "source": [
    "* Requirements analysis is creating the full specification of the qualities and capabilities the system should have\n",
    "* Specification includes features software should have, use cases describing how the software would be used and expected behaviour, criteria to be tested, etc.\n",
    "* Need to have a complete and coherent idea of what system should do to know what to develop"
   ]
  },
  {
   "cell_type": "markdown",
   "metadata": {
    "slideshow": {
     "slide_type": "slide"
    }
   },
   "source": [
    "* Use cases are very useful tools, describing an scenario where an external actor (eg. user) interacts with the system\n",
    "* Use cases contain:\n",
    "  * Actor: who is interacting with the system\n",
    "  * Primary actor: who is initiating the action\n",
    "  * Scenario: step-by-step description of what primary actor does to interact with system\n",
    "  * Success Scenario: what criteria defines the goal being achieved\n",
    "  * Extension scenarios: failure conditions, when goal cannot be achieved"
   ]
  },
  {
   "cell_type": "markdown",
   "metadata": {
    "slideshow": {
     "slide_type": "slide"
    }
   },
   "source": [
    "* System design is a broad topic, covered in the second part of this week's session in more detail\n",
    "* What should be in the system, module design, feature design, data sources and data flow, etc.\n",
    "* Requirements specification will guide the process of developing the design and it states what must be achieved by the system\n",
    "* Implementation and Testing we've covered at length\n",
    "* Maintenance is about fixing bugs and improving the code after being released to customers"
   ]
  }
 ],
 "metadata": {
  "celltoolbar": "Slideshow",
  "kernelspec": {
   "display_name": "Python 3 (ipykernel)",
   "language": "python",
   "name": "python3"
  },
  "language_info": {
   "codemirror_mode": {
    "name": "ipython",
    "version": 3
   },
   "file_extension": ".py",
   "mimetype": "text/x-python",
   "name": "python",
   "nbconvert_exporter": "python",
   "pygments_lexer": "ipython3",
   "version": "3.10.9"
  }
 },
 "nbformat": 4,
 "nbformat_minor": 2
}
