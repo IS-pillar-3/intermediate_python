{
 "cells": [
  {
   "cell_type": "markdown",
   "metadata": {
    "slideshow": {
     "slide_type": "slide"
    }
   },
   "source": [
    "#### <center>Intermediate Python and Software Enginnering</center>\n",
    "\n",
    "\n",
    "## <center>Section 10 - Part 01 - Phases of Software Development</center>\n",
    "\n",
    "\n",
    "### <center>Innovation Scholars Programme</center>\n",
    "### <center>King's College London, Medical Research Council and UKRI <center>"
   ]
  },
  {
   "cell_type": "markdown",
   "metadata": {
    "slideshow": {
     "slide_type": "slide"
    }
   },
   "source": [
    "## What we'll cover\n",
    "\n",
    "* Phases of software development\n",
    "* Requirements\n",
    "* Development process models\n"
   ]
  },
  {
   "cell_type": "markdown",
   "metadata": {
    "slideshow": {
     "slide_type": "slide"
    }
   },
   "source": [
    "## Software Development \n",
    "* Developing large scale software is hard\n",
    "* Managing technical issues and cooperation within the development team are important to success\n",
    "* We will briefly discuss developing software in teams, the lifecycle, and development process models\n",
    "* Very high level overview of a large subject that should help you understand issues when working in teams\n"
   ]
  },
  {
   "cell_type": "markdown",
   "metadata": {
    "slideshow": {
     "slide_type": "slide"
    }
   },
   "source": [
    "* 5 phases of the software development lifecycle:\n",
    " 1. Requirements analysis and specification\n",
    " 2. Design\n",
    " 3. Implementation\n",
    " 4. Testing\n",
    " 5. Maintenance\n",
    "* You will have these elements in your development process even when doing small scale independent development"
   ]
  }
 ],
 "metadata": {
  "celltoolbar": "Slideshow",
  "kernelspec": {
   "display_name": "Python 3 (ipykernel)",
   "language": "python",
   "name": "python3"
  },
  "language_info": {
   "codemirror_mode": {
    "name": "ipython",
    "version": 3
   },
   "file_extension": ".py",
   "mimetype": "text/x-python",
   "name": "python",
   "nbconvert_exporter": "python",
   "pygments_lexer": "ipython3",
   "version": "3.10.9"
  }
 },
 "nbformat": 4,
 "nbformat_minor": 2
}
