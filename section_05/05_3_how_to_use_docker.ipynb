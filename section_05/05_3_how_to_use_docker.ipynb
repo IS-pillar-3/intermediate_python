{
 "cells": [
  {
   "cell_type": "markdown",
   "metadata": {
    "slideshow": {
     "slide_type": "slide"
    }
   },
   "source": [
    "#### <center>Intermediate Python and Software Enginnering</center>\n",
    "\n",
    "\n",
    "## <center>Section 05 - Part 03 - How to use Docker?</center>\n",
    "\n",
    "\n",
    "### <center>Innovation Scholars Programme</center>\n",
    "### <center>King's College London, Medical Research Council and UKRI <center>"
   ]
  },
  {
   "cell_type": "markdown",
   "metadata": {
    "slideshow": {
     "slide_type": "slide"
    }
   },
   "source": [
    "### Example \"hello world\" in Docker\n",
    "* Get the image for `hello-world` from Docker Hub:\n",
    "  \n",
    "  ```sh\n",
    " $ docker pull hello-world\n",
    "Using default tag: latest\n",
    "latest: Pulling from library/hello-world\n",
    "0e03bdcc26d7: Pull complete\n",
    "Digest: sha256:6a65f928fb91fcfbc963f7aa6d57c8eeb426ad9a20c7ee045538ef34847f44f1\n",
    "Status: Downloaded newer image for hello-world:latest\n",
    "docker.io/library/hello-world:latest\n",
    "\n",
    "  ```"
   ]
  },
  {
   "cell_type": "markdown",
   "metadata": {
    "slideshow": {
     "slide_type": "slide"
    }
   },
   "source": [
    "* Create a container which runs, prints a message, then stops:\n",
    "\n",
    "```sh\n",
    "$ docker run hello-world\n",
    "```\n",
    "```text\n",
    "Hello from Docker!\n",
    "This message shows that your installation appears to be working correctly.\n",
    "\n",
    "To generate this message, Docker took the following steps:\n",
    " 1. The Docker client contacted the Docker daemon.\n",
    " 2. The Docker daemon pulled the \"hello-world\" image from the Docker Hub.\n",
    "    (amd64)\n",
    " 3. The Docker daemon created a new container from that image which runs the\n",
    "    executable that produces the output you are currently reading.\n",
    " 4. The Docker daemon streamed that output to the Docker client, which sent it\n",
    "    to your terminal.\n",
    "\n",
    "To try something more ambitious, you can run an Ubuntu container with:\n",
    " $ docker run -it ubuntu bash\n",
    "\n",
    "Share images, automate workflows, and more with a free Docker ID:\n",
    " https://hub.docker.com/\n",
    "\n",
    "For more examples and ideas, visit:\n",
    " https://docs.docker.com/get-started/\n",
    "\n",
    "```"
   ]
  },
  {
   "cell_type": "markdown",
   "metadata": {
    "slideshow": {
     "slide_type": "slide"
    }
   },
   "source": [
    "* We can see downloaded images:\n",
    "\n",
    "```sh\n",
    "$ docker image ls\n",
    "```\n",
    "```\n",
    "REPOSITORY               TAG                               IMAGE ID            CREATED             SIZE\n",
    "hello-world              latest                            bf756fb1ae65        4 months ago        13.3kB\n",
    "nvidia/cuda              10.1-cudnn7-runtime-ubuntu16.04   e11e11484e2e        5 months ago        1.71GB\n",
    "ubuntu                   18.04                             a2a15febcdf3        9 months ago        64.2MB\n",
    "ubuntu                   latest                            a2a15febcdf3        9 months ago        64.2MB\n",
    "python                   3.7                               e497dabd8450        9 months ago        918MB\n",
    "nvidia/cuda              10.1-runtime-ubuntu16.04          78d4afa83d9f        10 months ago       1.2GB\n",
    "nvidia/cuda              latest                            89bd89411ed6        10 months ago       2.76GB\n",
    "ubuntu                   16.04                             5e13f8dd4c1a        10 months ago       120MB\n",
    "continuumio/miniconda3   latest                            6b5cf97566c3        12 months ago       457MB\n",
    "```"
   ]
  },
  {
   "cell_type": "markdown",
   "metadata": {
    "slideshow": {
     "slide_type": "slide"
    }
   },
   "source": [
    "* And running container (with `-a` since `hello-world` has stopped already):\n",
    "\n",
    "```sh\n",
    "$ docker container ls -a\n",
    "```\n",
    "```\n",
    "CONTAINER ID        IMAGE               COMMAND             CREATED             STATUS                     PORTS               NAMES\n",
    "96e7d48c0ddb        hello-world         \"/hello\"            2 minutes ago       Exited (0) 2 minutes ago                       jolly_poincare\n",
    "```"
   ]
  },
  {
   "cell_type": "markdown",
   "metadata": {
    "slideshow": {
     "slide_type": "slide"
    }
   },
   "source": [
    "* Images will contain the libraries needed to run, for `hello-world` this is nothing so is really small\n",
    "* The Dockerfile for creating the image is as small as it gets:\n",
    "```dockerfile\n",
    "FROM scratch\n",
    "COPY hello /\n",
    "CMD [\"/hello\"]\n",
    "```\n",
    "* States the image will be made from scratch, copy the executable `hello` to the root directory, and the command to run when the container is run is `/hello`"
   ]
  },
  {
   "cell_type": "markdown",
   "metadata": {
    "slideshow": {
     "slide_type": "slide"
    }
   },
   "source": [
    "* Images have internal file storage for storing libraries, data, executables, etc.\n",
    "* Files are stored on the host's file system rather than an internal virtualized hard drive with a file system\n",
    "* OS requests (IO, interrupts, any other hardware access) go to the host OS via the container daemon\n",
    "* Each container appears internally to be an independent Linux system but is actually using the host OS \n",
    "* Segregation between containers is enforced by container daemon\n",
    "* Compare to a virtual machine which is presented with a virtual hardware environment and must include everything above that (file system, OS, etc.)"
   ]
  },
  {
   "cell_type": "markdown",
   "metadata": {
    "slideshow": {
     "slide_type": "slide"
    }
   },
   "source": [
    "* Another example: let's play with the Python base image\n",
    "```sh\n",
    "$ docker run -ti --rm python bash\n",
    "```\n",
    "```\n",
    "Unable to find image 'python:latest' locally\n",
    "latest: Pulling from library/python\n",
    "376057ac6fa1: Pull complete\n",
    "5a63a0a859d8: Pull complete\n",
    "496548a8c952: Pull complete\n",
    "2adae3950d4d: Pull complete\n",
    "0ed5a9824906: Pull complete\n",
    "bb94ffe72389: Pull complete\n",
    "241ada007777: Pull complete\n",
    "be68aa7d1eeb: Pull complete\n",
    "820ffc2e28ca: Pull complete\n",
    "Digest: sha256:6fcd27ebeb1a5b4fd289ff15cb666e619c060c7b76f5a1b1a99d7cddb6de337a\n",
    "Status: Downloaded newer image for python:latest\n",
    "```"
   ]
  },
  {
   "cell_type": "markdown",
   "metadata": {
    "slideshow": {
     "slide_type": "slide"
    }
   },
   "source": [
    "* This will pull `python` from Docker Hub automatically if not already pulled\n",
    "* `-ti --rm` means allocate a pseudo-TTY, interactive mode, and remove the container when completed\n",
    "* `bash` means use `bash` as the command to run when starting the container, this is so we can interact with the container\n",
    "* Also pinning the image version for Python 3.7, more consistent than just `python`\n",
    "\n",
    "```sh\n",
    "$ docker run -ti --rm python:3.7 bash\n",
    "```\n",
    "```\n",
    "root@a5b78615711c:/# cat /etc/os-release\n",
    "PRETTY_NAME=\"Debian GNU/Linux 10 (buster)\"\n",
    "NAME=\"Debian GNU/Linux\"\n",
    "VERSION_ID=\"10\"\n",
    "VERSION=\"10 (buster)\"\n",
    "VERSION_CODENAME=buster\n",
    "ID=debian\n",
    "HOME_URL=\"https://www.debian.org/\"\n",
    "SUPPORT_URL=\"https://www.debian.org/support\"\n",
    "BUG_REPORT_URL=\"https://bugs.debian.org/\"\n",
    "```"
   ]
  },
  {
   "cell_type": "markdown",
   "metadata": {
    "slideshow": {
     "slide_type": "slide"
    }
   },
   "source": [
    "* Image for `python:3.7` is based on Debian 10 apparently\n",
    "* If run without `bash`, the command stated in the Dockerfile is used instead, which is `python`:\n",
    "\n",
    "```sh\n",
    "$ docker run -ti --rm python:3.7\n",
    "```\n",
    "```\n",
    "Python 3.7.4 (default, Aug 14 2019, 12:09:51)\n",
    "[GCC 8.3.0] on linux\n",
    "Type \"help\", \"copyright\", \"credits\" or \"license\" for more information.\n",
    ">>>\n",
    "```\n",
    "* If run without `-ti --rm` the container will silently run `python` then exit"
   ]
  },
  {
   "cell_type": "markdown",
   "metadata": {
    "slideshow": {
     "slide_type": "slide"
    }
   },
   "source": [
    "* Let's create our own Pythonic version of `hello-world`\n",
    "* Create a script `hello.py` that just has `print(\"Hello, Docker!\")`\n",
    "* Create a Dockerfile:\n",
    "\n",
    "```dockerfile\n",
    "from python:3.7\n",
    "COPY hello.py /\n",
    "CMD [\"python\",\"hello.py\"]\n",
    "```\n",
    "* This will copy `hello.py` into the root of the image's files and set the command to run `python` on startup with the given script file"
   ]
  },
  {
   "cell_type": "markdown",
   "metadata": {
    "slideshow": {
     "slide_type": "slide"
    }
   },
   "source": [
    "* Build the image, specifying the Dockerfile and tagging it as \"hello-python\":\n",
    "\n",
    "```sh\n",
    "$ docker build -f Dockerfile -t hello-python .\n",
    "```\n",
    "```\n",
    "Sending build context to Docker daemon  79.87kB\n",
    "Step 1/3 : from python\n",
    " ---> 659f826fabf4\n",
    "Step 2/3 : COPY hello.py /\n",
    " ---> 35372c5a881a\n",
    "Step 3/3 : CMD [\"python\",\"hello.py\"]\n",
    " ---> Running in 9948be278156\n",
    "Removing intermediate container 9948be278156\n",
    " ---> 5d1337963697\n",
    "Successfully built 5d1337963697\n",
    "Successfully tagged hello-python:latest\n",
    "```"
   ]
  },
  {
   "cell_type": "markdown",
   "metadata": {
    "slideshow": {
     "slide_type": "slide"
    }
   },
   "source": [
    "* Run the image:\n",
    "\n",
    "```sh\n",
    "$ docker run --rm hello-python\n",
    "Hello Docker!\n",
    "```\n",
    "\n",
    "* We can see what files are present by running the container interactively:\n",
    "\n",
    "```sh\n",
    "$ docker run -ti --rm hello-python bash\n",
    "root@279d520691f9:/# ls\n",
    "bin  boot  dev  etc  hello.py  home  lib  lib64  media  mnt  opt  proc  root  run  sbin  srv  sys  tmp  usr  var\n",
    "```"
   ]
  },
  {
   "cell_type": "markdown",
   "metadata": {
    "slideshow": {
     "slide_type": "slide"
    }
   },
   "source": [
    "* Slightly more involved example: web service hosted with Flask\n",
    "* Define a simple server in `hello_flask.py` which unsurprisingly responds with \"Hello, World!\":\n",
    "\n",
    "```python\n",
    "from flask import Flask\n",
    "app = Flask(__name__)\n",
    "\n",
    "@app.route('/')\n",
    "def hello_world():\n",
    "    return 'Hello, World!'\n",
    "```"
   ]
  },
  {
   "cell_type": "markdown",
   "metadata": {
    "slideshow": {
     "slide_type": "slide"
    }
   },
   "source": [
    "* Dockerfile is quite similar:\n",
    "\n",
    "```dockerfile\n",
    "from python:3.7\n",
    "RUN pip install flask\n",
    "\n",
    "ENV FLASK_APP hello_flask.py\n",
    "EXPOSE 5000\n",
    "\n",
    "COPY hello_flask.py /\n",
    "\n",
    "CMD [\"flask\",\"run\",\"--host=0.0.0.0\"]\n",
    "```\n",
    "\n",
    "* `RUN` runs a command in the image\n",
    "* `ENV` creates an environment variable in the image\n",
    "* `EXPOSE` documents that port 5000 is expected to be listened to by the application"
   ]
  },
  {
   "cell_type": "markdown",
   "metadata": {
    "slideshow": {
     "slide_type": "slide"
    }
   },
   "source": [
    "* When this application is run the port 5000 has to be explicitly exposed:\n",
    "\n",
    "```sh\n",
    "$ docker run -d -p 5000:5000 hello-flask\n",
    "b65b10374ef362934b21108c393efbd1c7fd2818809f7df3e38439295683e2b8\n",
    "```\n",
    "\n",
    "* `-d` means run detached in the background\n",
    "* Can now query our running web service:\n",
    "\n",
    "```sh\n",
    "$ curl localhost:5000\n",
    "Hello, World!\n",
    "```\n",
    "\n",
    "* `--net=host` can also be used to connect the host's network with the container's so individual ports don't need to be specified"
   ]
  },
  {
   "cell_type": "markdown",
   "metadata": {
    "slideshow": {
     "slide_type": "slide"
    }
   },
   "source": [
    "* Dockerfile scripts setup images step-by-step\n",
    "* Each step is cached by Docker so that changes to the file don't cause slow and expensive operations to be rerun without necessity\n",
    "* Commands are run in the image as if it was a running Linux system\n",
    "* Once the script is run the state of the system at that point in time becomes the image\n",
    "* `CMD` specifies the command to run when the container is launcher, be aware this is run as root within the container by default"
   ]
  },
  {
   "cell_type": "markdown",
   "metadata": {
    "slideshow": {
     "slide_type": "slide"
    }
   },
   "source": [
    "# That's it!\n",
    "\n",
    "On to practicals..."
   ]
  }
 ],
 "metadata": {
  "celltoolbar": "Slideshow",
  "kernelspec": {
   "display_name": "Python 3 (ipykernel)",
   "language": "python",
   "name": "python3"
  },
  "language_info": {
   "codemirror_mode": {
    "name": "ipython",
    "version": 3
   },
   "file_extension": ".py",
   "mimetype": "text/x-python",
   "name": "python",
   "nbconvert_exporter": "python",
   "pygments_lexer": "ipython3",
   "version": "3.10.13"
  }
 },
 "nbformat": 4,
 "nbformat_minor": 4
}
