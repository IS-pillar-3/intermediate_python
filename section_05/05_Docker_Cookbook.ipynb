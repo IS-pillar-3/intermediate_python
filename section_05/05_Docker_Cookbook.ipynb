{
 "cells": [
  {
   "cell_type": "markdown",
   "metadata": {},
   "source": [
    "# Docker Cookbook\n",
    "\n",
    "**Eric Kerfoot\\\n",
    "School of Biomedical Engineering & Imaging Sciences\\\n",
    "King's College London**\n",
    "\n",
    "This is a series of Dockerfile examples and command lines designed to illustrate some concepts and patterns in using Docker. All the examples are presented here as runnable notebook cells you can try without resorting to a terminal."
   ]
  },
  {
   "cell_type": "markdown",
   "metadata": {},
   "source": [
    "### Hello, World\n",
    "Run the simple Hello World example image:"
   ]
  },
  {
   "cell_type": "code",
   "execution_count": 1,
   "metadata": {
    "scrolled": false
   },
   "outputs": [
    {
     "name": "stdout",
     "output_type": "stream",
     "text": [
      "\r\n",
      "Hello from Docker!\r\n",
      "This message shows that your installation appears to be working correctly.\r\n",
      "\r\n",
      "To generate this message, Docker took the following steps:\r\n",
      " 1. The Docker client contacted the Docker daemon.\r\n",
      " 2. The Docker daemon pulled the \"hello-world\" image from the Docker Hub.\r\n",
      "    (amd64)\r\n",
      " 3. The Docker daemon created a new container from that image which runs the\r\n",
      "    executable that produces the output you are currently reading.\r\n",
      " 4. The Docker daemon streamed that output to the Docker client, which sent it\r\n",
      "    to your terminal.\r\n",
      "\r\n",
      "To try something more ambitious, you can run an Ubuntu container with:\r\n",
      " $ docker run -it ubuntu bash\r\n",
      "\r\n",
      "Share images, automate workflows, and more with a free Docker ID:\r\n",
      " https://hub.docker.com/\r\n",
      "\r\n",
      "For more examples and ideas, visit:\r\n",
      " https://docs.docker.com/get-started/\r\n",
      "\r\n"
     ]
    }
   ],
   "source": [
    "!docker run -it --rm hello-world"
   ]
  },
  {
   "cell_type": "markdown",
   "metadata": {},
   "source": [
    "### CUDA Example\n",
    "Run a CUDA container with devices 0 and 1 selected. Note the argument for `--gpus` includes escaped double quote characters so that these are included in the string."
   ]
  },
  {
   "cell_type": "code",
   "execution_count": 4,
   "metadata": {},
   "outputs": [
    {
     "name": "stdout",
     "output_type": "stream",
     "text": [
      "Wed Jun 10 22:25:44 2020       \r\n",
      "+-----------------------------------------------------------------------------+\r\n",
      "| NVIDIA-SMI 418.87.01    Driver Version: 418.87.01    CUDA Version: 10.1     |\r\n",
      "|-------------------------------+----------------------+----------------------+\r\n",
      "| GPU  Name        Persistence-M| Bus-Id        Disp.A | Volatile Uncorr. ECC |\r\n",
      "| Fan  Temp  Perf  Pwr:Usage/Cap|         Memory-Usage | GPU-Util  Compute M. |\r\n",
      "|===============================+======================+======================|\r\n",
      "|   0  GeForce GTX 980     Off  | 00000000:01:00.0  On |                  N/A |\r\n",
      "| 12%   49C    P8    21W / 195W |    181MiB /  4036MiB |      0%      Default |\r\n",
      "+-------------------------------+----------------------+----------------------+\r\n",
      "|   1  TITAN X (Pascal)    Off  | 00000000:02:00.0 Off |                  N/A |\r\n",
      "| 53%   83C    P2   165W / 250W |  10619MiB / 12196MiB |    100%      Default |\r\n",
      "+-------------------------------+----------------------+----------------------+\r\n",
      "                                                                               \r\n",
      "+-----------------------------------------------------------------------------+\r\n",
      "| Processes:                                                       GPU Memory |\r\n",
      "|  GPU       PID   Type   Process name                             Usage      |\r\n",
      "|=============================================================================|\r\n",
      "+-----------------------------------------------------------------------------+\r\n"
     ]
    }
   ],
   "source": [
    "!docker run -it --rm --gpus \\\"device=0,1\\\" nvidia/cuda:10.1-cudnn7-runtime-ubuntu18.04 nvidia-smi"
   ]
  },
  {
   "cell_type": "markdown",
   "metadata": {},
   "source": [
    "### Creating an Internal User Account\n",
    "\n",
    "The command of a container normally runs under root, this is not necessarily secure and files written to a volume are going to be owned by root. Using an internal unprivileged user account solves this issue but files generated in mount directory are owned by `root`. An alternative solution to using the `--user` flag is to use Linux commands to create a local unprivileged user account with the same UID and GID of the user launching the container. Since UID/GID are the important identifiers for an account, files written to the host file system will be owned by the launching user. The UID and GID can be passed to a Dockerfile through command line arguments to set these values internally, and the `USER` command causes all subsequent operations to be performed using this account. "
   ]
  },
  {
   "cell_type": "code",
   "execution_count": 22,
   "metadata": {},
   "outputs": [
    {
     "name": "stdout",
     "output_type": "stream",
     "text": [
      "Sending build context to Docker daemon  2.048kB\r",
      "\r\n",
      "Step 1/8 : FROM alpine:3.12\n",
      " ---> a24bb4013296\n",
      "Step 2/8 : ARG USER_ID\n",
      " ---> Using cache\n",
      " ---> 444f6a8d317d\n",
      "Step 3/8 : ARG GROUP_ID\n",
      " ---> Using cache\n",
      " ---> 792bbb1cefab\n",
      "Step 4/8 : RUN addgroup -g ${GROUP_ID} -S usergroup\n",
      " ---> Running in 361b4098e5ec\n",
      "Removing intermediate container 361b4098e5ec\n",
      " ---> b53fe1308375\n",
      "Step 5/8 : RUN adduser -G usergroup -D -S -u ${USER_ID} localuser\n",
      " ---> Running in a355346da620\n",
      "Removing intermediate container a355346da620\n",
      " ---> 656ec8617d5d\n",
      "Step 6/8 : USER localuser\n",
      " ---> Running in 37466f03f083\n",
      "Removing intermediate container 37466f03f083\n",
      " ---> f2f8dd27c20a\n",
      "Step 7/8 : WORKDIR /home/localuser\n",
      " ---> Running in b898c3594339\n",
      "Removing intermediate container b898c3594339\n",
      " ---> 786ac25c3258\n",
      "Step 8/8 : CMD [\"id\"]\n",
      " ---> Running in 4c25a7c9cb89\n",
      "Removing intermediate container 4c25a7c9cb89\n",
      " ---> a67447c01a1c\n",
      "Successfully built a67447c01a1c\n",
      "Successfully tagged localuser-test:latest\n",
      "uid=8867(localuser) gid=2008(usergroup) groups=2008(usergroup)\n",
      "Untagged: localuser-test:latest\n",
      "Deleted: sha256:a67447c01a1c43db2f880d5e44c5c4170ad769b50423eac45ee890bbe33fb4b1\n",
      "Deleted: sha256:786ac25c32585fe2e6592aa59bfa18a214fb04357d7b53de6931e18cc0893861\n",
      "Deleted: sha256:f2f8dd27c20ab8a9521b14a2af3f25a628f7f4ff91e0e8a05d440b1eb9fc7fa9\n",
      "Deleted: sha256:656ec8617d5d9618a53fbe3c37cf52b6f121cb2753f80a78c1676500acfc1716\n",
      "Deleted: sha256:ebd3d81224989f0fdcee43002c24fb17ea63299b5a603c9c0693bf273859eb62\n",
      "Deleted: sha256:b53fe1308375dfc77bcdc8e575c365c5b3bfc4586b2406336069e0120a112fad\n",
      "Deleted: sha256:0eed5e01306ccde18b60b112b8e4991dc3e603c7aab0da0452cac42a89341391\n"
     ]
    }
   ],
   "source": [
    "%%bash\n",
    "\n",
    "# create a temporary directory\n",
    "TMP_DIR=$(mktemp -d)\n",
    "\n",
    "# write the following, up to EOF, to Dockerfile in the temp directory\n",
    "cat - <<EOF > $TMP_DIR/Dockerfile\n",
    "FROM alpine:3.12\n",
    "    \n",
    "ARG USER_ID\n",
    "ARG GROUP_ID\n",
    "\n",
    "RUN addgroup -g \\${GROUP_ID} -S usergroup \n",
    "RUN adduser -G usergroup -D -S -u \\${USER_ID} localuser\n",
    "\n",
    "USER localuser\n",
    "WORKDIR /home/localuser\n",
    "\n",
    "CMD [\"id\"]\n",
    "EOF\n",
    "\n",
    "# Build the image, passing in the user ID from the environment variable UID and the group ID from the command \"id -g\"\n",
    "# the effect of this is that the user \"localuser\" in the image will have the same UID and GID as your user, so the\n",
    "# files it creates in volumes mounted from directories on your host system will be owned by you rather than root.\n",
    "docker build --build-arg USER_ID=${UID} --build-arg GROUP_ID=$(id -g) -t localuser-test $TMP_DIR\n",
    "\n",
    "# this will print out the ID information for the current user, which should be the created user and not root\n",
    "echo\n",
    "echo \"Docker user info:\"\n",
    "docker run --rm localuser-test\n",
    "echo\n",
    "\n",
    "# remove image\n",
    "docker image rm localuser-test"
   ]
  },
  {
   "cell_type": "markdown",
   "metadata": {},
   "source": [
    "### Stateless Build\n",
    "\n",
    "This shell script illustrates using stdin streams to send a Dockerfile line by line to the command rather than saving it as a file. This stateless script doesn't require local files, instead using the `sh/bash` \"here-document\" functionality to pass commands through stdin. The `<<EOF` shell command states that stdin will be passed all text up to the line containing the delimiter \"EOF\", `docker build` is told to read the Dockerfile from stdin with the `-` argument. Note when this is used Dockes does not create a build context, that is it won't copy the files in the build directory to a temporary location, so commands like `COPY` cannot be used."
   ]
  },
  {
   "cell_type": "code",
   "execution_count": 5,
   "metadata": {},
   "outputs": [
    {
     "name": "stdout",
     "output_type": "stream",
     "text": [
      "Sending build context to Docker daemon  2.048kB\r",
      "\r\n",
      "Step 1/3 : from python:3.7\n",
      " ---> e497dabd8450\n",
      "Step 2/3 : RUN echo \"print(\\\"Hello, stateless\\\")\\n\" > hello.py\n",
      " ---> Running in bb24a0beced7\n",
      "Removing intermediate container bb24a0beced7\n",
      " ---> d852aec8a79d\n",
      "Step 3/3 : CMD [\"python\",\"hello.py\"]\n",
      " ---> Running in b9c8075efaf1\n",
      "Removing intermediate container b9c8075efaf1\n",
      " ---> 91a03ace18f5\n",
      "Successfully built 91a03ace18f5\n",
      "Successfully tagged hello_stateless:latest\n",
      "Hello, stateless\n",
      "Untagged: hello_stateless:latest\n",
      "Deleted: sha256:91a03ace18f5f79dae591df0ab544424b0bc3ef90e54ed6da2a91c14117dae9f\n",
      "Deleted: sha256:d852aec8a79d712d5cb386081b0708cb0c004699b27f6133b7bede7dbbc26901\n",
      "Deleted: sha256:d1e389fd6a5016de531c6777c15d7e23753855f95ae314ab5378b990c518444c\n"
     ]
    }
   ],
   "source": [
    "%%sh\n",
    "\n",
    "REPO=hello_stateless\n",
    "TAG=latest\n",
    "\n",
    "# build by passing in the Dockerfile as input on stdin rather than as a file\n",
    "docker build -t $REPO:$TAG - <<EOF\n",
    "\n",
    "FROM python:3.7\n",
    "RUN echo \"print(\\\"Hello, stateless\\\")\\n\" > hello.py\n",
    "CMD [\"python\",\"hello.py\"]\n",
    "\n",
    "EOF\n",
    "\n",
    "docker run --rm $REPO:$TAG\n",
    "    \n",
    "# remove the image immediately after running it \n",
    "docker image rm $REPO"
   ]
  },
  {
   "cell_type": "markdown",
   "metadata": {},
   "source": [
    "### Save and Load Compressed\n",
    "\n",
    "This illustrates saving a docker file to an aggressively compressed tarball then loading it again using the `save` and `load` commands. The commands below use `gzip/gunzip` to compress and decompress the tarball used by Docker. It's not necessary to use these tools but instead save to an uncompressed .tar file and load that file directly."
   ]
  },
  {
   "cell_type": "code",
   "execution_count": 14,
   "metadata": {},
   "outputs": [
    {
     "name": "stdout",
     "output_type": "stream",
     "text": [
      "-rw-r--r-- 1 localek10 bioeng 330M Jun 10 23:34 hello_flask.tgz\n",
      "Loaded image: hello-flask:latest\n"
     ]
    }
   ],
   "source": [
    "%%sh\n",
    "\n",
    "# save the image to a tarball, passing through gzip to compress it\n",
    "docker image save hello-flask | gzip -9 > hello_flask.tgz\n",
    "ls -lh *.tgz\n",
    "\n",
    "# decompress tarball and pipe to docker\n",
    "gunzip -c hello_flask.tgz | docker load"
   ]
  },
  {
   "cell_type": "markdown",
   "metadata": {},
   "source": [
    "### Starting and Controlling a Detached Container\n",
    "\n",
    "This series of commands starts a new container in a detached state (`-d`), so running in the background. Docker returns the container ID when this is done so that it can be captured in a script variable and used later as input to the other commands. An example of `docker container exec` is provided here to demonstrate invoking a command within a running container without the need to attach a terminal to it for direct interaction."
   ]
  },
  {
   "cell_type": "code",
   "execution_count": 15,
   "metadata": {
    "scrolled": false
   },
   "outputs": [
    {
     "name": "stdout",
     "output_type": "stream",
     "text": [
      "Container ID: f217e82a874293e9e3cfd309f8410aff2f6d01c9a75671924a39106e9e7acedf\n",
      "Output: Hello, World!\n",
      "\n",
      "CONTAINER ID        IMAGE               COMMAND                  CREATED             STATUS              PORTS                    NAMES\n",
      "f217e82a8742        hello-flask         \"flask run --host=0.…\"   2 seconds ago       Up 1 second         0.0.0.0:5000->5000/tcp   keen_elgamal\n",
      "\n",
      "total 72\n",
      "drwxr-xr-x   2 root root 4096 Jun 10 22:41 __pycache__\n",
      "drwxr-xr-x   1 root root 4096 May 15 17:33 bin\n",
      "drwxr-xr-x   2 root root 4096 May  2 16:39 boot\n",
      "drwxr-xr-x   5 root root  340 Jun 10 22:41 dev\n",
      "drwxr-xr-x   1 root root 4096 Jun 10 22:41 etc\n",
      "-rw-r--r--   1 root root  110 May 27 19:47 hello_flask.py\n",
      "drwxr-xr-x   2 root root 4096 May  2 16:39 home\n",
      "drwxr-xr-x   1 root root 4096 May 15 17:33 lib\n",
      "drwxr-xr-x   2 root root 4096 May 14 14:50 lib64\n",
      "drwxr-xr-x   2 root root 4096 May 14 14:50 media\n",
      "drwxr-xr-x   2 root root 4096 May 14 14:50 mnt\n",
      "drwxr-xr-x   2 root root 4096 May 14 14:50 opt\n",
      "dr-xr-xr-x 311 root root    0 Jun 10 22:41 proc\n",
      "drwx------   1 root root 4096 May 27 21:36 root\n",
      "drwxr-xr-x   3 root root 4096 May 14 14:50 run\n",
      "drwxr-xr-x   1 root root 4096 May 15 17:32 sbin\n",
      "drwxr-xr-x   2 root root 4096 May 14 14:50 srv\n",
      "dr-xr-xr-x  13 root root    0 May 10 17:54 sys\n",
      "drwxrwxrwt   1 root root 4096 May 27 21:36 tmp\n",
      "drwxr-xr-x   1 root root 4096 May 14 14:50 usr\n",
      "drwxr-xr-x   1 root root 4096 May 14 14:50 var\n",
      "\n",
      "f217e82a874293e9e3cfd309f8410aff2f6d01c9a75671924a39106e9e7acedf\n"
     ]
    }
   ],
   "source": [
    "%%sh\n",
    "# create a container and capture the container ID\n",
    "CON_ID=$(docker run -d -p 5000:5000 hello-flask)\n",
    "echo Container ID: $CON_ID\n",
    "\n",
    "# view app output\n",
    "sleep 1\n",
    "echo Output: $(curl -s localhost:5000)\n",
    "\n",
    "# list containers\n",
    "echo\n",
    "docker container ls\n",
    "\n",
    "# run `ls -l` in the container\n",
    "echo\n",
    "docker container exec $CON_ID ls -l\n",
    "\n",
    "# whack the container using the ID\n",
    "echo\n",
    "docker container rm --force $CON_ID"
   ]
  },
  {
   "cell_type": "markdown",
   "metadata": {},
   "source": [
    "### Reading and Writing Streams\n",
    "\n",
    "When a container is run it can read from stdin whatever is streamed to the `docker run` command. Using pipes (`|`) and stream redirection (`<`, `>`), files or inline data can be streamed to the command being run in the container. This is one way of passing data into a container without having to mount volumes."
   ]
  },
  {
   "cell_type": "code",
   "execution_count": 36,
   "metadata": {},
   "outputs": [
    {
     "name": "stdout",
     "output_type": "stream",
     "text": [
      "Sending build context to Docker daemon  2.048kB\r",
      "\r\n",
      "Step 1/2 : FROM alpine:3.12\n",
      " ---> a24bb4013296\n",
      "Step 2/2 : CMD [\"/bin/sh\",\"-c\",\"read i; echo Received: $i\"]\n",
      " ---> Running in 8a8fa4d4618e\n",
      "Removing intermediate container 8a8fa4d4618e\n",
      " ---> b821aab04590\n",
      "Successfully built b821aab04590\n",
      "Successfully tagged stdin_test:latest\n",
      "Received: Hello, pipe\n",
      "\n",
      "Output from container:\n",
      "Received: Hello, stdin\n",
      "\n",
      "Output from container:\n",
      "Received: Hello streamed document\n",
      "Untagged: stdin_test:latest\n",
      "Deleted: sha256:b821aab04590e91a0f12a1a2e2dcce7bb38a5b479428eba73a321a075d2b9bcd\n"
     ]
    }
   ],
   "source": [
    "%%sh\n",
    "\n",
    "REPO=stdin_test\n",
    "\n",
    "# build by passing in the Dockerfile as input on stdin rather than as a file\n",
    "docker build -t $REPO - <<EOF\n",
    "\n",
    "FROM alpine:3.12\n",
    "CMD [\"/bin/sh\",\"-c\",\"read i; echo Received: \\$i\"]\n",
    "\n",
    "EOF\n",
    "\n",
    "# run the container with the given string written to its stdin stream\n",
    "echo \"Hello, pipe\" | docker run -i --rm $REPO\n",
    "\n",
    "# save text to a temporary file\n",
    "echo \"Hello, stdin\" > input.txt\n",
    "\n",
    "# run container streaming input.txt to stdin and stdout to output.txt\n",
    "docker run -i --rm $REPO < input.txt > output.txt\n",
    "    \n",
    "echo\n",
    "echo \"Output from container:\"\n",
    "cat output.txt\n",
    "\n",
    "# run again with stdin read from the here-document up to EOF\n",
    "docker run -i --rm $REPO <<EOF > output.txt\n",
    "Hello streamed document\n",
    "EOF\n",
    "\n",
    "echo\n",
    "echo \"Output from container:\"\n",
    "cat output.txt\n",
    "\n",
    "# remove the image and temporary files\n",
    "docker image rm $REPO\n",
    "rm input.txt output.txt"
   ]
  },
  {
   "cell_type": "markdown",
   "metadata": {},
   "source": [
    "### ENTRYPOINT vs. CMD\n",
    "\n",
    "`ENTRYPOINT` is used to define a command which will always be run when a container runs, values passed to `CMD` or on the command line are included as further arguments to this command. `CMD` typically is used to also define the command to run, but this can be overridden on the command line.\n",
    "\n",
    "The following script creates an image which runs `echo` as its command with no further arguments. Running the image with no configuration prints an empty line, providing further arguments replaces the call to `echo` with whatever was provided. An entrypoint to modify this behaviour can be explicitly set in the command or in the Dockerfile."
   ]
  },
  {
   "cell_type": "code",
   "execution_count": 37,
   "metadata": {},
   "outputs": [
    {
     "name": "stdout",
     "output_type": "stream",
     "text": [
      "Sending build context to Docker daemon  2.048kB\r",
      "\r\n",
      "Step 1/2 : from alpine:3.12\n",
      " ---> a24bb4013296\n",
      "Step 2/2 : CMD [\"echo\"]\n",
      " ---> Running in 70c8353f55bc\n",
      "Removing intermediate container 70c8353f55bc\n",
      " ---> 821dd441a8b4\n",
      "Successfully built 821dd441a8b4\n",
      "Successfully tagged entrypoint_test:latest\n",
      "\n",
      "9115b92e6a86\n",
      "hostname\n",
      "Sending build context to Docker daemon  2.048kB\r",
      "\r\n",
      "Step 1/3 : from alpine:3.12\n",
      " ---> a24bb4013296\n",
      "Step 2/3 : ENTRYPOINT [\"echo\"]\n",
      " ---> Running in 777379b13b1b\n",
      "Removing intermediate container 777379b13b1b\n",
      " ---> 75d46e6ea330\n",
      "Step 3/3 : CMD [\"Default\", \"arguments\"]\n",
      " ---> Running in 57c6cd256ee9\n",
      "Removing intermediate container 57c6cd256ee9\n",
      " ---> 090569747dac\n",
      "Successfully built 090569747dac\n",
      "Successfully tagged entrypoint_test:latest\n",
      "Default arguments\n",
      "Hello CMD\n",
      "Untagged: entrypoint_test:latest\n",
      "Deleted: sha256:090569747dac608b183ef926487c6e8c3ed850688a2b766a6163289b2e442f38\n",
      "Deleted: sha256:75d46e6ea330c6f7205d5fa11acd5e38488b2d08a751dfd0bb046d5b6bb903d7\n"
     ]
    }
   ],
   "source": [
    "%%sh\n",
    "\n",
    "REPO=entrypoint_test\n",
    "\n",
    "# define an image with just a CMD statement\n",
    "docker build -t $REPO - <<EOF\n",
    "from alpine:3.12\n",
    "CMD [\"echo\"]\n",
    "EOF\n",
    "\n",
    "# should print \"\"\n",
    "docker run --rm $REPO\n",
    "\n",
    "# should print a hostname string by running the command \"hostname\" instead of echo\n",
    "docker run --rm $REPO hostname\n",
    "\n",
    "# explicitly set the entrypoint to be echo, now prints \"hostname\" rather than running that command\n",
    "docker run --rm --entrypoint echo $REPO hostname\n",
    "\n",
    "# now we set the entrypoint in the Dockerfile itself\n",
    "docker build -t $REPO - <<EOF\n",
    "from alpine:3.12\n",
    "ENTRYPOINT [\"echo\"]\n",
    "CMD [\"Default\", \"arguments\"]\n",
    "EOF\n",
    "\n",
    "# should print \"Default arguments\"\n",
    "docker run --rm $REPO\n",
    "\n",
    "# should print \"Hello CMD\"\n",
    "docker run --rm $REPO Hello CMD\n",
    "\n",
    "# remove the image and temporary files\n",
    "docker image rm $REPO"
   ]
  },
  {
   "cell_type": "markdown",
   "metadata": {},
   "source": [
    "### Docker GUI with X\n",
    "\n",
    "GUI programs can be run through Docker which will connect to the host's X server to display the interface. Libraries for X need to be installed as well as extra rendering components like fonts which won't be present on stripped-down images like Alpine. The files for building this image are in `./hello_gui`:"
   ]
  },
  {
   "cell_type": "code",
   "execution_count": 48,
   "metadata": {},
   "outputs": [
    {
     "name": "stdout",
     "output_type": "stream",
     "text": [
      "Python File:\n",
      "import sys, platform\n",
      "from PyQt5 import QtWidgets\n",
      "\n",
      "if __name__ == '__main__':\n",
      "   app = QtWidgets.QApplication(sys.argv)\n",
      "   w = QtWidgets.QWidget()\n",
      "   b = QtWidgets.QLabel(w)\n",
      "   b.setText(f\"Hello World! (Python {platform.python_version()})\")\n",
      "   w.setGeometry(100,100,200,50)\n",
      "   b.move(30,20)\n",
      "   w.setWindowTitle(\"PyQt in Docker\")\n",
      "   w.show()\n",
      "   sys.exit(app.exec_())\n",
      "\n",
      "=========\n",
      "Dockerfile:\n",
      "FROM alpine:3.12\n",
      "\n",
      "RUN apk update\n",
      "RUN apk add py3-qt5 ttf-ubuntu-font-family\n",
      "\n",
      "COPY hello.py /\n",
      "\n",
      "CMD [\"python3\",\"hello.py\"]\n",
      "=========\n",
      "Sending build context to Docker daemon  3.072kB\r",
      "\r\n",
      "Step 1/5 : FROM alpine:3.12\n",
      " ---> a24bb4013296\n",
      "Step 2/5 : RUN apk update\n",
      " ---> Using cache\n",
      " ---> fb6880ab223a\n",
      "Step 3/5 : RUN apk add py3-qt5 ttf-ubuntu-font-family\n",
      " ---> Using cache\n",
      " ---> 5a21447c49f4\n",
      "Step 4/5 : COPY hello.py /\n",
      " ---> Using cache\n",
      " ---> e9965649a613\n",
      "Step 5/5 : CMD [\"python3\",\"hello.py\"]\n",
      " ---> Using cache\n",
      " ---> 7b02a6d0c47d\n",
      "Successfully built 7b02a6d0c47d\n",
      "Successfully tagged hello-qt:latest\n"
     ]
    }
   ],
   "source": [
    "%%sh \n",
    "\n",
    "cd hello_gui\n",
    "\n",
    "echo \"Python File:\"\n",
    "cat hello.py\n",
    "echo \"=========\"\n",
    "echo \"Dockerfile:\"\n",
    "cat Dockerfile\n",
    "echo \"=========\"\n",
    "\n",
    "REPO=hello-qt\n",
    "\n",
    "docker build -t $REPO ."
   ]
  },
  {
   "cell_type": "markdown",
   "metadata": {},
   "source": [
    "With the image built the command line to run must allow X ports to be passed through (or use `--net=host`), the `DISPLAY` variable to be set so that the program know which display to render to, and the X credentials must be passed in for the current user. The following command will need to be run within the environment hosting the X server:"
   ]
  },
  {
   "cell_type": "code",
   "execution_count": null,
   "metadata": {},
   "outputs": [],
   "source": [
    "%%sh\n",
    "\n",
    "docker run -ti --rm --net=host -e DISPLAY=\"$DISPLAY\" --volume=\"$HOME/.Xauthority:/root/.Xauthority:rw\" hello-qt"
   ]
  }
 ],
 "metadata": {
  "kernelspec": {
   "display_name": "Python 3 (ipykernel)",
   "language": "python",
   "name": "python3"
  },
  "language_info": {
   "codemirror_mode": {
    "name": "ipython",
    "version": 3
   },
   "file_extension": ".py",
   "mimetype": "text/x-python",
   "name": "python",
   "nbconvert_exporter": "python",
   "pygments_lexer": "ipython3",
   "version": "3.10.13"
  }
 },
 "nbformat": 4,
 "nbformat_minor": 4
}
