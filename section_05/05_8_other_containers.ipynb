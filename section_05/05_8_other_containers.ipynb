{
 "cells": [
  {
   "cell_type": "markdown",
   "metadata": {
    "slideshow": {
     "slide_type": "slide"
    }
   },
   "source": [
    "#### <center>Intermediate Python and Software Enginnering</center>\n",
    "\n",
    "\n",
    "## <center>Section 05 - Part 08 - Other Container Systems </center>\n",
    "\n",
    "\n",
    "### <center>Innovation Scholars Programme</center>\n",
    "### <center>King's College London, Medical Research Council and UKRI <center>"
   ]
  },
  {
   "cell_type": "markdown",
   "metadata": {
    "slideshow": {
     "slide_type": "slide"
    }
   },
   "source": [
    "### Other Container Systems\n",
    "* Linux Containers (LXC/LXD): https://linuxcontainers.org/ Uses container features of Linux kernel like Docker\n",
    "* Singularity: https://sylabs.io/singularity/ Similar concept, different build file syntax\n",
    "* Podman: https://podman.io/ Daemonless container engine with same command/file syntax as Docker, uses Docker images"
   ]
  },
  {
   "cell_type": "markdown",
   "metadata": {
    "slideshow": {
     "slide_type": "slide"
    }
   },
   "source": [
    "### Example: Singularity\n",
    "\n",
    "* Similar concept to Docker, can actually use Docker images to create its own\n",
    "* A `Singularity` file takes the place of `Dockerfile`, different syntax but similar intent\n",
    "* Let's redo the GPU test image with this `Singularity` file:\n",
    "\n",
    "```text\n",
    "Bootstrap: docker\n",
    "From: nvidia/cuda:10.1-cudnn7-runtime-ubuntu18.04\n",
    "\n",
    "%post\n",
    "    apt update --fix-missing\n",
    "    apt install -y python3-pip\n",
    "    pip3 install torch==1.5.0+cu101 torchvision==0.6.0+cu101 -f https://download.pytorch.org/whl/torch_stable.html\n",
    "```\n",
    "```\n",
    "%runscript\n",
    "    python3 -c \"import torch; print(torch.__version__, torch.cuda.device_count())\"\n",
    "```"
   ]
  },
  {
   "cell_type": "markdown",
   "metadata": {
    "slideshow": {
     "slide_type": "slide"
    }
   },
   "source": [
    "* This can be built into a `.sif` file containing the image:\n",
    "\n",
    "```sh\n",
    "$ singularity build pytorch_test.sif Singularity\n",
    "...\n",
    "INFO:    Adding runscript\n",
    "INFO:    Creating SIF file...\n",
    "INFO:    Build complete: pytorch_test\n",
    "```\n",
    "\n",
    "* You may have to run that with `sudo` to build as root\n",
    "\n",
    "```sh\n",
    "$ ls -lh\n",
    "total 2.5G\n",
    "-rwxr-xr-x 1 localek10 bioeng 2.5G Jun 17 18:47 pytorch_test.sif\n",
    "-rw-r--r-- 1 localek10 bioeng  346 Jun 17 18:41 Singularity\n",
    "```"
   ]
  },
  {
   "cell_type": "markdown",
   "metadata": {
    "slideshow": {
     "slide_type": "slide"
    }
   },
   "source": [
    "* The container can the be run with the defined `runscript` in the `Singularity` file:\n",
    "\n",
    "```sh\n",
    "$ singularity run --nv pytorch_test.sif\n",
    "1.5.0+cu101 2\n",
    "```\n",
    "\n",
    "* `--nv` Nvidia support, currently experimental \n",
    "* `SINGULARITYENV_CUDA_VISIBLE_DEVICES` used to control available GPUs:\n",
    "\n",
    "```sh\n",
    "$ SINGULARITYENV_CUDA_VISIBLE_DEVICES=0 singularity run --nv pytorch_test.sif\n",
    "1.5.0+cu101 1\n",
    "```"
   ]
  },
  {
   "cell_type": "markdown",
   "metadata": {
    "slideshow": {
     "slide_type": "slide"
    }
   },
   "source": [
    "* Singularity uses the host's file system and executor's account ID values\n",
    "* Focuses on integration of programs rather than creating isolated scalable apps for orchestrating over distributing server systems\n",
    "* Much smaller ecosystem and not as widely supported\n",
    "* In ways more suited to multiuser systems like HPCs, eg. user account isolation"
   ]
  },
  {
   "cell_type": "markdown",
   "metadata": {
    "slideshow": {
     "slide_type": "slide"
    }
   },
   "source": [
    "# That's it!\n",
    "\n",
    "On to practicals..."
   ]
  }
 ],
 "metadata": {
  "celltoolbar": "Slideshow",
  "kernelspec": {
   "display_name": "Python 3 (ipykernel)",
   "language": "python",
   "name": "python3"
  },
  "language_info": {
   "codemirror_mode": {
    "name": "ipython",
    "version": 3
   },
   "file_extension": ".py",
   "mimetype": "text/x-python",
   "name": "python",
   "nbconvert_exporter": "python",
   "pygments_lexer": "ipython3",
   "version": "3.10.13"
  }
 },
 "nbformat": 4,
 "nbformat_minor": 4
}
