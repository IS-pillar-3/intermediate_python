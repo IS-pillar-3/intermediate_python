{
 "cells": [
  {
   "cell_type": "markdown",
   "metadata": {
    "slideshow": {
     "slide_type": "slide"
    }
   },
   "source": [
    "#### <center>Intermediate Python and Software Enginnering</center>\n",
    "\n",
    "\n",
    "## <center>Section 05 - Part 06 - Distribution and Docker Hub</center>\n",
    "\n",
    "\n",
    "### <center>Innovation Scholars Programme</center>\n",
    "### <center>King's College London, Medical Research Council and UKRI <center>"
   ]
  },
  {
   "cell_type": "markdown",
   "metadata": {
    "slideshow": {
     "slide_type": "slide"
    }
   },
   "source": [
    "* Docker images can be packed into tar files and loaded from them:\n",
    "\n",
    "```sh\n",
    "$ docker save hello-gpu -o hello_gpu.tar\n",
    "\n",
    "$ ls -lh\n",
    "total 4.0G\n",
    "-rw-r--r-- 1 localek10 bioeng  293 Jun  3 00:14 Dockerfile\n",
    "-rw------- 1 localek10 bioeng 4.0G Jun  3 00:18 hello_gpu.tar\n",
    "\n",
    "$ docker load -i hello_gpu.tar\n",
    "Loaded image: hello_gpu:latest\n",
    "```\n",
    "\n",
    "* Not really practical for easy distribution, even when compressed to 2.5G\n",
    "* Other base systems such as Alpine emphasize being small, but your choices for CUDA images are limited"
   ]
  },
  {
   "cell_type": "markdown",
   "metadata": {
    "slideshow": {
     "slide_type": "slide"
    }
   },
   "source": [
    "* Primary way for distributing images is to upload them to a registry, a web server program for storing and distributing images\n",
    "* Default registry provided by Docker is Docker Hub (https://hub.docker.com)\n",
    "* Used in these lectures to download the base images stated in the `from` lines in Dockerfiles \n",
    "* With an account made on the site you can log the docker client in:"
   ]
  },
  {
   "cell_type": "markdown",
   "metadata": {
    "slideshow": {
     "slide_type": "slide"
    }
   },
   "source": [
    "```sh\n",
    "$ docker login\n",
    "```\n",
    "```\n",
    "Login with your Docker ID to push and pull images from Docker Hub. If you don't have a Docker ID, head over to https://hub.docker.com to create one.\n",
    "Username: erickerfoot\n",
    "Password:\n",
    "WARNING! Your password will be stored unencrypted in /home/localek10/.docker/config.json.\n",
    "Configure a credential helper to remove this warning. See\n",
    "https://docs.docker.com/engine/reference/commandline/login/#credentials-store\n",
    "```\n"
   ]
  },
  {
   "cell_type": "markdown",
   "metadata": {
    "slideshow": {
     "slide_type": "slide"
    }
   },
   "source": [
    "* We then find the image we want to push:\n",
    "\n",
    "```sh\n",
    "$ docker image ls\n",
    "REPOSITORY               TAG                               IMAGE ID            CREATED             SIZE\n",
    "hello-gpu                latest                            1feacbfe1efb        42 minutes ago      4.19GB\n",
    "```"
   ]
  },
  {
   "cell_type": "markdown",
   "metadata": {
    "slideshow": {
     "slide_type": "slide"
    }
   },
   "source": [
    "* Tag it with the Docker Hub username and image tag (referring to the image by ID):\n",
    "\n",
    "```sh\n",
    "$ docker tag 1feacbfe1efb erickerfoot/pytorch-test:testtag\n",
    "```\n",
    "\n",
    "* Then push:\n",
    "\n",
    "```sh\n",
    "$ docker push erickerfoot/pytorch-test\n",
    "The push refers to repository [docker.io/erickerfoot/pytorch-test]\n",
    "...\n",
    "```"
   ]
  },
  {
   "cell_type": "markdown",
   "metadata": {
    "slideshow": {
     "slide_type": "slide"
    }
   },
   "source": [
    "* This creates a repository called `pytorch-test` on Docker Hub with the pushed image under the tag `testtag`\n",
    "* Repositories are the organizational units of images stored under an account\n",
    "* They can contain many versions of variations of the same image type differentiated by tag\n",
    "* The tag `latest` is common for the most recent version of an image\n",
    "* Pulling the image should simply be `docker pull erickerfoot/pytorch-test`"
   ]
  },
  {
   "cell_type": "markdown",
   "metadata": {
    "slideshow": {
     "slide_type": "slide"
    }
   },
   "source": [
    "<img src=\"dockerhub.png\"/>"
   ]
  }
 ],
 "metadata": {
  "celltoolbar": "Slideshow",
  "kernelspec": {
   "display_name": "Python 3 (ipykernel)",
   "language": "python",
   "name": "python3"
  },
  "language_info": {
   "codemirror_mode": {
    "name": "ipython",
    "version": 3
   },
   "file_extension": ".py",
   "mimetype": "text/x-python",
   "name": "python",
   "nbconvert_exporter": "python",
   "pygments_lexer": "ipython3",
   "version": "3.10.13"
  }
 },
 "nbformat": 4,
 "nbformat_minor": 4
}
