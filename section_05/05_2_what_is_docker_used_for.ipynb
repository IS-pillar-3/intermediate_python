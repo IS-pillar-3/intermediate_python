{
 "cells": [
  {
   "cell_type": "markdown",
   "metadata": {
    "slideshow": {
     "slide_type": "slide"
    }
   },
   "source": [
    "#### <center>Intermediate Python and Software Enginnering</center>\n",
    "\n",
    "\n",
    "## <center>Section 05 - Part 02 - What is Docker used for?</center>\n",
    "\n",
    "\n",
    "### <center>Innovation Scholars Programme</center>\n",
    "### <center>King's College London, Medical Research Council and UKRI <center>"
   ]
  },
  {
   "cell_type": "markdown",
   "metadata": {
    "slideshow": {
     "slide_type": "slide"
    }
   },
   "source": [
    "* Why Docker? Why containerization?\n",
    "* Installing software to run on hosts (workstations, servers, etc.) can be complex, prone to failure, sensitive to environment changes (upgraded or removed libraries, file system changes, etc.), difficult to undo or upgrade, and possibly insecure\n",
    "* Solution is some container strategy to package applications into isolated units\n",
    "* Virtual machines is one, containing the whole OS in a package run in a virtual environment"
   ]
  },
  {
   "cell_type": "markdown",
   "metadata": {
    "slideshow": {
     "slide_type": "slide"
    }
   },
   "source": [
    "* Containerization, ie. Docker, is a lighter weight solution\n",
    "* Containers don't have their own OS\n",
    "* More of the host OS is used but separation between containers still enforced\n",
    "<centering><img src=\"./containers.png\" width=\"800px\"/></centering>"
   ]
  },
  {
   "cell_type": "markdown",
   "metadata": {
    "slideshow": {
     "slide_type": "slide"
    }
   },
   "source": [
    "* Docker images are created from a base image, many of these are particular Linux flavours\n",
    "* Every container lives in the host Linux OS but can have the libraries for specific distros\n",
    "* A **Dockerfile** is essentially a script for setting up an image: specifying the base image, commands to run to install needed libraries, and install the application to be hosted\n",
    "* Images get stored in an image registry, this server can be run locally or at some specified address but the default is Docker Hub (https://hub.docker.com)\n",
    "* Containers are created by instantiating an image created locally or pulled from a registry"
   ]
  }
 ],
 "metadata": {
  "celltoolbar": "Slideshow",
  "kernelspec": {
   "display_name": "Python 3 (ipykernel)",
   "language": "python",
   "name": "python3"
  },
  "language_info": {
   "codemirror_mode": {
    "name": "ipython",
    "version": 3
   },
   "file_extension": ".py",
   "mimetype": "text/x-python",
   "name": "python",
   "nbconvert_exporter": "python",
   "pygments_lexer": "ipython3",
   "version": "3.10.13"
  }
 },
 "nbformat": 4,
 "nbformat_minor": 4
}
