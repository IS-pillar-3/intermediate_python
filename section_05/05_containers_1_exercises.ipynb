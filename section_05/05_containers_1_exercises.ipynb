{
 "cells": [
  {
   "cell_type": "markdown",
   "metadata": {},
   "source": [
    "#### <center>Intermediate Python and Software Enginnering</center>\n",
    "\n",
    "\n",
    "## <center>Section 05 - Containers 1 - Exercises</center>\n",
    "\n",
    "\n",
    "### <center>Innovation Scholars Programme</center>\n",
    "### <center>King's College London, Medical Research Council and UKRI <center>"
   ]
  },
  {
   "cell_type": "markdown",
   "metadata": {},
   "source": [
    "### 01 Exercises\n",
    "\n",
    "This exercise will cover creating a simple Docker application for doing some simple file operations. We'll cover building, running, interacting with the host file system, managing running containers, and other admins operations.\n",
    "\n",
    "### Installation\n",
    "\n",
    "The first thing is install Docker if you don't already have it. \n",
    "\n",
    "* **Linux**: Most of our workstations are Ubuntu so follow the instructions [here](https://docs.docker.com/engine/install/ubuntu). Other Linuces (Linuxes?) are [supported](https://docs.docker.com/engine/install/#server) but might be harder to trouble shoot.\n",
    "\n",
    "\n",
    "* **Windows**: Instructions are [here](https://docs.docker.com/docker-for-windows/install). This should be a simple application installation, just be sure to [switch to Linux containers](https://docs.docker.com/docker-for-windows/#switch-between-windows-and-linux-containers).\n",
    "\n",
    "\n",
    "* **macOS**: Instructions are [here](https://docs.docker.com/docker-for-mac/install). This should also be straight-forward, however I (Eric) don't have a Mac with me so it might be difficult trouble shooting if anything comes up, using another machine or logging remotely into a Ubuntu workstation on the KCL network may be better."
   ]
  },
  {
   "cell_type": "markdown",
   "metadata": {},
   "source": [
    "### Exercise 1: \n",
    "\n",
    "Let's create a Docker app which inverts the colours of images in a folder, placing the results in \"inverted\" subfolder. We'll use [ImageMagick](https://imagemagick.org) and a simple bash script to do this. \n",
    "\n",
    "**Step 1:** Create a directory called `exercise01` and copy the following into it as `invert.sh`:\n",
    "\n",
    "```sh\n",
    "#! /bin/bash\n",
    "\n",
    "# files are read from this directory\n",
    "INPUT_DIR=/input\n",
    "\n",
    "# create the output directory\n",
    "mkdir -p $INPUT_DIR/inverted\n",
    "\n",
    "# iterate over every file with an extension in INPUT_DIR and convert it, this will fail for non-images of course\n",
    "for i in $INPUT_DIR/*.*\n",
    "do\n",
    "    # if $i is a file attempt to convert it\n",
    "    if [ -f \"$i\" ]\n",
    "    then\n",
    "        outfile=$INPUT_DIR/inverted/$(basename \"$i\")\n",
    "        convert -channel RGB -negate \"$i\" \"$outfile\"\n",
    "    fi\n",
    "done\n",
    "```"
   ]
  },
  {
   "cell_type": "markdown",
   "metadata": {},
   "source": [
    "**Step 2:** We now want to define a `Dockerfile` in the `exercise01` directory. This file will need to do the following:\n",
    "\n",
    "* Specify the base image (I'd suggest some flavour of Ubuntu)\n",
    "\n",
    "* Install ImageMagick (use `apt` for this, although you could download the pre-built `magick` executable from their site and use `magick convert`)\n",
    "\n",
    "* Copy the script to the root directory\n",
    "\n",
    "* Set the command to run the script when the container is run\n",
    "\n",
    "Create and fill in your `Dockerfile` to accomplish this, the reference for commands is [here](https://docs.docker.com/engine/reference/builder)."
   ]
  },
  {
   "cell_type": "markdown",
   "metadata": {},
   "source": [
    "**Step 3:** Build your image using the `docker build` command, choosing to tag it as `image-invert`. If you need help on the command `docker build --help` will list options and usage information.\n",
    "\n",
    "One reason why we've created a directory to do the building in is that Docker will copy everything in a build directory to a temporary location, so having lots of large files where your Dockerfile lives isn't a good idea."
   ]
  },
  {
   "cell_type": "markdown",
   "metadata": {},
   "source": [
    "**Step 4:** Now we want to run our app and convert some images. In the workshop directory we have the directory `testimages`, but how do we give the container access to this directory to read from and write to? The script mentions a directory called `/input` for reading and writing, but that doesn't exist in the image.\n",
    "\n",
    "One way external data is accessed in Docker is through binding volumes, which in our case making a local directory accessible under a given name. The documentation on this is [here](https://docs.docker.com/storage/bind-mounts/#start-a-container-with-a-bind-mount). \n",
    "\n",
    "Run your Docker image from the workshop directory with the added argument `-v /full/path/to/testimages:/input`. This creates a volume binding associating `/full/path/to/testimages` (ie. the absolute path to `testimages`) to `/input` in the container. After running your container check `testimages` to see what's there now.\n",
    "\n",
    "The alternative and more current syntax for command line arguments to do binding is with `--bind`, for us this would look like `--mount src=/full/path/to/testimages,target=/input,type=bind`."
   ]
  },
  {
   "cell_type": "markdown",
   "metadata": {},
   "source": [
    "**Step 5:** If you're running on Linux you'll notice that the created directory in `testimages` is owned by root. This is because the Docker daemon runs as root and the command within the container also runs as root. It's not good or secure practice to allow a container command to run internally as root so we have to create an internal user account and run as that.\n",
    "\n",
    "Delete the output directory using `sudo rm -rf testimages/inverted`.\n",
    "\n",
    "In your `Dockerfile` before the `CMD` line at the end, add the following:\n",
    "\n",
    "```dockerfile\n",
    "RUN adduser dockeruser --shell /bin/bash\n",
    "USER dockeruser\n",
    "```\n",
    "\n",
    "What these commands do is run `adduser` to create an internal user account, then `USER` states the following commands will be run as that user in the container. Now the script file will be run as `dockeruser`, whose user ID (UID) and group ID (GID) don't match anything on the host system. \n",
    "\n",
    "Using a non-root user internally, one without elevated privileges, has solved our security concern but not the file ownership one. Attempting to run the container now with the same command will result in error if `testimages` doesn't have permissions set to allow any user to write to it (which is the default).\n",
    "\n",
    "The solution now is to use the `--user`/`-u` flag to specify the user under which to run the container. The syntax we'll use with this flag is `UID:GID` which you can get with the `id` command, so add `-u $(id -u):$(id -g)` to your `docker run` command and run the container again. Your generated images should be owned by you now."
   ]
  },
  {
   "cell_type": "markdown",
   "metadata": {},
   "source": [
    "### Exercise 2:\n",
    "\n",
    "The docker command provides mechanisms for managing images and containers. By now you'll have at least one container that's been run, if you used `--rm` with your run commands they'll be stopped once the command completes but will persist. If something is still running in the background (perhaps your `hello-flask` server you made from the notes then forgot about) you can see this with `docker ps`:\n",
    "\n",
    "```sh\n",
    "$ docker ps\n",
    "CONTAINER ID        IMAGE               COMMAND                  CREATED             STATUS              PORTS               NAMES\n",
    "1cdc1e2ee834        hello-flask         \"flask run --host=0.…\"   29 hours ago        Up 29 hours                             quizzical_lichterman\n",
    "\n",
    "```\n",
    "\n",
    "The docker command line documentation is [here](https://docs.docker.com/engine/reference/commandline/cli) specifically covering this command and others. In this exercise  find the commands to kill any running containers you don't want anymore and clean up any finished containers kicking around. Images that aren't being used can also be cleaned up if you have any. "
   ]
  }
 ],
 "metadata": {
  "kernelspec": {
   "display_name": "Python 3 (ipykernel)",
   "language": "python",
   "name": "python3"
  },
  "language_info": {
   "codemirror_mode": {
    "name": "ipython",
    "version": 3
   },
   "file_extension": ".py",
   "mimetype": "text/x-python",
   "name": "python",
   "nbconvert_exporter": "python",
   "pygments_lexer": "ipython3",
   "version": "3.10.13"
  }
 },
 "nbformat": 4,
 "nbformat_minor": 4
}
