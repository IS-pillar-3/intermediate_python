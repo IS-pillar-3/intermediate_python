{
 "cells": [
  {
   "cell_type": "markdown",
   "metadata": {
    "slideshow": {
     "slide_type": "slide"
    }
   },
   "source": [
    "#### <center>Intermediate Python and Software Enginnering</center>\n",
    "\n",
    "\n",
    "## <center>Section 05 - Part 07 - Orchestration </center>\n",
    "\n",
    "\n",
    "### <center>Innovation Scholars Programme</center>\n",
    "### <center>King's College London, Medical Research Council and UKRI <center>"
   ]
  },
  {
   "cell_type": "markdown",
   "metadata": {
    "slideshow": {
     "slide_type": "slide"
    }
   },
   "source": [
    "### Orchestration \n",
    "* Orchestrators manage multiple servers and containers running on them\n",
    "* Handle starting containers on different machines, managing cooperating containers, deploying new versions of applications, automation of tasks, load balancing, failure recovery, resource allocation, etc.\n",
    "* Some that build on or use Docker:\n",
    "  * Docker Compose/Swarm: https://docs.docker.com/compose/ https://docs.docker.com/engine/swarm/ Compose is for running applications with multiple containers, Swarm is \n",
    "  * Kubernetes: https://kubernetes.io/ Similar to Swarm, used to deploy Pods composed of multiple Docker images across worker nodes attached to a manager\n",
    "  * Ansible: https://www.ansible.com/ More general cluster automation, provisioning, and deployment tool which can deploy Docker apps"
   ]
  },
  {
   "cell_type": "markdown",
   "metadata": {
    "slideshow": {
     "slide_type": "skip"
    }
   },
   "source": [
    "* run.ai (https://www.run.ai/) is the job scheduling system for the DGX machines\n",
    "* Built on Kubernetes, jobs are provided as Docker images it allocates resources to\n",
    "* Containers can be pre-empted to balance load, these get restarted so must be designed with restart detection\n",
    "* Job submission and control is done through the `runai` command: https://support.run.ai/hc/en-us/articles/360011434580-Introduction\n",
    "\n",
    "[[Jade?]]"
   ]
  },
  {
   "cell_type": "markdown",
   "metadata": {
    "slideshow": {
     "slide_type": "slide"
    }
   },
   "source": [
    "### **Example: Repository Actions** \n",
    "\n",
    "* Github, Gitlab, and others host containerised apps and actions\n",
    "* CI/CD functions can be implemented as containers to be triggered by git operations\n",
    "* Eg. Code formatter action for MONAI: https://github.com/Project-MONAI/monai-code-formatter\n",
    "* Containerises a script to check out code, apply formatting using black, and commit changes\n",
    "* Huge library of other actions for doing code analysis, automated testing, deployment, etc."
   ]
  }
 ],
 "metadata": {
  "celltoolbar": "Slideshow",
  "kernelspec": {
   "display_name": "Python 3 (ipykernel)",
   "language": "python",
   "name": "python3"
  },
  "language_info": {
   "codemirror_mode": {
    "name": "ipython",
    "version": 3
   },
   "file_extension": ".py",
   "mimetype": "text/x-python",
   "name": "python",
   "nbconvert_exporter": "python",
   "pygments_lexer": "ipython3",
   "version": "3.10.13"
  }
 },
 "nbformat": 4,
 "nbformat_minor": 4
}
