{
 "cells": [
  {
   "cell_type": "markdown",
   "metadata": {},
   "source": [
    "# Conway's Game of Life\n",
    "\n",
    "This is a cell automata simulation defined with very simple rules. The universe is a grid of cells, every position on the grid contains a live cell or is empty. An empty grid position becomes a live cell if it has exactly 3 living neighbours. A living grid position survives if it has 2 o 3 neighbours, dies of loneliness if it has 0 or 1, and dies of overcrowding if it has more than 3.\n",
    "\n",
    "The following implementation works just fine but is suboptimal in terms of certain design choices. There's ways to use some of the utilities and tricks provided by Numpy to reduce the amount of the code and use better practices, so that's up to you. We know for a fact that the board update step can actually be done in 1-2 lines, so ahead and play code golf and see if you can hit that hole-in-one!"
   ]
  },
  {
   "cell_type": "code",
   "execution_count": null,
   "metadata": {
    "scrolled": true
   },
   "outputs": [],
   "source": [
    "%matplotlib inline\n",
    "\n",
    "import numpy as np\n",
    "import matplotlib.pyplot as plt\n",
    "from scipy.ndimage import convolve\n",
    "\n",
    "\n",
    "def view_generations(board, num_generations, fig_size=(8, 8)):\n",
    "    \"\"\"\n",
    "    Draw the given number of generations of the game for the given initial board.\n",
    "    \"\"\"\n",
    "    from IPython.core.display import HTML\n",
    "    import matplotlib.animation as animation\n",
    "\n",
    "    fig, ax = plt.subplots(figsize=fig_size)\n",
    "    plt.axis(\"off\")\n",
    "    imgs = []\n",
    "\n",
    "    for i in range(num_generations + 1):\n",
    "        im = plt.imshow(board, animated=True)\n",
    "        title = plt.text( 0.5, 1.01, \"Generation %i\" % i, horizontalalignment=\"center\", \n",
    "                         verticalalignment=\"bottom\", transform=ax.transAxes, size=10)\n",
    "\n",
    "        imgs.append([im, title])\n",
    "\n",
    "        board = next_generation(board)\n",
    "\n",
    "    ani = animation.ArtistAnimation(fig, imgs, interval=250, repeat_delay=0, blit=True)\n",
    "\n",
    "    plt.close()\n",
    "    return HTML(ani.to_jshtml())\n",
    "\n",
    "\n",
    "def next_generation(board):\n",
    "    neighbours = convolve(board, np.array([[1, 1, 1], [1, 0, 1], [1, 1, 1]]), mode=\"wrap\")\n",
    "    return np.maximum(board * neighbours == 2, neighbours == 3).astype(np.int32)\n",
    "\n",
    "\n",
    "glider = np.asarray([[0, 1, 0], [0, 0, 1], [1, 1, 1]])\n",
    "\n",
    "board = np.zeros((20, 20), np.int32)\n",
    "board[1:4, 1:4] = glider\n",
    "\n",
    "board[16:18, 16:18] = 1  # Block\n",
    "\n",
    "board[15:19, 4] = 1  # 4 long line\n",
    "board[2, 15:18] = 1  # Blinker\n",
    "\n",
    "board[6:8, 14:16] = 1  # Beacon\n",
    "board[8:10, 16:18] = 1\n",
    "\n",
    "view_generations(board,100)"
   ]
  },
  {
   "cell_type": "code",
   "execution_count": null,
   "metadata": {},
   "outputs": [],
   "source": [
    "board = np.random.randint(0, 2, (20, 20))\n",
    "view_generations(board, 200)"
   ]
  },
  {
   "cell_type": "code",
   "execution_count": null,
   "metadata": {},
   "outputs": [],
   "source": []
  }
 ],
 "metadata": {
  "kernelspec": {
   "display_name": "Python 3 (ipykernel)",
   "language": "python",
   "name": "python3"
  },
  "language_info": {
   "codemirror_mode": {
    "name": "ipython",
    "version": 3
   },
   "file_extension": ".py",
   "mimetype": "text/x-python",
   "name": "python",
   "nbconvert_exporter": "python",
   "pygments_lexer": "ipython3",
   "version": "3.10.13"
  }
 },
 "nbformat": 4,
 "nbformat_minor": 4
}
