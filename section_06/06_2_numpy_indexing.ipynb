{
 "cells": [
  {
   "cell_type": "markdown",
   "metadata": {
    "slideshow": {
     "slide_type": "slide"
    }
   },
   "source": [
    "#### <center>Intermediate Python and Software Enginnering</center>\n",
    "\n",
    "\n",
    "## <center>Section 06 - Part 02 - Numpy Indexing</center>\n",
    "\n",
    "\n",
    "### <center>Innovation Scholars Programme</center>\n",
    "### <center>King's College London, Medical Research Council and UKRI <center>"
   ]
  },
  {
   "cell_type": "markdown",
   "metadata": {
    "slideshow": {
     "slide_type": "slide"
    }
   },
   "source": [
    "* We're familiar with array indexing using the `:`, `::` syntax\n",
    "* Ellipsis `...` can be used to indicate `:` for zero or more dimensions\n",
    "* Eg. given a n-dimensional array `arr`, the expression `arr[0,...,1]` is equivalent to accessing the index 0 at dimension 0, everything in every subsequent dimension, except taking index 1 in the last dimension"
   ]
  },
  {
   "cell_type": "code",
   "execution_count": null,
   "metadata": {
    "slideshow": {
     "slide_type": "slide"
    }
   },
   "outputs": [],
   "source": [
    "a = np.random.rand(5, 6, 7, 8)  # 4D array\n",
    "print(a[0, :, :, 1].shape)\n",
    "print(a[0, ..., 1].shape)  # equivalent to above\n",
    "print(a[..., 1, 2].shape)  # take all of first 2 dimensions\n",
    "print(a[1, 2, ...].shape)  # take all of last 2 dimensions"
   ]
  },
  {
   "cell_type": "markdown",
   "metadata": {
    "slideshow": {
     "slide_type": "slide"
    }
   },
   "source": [
    "* Indexing can be done programmatically with the `slice` class\n",
    "* Constructor accepts `start`, `end`, and `step` index values, so index `a:b:c` is equivalent to `slice(a,b,c)`\n",
    "* `None` used when omitting an index, so `:b:c` (meaning from the start up to `b` in `c` steps) is `slice(None,b,c)`\n",
    "* `slice(None)` equivalent to `:`"
   ]
  },
  {
   "cell_type": "markdown",
   "metadata": {
    "slideshow": {
     "slide_type": "slide"
    }
   },
   "source": [
    "* A tuple of slices can be used to provide the indices to an array:"
   ]
  },
  {
   "cell_type": "code",
   "execution_count": null,
   "metadata": {
    "slideshow": {
     "slide_type": "fragment"
    }
   },
   "outputs": [],
   "source": [
    "a = np.diag(np.arange(1, 10))  # 1-9 on the diagonal of a 9x9 array\n",
    "\n",
    "print(a[1:8:2, 3::1].shape)\n",
    "slices = (slice(1, 8, 2), slice(3, None, 1))\n",
    "print(a[slices].shape)  # equivalent to above\n",
    "\n",
    "slices = (slice(None, None, 3),) * a.ndim\n",
    "print(a[slices])  # take every 3rd value from every dimension"
   ]
  },
  {
   "cell_type": "markdown",
   "metadata": {
    "slideshow": {
     "slide_type": "slide"
    }
   },
   "source": [
    "* Tuples of indices can also be provided:"
   ]
  },
  {
   "cell_type": "code",
   "execution_count": null,
   "metadata": {
    "slideshow": {
     "slide_type": "fragment"
    }
   },
   "outputs": [],
   "source": [
    "print(a[2, 2])  # get single value\n",
    "print(a[[2], [2]])  # get array with single value\n",
    "\n",
    "# get array of 2 values containing arr[2,2] and arr[3,3]\n",
    "print(a[(2, 3), (2, 3)])\n",
    "\n",
    "print(a[(0, 1, 2, 3), (0, 1, 2, 3)])"
   ]
  },
  {
   "cell_type": "markdown",
   "metadata": {
    "slideshow": {
     "slide_type": "slide"
    }
   },
   "source": [
    "* When Numpy arrays are sliced, a view is returned\n",
    "* This is a shallow copy of the original which uses the original allocated memory\n",
    "* Changes to the view affect the original\n",
    "* Deep copying can be done with the `copy` method"
   ]
  },
  {
   "cell_type": "code",
   "execution_count": null,
   "metadata": {
    "slideshow": {
     "slide_type": "slide"
    }
   },
   "outputs": [],
   "source": [
    "a = np.arange(10)\n",
    "print(a)\n",
    "\n",
    "b = a[3:6]\n",
    "b[:] = 0  # assign 0 to every position in b\n",
    "\n",
    "print(a)"
   ]
  },
  {
   "cell_type": "markdown",
   "metadata": {
    "slideshow": {
     "slide_type": "fragment"
    }
   },
   "source": [
    "* Views prevent unnecessary memory copying, but be aware of the side-effects of sharing data"
   ]
  },
  {
   "cell_type": "markdown",
   "metadata": {
    "slideshow": {
     "slide_type": "slide"
    }
   },
   "source": [
    "* Multiple dimensions can be specified between `[]` brackets, this invokes one operation\n",
    "* Using multiple bracket sets means multiple operations, be aware of inefficient creating/copying when doing this"
   ]
  },
  {
   "cell_type": "code",
   "execution_count": null,
   "metadata": {
    "slideshow": {
     "slide_type": "fragment"
    }
   },
   "outputs": [],
   "source": [
    "a = np.random.rand(1000, 1000)\n",
    "print(a[500, 500])  # get single value\n",
    "print(a[500][500])  # get view of row then get value in view\n",
    "\n",
    "%timeit a[500, 500]\n",
    "%timeit a[500][500]"
   ]
  }
 ],
 "metadata": {
  "celltoolbar": "Slideshow",
  "kernelspec": {
   "display_name": "Python 3 (ipykernel)",
   "language": "python",
   "name": "python3"
  },
  "language_info": {
   "codemirror_mode": {
    "name": "ipython",
    "version": 3
   },
   "file_extension": ".py",
   "mimetype": "text/x-python",
   "name": "python",
   "nbconvert_exporter": "python",
   "pygments_lexer": "ipython3",
   "version": "3.10.13"
  }
 },
 "nbformat": 4,
 "nbformat_minor": 4
}
