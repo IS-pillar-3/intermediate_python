{
 "cells": [
  {
   "cell_type": "markdown",
   "metadata": {
    "slideshow": {
     "slide_type": "slide"
    }
   },
   "source": [
    "#### <center>Intermediate Python and Software Enginnering</center>\n",
    "\n",
    "\n",
    "## <center>Section 06 - Part 06 - Pandas</center>\n",
    "\n",
    "\n",
    "### <center>Innovation Scholars Programme</center>\n",
    "### <center>King's College London, Medical Research Council and UKRI <center>"
   ]
  },
  {
   "cell_type": "markdown",
   "metadata": {
    "slideshow": {
     "slide_type": "slide"
    }
   },
   "source": [
    "# Pandas\n",
    "* Library for dealing with tabular data in a database-like way\n",
    "* Provides facilities for manipulating columns, setting types per column, and interfacing with numpy and matplotlib"
   ]
  },
  {
   "cell_type": "markdown",
   "metadata": {
    "slideshow": {
     "slide_type": "slide"
    }
   },
   "source": [
    "* A `Series` is a column of data, `DataFrame` a full table\n",
    "* Tables of numbers can be loaded straight from numpy:"
   ]
  },
  {
   "cell_type": "code",
   "execution_count": 79,
   "metadata": {
    "slideshow": {
     "slide_type": "fragment"
    }
   },
   "outputs": [
    {
     "data": {
      "text/html": [
       "<div>\n",
       "<style scoped>\n",
       "    .dataframe tbody tr th:only-of-type {\n",
       "        vertical-align: middle;\n",
       "    }\n",
       "\n",
       "    .dataframe tbody tr th {\n",
       "        vertical-align: top;\n",
       "    }\n",
       "\n",
       "    .dataframe thead th {\n",
       "        text-align: right;\n",
       "    }\n",
       "</style>\n",
       "<table border=\"1\" class=\"dataframe\">\n",
       "  <thead>\n",
       "    <tr style=\"text-align: right;\">\n",
       "      <th></th>\n",
       "      <th>0</th>\n",
       "      <th>1</th>\n",
       "      <th>2</th>\n",
       "      <th>3</th>\n",
       "      <th>4</th>\n",
       "      <th>5</th>\n",
       "    </tr>\n",
       "  </thead>\n",
       "  <tbody>\n",
       "    <tr>\n",
       "      <th>0</th>\n",
       "      <td>4</td>\n",
       "      <td>6</td>\n",
       "      <td>5</td>\n",
       "      <td>3</td>\n",
       "      <td>2</td>\n",
       "      <td>1</td>\n",
       "    </tr>\n",
       "    <tr>\n",
       "      <th>1</th>\n",
       "      <td>7</td>\n",
       "      <td>3</td>\n",
       "      <td>7</td>\n",
       "      <td>8</td>\n",
       "      <td>0</td>\n",
       "      <td>3</td>\n",
       "    </tr>\n",
       "    <tr>\n",
       "      <th>2</th>\n",
       "      <td>1</td>\n",
       "      <td>8</td>\n",
       "      <td>6</td>\n",
       "      <td>2</td>\n",
       "      <td>5</td>\n",
       "      <td>5</td>\n",
       "    </tr>\n",
       "    <tr>\n",
       "      <th>3</th>\n",
       "      <td>2</td>\n",
       "      <td>4</td>\n",
       "      <td>7</td>\n",
       "      <td>0</td>\n",
       "      <td>2</td>\n",
       "      <td>6</td>\n",
       "    </tr>\n",
       "    <tr>\n",
       "      <th>4</th>\n",
       "      <td>6</td>\n",
       "      <td>4</td>\n",
       "      <td>2</td>\n",
       "      <td>6</td>\n",
       "      <td>4</td>\n",
       "      <td>4</td>\n",
       "    </tr>\n",
       "    <tr>\n",
       "      <th>5</th>\n",
       "      <td>7</td>\n",
       "      <td>7</td>\n",
       "      <td>7</td>\n",
       "      <td>7</td>\n",
       "      <td>9</td>\n",
       "      <td>6</td>\n",
       "    </tr>\n",
       "  </tbody>\n",
       "</table>\n",
       "</div>"
      ],
      "text/plain": [
       "   0  1  2  3  4  5\n",
       "0  4  6  5  3  2  1\n",
       "1  7  3  7  8  0  3\n",
       "2  1  8  6  2  5  5\n",
       "3  2  4  7  0  2  6\n",
       "4  6  4  2  6  4  4\n",
       "5  7  7  7  7  9  6"
      ]
     },
     "execution_count": 79,
     "metadata": {},
     "output_type": "execute_result"
    },
    {
     "data": {
      "application/javascript": [
       "\n",
       "            setTimeout(function() {\n",
       "                var nbb_cell_id = 79;\n",
       "                var nbb_formatted_code = \"import pandas as pd\\n\\ndat = pd.DataFrame(np.random.randint(0, 10, size=(6, 6)))\\n\\ndat\";\n",
       "                var nbb_cells = Jupyter.notebook.get_cells();\n",
       "                for (var i = 0; i < nbb_cells.length; ++i) {\n",
       "                    if (nbb_cells[i].input_prompt_number == nbb_cell_id) {\n",
       "                        nbb_cells[i].set_text(nbb_formatted_code);\n",
       "                        break;\n",
       "                    }\n",
       "                }\n",
       "            }, 500);\n",
       "            "
      ],
      "text/plain": [
       "<IPython.core.display.Javascript object>"
      ]
     },
     "metadata": {},
     "output_type": "display_data"
    }
   ],
   "source": [
    "import pandas as pd\n",
    "\n",
    "dat = pd.DataFrame(np.random.randint(0, 10, size=(6, 6)))\n",
    "\n",
    "dat"
   ]
  },
  {
   "cell_type": "markdown",
   "metadata": {
    "slideshow": {
     "slide_type": "slide"
    }
   },
   "source": [
    "Pandas provides a number of facilities for plotting with matplotlib:"
   ]
  },
  {
   "cell_type": "code",
   "execution_count": 80,
   "metadata": {
    "slideshow": {
     "slide_type": "fragment"
    }
   },
   "outputs": [
    {
     "data": {
      "text/plain": [
       "<matplotlib.axes._subplots.AxesSubplot at 0x7f7a7c2843d0>"
      ]
     },
     "execution_count": 80,
     "metadata": {},
     "output_type": "execute_result"
    },
    {
     "data": {
      "image/png": "[encoded data removed]",
      "text/plain": [
       "<Figure size 432x288 with 1 Axes>"
      ]
     },
     "metadata": {
      "needs_background": "light"
     },
     "output_type": "display_data"
    },
    {
     "data": {
      "application/javascript": [
       "\n",
       "            setTimeout(function() {\n",
       "                var nbb_cell_id = 80;\n",
       "                var nbb_formatted_code = \"dat.plot.bar()\";\n",
       "                var nbb_cells = Jupyter.notebook.get_cells();\n",
       "                for (var i = 0; i < nbb_cells.length; ++i) {\n",
       "                    if (nbb_cells[i].input_prompt_number == nbb_cell_id) {\n",
       "                        nbb_cells[i].set_text(nbb_formatted_code);\n",
       "                        break;\n",
       "                    }\n",
       "                }\n",
       "            }, 500);\n",
       "            "
      ],
      "text/plain": [
       "<IPython.core.display.Javascript object>"
      ]
     },
     "metadata": {},
     "output_type": "display_data"
    }
   ],
   "source": [
    "dat.plot.bar()"
   ]
  },
  {
   "cell_type": "markdown",
   "metadata": {
    "slideshow": {
     "slide_type": "slide"
    }
   },
   "source": [
    "A number of plots make sense for statistical data in particular:"
   ]
  },
  {
   "cell_type": "code",
   "execution_count": 23,
   "metadata": {
    "slideshow": {
     "slide_type": "fragment"
    }
   },
   "outputs": [
    {
     "data": {
      "text/plain": [
       "<matplotlib.axes._subplots.AxesSubplot at 0x7f96f7206450>"
      ]
     },
     "execution_count": 23,
     "metadata": {},
     "output_type": "execute_result"
    },
    {
     "data": {
      "image/png": "[encoded data removed]",
      "text/plain": [
       "<Figure size 432x288 with 1 Axes>"
      ]
     },
     "metadata": {
      "needs_background": "light"
     },
     "output_type": "display_data"
    }
   ],
   "source": [
    "dat.boxplot()"
   ]
  },
  {
   "cell_type": "markdown",
   "metadata": {
    "slideshow": {
     "slide_type": "slide"
    }
   },
   "source": [
    "* Series can be accessed by index:"
   ]
  },
  {
   "cell_type": "code",
   "execution_count": 81,
   "metadata": {
    "slideshow": {
     "slide_type": "slide"
    }
   },
   "outputs": [
    {
     "name": "stdout",
     "output_type": "stream",
     "text": [
      "<class 'pandas.core.series.Series'> 0 int64 [4 7 1 2 6 7]\n",
      "0    4\n",
      "1    7\n",
      "2    1\n",
      "3    2\n",
      "4    6\n",
      "5    7\n",
      "Name: 0, dtype: int64\n"
     ]
    },
    {
     "data": {
      "application/javascript": [
       "\n",
       "            setTimeout(function() {\n",
       "                var nbb_cell_id = 81;\n",
       "                var nbb_formatted_code = \"series = dat[0]\\nprint(type(series), series.name, series.dtype, np.asarray(series))\\nprint(series)\";\n",
       "                var nbb_cells = Jupyter.notebook.get_cells();\n",
       "                for (var i = 0; i < nbb_cells.length; ++i) {\n",
       "                    if (nbb_cells[i].input_prompt_number == nbb_cell_id) {\n",
       "                        nbb_cells[i].set_text(nbb_formatted_code);\n",
       "                        break;\n",
       "                    }\n",
       "                }\n",
       "            }, 500);\n",
       "            "
      ],
      "text/plain": [
       "<IPython.core.display.Javascript object>"
      ]
     },
     "metadata": {},
     "output_type": "display_data"
    }
   ],
   "source": [
    "series = dat[0]\n",
    "print(type(series), series.name, series.dtype, np.asarray(series))\n",
    "print(series)"
   ]
  },
  {
   "cell_type": "markdown",
   "metadata": {
    "slideshow": {
     "slide_type": "slide"
    }
   },
   "source": [
    "* Rows accessed in different ways, eg. as Series:"
   ]
  },
  {
   "cell_type": "code",
   "execution_count": 82,
   "metadata": {
    "slideshow": {
     "slide_type": "fragment"
    }
   },
   "outputs": [
    {
     "name": "stdout",
     "output_type": "stream",
     "text": [
      "<class 'pandas.core.series.Series'> 1 int64 [7 3 7 8 0 3]\n"
     ]
    },
    {
     "data": {
      "text/plain": [
       "0    7\n",
       "1    3\n",
       "2    7\n",
       "3    8\n",
       "4    0\n",
       "5    3\n",
       "Name: 1, dtype: int64"
      ]
     },
     "execution_count": 82,
     "metadata": {},
     "output_type": "execute_result"
    },
    {
     "data": {
      "application/javascript": [
       "\n",
       "            setTimeout(function() {\n",
       "                var nbb_cell_id = 82;\n",
       "                var nbb_formatted_code = \"row1 = dat.loc[1]\\nprint(type(row1), row1.name, row1.dtype, np.asarray(row1))\\nrow1\";\n",
       "                var nbb_cells = Jupyter.notebook.get_cells();\n",
       "                for (var i = 0; i < nbb_cells.length; ++i) {\n",
       "                    if (nbb_cells[i].input_prompt_number == nbb_cell_id) {\n",
       "                        nbb_cells[i].set_text(nbb_formatted_code);\n",
       "                        break;\n",
       "                    }\n",
       "                }\n",
       "            }, 500);\n",
       "            "
      ],
      "text/plain": [
       "<IPython.core.display.Javascript object>"
      ]
     },
     "metadata": {},
     "output_type": "display_data"
    }
   ],
   "source": [
    "row1 = dat.loc[1]\n",
    "print(type(row1), row1.name, row1.dtype, np.asarray(row1))\n",
    "row1"
   ]
  },
  {
   "cell_type": "markdown",
   "metadata": {
    "slideshow": {
     "slide_type": "slide"
    }
   },
   "source": [
    "* Column and row names can be set:"
   ]
  },
  {
   "cell_type": "code",
   "execution_count": 83,
   "metadata": {
    "slideshow": {
     "slide_type": "fragment"
    }
   },
   "outputs": [
    {
     "data": {
      "text/html": [
       "<div>\n",
       "<style scoped>\n",
       "    .dataframe tbody tr th:only-of-type {\n",
       "        vertical-align: middle;\n",
       "    }\n",
       "\n",
       "    .dataframe tbody tr th {\n",
       "        vertical-align: top;\n",
       "    }\n",
       "\n",
       "    .dataframe thead th {\n",
       "        text-align: right;\n",
       "    }\n",
       "</style>\n",
       "<table border=\"1\" class=\"dataframe\">\n",
       "  <thead>\n",
       "    <tr style=\"text-align: right;\">\n",
       "      <th></th>\n",
       "      <th>one</th>\n",
       "      <th>two</th>\n",
       "      <th>three</th>\n",
       "      <th>four</th>\n",
       "    </tr>\n",
       "  </thead>\n",
       "  <tbody>\n",
       "    <tr>\n",
       "      <th>r0</th>\n",
       "      <td>1.0</td>\n",
       "      <td>1.0</td>\n",
       "      <td>6.0</td>\n",
       "      <td>7.0</td>\n",
       "    </tr>\n",
       "    <tr>\n",
       "      <th>r1</th>\n",
       "      <td>1.0</td>\n",
       "      <td>5.0</td>\n",
       "      <td>3.0</td>\n",
       "      <td>7.0</td>\n",
       "    </tr>\n",
       "    <tr>\n",
       "      <th>r2</th>\n",
       "      <td>4.0</td>\n",
       "      <td>7.0</td>\n",
       "      <td>6.0</td>\n",
       "      <td>2.0</td>\n",
       "    </tr>\n",
       "    <tr>\n",
       "      <th>r3</th>\n",
       "      <td>5.0</td>\n",
       "      <td>5.0</td>\n",
       "      <td>9.0</td>\n",
       "      <td>0.0</td>\n",
       "    </tr>\n",
       "    <tr>\n",
       "      <th>r4</th>\n",
       "      <td>7.0</td>\n",
       "      <td>0.0</td>\n",
       "      <td>9.0</td>\n",
       "      <td>5.0</td>\n",
       "    </tr>\n",
       "  </tbody>\n",
       "</table>\n",
       "</div>"
      ],
      "text/plain": [
       "    one  two  three  four\n",
       "r0  1.0  1.0    6.0   7.0\n",
       "r1  1.0  5.0    3.0   7.0\n",
       "r2  4.0  7.0    6.0   2.0\n",
       "r3  5.0  5.0    9.0   0.0\n",
       "r4  7.0  0.0    9.0   5.0"
      ]
     },
     "execution_count": 83,
     "metadata": {},
     "output_type": "execute_result"
    },
    {
     "data": {
      "application/javascript": [
       "\n",
       "            setTimeout(function() {\n",
       "                var nbb_cell_id = 83;\n",
       "                var nbb_formatted_code = \"pd.DataFrame(\\n    data=np.random.randint(0, 10, size=(5, 4)),\\n    columns=[\\\"one\\\", \\\"two\\\", \\\"three\\\", \\\"four\\\"],\\n    index=[\\\"r0\\\", \\\"r1\\\", \\\"r2\\\", \\\"r3\\\", \\\"r4\\\"],\\n    dtype=np.float32,\\n)\";\n",
       "                var nbb_cells = Jupyter.notebook.get_cells();\n",
       "                for (var i = 0; i < nbb_cells.length; ++i) {\n",
       "                    if (nbb_cells[i].input_prompt_number == nbb_cell_id) {\n",
       "                        nbb_cells[i].set_text(nbb_formatted_code);\n",
       "                        break;\n",
       "                    }\n",
       "                }\n",
       "            }, 500);\n",
       "            "
      ],
      "text/plain": [
       "<IPython.core.display.Javascript object>"
      ]
     },
     "metadata": {},
     "output_type": "display_data"
    }
   ],
   "source": [
    "pd.DataFrame(\n",
    "    data=np.random.randint(0, 10, size=(5, 4)),\n",
    "    columns=[\"one\", \"two\", \"three\", \"four\"],\n",
    "    index=[\"r0\", \"r1\", \"r2\", \"r3\", \"r4\"],\n",
    "    dtype=np.float32,\n",
    ")"
   ]
  },
  {
   "cell_type": "markdown",
   "metadata": {
    "slideshow": {
     "slide_type": "slide"
    }
   },
   "source": [
    "* Columns can be provided as objects:"
   ]
  },
  {
   "cell_type": "code",
   "execution_count": 84,
   "metadata": {
    "slideshow": {
     "slide_type": "fragment"
    }
   },
   "outputs": [
    {
     "data": {
      "text/html": [
       "<div>\n",
       "<style scoped>\n",
       "    .dataframe tbody tr th:only-of-type {\n",
       "        vertical-align: middle;\n",
       "    }\n",
       "\n",
       "    .dataframe tbody tr th {\n",
       "        vertical-align: top;\n",
       "    }\n",
       "\n",
       "    .dataframe thead th {\n",
       "        text-align: right;\n",
       "    }\n",
       "</style>\n",
       "<table border=\"1\" class=\"dataframe\">\n",
       "  <thead>\n",
       "    <tr style=\"text-align: right;\">\n",
       "      <th></th>\n",
       "      <th>one</th>\n",
       "      <th>two</th>\n",
       "    </tr>\n",
       "  </thead>\n",
       "  <tbody>\n",
       "    <tr>\n",
       "      <th>0</th>\n",
       "      <td>1</td>\n",
       "      <td>2.0</td>\n",
       "    </tr>\n",
       "    <tr>\n",
       "      <th>1</th>\n",
       "      <td>1</td>\n",
       "      <td>2.0</td>\n",
       "    </tr>\n",
       "    <tr>\n",
       "      <th>2</th>\n",
       "      <td>1</td>\n",
       "      <td>2.0</td>\n",
       "    </tr>\n",
       "    <tr>\n",
       "      <th>3</th>\n",
       "      <td>1</td>\n",
       "      <td>2.0</td>\n",
       "    </tr>\n",
       "  </tbody>\n",
       "</table>\n",
       "</div>"
      ],
      "text/plain": [
       "   one  two\n",
       "0    1  2.0\n",
       "1    1  2.0\n",
       "2    1  2.0\n",
       "3    1  2.0"
      ]
     },
     "execution_count": 84,
     "metadata": {},
     "output_type": "execute_result"
    },
    {
     "data": {
      "application/javascript": [
       "\n",
       "            setTimeout(function() {\n",
       "                var nbb_cell_id = 84;\n",
       "                var nbb_formatted_code = \"dmap = {\\\"one\\\": np.ones((4,), dtype=np.int8), \\\"two\\\": np.ones((4,), dtype=np.float32) * 2}\\n\\npd.DataFrame(dmap)\";\n",
       "                var nbb_cells = Jupyter.notebook.get_cells();\n",
       "                for (var i = 0; i < nbb_cells.length; ++i) {\n",
       "                    if (nbb_cells[i].input_prompt_number == nbb_cell_id) {\n",
       "                        nbb_cells[i].set_text(nbb_formatted_code);\n",
       "                        break;\n",
       "                    }\n",
       "                }\n",
       "            }, 500);\n",
       "            "
      ],
      "text/plain": [
       "<IPython.core.display.Javascript object>"
      ]
     },
     "metadata": {},
     "output_type": "display_data"
    }
   ],
   "source": [
    "dmap = {\n",
    "    \"one\": np.ones((4,), dtype=np.int8), \n",
    "    \"two\": np.ones((4,), dtype=np.float32) * 2\n",
    "}\n",
    "\n",
    "pd.DataFrame(dmap)"
   ]
  },
  {
   "cell_type": "markdown",
   "metadata": {
    "slideshow": {
     "slide_type": "slide"
    }
   },
   "source": [
    "* Converting to numpy can be done with the `np.asarray` function\n",
    "* This will convert column types to match as numpy arrays are homogeneous:"
   ]
  },
  {
   "cell_type": "code",
   "execution_count": 28,
   "metadata": {
    "slideshow": {
     "slide_type": "fragment"
    }
   },
   "outputs": [
    {
     "data": {
      "text/plain": [
       "array([[1., 2.],\n",
       "       [1., 2.],\n",
       "       [1., 2.],\n",
       "       [1., 2.]], dtype=float32)"
      ]
     },
     "execution_count": 28,
     "metadata": {},
     "output_type": "execute_result"
    }
   ],
   "source": [
    "np.asarray(pd.DataFrame(dmap))"
   ]
  },
  {
   "cell_type": "markdown",
   "metadata": {
    "slideshow": {
     "slide_type": "slide"
    }
   },
   "source": [
    "* Various functions exist for manipulating data in tables, eg. `Series.map`:"
   ]
  },
  {
   "cell_type": "code",
   "execution_count": 85,
   "metadata": {
    "slideshow": {
     "slide_type": "fragment"
    }
   },
   "outputs": [
    {
     "data": {
      "text/plain": [
       "0     True\n",
       "1     True\n",
       "2     True\n",
       "3     True\n",
       "4    False\n",
       "5     True\n",
       "Name: 2, dtype: bool"
      ]
     },
     "execution_count": 85,
     "metadata": {},
     "output_type": "execute_result"
    },
    {
     "data": {
      "application/javascript": [
       "\n",
       "            setTimeout(function() {\n",
       "                var nbb_cell_id = 85;\n",
       "                var nbb_formatted_code = \"# apply map to column 2\\ndat[2].map(lambda i: i > 3)\";\n",
       "                var nbb_cells = Jupyter.notebook.get_cells();\n",
       "                for (var i = 0; i < nbb_cells.length; ++i) {\n",
       "                    if (nbb_cells[i].input_prompt_number == nbb_cell_id) {\n",
       "                        nbb_cells[i].set_text(nbb_formatted_code);\n",
       "                        break;\n",
       "                    }\n",
       "                }\n",
       "            }, 500);\n",
       "            "
      ],
      "text/plain": [
       "<IPython.core.display.Javascript object>"
      ]
     },
     "metadata": {},
     "output_type": "display_data"
    }
   ],
   "source": [
    "# apply map to column 2\n",
    "dat[2].map(lambda i: i > 3)"
   ]
  },
  {
   "cell_type": "markdown",
   "metadata": {
    "slideshow": {
     "slide_type": "slide"
    }
   },
   "source": [
    "* `DataFrame.applymap` can be applied to a whole table:"
   ]
  },
  {
   "cell_type": "code",
   "execution_count": 30,
   "metadata": {
    "slideshow": {
     "slide_type": "fragment"
    }
   },
   "outputs": [
    {
     "data": {
      "text/html": [
       "<div>\n",
       "<style scoped>\n",
       "    .dataframe tbody tr th:only-of-type {\n",
       "        vertical-align: middle;\n",
       "    }\n",
       "\n",
       "    .dataframe tbody tr th {\n",
       "        vertical-align: top;\n",
       "    }\n",
       "\n",
       "    .dataframe thead th {\n",
       "        text-align: right;\n",
       "    }\n",
       "</style>\n",
       "<table border=\"1\" class=\"dataframe\">\n",
       "  <thead>\n",
       "    <tr style=\"text-align: right;\">\n",
       "      <th></th>\n",
       "      <th>0</th>\n",
       "      <th>1</th>\n",
       "      <th>2</th>\n",
       "      <th>3</th>\n",
       "      <th>4</th>\n",
       "      <th>5</th>\n",
       "    </tr>\n",
       "  </thead>\n",
       "  <tbody>\n",
       "    <tr>\n",
       "      <th>0</th>\n",
       "      <td>False</td>\n",
       "      <td>False</td>\n",
       "      <td>False</td>\n",
       "      <td>True</td>\n",
       "      <td>False</td>\n",
       "      <td>True</td>\n",
       "    </tr>\n",
       "    <tr>\n",
       "      <th>1</th>\n",
       "      <td>False</td>\n",
       "      <td>False</td>\n",
       "      <td>True</td>\n",
       "      <td>True</td>\n",
       "      <td>False</td>\n",
       "      <td>True</td>\n",
       "    </tr>\n",
       "    <tr>\n",
       "      <th>2</th>\n",
       "      <td>True</td>\n",
       "      <td>True</td>\n",
       "      <td>True</td>\n",
       "      <td>True</td>\n",
       "      <td>False</td>\n",
       "      <td>False</td>\n",
       "    </tr>\n",
       "    <tr>\n",
       "      <th>3</th>\n",
       "      <td>True</td>\n",
       "      <td>True</td>\n",
       "      <td>True</td>\n",
       "      <td>True</td>\n",
       "      <td>True</td>\n",
       "      <td>True</td>\n",
       "    </tr>\n",
       "    <tr>\n",
       "      <th>4</th>\n",
       "      <td>True</td>\n",
       "      <td>True</td>\n",
       "      <td>False</td>\n",
       "      <td>False</td>\n",
       "      <td>False</td>\n",
       "      <td>True</td>\n",
       "    </tr>\n",
       "    <tr>\n",
       "      <th>5</th>\n",
       "      <td>True</td>\n",
       "      <td>True</td>\n",
       "      <td>False</td>\n",
       "      <td>True</td>\n",
       "      <td>True</td>\n",
       "      <td>False</td>\n",
       "    </tr>\n",
       "  </tbody>\n",
       "</table>\n",
       "</div>"
      ],
      "text/plain": [
       "       0      1      2      3      4      5\n",
       "0  False  False  False   True  False   True\n",
       "1  False  False   True   True  False   True\n",
       "2   True   True   True   True  False  False\n",
       "3   True   True   True   True   True   True\n",
       "4   True   True  False  False  False   True\n",
       "5   True   True  False   True   True  False"
      ]
     },
     "execution_count": 30,
     "metadata": {},
     "output_type": "execute_result"
    }
   ],
   "source": [
    "dat.applymap(lambda i: i > 3)"
   ]
  },
  {
   "cell_type": "markdown",
   "metadata": {
    "slideshow": {
     "slide_type": "slide"
    }
   },
   "source": [
    "* Loading from CSV files is common for tabular data, eg. load some stock price information:"
   ]
  },
  {
   "cell_type": "code",
   "execution_count": 27,
   "metadata": {
    "slideshow": {
     "slide_type": "fragment"
    }
   },
   "outputs": [
    {
     "data": {
      "text/html": [
       "<div>\n",
       "<style scoped>\n",
       "    .dataframe tbody tr th:only-of-type {\n",
       "        vertical-align: middle;\n",
       "    }\n",
       "\n",
       "    .dataframe tbody tr th {\n",
       "        vertical-align: top;\n",
       "    }\n",
       "\n",
       "    .dataframe thead th {\n",
       "        text-align: right;\n",
       "    }\n",
       "</style>\n",
       "<table border=\"1\" class=\"dataframe\">\n",
       "  <thead>\n",
       "    <tr style=\"text-align: right;\">\n",
       "      <th></th>\n",
       "      <th>date</th>\n",
       "      <th>symbol</th>\n",
       "      <th>open</th>\n",
       "      <th>high</th>\n",
       "      <th>low</th>\n",
       "      <th>close</th>\n",
       "      <th>volume</th>\n",
       "    </tr>\n",
       "  </thead>\n",
       "  <tbody>\n",
       "    <tr>\n",
       "      <th>0</th>\n",
       "      <td>2019-03-01</td>\n",
       "      <td>AMZN</td>\n",
       "      <td>1655.13</td>\n",
       "      <td>1674.26</td>\n",
       "      <td>1651.00</td>\n",
       "      <td>1671.73</td>\n",
       "      <td>4974877</td>\n",
       "    </tr>\n",
       "    <tr>\n",
       "      <th>1</th>\n",
       "      <td>2019-03-04</td>\n",
       "      <td>AMZN</td>\n",
       "      <td>1685.00</td>\n",
       "      <td>1709.43</td>\n",
       "      <td>1674.36</td>\n",
       "      <td>1696.17</td>\n",
       "      <td>6167358</td>\n",
       "    </tr>\n",
       "    <tr>\n",
       "      <th>2</th>\n",
       "      <td>2019-03-05</td>\n",
       "      <td>AMZN</td>\n",
       "      <td>1702.95</td>\n",
       "      <td>1707.80</td>\n",
       "      <td>1689.01</td>\n",
       "      <td>1692.43</td>\n",
       "      <td>3681522</td>\n",
       "    </tr>\n",
       "    <tr>\n",
       "      <th>3</th>\n",
       "      <td>2019-03-06</td>\n",
       "      <td>AMZN</td>\n",
       "      <td>1695.97</td>\n",
       "      <td>1697.75</td>\n",
       "      <td>1668.28</td>\n",
       "      <td>1668.95</td>\n",
       "      <td>3996001</td>\n",
       "    </tr>\n",
       "    <tr>\n",
       "      <th>4</th>\n",
       "      <td>2019-03-07</td>\n",
       "      <td>AMZN</td>\n",
       "      <td>1667.37</td>\n",
       "      <td>1669.75</td>\n",
       "      <td>1620.51</td>\n",
       "      <td>1625.95</td>\n",
       "      <td>4957017</td>\n",
       "    </tr>\n",
       "    <tr>\n",
       "      <th>5</th>\n",
       "      <td>2019-03-01</td>\n",
       "      <td>AAPL</td>\n",
       "      <td>174.28</td>\n",
       "      <td>175.15</td>\n",
       "      <td>172.89</td>\n",
       "      <td>174.97</td>\n",
       "      <td>25886167</td>\n",
       "    </tr>\n",
       "    <tr>\n",
       "      <th>6</th>\n",
       "      <td>2019-03-04</td>\n",
       "      <td>AAPL</td>\n",
       "      <td>175.69</td>\n",
       "      <td>177.75</td>\n",
       "      <td>173.97</td>\n",
       "      <td>175.85</td>\n",
       "      <td>27436203</td>\n",
       "    </tr>\n",
       "    <tr>\n",
       "      <th>7</th>\n",
       "      <td>2019-03-05</td>\n",
       "      <td>AAPL</td>\n",
       "      <td>175.94</td>\n",
       "      <td>176.00</td>\n",
       "      <td>174.54</td>\n",
       "      <td>175.53</td>\n",
       "      <td>19737419</td>\n",
       "    </tr>\n",
       "    <tr>\n",
       "      <th>8</th>\n",
       "      <td>2019-03-06</td>\n",
       "      <td>AAPL</td>\n",
       "      <td>174.67</td>\n",
       "      <td>175.49</td>\n",
       "      <td>173.94</td>\n",
       "      <td>174.52</td>\n",
       "      <td>20810384</td>\n",
       "    </tr>\n",
       "    <tr>\n",
       "      <th>9</th>\n",
       "      <td>2019-03-07</td>\n",
       "      <td>AAPL</td>\n",
       "      <td>173.87</td>\n",
       "      <td>174.44</td>\n",
       "      <td>172.02</td>\n",
       "      <td>172.50</td>\n",
       "      <td>24796374</td>\n",
       "    </tr>\n",
       "    <tr>\n",
       "      <th>10</th>\n",
       "      <td>2019-03-01</td>\n",
       "      <td>GOOG</td>\n",
       "      <td>1124.90</td>\n",
       "      <td>1142.97</td>\n",
       "      <td>1124.75</td>\n",
       "      <td>1140.99</td>\n",
       "      <td>1450316</td>\n",
       "    </tr>\n",
       "    <tr>\n",
       "      <th>11</th>\n",
       "      <td>2019-03-04</td>\n",
       "      <td>GOOG</td>\n",
       "      <td>1146.99</td>\n",
       "      <td>1158.28</td>\n",
       "      <td>1130.69</td>\n",
       "      <td>1147.80</td>\n",
       "      <td>1446047</td>\n",
       "    </tr>\n",
       "    <tr>\n",
       "      <th>12</th>\n",
       "      <td>2019-03-05</td>\n",
       "      <td>GOOG</td>\n",
       "      <td>1150.06</td>\n",
       "      <td>1169.61</td>\n",
       "      <td>1146.19</td>\n",
       "      <td>1162.03</td>\n",
       "      <td>1443174</td>\n",
       "    </tr>\n",
       "    <tr>\n",
       "      <th>13</th>\n",
       "      <td>2019-03-06</td>\n",
       "      <td>GOOG</td>\n",
       "      <td>1162.49</td>\n",
       "      <td>1167.57</td>\n",
       "      <td>1155.49</td>\n",
       "      <td>1157.86</td>\n",
       "      <td>1099289</td>\n",
       "    </tr>\n",
       "    <tr>\n",
       "      <th>14</th>\n",
       "      <td>2019-03-07</td>\n",
       "      <td>GOOG</td>\n",
       "      <td>1155.72</td>\n",
       "      <td>1156.76</td>\n",
       "      <td>1134.91</td>\n",
       "      <td>1143.30</td>\n",
       "      <td>1166559</td>\n",
       "    </tr>\n",
       "  </tbody>\n",
       "</table>\n",
       "</div>"
      ],
      "text/plain": [
       "          date symbol     open     high      low    close    volume\n",
       "0   2019-03-01   AMZN  1655.13  1674.26  1651.00  1671.73   4974877\n",
       "1   2019-03-04   AMZN  1685.00  1709.43  1674.36  1696.17   6167358\n",
       "2   2019-03-05   AMZN  1702.95  1707.80  1689.01  1692.43   3681522\n",
       "3   2019-03-06   AMZN  1695.97  1697.75  1668.28  1668.95   3996001\n",
       "4   2019-03-07   AMZN  1667.37  1669.75  1620.51  1625.95   4957017\n",
       "5   2019-03-01   AAPL   174.28   175.15   172.89   174.97  25886167\n",
       "6   2019-03-04   AAPL   175.69   177.75   173.97   175.85  27436203\n",
       "7   2019-03-05   AAPL   175.94   176.00   174.54   175.53  19737419\n",
       "8   2019-03-06   AAPL   174.67   175.49   173.94   174.52  20810384\n",
       "9   2019-03-07   AAPL   173.87   174.44   172.02   172.50  24796374\n",
       "10  2019-03-01   GOOG  1124.90  1142.97  1124.75  1140.99   1450316\n",
       "11  2019-03-04   GOOG  1146.99  1158.28  1130.69  1147.80   1446047\n",
       "12  2019-03-05   GOOG  1150.06  1169.61  1146.19  1162.03   1443174\n",
       "13  2019-03-06   GOOG  1162.49  1167.57  1155.49  1157.86   1099289\n",
       "14  2019-03-07   GOOG  1155.72  1156.76  1134.91  1143.30   1166559"
      ]
     },
     "execution_count": 27,
     "metadata": {},
     "output_type": "execute_result"
    }
   ],
   "source": [
    "df=pd.read_csv(\"stocks.csv\")\n",
    "df"
   ]
  },
  {
   "cell_type": "markdown",
   "metadata": {
    "slideshow": {
     "slide_type": "slide"
    }
   },
   "source": [
    "* A new column can be added to compute the difference between and closing and opening prices for each value:"
   ]
  },
  {
   "cell_type": "code",
   "execution_count": 86,
   "metadata": {
    "slideshow": {
     "slide_type": "fragment"
    }
   },
   "outputs": [
    {
     "data": {
      "text/html": [
       "<div>\n",
       "<style scoped>\n",
       "    .dataframe tbody tr th:only-of-type {\n",
       "        vertical-align: middle;\n",
       "    }\n",
       "\n",
       "    .dataframe tbody tr th {\n",
       "        vertical-align: top;\n",
       "    }\n",
       "\n",
       "    .dataframe thead th {\n",
       "        text-align: right;\n",
       "    }\n",
       "</style>\n",
       "<table border=\"1\" class=\"dataframe\">\n",
       "  <thead>\n",
       "    <tr style=\"text-align: right;\">\n",
       "      <th></th>\n",
       "      <th>date</th>\n",
       "      <th>symbol</th>\n",
       "      <th>open</th>\n",
       "      <th>high</th>\n",
       "      <th>low</th>\n",
       "      <th>close</th>\n",
       "      <th>volume</th>\n",
       "      <th>diff</th>\n",
       "    </tr>\n",
       "  </thead>\n",
       "  <tbody>\n",
       "    <tr>\n",
       "      <th>0</th>\n",
       "      <td>2019-03-01</td>\n",
       "      <td>AMZN</td>\n",
       "      <td>1655.13</td>\n",
       "      <td>1674.26</td>\n",
       "      <td>1651.00</td>\n",
       "      <td>1671.73</td>\n",
       "      <td>4974877</td>\n",
       "      <td>16.60</td>\n",
       "    </tr>\n",
       "    <tr>\n",
       "      <th>1</th>\n",
       "      <td>2019-03-04</td>\n",
       "      <td>AMZN</td>\n",
       "      <td>1685.00</td>\n",
       "      <td>1709.43</td>\n",
       "      <td>1674.36</td>\n",
       "      <td>1696.17</td>\n",
       "      <td>6167358</td>\n",
       "      <td>11.17</td>\n",
       "    </tr>\n",
       "    <tr>\n",
       "      <th>2</th>\n",
       "      <td>2019-03-05</td>\n",
       "      <td>AMZN</td>\n",
       "      <td>1702.95</td>\n",
       "      <td>1707.80</td>\n",
       "      <td>1689.01</td>\n",
       "      <td>1692.43</td>\n",
       "      <td>3681522</td>\n",
       "      <td>-10.52</td>\n",
       "    </tr>\n",
       "    <tr>\n",
       "      <th>3</th>\n",
       "      <td>2019-03-06</td>\n",
       "      <td>AMZN</td>\n",
       "      <td>1695.97</td>\n",
       "      <td>1697.75</td>\n",
       "      <td>1668.28</td>\n",
       "      <td>1668.95</td>\n",
       "      <td>3996001</td>\n",
       "      <td>-27.02</td>\n",
       "    </tr>\n",
       "    <tr>\n",
       "      <th>4</th>\n",
       "      <td>2019-03-07</td>\n",
       "      <td>AMZN</td>\n",
       "      <td>1667.37</td>\n",
       "      <td>1669.75</td>\n",
       "      <td>1620.51</td>\n",
       "      <td>1625.95</td>\n",
       "      <td>4957017</td>\n",
       "      <td>-41.42</td>\n",
       "    </tr>\n",
       "    <tr>\n",
       "      <th>5</th>\n",
       "      <td>2019-03-01</td>\n",
       "      <td>AAPL</td>\n",
       "      <td>174.28</td>\n",
       "      <td>175.15</td>\n",
       "      <td>172.89</td>\n",
       "      <td>174.97</td>\n",
       "      <td>25886167</td>\n",
       "      <td>0.69</td>\n",
       "    </tr>\n",
       "    <tr>\n",
       "      <th>6</th>\n",
       "      <td>2019-03-04</td>\n",
       "      <td>AAPL</td>\n",
       "      <td>175.69</td>\n",
       "      <td>177.75</td>\n",
       "      <td>173.97</td>\n",
       "      <td>175.85</td>\n",
       "      <td>27436203</td>\n",
       "      <td>0.16</td>\n",
       "    </tr>\n",
       "    <tr>\n",
       "      <th>7</th>\n",
       "      <td>2019-03-05</td>\n",
       "      <td>AAPL</td>\n",
       "      <td>175.94</td>\n",
       "      <td>176.00</td>\n",
       "      <td>174.54</td>\n",
       "      <td>175.53</td>\n",
       "      <td>19737419</td>\n",
       "      <td>-0.41</td>\n",
       "    </tr>\n",
       "    <tr>\n",
       "      <th>8</th>\n",
       "      <td>2019-03-06</td>\n",
       "      <td>AAPL</td>\n",
       "      <td>174.67</td>\n",
       "      <td>175.49</td>\n",
       "      <td>173.94</td>\n",
       "      <td>174.52</td>\n",
       "      <td>20810384</td>\n",
       "      <td>-0.15</td>\n",
       "    </tr>\n",
       "    <tr>\n",
       "      <th>9</th>\n",
       "      <td>2019-03-07</td>\n",
       "      <td>AAPL</td>\n",
       "      <td>173.87</td>\n",
       "      <td>174.44</td>\n",
       "      <td>172.02</td>\n",
       "      <td>172.50</td>\n",
       "      <td>24796374</td>\n",
       "      <td>-1.37</td>\n",
       "    </tr>\n",
       "    <tr>\n",
       "      <th>10</th>\n",
       "      <td>2019-03-01</td>\n",
       "      <td>GOOG</td>\n",
       "      <td>1124.90</td>\n",
       "      <td>1142.97</td>\n",
       "      <td>1124.75</td>\n",
       "      <td>1140.99</td>\n",
       "      <td>1450316</td>\n",
       "      <td>16.09</td>\n",
       "    </tr>\n",
       "    <tr>\n",
       "      <th>11</th>\n",
       "      <td>2019-03-04</td>\n",
       "      <td>GOOG</td>\n",
       "      <td>1146.99</td>\n",
       "      <td>1158.28</td>\n",
       "      <td>1130.69</td>\n",
       "      <td>1147.80</td>\n",
       "      <td>1446047</td>\n",
       "      <td>0.81</td>\n",
       "    </tr>\n",
       "    <tr>\n",
       "      <th>12</th>\n",
       "      <td>2019-03-05</td>\n",
       "      <td>GOOG</td>\n",
       "      <td>1150.06</td>\n",
       "      <td>1169.61</td>\n",
       "      <td>1146.19</td>\n",
       "      <td>1162.03</td>\n",
       "      <td>1443174</td>\n",
       "      <td>11.97</td>\n",
       "    </tr>\n",
       "    <tr>\n",
       "      <th>13</th>\n",
       "      <td>2019-03-06</td>\n",
       "      <td>GOOG</td>\n",
       "      <td>1162.49</td>\n",
       "      <td>1167.57</td>\n",
       "      <td>1155.49</td>\n",
       "      <td>1157.86</td>\n",
       "      <td>1099289</td>\n",
       "      <td>-4.63</td>\n",
       "    </tr>\n",
       "    <tr>\n",
       "      <th>14</th>\n",
       "      <td>2019-03-07</td>\n",
       "      <td>GOOG</td>\n",
       "      <td>1155.72</td>\n",
       "      <td>1156.76</td>\n",
       "      <td>1134.91</td>\n",
       "      <td>1143.30</td>\n",
       "      <td>1166559</td>\n",
       "      <td>-12.42</td>\n",
       "    </tr>\n",
       "  </tbody>\n",
       "</table>\n",
       "</div>"
      ],
      "text/plain": [
       "          date symbol     open     high      low    close    volume   diff\n",
       "0   2019-03-01   AMZN  1655.13  1674.26  1651.00  1671.73   4974877  16.60\n",
       "1   2019-03-04   AMZN  1685.00  1709.43  1674.36  1696.17   6167358  11.17\n",
       "2   2019-03-05   AMZN  1702.95  1707.80  1689.01  1692.43   3681522 -10.52\n",
       "3   2019-03-06   AMZN  1695.97  1697.75  1668.28  1668.95   3996001 -27.02\n",
       "4   2019-03-07   AMZN  1667.37  1669.75  1620.51  1625.95   4957017 -41.42\n",
       "5   2019-03-01   AAPL   174.28   175.15   172.89   174.97  25886167   0.69\n",
       "6   2019-03-04   AAPL   175.69   177.75   173.97   175.85  27436203   0.16\n",
       "7   2019-03-05   AAPL   175.94   176.00   174.54   175.53  19737419  -0.41\n",
       "8   2019-03-06   AAPL   174.67   175.49   173.94   174.52  20810384  -0.15\n",
       "9   2019-03-07   AAPL   173.87   174.44   172.02   172.50  24796374  -1.37\n",
       "10  2019-03-01   GOOG  1124.90  1142.97  1124.75  1140.99   1450316  16.09\n",
       "11  2019-03-04   GOOG  1146.99  1158.28  1130.69  1147.80   1446047   0.81\n",
       "12  2019-03-05   GOOG  1150.06  1169.61  1146.19  1162.03   1443174  11.97\n",
       "13  2019-03-06   GOOG  1162.49  1167.57  1155.49  1157.86   1099289  -4.63\n",
       "14  2019-03-07   GOOG  1155.72  1156.76  1134.91  1143.30   1166559 -12.42"
      ]
     },
     "execution_count": 86,
     "metadata": {},
     "output_type": "execute_result"
    },
    {
     "data": {
      "application/javascript": [
       "\n",
       "            setTimeout(function() {\n",
       "                var nbb_cell_id = 86;\n",
       "                var nbb_formatted_code = \"df[\\\"diff\\\"] = df[\\\"close\\\"] - df[\\\"open\\\"]\\ndf\";\n",
       "                var nbb_cells = Jupyter.notebook.get_cells();\n",
       "                for (var i = 0; i < nbb_cells.length; ++i) {\n",
       "                    if (nbb_cells[i].input_prompt_number == nbb_cell_id) {\n",
       "                        nbb_cells[i].set_text(nbb_formatted_code);\n",
       "                        break;\n",
       "                    }\n",
       "                }\n",
       "            }, 500);\n",
       "            "
      ],
      "text/plain": [
       "<IPython.core.display.Javascript object>"
      ]
     },
     "metadata": {},
     "output_type": "display_data"
    }
   ],
   "source": [
    "df[\"diff\"] = df[\"close\"] - df[\"open\"]\n",
    "df"
   ]
  },
  {
   "cell_type": "markdown",
   "metadata": {
    "slideshow": {
     "slide_type": "slide"
    }
   },
   "source": [
    "* Operators can be applied to data frames and series, like Numpy these produces data structures of results rather than scalar values:"
   ]
  },
  {
   "cell_type": "code",
   "execution_count": 93,
   "metadata": {
    "slideshow": {
     "slide_type": "fragment"
    }
   },
   "outputs": [
    {
     "data": {
      "text/plain": [
       "0      True\n",
       "1      True\n",
       "2     False\n",
       "3     False\n",
       "4     False\n",
       "5      True\n",
       "6      True\n",
       "7     False\n",
       "8     False\n",
       "9     False\n",
       "10     True\n",
       "11     True\n",
       "12     True\n",
       "13    False\n",
       "14    False\n",
       "Name: diff, dtype: bool"
      ]
     },
     "execution_count": 93,
     "metadata": {},
     "output_type": "execute_result"
    },
    {
     "data": {
      "application/javascript": [
       "\n",
       "            setTimeout(function() {\n",
       "                var nbb_cell_id = 93;\n",
       "                var nbb_formatted_code = \"df[\\\"diff\\\"] >= 0  # days where stocks went up during trading\";\n",
       "                var nbb_cells = Jupyter.notebook.get_cells();\n",
       "                for (var i = 0; i < nbb_cells.length; ++i) {\n",
       "                    if (nbb_cells[i].input_prompt_number == nbb_cell_id) {\n",
       "                        nbb_cells[i].set_text(nbb_formatted_code);\n",
       "                        break;\n",
       "                    }\n",
       "                }\n",
       "            }, 500);\n",
       "            "
      ],
      "text/plain": [
       "<IPython.core.display.Javascript object>"
      ]
     },
     "metadata": {},
     "output_type": "display_data"
    }
   ],
   "source": [
    "df[\"diff\"] >= 0  # days where stocks went up during trading"
   ]
  },
  {
   "cell_type": "markdown",
   "metadata": {
    "slideshow": {
     "slide_type": "slide"
    }
   },
   "source": [
    "* Series like this can be used to select rows in a data frame:"
   ]
  },
  {
   "cell_type": "code",
   "execution_count": 95,
   "metadata": {
    "slideshow": {
     "slide_type": "fragment"
    }
   },
   "outputs": [
    {
     "data": {
      "text/html": [
       "<div>\n",
       "<style scoped>\n",
       "    .dataframe tbody tr th:only-of-type {\n",
       "        vertical-align: middle;\n",
       "    }\n",
       "\n",
       "    .dataframe tbody tr th {\n",
       "        vertical-align: top;\n",
       "    }\n",
       "\n",
       "    .dataframe thead th {\n",
       "        text-align: right;\n",
       "    }\n",
       "</style>\n",
       "<table border=\"1\" class=\"dataframe\">\n",
       "  <thead>\n",
       "    <tr style=\"text-align: right;\">\n",
       "      <th></th>\n",
       "      <th>date</th>\n",
       "      <th>symbol</th>\n",
       "      <th>open</th>\n",
       "      <th>high</th>\n",
       "      <th>low</th>\n",
       "      <th>close</th>\n",
       "      <th>volume</th>\n",
       "      <th>diff</th>\n",
       "    </tr>\n",
       "  </thead>\n",
       "  <tbody>\n",
       "    <tr>\n",
       "      <th>0</th>\n",
       "      <td>2019-03-01</td>\n",
       "      <td>AMZN</td>\n",
       "      <td>1655.13</td>\n",
       "      <td>1674.26</td>\n",
       "      <td>1651.00</td>\n",
       "      <td>1671.73</td>\n",
       "      <td>4974877</td>\n",
       "      <td>16.60</td>\n",
       "    </tr>\n",
       "    <tr>\n",
       "      <th>1</th>\n",
       "      <td>2019-03-04</td>\n",
       "      <td>AMZN</td>\n",
       "      <td>1685.00</td>\n",
       "      <td>1709.43</td>\n",
       "      <td>1674.36</td>\n",
       "      <td>1696.17</td>\n",
       "      <td>6167358</td>\n",
       "      <td>11.17</td>\n",
       "    </tr>\n",
       "    <tr>\n",
       "      <th>5</th>\n",
       "      <td>2019-03-01</td>\n",
       "      <td>AAPL</td>\n",
       "      <td>174.28</td>\n",
       "      <td>175.15</td>\n",
       "      <td>172.89</td>\n",
       "      <td>174.97</td>\n",
       "      <td>25886167</td>\n",
       "      <td>0.69</td>\n",
       "    </tr>\n",
       "    <tr>\n",
       "      <th>6</th>\n",
       "      <td>2019-03-04</td>\n",
       "      <td>AAPL</td>\n",
       "      <td>175.69</td>\n",
       "      <td>177.75</td>\n",
       "      <td>173.97</td>\n",
       "      <td>175.85</td>\n",
       "      <td>27436203</td>\n",
       "      <td>0.16</td>\n",
       "    </tr>\n",
       "    <tr>\n",
       "      <th>10</th>\n",
       "      <td>2019-03-01</td>\n",
       "      <td>GOOG</td>\n",
       "      <td>1124.90</td>\n",
       "      <td>1142.97</td>\n",
       "      <td>1124.75</td>\n",
       "      <td>1140.99</td>\n",
       "      <td>1450316</td>\n",
       "      <td>16.09</td>\n",
       "    </tr>\n",
       "    <tr>\n",
       "      <th>11</th>\n",
       "      <td>2019-03-04</td>\n",
       "      <td>GOOG</td>\n",
       "      <td>1146.99</td>\n",
       "      <td>1158.28</td>\n",
       "      <td>1130.69</td>\n",
       "      <td>1147.80</td>\n",
       "      <td>1446047</td>\n",
       "      <td>0.81</td>\n",
       "    </tr>\n",
       "    <tr>\n",
       "      <th>12</th>\n",
       "      <td>2019-03-05</td>\n",
       "      <td>GOOG</td>\n",
       "      <td>1150.06</td>\n",
       "      <td>1169.61</td>\n",
       "      <td>1146.19</td>\n",
       "      <td>1162.03</td>\n",
       "      <td>1443174</td>\n",
       "      <td>11.97</td>\n",
       "    </tr>\n",
       "  </tbody>\n",
       "</table>\n",
       "</div>"
      ],
      "text/plain": [
       "          date symbol     open     high      low    close    volume   diff\n",
       "0   2019-03-01   AMZN  1655.13  1674.26  1651.00  1671.73   4974877  16.60\n",
       "1   2019-03-04   AMZN  1685.00  1709.43  1674.36  1696.17   6167358  11.17\n",
       "5   2019-03-01   AAPL   174.28   175.15   172.89   174.97  25886167   0.69\n",
       "6   2019-03-04   AAPL   175.69   177.75   173.97   175.85  27436203   0.16\n",
       "10  2019-03-01   GOOG  1124.90  1142.97  1124.75  1140.99   1450316  16.09\n",
       "11  2019-03-04   GOOG  1146.99  1158.28  1130.69  1147.80   1446047   0.81\n",
       "12  2019-03-05   GOOG  1150.06  1169.61  1146.19  1162.03   1443174  11.97"
      ]
     },
     "execution_count": 95,
     "metadata": {},
     "output_type": "execute_result"
    },
    {
     "data": {
      "application/javascript": [
       "\n",
       "            setTimeout(function() {\n",
       "                var nbb_cell_id = 95;\n",
       "                var nbb_formatted_code = \"df[df[\\\"diff\\\"] >= 0]  # filtered data frame with only positive trading days\";\n",
       "                var nbb_cells = Jupyter.notebook.get_cells();\n",
       "                for (var i = 0; i < nbb_cells.length; ++i) {\n",
       "                    if (nbb_cells[i].input_prompt_number == nbb_cell_id) {\n",
       "                        nbb_cells[i].set_text(nbb_formatted_code);\n",
       "                        break;\n",
       "                    }\n",
       "                }\n",
       "            }, 500);\n",
       "            "
      ],
      "text/plain": [
       "<IPython.core.display.Javascript object>"
      ]
     },
     "metadata": {},
     "output_type": "display_data"
    }
   ],
   "source": [
    "df[df[\"diff\"] >= 0]  # filtered data frame with only positive trading days"
   ]
  },
  {
   "cell_type": "markdown",
   "metadata": {
    "slideshow": {
     "slide_type": "slide"
    }
   },
   "source": [
    "* `DataFrame.pivot` is used to reorder data by selecting a column as a row index, a column of identifiers (or any relatively small set of values) to be the new columns, and the values to distribute across those columns:"
   ]
  },
  {
   "cell_type": "code",
   "execution_count": 87,
   "metadata": {
    "slideshow": {
     "slide_type": "fragment"
    }
   },
   "outputs": [
    {
     "data": {
      "text/html": [
       "<div>\n",
       "<style scoped>\n",
       "    .dataframe tbody tr th:only-of-type {\n",
       "        vertical-align: middle;\n",
       "    }\n",
       "\n",
       "    .dataframe tbody tr th {\n",
       "        vertical-align: top;\n",
       "    }\n",
       "\n",
       "    .dataframe thead th {\n",
       "        text-align: right;\n",
       "    }\n",
       "</style>\n",
       "<table border=\"1\" class=\"dataframe\">\n",
       "  <thead>\n",
       "    <tr style=\"text-align: right;\">\n",
       "      <th>symbol</th>\n",
       "      <th>AAPL</th>\n",
       "      <th>AMZN</th>\n",
       "      <th>GOOG</th>\n",
       "    </tr>\n",
       "    <tr>\n",
       "      <th>date</th>\n",
       "      <th></th>\n",
       "      <th></th>\n",
       "      <th></th>\n",
       "    </tr>\n",
       "  </thead>\n",
       "  <tbody>\n",
       "    <tr>\n",
       "      <th>2019-03-01</th>\n",
       "      <td>0.69</td>\n",
       "      <td>16.60</td>\n",
       "      <td>16.09</td>\n",
       "    </tr>\n",
       "    <tr>\n",
       "      <th>2019-03-04</th>\n",
       "      <td>0.16</td>\n",
       "      <td>11.17</td>\n",
       "      <td>0.81</td>\n",
       "    </tr>\n",
       "    <tr>\n",
       "      <th>2019-03-05</th>\n",
       "      <td>-0.41</td>\n",
       "      <td>-10.52</td>\n",
       "      <td>11.97</td>\n",
       "    </tr>\n",
       "    <tr>\n",
       "      <th>2019-03-06</th>\n",
       "      <td>-0.15</td>\n",
       "      <td>-27.02</td>\n",
       "      <td>-4.63</td>\n",
       "    </tr>\n",
       "    <tr>\n",
       "      <th>2019-03-07</th>\n",
       "      <td>-1.37</td>\n",
       "      <td>-41.42</td>\n",
       "      <td>-12.42</td>\n",
       "    </tr>\n",
       "  </tbody>\n",
       "</table>\n",
       "</div>"
      ],
      "text/plain": [
       "symbol      AAPL   AMZN   GOOG\n",
       "date                          \n",
       "2019-03-01  0.69  16.60  16.09\n",
       "2019-03-04  0.16  11.17   0.81\n",
       "2019-03-05 -0.41 -10.52  11.97\n",
       "2019-03-06 -0.15 -27.02  -4.63\n",
       "2019-03-07 -1.37 -41.42 -12.42"
      ]
     },
     "execution_count": 87,
     "metadata": {},
     "output_type": "execute_result"
    },
    {
     "data": {
      "application/javascript": [
       "\n",
       "            setTimeout(function() {\n",
       "                var nbb_cell_id = 87;\n",
       "                var nbb_formatted_code = \"dfp = df.pivot(index=\\\"date\\\", columns=\\\"symbol\\\", values=\\\"diff\\\")\\ndfp\";\n",
       "                var nbb_cells = Jupyter.notebook.get_cells();\n",
       "                for (var i = 0; i < nbb_cells.length; ++i) {\n",
       "                    if (nbb_cells[i].input_prompt_number == nbb_cell_id) {\n",
       "                        nbb_cells[i].set_text(nbb_formatted_code);\n",
       "                        break;\n",
       "                    }\n",
       "                }\n",
       "            }, 500);\n",
       "            "
      ],
      "text/plain": [
       "<IPython.core.display.Javascript object>"
      ]
     },
     "metadata": {},
     "output_type": "display_data"
    }
   ],
   "source": [
    "dfp = df.pivot(index=\"date\", columns=\"symbol\", values=\"diff\")\n",
    "dfp"
   ]
  },
  {
   "cell_type": "markdown",
   "metadata": {
    "slideshow": {
     "slide_type": "slide"
    }
   },
   "source": [
    "* Summing the columns gives the total change in price during trading:"
   ]
  },
  {
   "cell_type": "code",
   "execution_count": 59,
   "metadata": {
    "slideshow": {
     "slide_type": "fragment"
    }
   },
   "outputs": [
    {
     "data": {
      "text/plain": [
       "symbol\n",
       "AAPL    -1.08\n",
       "AMZN   -51.19\n",
       "GOOG    11.82\n",
       "dtype: float64"
      ]
     },
     "execution_count": 59,
     "metadata": {},
     "output_type": "execute_result"
    }
   ],
   "source": [
    "dfp.sum()"
   ]
  },
  {
   "cell_type": "markdown",
   "metadata": {
    "slideshow": {
     "slide_type": "slide"
    }
   },
   "source": [
    "## What We're Not Covering\n",
    "* Many more Python libraries out there for specific tasks or scientific areas, such as:\n",
    "  * Seaborn: even prettier graphs with table data and other features\n",
    "  * Xarray: N-D labeled arrays and datasets \n",
    "  * Sympy: symbolic math, reducing expressions, finding equations solutions as expressions of symbols\n",
    "  * Scipy: large collection of mathematical functions and utilities for image manipulation, signal processsing, optimization, interpolation, etc.\n",
    "  * scikit-learn: machine learning models, datasets, utilities\n",
    "  * Pytorch, Tensorflow: deep learning\n",
    "  * DASK: parallel computing\n",
    "  * SimpleITK, Python-ITK: image analysis"
   ]
  },
  {
   "cell_type": "markdown",
   "metadata": {
    "slideshow": {
     "slide_type": "slide"
    }
   },
   "source": [
    "# That's it!"
   ]
  }
 ],
 "metadata": {
  "celltoolbar": "Slideshow",
  "kernelspec": {
   "display_name": "Python 3 (ipykernel)",
   "language": "python",
   "name": "python3"
  },
  "language_info": {
   "codemirror_mode": {
    "name": "ipython",
    "version": 3
   },
   "file_extension": ".py",
   "mimetype": "text/x-python",
   "name": "python",
   "nbconvert_exporter": "python",
   "pygments_lexer": "ipython3",
   "version": "3.10.13"
  }
 },
 "nbformat": 4,
 "nbformat_minor": 4
}
