{
 "cells": [
  {
   "cell_type": "markdown",
   "metadata": {
    "slideshow": {
     "slide_type": "slide"
    }
   },
   "source": [
    "#### <center>Intermediate Python and Software Enginnering</center>\n",
    "\n",
    "\n",
    "## <center>Section 06 - Part 01 - Introduction to Numpy</center>\n",
    "\n",
    "\n",
    "### <center>Innovation Scholars Programme</center>\n",
    "### <center>King's College London, Medical Research Council and UKRI <center>"
   ]
  },
  {
   "cell_type": "markdown",
   "metadata": {
    "slideshow": {
     "slide_type": "slide"
    }
   },
   "source": [
    "# Numpy\n",
    "\n",
    "* Numpy provides fast numeric arrays\n",
    "* Provide the `ndarray` type storing contiguous memory arrays for numeric types rather than as Python objects\n",
    "* Computation with Numpy can be incredibly fast versus Python which stores numbers as individual objects\n",
    "* Operators for `ndarray` implement a range of mathematical operations allowing vectorisation of computation"
   ]
  },
  {
   "cell_type": "markdown",
   "metadata": {
    "slideshow": {
     "slide_type": "slide"
    }
   },
   "source": [
    "* Python array of arrays:"
   ]
  },
  {
   "cell_type": "code",
   "execution_count": null,
   "metadata": {
    "slideshow": {
     "slide_type": "fragment"
    }
   },
   "outputs": [],
   "source": [
    "pyarr = [[1, 2, 3], [4, 5, 6], [7, 8, 9]]"
   ]
  },
  {
   "cell_type": "markdown",
   "metadata": {
    "slideshow": {
     "slide_type": "fragment"
    }
   },
   "source": [
    "* Defined as a `list` containing 3 more lists\n",
    "* each list contains 3 numbers stored as individual Python objects"
   ]
  },
  {
   "cell_type": "markdown",
   "metadata": {
    "slideshow": {
     "slide_type": "slide"
    }
   },
   "source": [
    "* Convert to a Numpy array, storing values as a single object:"
   ]
  },
  {
   "cell_type": "code",
   "execution_count": null,
   "metadata": {
    "slideshow": {
     "slide_type": "fragment"
    }
   },
   "outputs": [],
   "source": [
    "import numpy as np\n",
    "\n",
    "a = np.array(pyarr, np.float32)\n",
    "print(repr(a))"
   ]
  },
  {
   "cell_type": "markdown",
   "metadata": {
    "slideshow": {
     "slide_type": "fragment"
    }
   },
   "source": [
    "* Stored as a contiguous block of data in memory, each item is a value and not Python objects"
   ]
  },
  {
   "cell_type": "markdown",
   "metadata": {
    "slideshow": {
     "slide_type": "slide"
    }
   },
   "source": [
    "* Arrays have properties describing their shape and contents:"
   ]
  },
  {
   "cell_type": "code",
   "execution_count": null,
   "metadata": {
    "slideshow": {
     "slide_type": "fragment"
    }
   },
   "outputs": [],
   "source": [
    "print(a.size)  # total number of values\n",
    "print(a.shape)  # array shape, size of each dimension\n",
    "print(a.dtype)  # data type, all stored values have this type\n",
    "print(a.ndim)  # number of dimensions, ie. len(a.shape)\n",
    "print(a.itemsize)  # size of each data value in bytes\n",
    "print(a.nbytes)  # size of whole array in bytes, ie. a.size*a.itemsize"
   ]
  },
  {
   "cell_type": "markdown",
   "metadata": {
    "slideshow": {
     "slide_type": "slide"
    }
   },
   "source": [
    "* Every array has a dtype defining the type of values stored\n",
    "* Integer values (`np.int32`, `np.uint8`, etc.)\n",
    "* Float values (`np.float32`, `np.float64`)\n",
    "* Boolean values (`np.bool`)\n",
    "* Complex values, structure types, strings, etc."
   ]
  },
  {
   "cell_type": "code",
   "execution_count": null,
   "metadata": {
    "slideshow": {
     "slide_type": "fragment"
    }
   },
   "outputs": [],
   "source": [
    "print(np.array([[-1.2, 2], [3.4, -4]], dtype=np.float64))  # double\n",
    "print(np.array([[-1.2, 2], [3.4, -4]], dtype=np.uint16))  # unsigned short"
   ]
  },
  {
   "cell_type": "markdown",
   "metadata": {
    "slideshow": {
     "slide_type": "slide"
    }
   },
   "source": [
    "* Various functions exist for creating arrays:"
   ]
  },
  {
   "cell_type": "code",
   "execution_count": null,
   "metadata": {
    "slideshow": {
     "slide_type": "fragment"
    }
   },
   "outputs": [],
   "source": [
    "print(np.eye(2))  # identity matrix of given rank\n",
    "print(np.full((2, 2), 42))  # matrix of given size filled with value\n",
    "print(np.random.rand(2, 2))  # random array"
   ]
  },
  {
   "cell_type": "markdown",
   "metadata": {
    "slideshow": {
     "slide_type": "slide"
    }
   },
   "source": [
    "* Why use Numpy?\n",
    "* Fast math operations!"
   ]
  },
  {
   "cell_type": "code",
   "execution_count": null,
   "metadata": {
    "slideshow": {
     "slide_type": "fragment"
    }
   },
   "outputs": [],
   "source": [
    "large_list = list(range(1000000))\n",
    "%timeit sum(large_list)\n",
    "\n",
    "large_array = np.array(large_list, np.int32)\n",
    "%timeit np.sum(large_array)"
   ]
  },
  {
   "cell_type": "markdown",
   "metadata": {
    "slideshow": {
     "slide_type": "slide"
    }
   },
   "source": [
    "* Various functions exist to reshape arrays into new ones containing the same data:"
   ]
  },
  {
   "cell_type": "code",
   "execution_count": null,
   "metadata": {
    "slideshow": {
     "slide_type": "fragment"
    }
   },
   "outputs": [],
   "source": [
    "a = np.arange(6)\n",
    "print(a.reshape(2, 3))  # dimensions (6,) to (2,3)\n",
    "print(a[:,None])  # dimensions (6,) to (6,1)"
   ]
  },
  {
   "cell_type": "markdown",
   "metadata": {
    "slideshow": {
     "slide_type": "slide"
    }
   },
   "source": [
    "* The type of an array can be changed with `astype` with the associated type conversions done internally:"
   ]
  },
  {
   "cell_type": "code",
   "execution_count": null,
   "metadata": {
    "slideshow": {
     "slide_type": "fragment"
    }
   },
   "outputs": [],
   "source": [
    "print(np.array([1.2, 3.4]).astype(np.int32))\n",
    "print(np.array([1.2, 3.4]).astype(np.float16))\n",
    "print(np.array([1.2, 0, 3.4]).astype(np.bool))"
   ]
  },
  {
   "cell_type": "markdown",
   "metadata": {
    "slideshow": {
     "slide_type": "fragment"
    }
   },
   "source": [
    "* Note that this creates a new array with newly allocated memory"
   ]
  }
 ],
 "metadata": {
  "celltoolbar": "Slideshow",
  "kernelspec": {
   "display_name": "Python 3 (ipykernel)",
   "language": "python",
   "name": "python3"
  },
  "language_info": {
   "codemirror_mode": {
    "name": "ipython",
    "version": 3
   },
   "file_extension": ".py",
   "mimetype": "text/x-python",
   "name": "python",
   "nbconvert_exporter": "python",
   "pygments_lexer": "ipython3",
   "version": "3.10.13"
  }
 },
 "nbformat": 4,
 "nbformat_minor": 4
}
