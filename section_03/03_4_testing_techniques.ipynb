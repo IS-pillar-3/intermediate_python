{
 "cells": [
  {
   "cell_type": "markdown",
   "metadata": {
    "slideshow": {
     "slide_type": "slide"
    }
   },
   "source": [
    "#### <center>Intermediate Python and Software Enginnering</center>\n",
    "\n",
    "\n",
    "## <center>Section 03 - Part 04 -  Testing techniques</center>\n",
    "\n",
    "\n",
    "### <center>Innovation Scholars Programme</center>\n",
    "### <center>King's College London, Medical Research Council and UKRI <center>"
   ]
  },
  {
   "cell_type": "markdown",
   "metadata": {
    "slideshow": {
     "slide_type": "slide"
    }
   },
   "source": [
    "## Testing techniques\n",
    "* Already seen unit tests, fundamental tool for software development\n",
    "* Code coverage: measuring how much of the source code was used when tests were run.\n",
    "* Static analysis: running programs which analyse your code.\n",
    "* Mocking: generating data to simulate real-world data and conditions but in a controlled test environment\n",
    "* Logging: tracking tests, program state, etc. to identify faults"
   ]
  },
  {
   "cell_type": "markdown",
   "metadata": {
    "slideshow": {
     "slide_type": "slide"
    }
   },
   "source": [
    "## Coverage Metrics\n",
    "* How much of the system has been tested?\n",
    "  * Black box: how many requirements have been satisfied\n",
    "  * White box: how many lines/branches/conditions/decisions in the code have been executed by the tests\n",
    "* We'll focus on code coverage using `coverage.py` library"
   ]
  },
  {
   "cell_type": "markdown",
   "metadata": {
    "slideshow": {
     "slide_type": "slide"
    }
   },
   "source": [
    "## Code Coverage\n",
    "* When running tests, we want to know which lines of code were actually run\n",
    "* Ideally we want to run all lines of code when running a full test suite, shows whole program was tested\n",
    "* `coverage.py` runs our tests and keeps track of these lines"
   ]
  },
  {
   "cell_type": "markdown",
   "metadata": {
    "slideshow": {
     "slide_type": "slide"
    }
   },
   "source": [
    "### Example: Sqrt Again"
   ]
  },
  {
   "cell_type": "code",
   "execution_count": null,
   "metadata": {
    "slideshow": {
     "slide_type": "fragment"
    }
   },
   "outputs": [],
   "source": [
    "### sqrt.py \n",
    "def sqrt(a):\n",
    "    if a<0:\n",
    "        raise ValueError('Negative value for `a`')\n",
    "    if isinstance(a,complex):\n",
    "        raise ValueError('Complex value for `a`')\n",
    "    return a ** 0.5"
   ]
  },
  {
   "cell_type": "code",
   "execution_count": null,
   "metadata": {
    "slideshow": {
     "slide_type": "fragment"
    }
   },
   "outputs": [],
   "source": [
    "### testsqrt.py\n",
    "import unittest\n",
    "\n",
    "class SqrtTests(unittest.TestCase):\n",
    "    def test_correct1(self):\n",
    "        b=sqrt(0)\n",
    "        self.assertEqual(b,0)\n",
    "    def test_negative1(self): \n",
    "        with self.assertRaises(ValueError):\n",
    "            b=sqrt(-4)"
   ]
  },
  {
   "cell_type": "markdown",
   "metadata": {
    "slideshow": {
     "slide_type": "slide"
    }
   },
   "source": [
    "```bash\n",
    "$ coverage run --source . -m unittest\n",
    "..\n",
    "----------------------------------------------------------------------\n",
    "Ran 2 tests in 0.000s\n",
    "\n",
    "OK\n",
    "\n",
    "$ coverage report -m\n",
    "Name          Stmts   Miss  Cover   Missing\n",
    "-------------------------------------------\n",
    "sqrt.py           6      1    83%   6\n",
    "testsqrt.py       9      0   100%\n",
    "-------------------------------------------\n",
    "TOTAL            15      1    93%\n",
    "```"
   ]
  },
  {
   "cell_type": "markdown",
   "metadata": {
    "slideshow": {
     "slide_type": "skip"
    }
   },
   "source": [
    "### What that gives us\n",
    "* This showed which lines were executed during tests\n",
    "* Lines in conditional blocks where condition wasn't met are not executed\n",
    "* How do we know what if-elif-else clauses were evaluated to True or False?\n",
    "* Need more in-depth metrics including condition/decision coverage, branch coverage"
   ]
  },
  {
   "cell_type": "markdown",
   "metadata": {
    "slideshow": {
     "slide_type": "slide"
    }
   },
   "source": [
    "## Static Analysis\n",
    "* Analyse code to identify issues and errors before runtime\n",
    "* Static typing is a form of this, identify type-related errors\n",
    "* Static types can be declared in Python, interpreter does not check them however\n",
    "* PyCharm does:"
   ]
  },
  {
   "cell_type": "code",
   "execution_count": null,
   "metadata": {
    "slideshow": {
     "slide_type": "fragment"
    }
   },
   "outputs": [],
   "source": [
    "### typetest.py\n",
    "def sqrttyped(a:float)->float:\n",
    "    return a**0.5\n",
    "\n",
    "sqrttyped(4.0)\n",
    "sqrttyped(4+2j) # <- \"Expected type 'float', got 'complex' instead\""
   ]
  },
  {
   "cell_type": "markdown",
   "metadata": {
    "slideshow": {
     "slide_type": "slide"
    }
   },
   "source": [
    "* Another tool `mypy` can be used to do this too:\n",
    "```bash\n",
    "$ mypy typetest.py \n",
    "typetest.py:6: error: Argument 1 to \"sqrttyped\" has incompatible type \"complex\"; expected \"float\"\n",
    "Found 1 error in 1 file (checked 1 source file)\n",
    "```"
   ]
  },
  {
   "cell_type": "markdown",
   "metadata": {
    "slideshow": {
     "slide_type": "slide"
    }
   },
   "source": [
    "### Pylint\n",
    "* `pylint` is a program in the style of `lint` which checks for issues\n",
    "* Checks for style, infers errors, finds misplaced or unreachable statements, etc.\n",
    "* Identifies some code smells (code exhibiting bad form known to be sources of error), eg. too many variables or arguments"
   ]
  },
  {
   "cell_type": "markdown",
   "metadata": {
    "slideshow": {
     "slide_type": "slide"
    }
   },
   "source": [
    "```bash\n",
    "$ pylint typetest.py \n",
    "************* Module typetest\n",
    "typetest.py:2:15: C0326: Exactly one space required after :\n",
    "def sqrttyped(a:float=None)->float:\n",
    "               ^ (bad-whitespace)\n",
    "typetest.py:2:21: C0326: Exactly one space required around keyword argument assignment\n",
    "def sqrttyped(a:float=None)->float:\n",
    "                     ^ (bad-whitespace)\n",
    "typetest.py:1:0: C0111: Missing module docstring (missing-docstring)\n",
    "...\n",
    "```"
   ]
  },
  {
   "cell_type": "markdown",
   "metadata": {
    "slideshow": {
     "slide_type": "slide"
    }
   },
   "source": [
    "## Mocking\n",
    "* During testing, replace components which provide services or generate data with test versions \n",
    "* These produce known results in a simpler and faster way\n",
    "* Provides known ground truths to compare results against"
   ]
  },
  {
   "cell_type": "markdown",
   "metadata": {
    "slideshow": {
     "slide_type": "slide"
    }
   },
   "source": [
    "## Logging\n",
    "* Record what the program is doing at certain stages\n",
    "* During testing, used to record state, input data, errors encountered, to produce history leading up to a fault\n",
    "* Stack tracing (logging executing lines) during testing also useful\n",
    "* Python's `logging` library used for this\n",
    "  * Data is logged at different levels (`CRITICAL, ERROR, WARNING, INFO, DEBUG`)\n",
    "  * Log level can be set to turn logging this information on or off, ie. everyone during test, off in production"
   ]
  },
  {
   "cell_type": "markdown",
   "metadata": {
    "slideshow": {
     "slide_type": "skip"
    }
   },
   "source": [
    "## Continuous Integration\n",
    "* Development process of rapidly (multiple times daily) integrating collaborators' changes into the live code base\n",
    "* Done in conjunction with code versioning systems (git), often integrates testing and validation steps\n",
    "* Often automated through web services or local servers\n",
    "* Testing is critical to ensure commits do not break the code base"
   ]
  },
  {
   "cell_type": "markdown",
   "metadata": {
    "slideshow": {
     "slide_type": "skip"
    }
   },
   "source": [
    "* Idea is support multiple people working on the same code, rapid prototyping, automated building and deployment, agile development processes\n",
    "* To ensure code remains functional automated checks are necessary, too much burden to be done manually\n",
    "* Testing is a key component, unit and integration tests concretely define correctness throughout integration\n",
    "* Developers can confidently modify whole parts of the system without breaking functionality"
   ]
  },
  {
   "cell_type": "markdown",
   "metadata": {
    "slideshow": {
     "slide_type": "skip"
    }
   },
   "source": [
    "* Part of bigger software lifecycle picture:\n",
    "  * Continuous delivery: Providing software to clients regularly (nightly builds), new version constantly available with expectation of being fit for purpose\n",
    "  * Continuous deployment: Providing service-implementing software to host continually, usually systems of multiple moving parts, eg. web services and huge server/multi-node/cloud applications\n",
    "* For us, CI helps everything we do collaboratively, everything else is for production"
   ]
  },
  {
   "cell_type": "markdown",
   "metadata": {
    "slideshow": {
     "slide_type": "skip"
    }
   },
   "source": [
    "## CI With Github, Gitlab, etc.\n",
    "* Code hosting sites like these can integrate services to do CI \n",
    "* Provides host servers to setup hosting environments, build code in multiple different environments, run test scripts, etc.\n",
    "* Failed test runs can be used to prevent integration of faulty code into a project,\n",
    "* More on continuous integration when discussing Git."
   ]
  },
  {
   "cell_type": "markdown",
   "metadata": {
    "slideshow": {
     "slide_type": "slide"
    }
   },
   "source": [
    "# That's it!\n",
    "\n",
    "## Next Part: Intro to pyCharm"
   ]
  }
 ],
 "metadata": {
  "celltoolbar": "Slideshow",
  "kernelspec": {
   "display_name": "Python 3 (ipykernel)",
   "language": "python",
   "name": "python3"
  },
  "language_info": {
   "codemirror_mode": {
    "name": "ipython",
    "version": 3
   },
   "file_extension": ".py",
   "mimetype": "text/x-python",
   "name": "python",
   "nbconvert_exporter": "python",
   "pygments_lexer": "ipython3",
   "version": "3.10.13"
  }
 },
 "nbformat": 4,
 "nbformat_minor": 2
}
