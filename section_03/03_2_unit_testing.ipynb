{
 "cells": [
  {
   "cell_type": "markdown",
   "metadata": {
    "slideshow": {
     "slide_type": "slide"
    }
   },
   "source": [
    "#### <center>Intermediate Python and Software Enginnering</center>\n",
    "\n",
    "\n",
    "## <center>Section 03 - Part 02 -  Unit tests</center>\n",
    "\n",
    "\n",
    "### <center>Innovation Scholars Programme</center>\n",
    "### <center>King's College London, Medical Research Council and UKRI <center>"
   ]
  },
  {
   "cell_type": "markdown",
   "metadata": {
    "slideshow": {
     "slide_type": "slide"
    }
   },
   "source": [
    "## Unit Testing\n",
    "\n",
    "* A unit test is a simple routine/program to test a property of a small unit of code\n",
    "* **Test case**: a set of inputs and expected outputs to test one of these small units\n",
    "* **Test Suite**: a set of test cases for a routine/module/system\n",
    "* **Test Framework/Harness**: supporting software environment around test suites which provide services to facilitate the testing process"
   ]
  },
  {
   "cell_type": "markdown",
   "metadata": {
    "slideshow": {
     "slide_type": "slide"
    }
   },
   "source": [
    "### Test Case\n",
    "* Components:\n",
    "  * Tested code unit\n",
    "  * Test input data\n",
    "  * Expected output data\n",
    "  * Comparison criteria to assess actual output in relation to expected output"
   ]
  },
  {
   "cell_type": "markdown",
   "metadata": {
    "slideshow": {
     "slide_type": "slide"
    }
   },
   "source": [
    "* Eg. Simple function calculating the square root of a given float:"
   ]
  },
  {
   "cell_type": "code",
   "execution_count": null,
   "metadata": {
    "slideshow": {
     "slide_type": "fragment"
    }
   },
   "outputs": [],
   "source": [
    "def sqrt(a):\n",
    "    return a ** 0.5"
   ]
  },
  {
   "cell_type": "markdown",
   "metadata": {
    "slideshow": {
     "slide_type": "fragment"
    }
   },
   "source": [
    "* Need values for `a` which demonstrate `sqrt` returns the correct result\n",
    "* Need other values to demonstrate it will handle incorrect values appropriately"
   ]
  },
  {
   "cell_type": "markdown",
   "metadata": {
    "slideshow": {
     "slide_type": "slide"
    }
   },
   "source": [
    "* We'll use `unittest` standard library to define our test cases:"
   ]
  },
  {
   "cell_type": "code",
   "execution_count": null,
   "metadata": {
    "slideshow": {
     "slide_type": "fragment"
    }
   },
   "outputs": [],
   "source": [
    "import unittest\n",
    "\n",
    "class SqrtTests(unittest.TestCase): # harness class\n",
    "    def test_correct1(self): # actual test case\n",
    "        b = sqrt(4) # input data is 4\n",
    "        self.assertEqual(b, 2) # expected output is 2\n",
    "        \n",
    "unittest.main(argv=['ignored'], exit=False) # needed for Jupyter"
   ]
  },
  {
   "cell_type": "markdown",
   "metadata": {
    "slideshow": {
     "slide_type": "slide"
    }
   },
   "source": [
    "* What does this show?\n",
    "* For one correct input `sqrt` behaved correctly\n",
    "* What about any other correct inputs? What correct inputs wouldn't be equivalent to `4`?\n",
    "* Consider the edge cases for this function, eg. `0`"
   ]
  },
  {
   "cell_type": "code",
   "execution_count": null,
   "metadata": {
    "slideshow": {
     "slide_type": "slide"
    }
   },
   "outputs": [],
   "source": [
    "import unittest\n",
    "\n",
    "class SqrtTests(unittest.TestCase): # harness class\n",
    "    def test_correct1(self): # actual test case\n",
    "        b = sqrt(0) # input data is 0\n",
    "        self.assertEqual(b, 0) # expected output is 0\n",
    "        \n",
    "unittest.main(argv=['ignored'], exit=False) "
   ]
  },
  {
   "cell_type": "markdown",
   "metadata": {
    "slideshow": {
     "slide_type": "slide"
    }
   },
   "source": [
    "* What about negative inputs?"
   ]
  },
  {
   "cell_type": "code",
   "execution_count": null,
   "metadata": {
    "slideshow": {
     "slide_type": "fragment"
    }
   },
   "outputs": [],
   "source": [
    "class SqrtTests(unittest.TestCase): \n",
    "    def test_negative1(self): \n",
    "        b = sqrt(-4) # input data is -4\n",
    "        # expected output is -2 (bear with me on this one)\n",
    "        self.assertEqual(b, -2) \n",
    "        \n",
    "unittest.main(argv=['ignored'], exit=False)"
   ]
  },
  {
   "cell_type": "markdown",
   "metadata": {
    "slideshow": {
     "slide_type": "slide"
    }
   },
   "source": [
    "* Returning a complex number is numerically correct, but is this what we wanted?\n",
    "* If `sqrt` was supposed to operate only on real numbers this constitutes an error and a fault exists\n",
    "* The fault could be the lack of input sanitation:"
   ]
  },
  {
   "cell_type": "code",
   "execution_count": null,
   "metadata": {
    "slideshow": {
     "slide_type": "fragment"
    }
   },
   "outputs": [],
   "source": [
    "def sqrt(a):\n",
    "    if a<0: # remember, don't use assert to do this\n",
    "        raise ValueError('Negative value for `a`')\n",
    "        \n",
    "    return a ** 0.5"
   ]
  },
  {
   "cell_type": "markdown",
   "metadata": {
    "slideshow": {
     "slide_type": "slide"
    }
   },
   "source": [
    "* Now our test is to show the exception is raised under the correct conditions:"
   ]
  },
  {
   "cell_type": "code",
   "execution_count": null,
   "metadata": {
    "slideshow": {
     "slide_type": "fragment"
    }
   },
   "outputs": [],
   "source": [
    "class SqrtTests(unittest.TestCase): \n",
    "    def test_negative1(self): \n",
    "        with self.assertRaises(ValueError): # exception caught here\n",
    "            b = sqrt(-4) \n",
    "        \n",
    "unittest.main(argv=['ignored'], exit=False)"
   ]
  },
  {
   "cell_type": "markdown",
   "metadata": {
    "slideshow": {
     "slide_type": "fragment"
    }
   },
   "source": [
    "* What about complex input? Positive or negative infinity? NaN?\n",
    "* Answer: write more test cases!\n"
   ]
  },
  {
   "cell_type": "markdown",
   "metadata": {
    "slideshow": {
     "slide_type": "slide"
    }
   },
   "source": [
    "* Test harnesses are used to setup and tear down the testing environment test cases may require:"
   ]
  },
  {
   "cell_type": "code",
   "execution_count": null,
   "metadata": {
    "slideshow": {
     "slide_type": "fragment"
    }
   },
   "outputs": [],
   "source": [
    "class SqrtTests(unittest.TestCase):\n",
    "    def setUp(self):\n",
    "        self.correct_values=[0,1,4,3,100,3.14159]\n",
    "        self.correct_outputs=[0,1,2,1.732,10,1.772]\n",
    "        \n",
    "    def tearDown(self):\n",
    "        pass # close file handles, delete files, etc.\n",
    "    \n",
    "    def test_values(self): \n",
    "        for x,y in zip(self.correct_values,self.correct_outputs):\n",
    "            self.assertAlmostEqual(sqrt(x),y,3) # equal to 3 decimals\n",
    "            \n",
    "unittest.main(argv=['ignored'], exit=False)"
   ]
  },
  {
   "cell_type": "markdown",
   "metadata": {
    "slideshow": {
     "slide_type": "slide"
    }
   },
   "source": [
    "### Test Drive Development\n",
    "* Always be writing test cases as you develop, use them instead of little tester scripts\n",
    "* Design your software with a view to testability, thinking about how to write tests for each component as you go\n",
    "* Developing test cases is a creative process, but consider what tests are equivalent to others and discard them, and think about testing the edge cases\n",
    "* Test to fail, don't write easy tests just to pass"
   ]
  },
  {
   "cell_type": "markdown",
   "metadata": {
    "slideshow": {
     "slide_type": "slide"
    }
   },
   "source": [
    "# That's it!\n",
    "\n",
    "## Next Part: Different types of testing"
   ]
  }
 ],
 "metadata": {
  "celltoolbar": "Slideshow",
  "kernelspec": {
   "display_name": "Python 3 (ipykernel)",
   "language": "python",
   "name": "python3"
  },
  "language_info": {
   "codemirror_mode": {
    "name": "ipython",
    "version": 3
   },
   "file_extension": ".py",
   "mimetype": "text/x-python",
   "name": "python",
   "nbconvert_exporter": "python",
   "pygments_lexer": "ipython3",
   "version": "3.10.13"
  }
 },
 "nbformat": 4,
 "nbformat_minor": 2
}
