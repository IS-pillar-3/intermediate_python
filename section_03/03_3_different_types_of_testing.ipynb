{
 "cells": [
  {
   "cell_type": "markdown",
   "metadata": {
    "slideshow": {
     "slide_type": "slide"
    }
   },
   "source": [
    "#### <center>Intermediate Python and Software Enginnering</center>\n",
    "\n",
    "\n",
    "## <center>Section 03 - Part 03 -  Different types of testing</center>\n",
    "\n",
    "\n",
    "### <center>Innovation Scholars Programme</center>\n",
    "### <center>King's College London, Medical Research Council and UKRI <center>"
   ]
  },
  {
   "cell_type": "markdown",
   "metadata": {
    "slideshow": {
     "slide_type": "slide"
    }
   },
   "source": [
    "## Levels of Testing\n",
    "\n",
    "* **Unit Testing**: testing individual components/modules\n",
    "* **Integration Testing**: testing combinations of tested modules\n",
    "* **System Testing**: testing of entire system\n",
    "* **Acceptance Testing**: testing system with realistic data to satisfy users/customers/stakeholders the software acceptably meets specification"
   ]
  },
  {
   "cell_type": "markdown",
   "metadata": {
    "slideshow": {
     "slide_type": "slide"
    }
   },
   "source": [
    "* Different levels show correctness at different scales:\n",
    "  * Unit testing at the low lever of routines/classes/methods\n",
    "  * Integration testing at the system design level\n",
    "  * System testing at the requirements specification level\n",
    "  * Acceptance testing at the user requirements level"
   ]
  },
  {
   "cell_type": "markdown",
   "metadata": {
    "slideshow": {
     "slide_type": "slide"
    }
   },
   "source": [
    "### White vs. Black Box Testing\n",
    "* **White box**: defining tests knowing the implementation details of the thing being tested, stresses ensuring the code is correct\n",
    "* **Black box**: defining tests not knowing the implementation details, stresses ensuring the code meets specification\n",
    "* These make sense in different contexts at different times, white more for unit testing, black for later stages"
   ]
  },
  {
   "cell_type": "markdown",
   "metadata": {
    "slideshow": {
     "slide_type": "slide"
    }
   },
   "source": [
    "### When to Test\n",
    "* Throughout development, always be writing unit tests to maintain confidence in code as it changes\n",
    "* At integration time, continuous integration is about testing the contributions of developers as they are committed\n"
   ]
  },
  {
   "cell_type": "markdown",
   "metadata": {
    "slideshow": {
     "slide_type": "slide"
    }
   },
   "source": [
    "### Continuous Development (integration, testing, ...)\n",
    "* Engineering technique focused around developers committing working code to shared repository at a continuous pace\n",
    "* Key component is automated building, testing, packaging, etc.\n",
    "* Testing is done when code is committed, commit can be rejected if tests fail\n",
    "* Objective is to quickly integration changing, but correct, code \n",
    "* More on this later"
   ]
  },
  {
   "cell_type": "markdown",
   "metadata": {
    "slideshow": {
     "slide_type": "slide"
    }
   },
   "source": [
    "### End Stage\n",
    "* **Alpha Testing**\n",
    "  * Testing a product not feature complete and very buggy\n",
    "  * Involves developers plus users to discover bugs and test functionality\n",
    "  * Focused on refining features and behaviours\n",
    "* **Beta Testing**\n",
    "  * Testing a product which is feature complete and expected to be ready for deployment soon\n",
    "  * Involves mostly users and public to weed out last bugs\n",
    "  * Focused on final testing and polish before release"
   ]
  },
  {
   "cell_type": "markdown",
   "metadata": {
    "slideshow": {
     "slide_type": "slide"
    }
   },
   "source": [
    "# That's it!\n",
    "\n",
    "## Next Part: Testing techniques"
   ]
  }
 ],
 "metadata": {
  "celltoolbar": "Slideshow",
  "kernelspec": {
   "display_name": "Python 3 (ipykernel)",
   "language": "python",
   "name": "python3"
  },
  "language_info": {
   "codemirror_mode": {
    "name": "ipython",
    "version": 3
   },
   "file_extension": ".py",
   "mimetype": "text/x-python",
   "name": "python",
   "nbconvert_exporter": "python",
   "pygments_lexer": "ipython3",
   "version": "3.10.13"
  }
 },
 "nbformat": 4,
 "nbformat_minor": 2
}
