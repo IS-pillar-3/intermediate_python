{
 "cells": [
  {
   "cell_type": "markdown",
   "metadata": {
    "slideshow": {
     "slide_type": "slide"
    }
   },
   "source": [
    "#### <center>Intermediate Python and Software Enginnering</center>\n",
    "\n",
    "\n",
    "## <center>Section 03 - Part 01 - Testing overview</center>\n",
    "\n",
    "\n",
    "### <center>Innovation Scholars Programme</center>\n",
    "### <center>King's College London, Medical Research Council and UKRI <center>"
   ]
  },
  {
   "cell_type": "markdown",
   "metadata": {
    "slideshow": {
     "slide_type": "slide"
    }
   },
   "source": [
    "### Basic example: Testing Output"
   ]
  },
  {
   "cell_type": "code",
   "execution_count": null,
   "metadata": {
    "slideshow": {
     "slide_type": "fragment"
    }
   },
   "outputs": [],
   "source": [
    "def sqrt(a):\n",
    "    return a ** 0.5\n",
    "\n",
    "if sqrt(4) != 2: # simple test\n",
    "    raise ValueError('Bad value!')"
   ]
  },
  {
   "cell_type": "markdown",
   "metadata": {
    "slideshow": {
     "slide_type": "slide"
    }
   },
   "source": [
    "### Why test?\n",
    "\n",
    "* Formal way of quantifying correctness\n",
    "* Defines criteria for correctness which software should meet\n",
    "* Need to show correctness, increase confidence in code\n",
    "* Decreases cost of failure\n",
    "* **\"Testing shows the presence, not the absence of bugs\"** <br/>- Edsger Dijkstra"
   ]
  },
  {
   "cell_type": "markdown",
   "metadata": {
    "slideshow": {
     "slide_type": "slide"
    }
   },
   "source": [
    "#### Software specification\n",
    "\n",
    "* Defines the requirements for the software being developed\n",
    "* Contains functional and other criteria the software must meet to be considered successful\n",
    "* Correctness is always one of these, hard to assert any others are met if not correct\n",
    "* Many requirements define what tests should be run, these are used to demonstrate the specification is met"
   ]
  },
  {
   "cell_type": "markdown",
   "metadata": {
    "slideshow": {
     "slide_type": "slide"
    }
   },
   "source": [
    "* **Error**: When the behaviour of the program differs from that stated in the specification\n",
    "* **Fault**: What component in the software caused the error to occur (ie. defective code or \"bug\")\n",
    "* **Failure**: When the software cannot perform its specified function\n",
    "----\n",
    "\n",
    "### Testing Objective:  <font color=\"red\">Identify faults by detecting when errors occur to minimize the frequency and cost of failure</font>"
   ]
  },
  {
   "cell_type": "markdown",
   "metadata": {
    "slideshow": {
     "slide_type": "slide"
    }
   },
   "source": [
    "### Design for testability\n",
    "\n",
    "* Develop code and systems to be composed of testable units\n",
    "* Encourages good practice by enforcing the notion of modularity and composition of components\n",
    "* Discourages defining software which is hard to show is correct or meets specification\n",
    "* Testable code tends to be maintainable and well designed"
   ]
  },
  {
   "cell_type": "markdown",
   "metadata": {
    "slideshow": {
     "slide_type": "slide"
    }
   },
   "source": [
    "### Asserting correctness\n",
    "\n",
    "* Python includes an `assert` statement to check a condition is true at runtime\n",
    "* Used to ensure internal algorithm state is correct at certain stages\n",
    "* Not used to check external input or other conditions beyond the definition of the algorithm\n",
    "* Syntax: `assert C [,message]`: throws an exception is `C` evaluates to False with `message` as the exception message"
   ]
  },
  {
   "cell_type": "code",
   "execution_count": null,
   "metadata": {
    "slideshow": {
     "slide_type": "slide"
    }
   },
   "outputs": [],
   "source": [
    "def binary_search(items,item):\n",
    "    first, last = 0, len(items) - 1\n",
    "    mid = last // 2\n",
    "    \n",
    "    while first <= last and items[mid] != item :\n",
    "        mid = (first + last) // 2\n",
    "        \n",
    "        assert 0 <= mid < len(items), '`mid` out of bounds!'\n",
    "        \n",
    "        if item < items[mid]:\n",
    "            last = mid - 1\n",
    "        else:\n",
    "            first = mid + 1\n",
    "                \n",
    "    return mid\n",
    "\n",
    "binary_search([1,3,4,6,7,12,18,25],13)"
   ]
  },
  {
   "cell_type": "markdown",
   "metadata": {
    "slideshow": {
     "slide_type": "slide"
    }
   },
   "source": [
    "* We use assertions to show algorithms are behaving as expected\n",
    "* Can be turned off at runtime for efficiency\n",
    "* Doesn't test the whole algorithm/routine/module\n",
    "* Unit tests are the common method for doing this instead"
   ]
  },
  {
   "cell_type": "markdown",
   "metadata": {
    "slideshow": {
     "slide_type": "slide"
    }
   },
   "source": [
    "# That's it!\n",
    "\n",
    "## Next Part: Unit tests"
   ]
  }
 ],
 "metadata": {
  "celltoolbar": "Slideshow",
  "kernelspec": {
   "display_name": "Python 3 (ipykernel)",
   "language": "python",
   "name": "python3"
  },
  "language_info": {
   "codemirror_mode": {
    "name": "ipython",
    "version": 3
   },
   "file_extension": ".py",
   "mimetype": "text/x-python",
   "name": "python",
   "nbconvert_exporter": "python",
   "pygments_lexer": "ipython3",
   "version": "3.10.13"
  }
 },
 "nbformat": 4,
 "nbformat_minor": 2
}
