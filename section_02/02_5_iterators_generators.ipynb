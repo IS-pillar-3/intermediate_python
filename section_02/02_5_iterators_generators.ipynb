{
 "cells": [
  {
   "cell_type": "markdown",
   "metadata": {
    "slideshow": {
     "slide_type": "slide"
    }
   },
   "source": [
    "#### <center>Intermediate Python and Software Enginnering</center>\n",
    "\n",
    "\n",
    "## <center>Section 02 - Part 05 - Iterators and generators</center>\n",
    "\n",
    "\n",
    "### <center>Innovation Scholars Programme</center>\n",
    "### <center>King's College London, Medical Research Council and UKRI <center>"
   ]
  },
  {
   "cell_type": "markdown",
   "metadata": {
    "slideshow": {
     "slide_type": "slide"
    }
   },
   "source": [
    "### Iterators\n",
    "* Object-oriented way of representing a traversal over data or some other sequence of values\n",
    "* Already seen in `for` loops with things like `range`\n",
    "* Designed as a consistent and universal way of visiting each element in a list or producing sequences"
   ]
  },
  {
   "cell_type": "markdown",
   "metadata": {
    "slideshow": {
     "slide_type": "slide"
    }
   },
   "source": [
    "#### Iterating Over A List\n",
    "* To iterate over a list, an iterator object is created which produces successive items on request\n",
    "* Iterators acquired from objects using the `iter()` function\n",
    "* Successive values are taken from this using `next()`"
   ]
  },
  {
   "cell_type": "code",
   "execution_count": null,
   "metadata": {
    "slideshow": {
     "slide_type": "fragment"
    }
   },
   "outputs": [],
   "source": [
    "intlist = [1, 56, 2, 42, -9, 1000]\n",
    "it = iter(intlist)\n",
    "print(it)\n",
    "print(next(it))\n",
    "print(next(it))"
   ]
  },
  {
   "cell_type": "markdown",
   "metadata": {
    "slideshow": {
     "slide_type": "slide"
    }
   },
   "source": [
    "* Iterators produce values until all are gone or the iteration is otherwise complete, at which point `StopIteration` is raised:"
   ]
  },
  {
   "cell_type": "code",
   "execution_count": null,
   "metadata": {
    "slideshow": {
     "slide_type": "fragment"
    }
   },
   "outputs": [],
   "source": [
    "intlist = [1, 56, 2, 42, -9, 1000]\n",
    "it = iter(intlist)\n",
    "isDone = False\n",
    "\n",
    "while not isDone:\n",
    "    try:\n",
    "        print(next(it))\n",
    "    except StopIteration:\n",
    "        print('Done!')\n",
    "        isDone = True"
   ]
  },
  {
   "cell_type": "markdown",
   "metadata": {
    "slideshow": {
     "slide_type": "slide"
    }
   },
   "source": [
    "* This can be done far more concisely with a `for` loop:"
   ]
  },
  {
   "cell_type": "code",
   "execution_count": null,
   "metadata": {
    "slideshow": {
     "slide_type": "fragment"
    }
   },
   "outputs": [],
   "source": [
    "intlist = [1, 56, 2, 42, -9, 1000]\n",
    "it = iter(intlist)\n",
    "\n",
    "for i in it: # or intlist directly\n",
    "    print(i)"
   ]
  },
  {
   "cell_type": "markdown",
   "metadata": {
    "slideshow": {
     "slide_type": "slide"
    }
   },
   "source": [
    "* When `iter()` is called on an object its `__iter__()` method is called to produce the iterator\n",
    "* An object with this method is termed iterable\n",
    "* For lists this produces the `list_iterator` object to define the traversal:"
   ]
  },
  {
   "cell_type": "code",
   "execution_count": null,
   "metadata": {
    "slideshow": {
     "slide_type": "fragment"
    }
   },
   "outputs": [],
   "source": [
    "intlist = [1, 56, 2, 42, -9, 1000]\n",
    "print(iter(intlist))\n",
    "print(intlist.__iter__())"
   ]
  },
  {
   "cell_type": "markdown",
   "metadata": {
    "slideshow": {
     "slide_type": "slide"
    }
   },
   "source": [
    "* When `next()` is called on the iterator its `__next__()` method is called to produce the next value:"
   ]
  },
  {
   "cell_type": "code",
   "execution_count": null,
   "metadata": {
    "slideshow": {
     "slide_type": "fragment"
    }
   },
   "outputs": [],
   "source": [
    "intlist = [1, 56, 2, 42, -9, 1000]\n",
    "it = iter(intlist)\n",
    "\n",
    "print(next(it), it.__next__())"
   ]
  },
  {
   "cell_type": "markdown",
   "metadata": {
    "slideshow": {
     "slide_type": "slide"
    }
   },
   "source": [
    "* We can define our own equivalent iterator with these methods:"
   ]
  },
  {
   "cell_type": "code",
   "execution_count": null,
   "metadata": {
    "slideshow": {
     "slide_type": "fragment"
    }
   },
   "outputs": [],
   "source": [
    "class list_iterator:\n",
    "    def __init__(self, thelist):\n",
    "        self.pos = 0\n",
    "        self.thelist = thelist\n",
    "    def __iter__(self): \n",
    "        return self # for loops want an iterable which an iterator is\n",
    "    def __next__(self):\n",
    "        if self.pos == len(self.thelist):\n",
    "            raise StopIteration    \n",
    "        val = self.thelist[self.pos]\n",
    "        self.pos += 1\n",
    "        return val\n",
    "    \n",
    "intlist=[1, 56, 2, 42, -9, 1000]\n",
    "for i in list_iterator(intlist):\n",
    "    print(i)"
   ]
  },
  {
   "cell_type": "markdown",
   "metadata": {
    "slideshow": {
     "slide_type": "slide"
    }
   },
   "source": [
    "* Iterators don't need to span over a data structure, just need to know how to produce the next item\n",
    "* `range` and others work this way by defining a start and end point with a calculation to generate values between them.\n",
    "* Eg. an iterator to generate each power of `base` from `0` to `maxPow`:"
   ]
  },
  {
   "cell_type": "code",
   "execution_count": null,
   "metadata": {
    "slideshow": {
     "slide_type": "slide"
    }
   },
   "outputs": [],
   "source": [
    "class powers:\n",
    "    def __init__(self, base, maxPow):\n",
    "        self.base=  base\n",
    "        self.maxPow = maxPow\n",
    "        self.current = 0\n",
    "    def __iter__(self):\n",
    "        return self\n",
    "    def __next__(self):\n",
    "        if self.current >= self.maxPow:\n",
    "            raise StopIteration\n",
    "        val=self.base ** self.current\n",
    "        self.current += 1\n",
    "        return val\n",
    "    \n",
    "list(powers(2, 10))"
   ]
  },
  {
   "cell_type": "markdown",
   "metadata": {
    "slideshow": {
     "slide_type": "slide"
    }
   },
   "source": [
    "#### Laziness\n",
    "* The `powers` type is called lazy in that it users lazy evaluation by not creating values until asked to do so\n",
    "* It doesn't build the list of numbers ahead of time, but incrementally calculates them on request\n",
    "* This is faster, more memory efficient, and permits some interesting tricks like infinite iterators or iterators generating values from other iterators without first accumulating everything in memory"
   ]
  },
  {
   "cell_type": "markdown",
   "metadata": {
    "slideshow": {
     "slide_type": "slide"
    }
   },
   "source": [
    "* Notice in the previous putting an iterator (or other iterable) as the argument to `list` pulls all the values from it\n",
    "* This can be done with `tuple` as well\n",
    "* `allvals = list(it)` is equivalent to:\n",
    "```python\n",
    "allvals = []\n",
    "for i in it:\n",
    "    allvals.append(i)\n",
    "```\n",
    "* Be careful with infinite generators!"
   ]
  },
  {
   "cell_type": "markdown",
   "metadata": {
    "slideshow": {
     "slide_type": "slide"
    }
   },
   "source": [
    "* `*` syntax can be used to pull all values out from an iterable with assignment:"
   ]
  },
  {
   "cell_type": "code",
   "execution_count": null,
   "metadata": {
    "slideshow": {
     "slide_type": "fragment"
    }
   },
   "outputs": [],
   "source": [
    "first, *rest = powers(2, 10)\n",
    "print(first, rest)"
   ]
  },
  {
   "cell_type": "code",
   "execution_count": null,
   "metadata": {
    "slideshow": {
     "slide_type": "fragment"
    }
   },
   "outputs": [],
   "source": [
    "first, *mid, last = powers(2, 10)\n",
    "print(first, mid, last)"
   ]
  },
  {
   "cell_type": "markdown",
   "metadata": {
    "slideshow": {
     "slide_type": "slide"
    }
   },
   "source": [
    "* We can create iterators with the `for` expression:\n",
    "```python\n",
    "(E for v in C [if P])\n",
    "```"
   ]
  },
  {
   "cell_type": "code",
   "execution_count": null,
   "metadata": {
    "slideshow": {
     "slide_type": "fragment"
    }
   },
   "outputs": [],
   "source": [
    "string = 'Hello, world'\n",
    "minOrd = 65 # keep only letters\n",
    "upper = (i.upper() for i in string if ord(i) >= minOrd)\n",
    "\n",
    "print(upper, list(upper))"
   ]
  },
  {
   "cell_type": "markdown",
   "metadata": {
    "slideshow": {
     "slide_type": "fragment"
    }
   },
   "source": [
    "* Notice the expression can bind names outside its definition"
   ]
  },
  {
   "cell_type": "markdown",
   "metadata": {
    "slideshow": {
     "slide_type": "slide"
    }
   },
   "source": [
    "* `for` expressions can be used to explicitly construct lists in list comprehensions:"
   ]
  },
  {
   "cell_type": "code",
   "execution_count": null,
   "metadata": {
    "slideshow": {
     "slide_type": "fragment"
    }
   },
   "outputs": [],
   "source": [
    "print([i**2 for i in (1,2,3,4)])"
   ]
  },
  {
   "cell_type": "markdown",
   "metadata": {
    "slideshow": {
     "slide_type": "fragment"
    }
   },
   "source": [
    "* Tuples requires the use of the keyword:"
   ]
  },
  {
   "cell_type": "code",
   "execution_count": null,
   "metadata": {
    "slideshow": {
     "slide_type": "fragment"
    }
   },
   "outputs": [],
   "source": [
    "print(tuple(i**2 for i in (1,2,3,4)))"
   ]
  },
  {
   "cell_type": "markdown",
   "metadata": {
    "slideshow": {
     "slide_type": "slide"
    }
   },
   "source": [
    "* Example of chaining lazy iterators together:"
   ]
  },
  {
   "cell_type": "code",
   "execution_count": null,
   "metadata": {
    "slideshow": {
     "slide_type": "fragment"
    }
   },
   "outputs": [],
   "source": [
    "it = iter('Hello, iterator') # returns each character sucessively\n",
    "print(it)\n",
    "itupper = (i.upper() for i in it) # takes a char at a time & upper cases it\n",
    "print(itupper)\n",
    "print(tuple(itupper))"
   ]
  },
  {
   "cell_type": "markdown",
   "metadata": {
    "slideshow": {
     "slide_type": "fragment"
    }
   },
   "source": [
    "* `itupper` is lazy, only asking for a value from `it` when it's required to produce a value itself"
   ]
  },
  {
   "cell_type": "markdown",
   "metadata": {
    "slideshow": {
     "slide_type": "slide"
    }
   },
   "source": [
    "#### Generator Routines\n",
    "* Defining iterators is painful, there must be an easier way!\n",
    "* Python includes generators, a form of coroutine where the control flow of a routine exits at multiple places\n",
    "* For generators the `yield` statement is used to produce or yield a value when `next()` is called\n",
    "* Any function/method with a `yield` statement becomes a generator, when called an iterator object is returned instead of a return value\n",
    "* Code is then executed when `next()` is applied until a `yield` statement is encountered whose value is returned by `next()`"
   ]
  },
  {
   "cell_type": "code",
   "execution_count": null,
   "metadata": {
    "slideshow": {
     "slide_type": "slide"
    }
   },
   "outputs": [],
   "source": [
    "def toUpper(string):\n",
    "    print('Starting')\n",
    "    for i in string:\n",
    "        yield i.upper()\n",
    "        \n",
    "    print('Exiting')\n",
    "        \n",
    "g = toUpper('Hello, generators!')\n",
    "print(g, g.__next__)\n",
    "print(tuple(g))"
   ]
  },
  {
   "cell_type": "markdown",
   "metadata": {
    "slideshow": {
     "slide_type": "slide"
    }
   },
   "source": [
    "* Arguments can be passed like any routine, these can be used to define the iteration, eg. a better `powers`:"
   ]
  },
  {
   "cell_type": "code",
   "execution_count": null,
   "metadata": {
    "slideshow": {
     "slide_type": "fragment"
    }
   },
   "outputs": [],
   "source": [
    "def powersGen(base,maxPow):\n",
    "    for i in range(maxPow):\n",
    "        yield base**i\n",
    "        \n",
    "print(list(powersGen(2,10)))"
   ]
  },
  {
   "cell_type": "markdown",
   "metadata": {
    "slideshow": {
     "slide_type": "slide"
    }
   },
   "source": [
    "# That's it!\n",
    "\n",
    "## Next Part: `itertools` module"
   ]
  }
 ],
 "metadata": {
  "celltoolbar": "Slideshow",
  "kernelspec": {
   "display_name": "Python 3 (ipykernel)",
   "language": "python",
   "name": "python3"
  },
  "language_info": {
   "codemirror_mode": {
    "name": "ipython",
    "version": 3
   },
   "file_extension": ".py",
   "mimetype": "text/x-python",
   "name": "python",
   "nbconvert_exporter": "python",
   "pygments_lexer": "ipython3",
   "version": "3.10.13"
  }
 },
 "nbformat": 4,
 "nbformat_minor": 2
}
