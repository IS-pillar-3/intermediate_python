{
 "cells": [
  {
   "cell_type": "markdown",
   "metadata": {
    "slideshow": {
     "slide_type": "slide"
    }
   },
   "source": [
    "#### <center>Intermediate Python and Software Enginnering</center>\n",
    "\n",
    "\n",
    "\n",
    "## <center>Section 02 - Part 03 - Idiomatic Python</center>\n",
    "\n",
    "\n",
    "### <center>Innovation Scholars Programme</center>\n",
    "### <center>King's College London, Medical Research Council and UKRI <center>"
   ]
  },
  {
   "cell_type": "markdown",
   "metadata": {
    "slideshow": {
     "slide_type": "slide"
    }
   },
   "source": [
    "### Idiomatic Python\n",
    "* Many concepts and best practices are present in Python which help you write correct code faster\n",
    "* Often use particular features of Python, iterators is a big one\n",
    "* A few are bit stylistic but reduce amount of code, eg. using `in` operator to test multiple equalities:"
   ]
  },
  {
   "cell_type": "code",
   "execution_count": null,
   "metadata": {
    "slideshow": {
     "slide_type": "fragment"
    }
   },
   "outputs": [],
   "source": [
    "x = 'foo'\n",
    "if x == 'foo' or x == 'bar': # instead of this\n",
    "    pass\n",
    "\n",
    "if x in ('foo', 'bar'): # do this\n",
    "    pass"
   ]
  },
  {
   "cell_type": "markdown",
   "metadata": {
    "slideshow": {
     "slide_type": "slide"
    }
   },
   "source": [
    "* Comparison operators can be used in series:"
   ]
  },
  {
   "cell_type": "code",
   "execution_count": null,
   "metadata": {
    "slideshow": {
     "slide_type": "fragment"
    }
   },
   "outputs": [],
   "source": [
    "x=y=z=1\n",
    "\n",
    "# no good:\n",
    "if x <= y and y <= z:\n",
    "    pass # do something\n",
    "\n",
    "# better:\n",
    "if x <= y <= z:\n",
    "    pass # do something"
   ]
  },
  {
   "cell_type": "markdown",
   "metadata": {
    "slideshow": {
     "slide_type": "slide"
    }
   },
   "source": [
    "* `if` and `while` will evaluate their condition expressions to `bool` so no need to compared against `True/False`:"
   ]
  },
  {
   "cell_type": "code",
   "execution_count": null,
   "metadata": {
    "slideshow": {
     "slide_type": "fragment"
    }
   },
   "outputs": [],
   "source": [
    "# no good:\n",
    "if x == True:\n",
    "    pass # do something\n",
    "\n",
    "# better:\n",
    "if x:\n",
    "    pass # do something"
   ]
  },
  {
   "cell_type": "markdown",
   "metadata": {
    "slideshow": {
     "slide_type": "slide"
    }
   },
   "source": [
    "* To check that a value is `None` or not, use `is` or `is not` rather than treating it like a boolean comparison: "
   ]
  },
  {
   "cell_type": "code",
   "execution_count": null,
   "metadata": {
    "slideshow": {
     "slide_type": "fragment"
    }
   },
   "outputs": [],
   "source": [
    "# maybe bad:\n",
    "if x: # if x is a numpy ndarray this can be bad\n",
    "    pass # do something\n",
    "\n",
    "# no good:\n",
    "if x != None: # if x is a numpy ndarray this can be bad\n",
    "    pass # do something\n",
    "\n",
    "# good:\n",
    "if x is not None:\n",
    "    pass # do something"
   ]
  },
  {
   "cell_type": "markdown",
   "metadata": {
    "slideshow": {
     "slide_type": "slide"
    }
   },
   "source": [
    "* Sequences (lists, tuples) can be unpacked by being assigned to multiple variables\n",
    "* Works as single statement or in `for` loops"
   ]
  },
  {
   "cell_type": "code",
   "execution_count": null,
   "metadata": {
    "slideshow": {
     "slide_type": "fragment"
    }
   },
   "outputs": [],
   "source": [
    "values=[('foo', 'bar'), ('hello', 'world'), (1, 2), (3, 4)]\n",
    "\n",
    "for a, b in values:\n",
    "    print('a:', a, ', b:', b)"
   ]
  },
  {
   "cell_type": "markdown",
   "metadata": {
    "slideshow": {
     "slide_type": "slide"
    }
   },
   "source": [
    "* The underscore character (`_`) is a valid Python variable name\n",
    "* Commonly used to name a variable we need to declare but don't want to use, especially in expansions:"
   ]
  },
  {
   "cell_type": "code",
   "execution_count": null,
   "metadata": {
    "slideshow": {
     "slide_type": "fragment"
    }
   },
   "outputs": [],
   "source": [
    "for a, _ in values: # don't care about second value\n",
    "    print('a:', a)"
   ]
  },
  {
   "cell_type": "markdown",
   "metadata": {
    "slideshow": {
     "slide_type": "slide"
    }
   },
   "source": [
    "* Use `enumerate` to count values as you iterate over them in `for` loops rather than have separate incremented counters:"
   ]
  },
  {
   "cell_type": "code",
   "execution_count": null,
   "metadata": {
    "scrolled": true,
    "slideshow": {
     "slide_type": "fragment"
    }
   },
   "outputs": [],
   "source": [
    "#for i, v in enumerate(values):\n",
    " #   print(i, v)\n",
    "    \n",
    "i = 0\n",
    "for v in values:\n",
    "    print(i, v)\n",
    "    i += 1"
   ]
  },
  {
   "cell_type": "markdown",
   "metadata": {
    "slideshow": {
     "slide_type": "slide"
    }
   },
   "source": [
    "# That's it!\n",
    "\n",
    "## Next Part: Arguments"
   ]
  }
 ],
 "metadata": {
  "celltoolbar": "Slideshow",
  "kernelspec": {
   "display_name": "Python 3 (ipykernel)",
   "language": "python",
   "name": "python3"
  },
  "language_info": {
   "codemirror_mode": {
    "name": "ipython",
    "version": 3
   },
   "file_extension": ".py",
   "mimetype": "text/x-python",
   "name": "python",
   "nbconvert_exporter": "python",
   "pygments_lexer": "ipython3",
   "version": "3.10.13"
  }
 },
 "nbformat": 4,
 "nbformat_minor": 2
}
