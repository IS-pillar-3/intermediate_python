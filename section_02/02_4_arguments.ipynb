{
 "cells": [
  {
   "cell_type": "markdown",
   "metadata": {
    "slideshow": {
     "slide_type": "slide"
    }
   },
   "source": [
    "#### <center>Intermediate Python and Software Enginnering</center>\n",
    "\n",
    "\n",
    "## <center>Section 02 - Part 04 - Arguments</center>\n",
    "\n",
    "\n",
    "### <center>Innovation Scholars Programme</center>\n",
    "### <center>King's College London, Medical Research Council and UKRI <center>"
   ]
  },
  {
   "cell_type": "markdown",
   "metadata": {
    "slideshow": {
     "slide_type": "slide"
    }
   },
   "source": [
    "### Variable-length and Keyword Arguments\n",
    "* Arguments in Python routines can be specified in severals ways to allow variation:\n",
    "  * Accepting a variable length list of arguments not given by keyword\n",
    "  * Accepting a dictionary of keyword/value pairs for keyword arguments\n",
    "  \n",
    "* Recall that arguments to a routine can be specified by place or by explicitly assigning values by keyword"
   ]
  },
  {
   "cell_type": "markdown",
   "metadata": {
    "slideshow": {
     "slide_type": "slide"
    }
   },
   "source": [
    "* Eg. for a function:\n",
    "```\n",
    "def func(x,y): pass\n",
    "```\n",
    "  * `func(3,'foo')` passes `3` to `x` and `'foo'` to `y` implicitly with positional arguments\n",
    "  * `func(x=3,y='foo')` does the same explicitly with keyword arguments\n",
    "  * `func(3,y='foo')` does the same with a mix"
   ]
  },
  {
   "cell_type": "markdown",
   "metadata": {
    "slideshow": {
     "slide_type": "slide"
    }
   },
   "source": [
    "* Passing further arguments with either approach will cause an exception:\n",
    "  * `func(3,'foo','bar')` -> <font color=\"red\">TypeError: func() takes 2 positional arguments but 3 were given</font>\n",
    "  * `func(3,'foo',z='bar')` -> <font color=\"red\">TypeError: func() got an unexpected keyword argument 'z'</font>\n",
    "  "
   ]
  },
  {
   "cell_type": "markdown",
   "metadata": {
    "slideshow": {
     "slide_type": "slide"
    }
   },
   "source": [
    "* An argument with a `*` can be provided after all other positional arguments to accept additional positional values:"
   ]
  },
  {
   "cell_type": "code",
   "execution_count": null,
   "metadata": {
    "slideshow": {
     "slide_type": "fragment"
    }
   },
   "outputs": [],
   "source": [
    "def func(x, y, *args):\n",
    "    print(x, y, args)\n",
    "\n",
    "func(3, 'foo', 'bar')\n",
    "func(3, 'foo', 'bar', 'baz', 42)"
   ]
  },
  {
   "cell_type": "markdown",
   "metadata": {
    "slideshow": {
     "slide_type": "slide"
    }
   },
   "source": [
    "* `*args` collects whatever doesn't fall into other positional arguments into a tuple\n",
    "  * This object is fresh and free meaning it's a new object the routine can keep, manipulate, or return safely\n",
    "  \n",
    "* Mixing variable arguments with keyword assignment is still fraught with danger:\n",
    "  * `func(3,'baz',y='bar')` -> <font color=\"red\">TypeError: func() got multiple values for argument 'y'</font>\n",
    "  * `func(3,'baz',args='bar')` -> <font color=\"red\">TypeError: func() got an unexpected keyword argument 'args'</font>"
   ]
  },
  {
   "cell_type": "markdown",
   "metadata": {
    "slideshow": {
     "slide_type": "slide"
    }
   },
   "source": [
    "* Similarly an argument with `**` can be provided after all other arguments to accept additional keyword values:"
   ]
  },
  {
   "cell_type": "code",
   "execution_count": null,
   "metadata": {
    "slideshow": {
     "slide_type": "fragment"
    }
   },
   "outputs": [],
   "source": [
    "def func(x, y, **kwargs):\n",
    "    print(x, y, kwargs)\n",
    "\n",
    "func(3, 'foo', bar='bar')\n",
    "func(x=3, y='foo', bar='bar', baz='baz')"
   ]
  },
  {
   "cell_type": "markdown",
   "metadata": {
    "slideshow": {
     "slide_type": "slide"
    }
   },
   "source": [
    "* `**kwargs` collects keyword arguments into a free and fresh dictionary\n",
    "* Again this will put up a fight with the wrong combination of arguments:\n",
    "  * `func(3,'foo',bar='bar',y='baz')` -> <font color=\"red\">TypeError: func() got multiple values for argument 'y'</font>"
   ]
  },
  {
   "cell_type": "markdown",
   "metadata": {
    "slideshow": {
     "slide_type": "slide"
    }
   },
   "source": [
    "* Using both `*` and `**` arguments and nothing else allows a function to be defined which accepts any combination of arguments:"
   ]
  },
  {
   "cell_type": "code",
   "execution_count": null,
   "metadata": {
    "slideshow": {
     "slide_type": "fragment"
    }
   },
   "outputs": [],
   "source": [
    "def everything(*args, **kwargs):\n",
    "    print(args, kwargs)\n",
    "    \n",
    "everything(1, 2, 'three', four=4)\n",
    "everything()"
   ]
  },
  {
   "cell_type": "markdown",
   "metadata": {
    "slideshow": {
     "slide_type": "slide"
    }
   },
   "source": [
    "* `*` and `**` can be used to expand a sequence or dictionary of values into their respective arguments:"
   ]
  },
  {
   "cell_type": "code",
   "execution_count": null,
   "metadata": {
    "slideshow": {
     "slide_type": "fragment"
    }
   },
   "outputs": [],
   "source": [
    "def func(x, y, **kwargs):\n",
    "    print(x, y, kwargs)\n",
    "    \n",
    "valuelist = [4, 'plunk']\n",
    "func(*valuelist, z='baz')\n",
    "\n",
    "valuemap={'x':4, 'y':'plunk', 'z':'baz'}\n",
    "func(**valuemap)"
   ]
  },
  {
   "cell_type": "markdown",
   "metadata": {
    "slideshow": {
     "slide_type": "slide"
    }
   },
   "source": [
    "* Can be used to modify arguments passed to another function:"
   ]
  },
  {
   "cell_type": "code",
   "execution_count": null,
   "metadata": {
    "slideshow": {
     "slide_type": "fragment"
    }
   },
   "outputs": [],
   "source": [
    "def everything(*args, **kwargs):\n",
    "    print(args, kwargs)\n",
    "    \n",
    "def addArgs(*args, **kwargs):\n",
    "    kwargs['added'] = 'new arg!'\n",
    "    everything('first', 'second', *args, **kwargs)\n",
    "    \n",
    "addArgs(1, 'foo', bar='baz')"
   ]
  },
  {
   "cell_type": "markdown",
   "metadata": {
    "slideshow": {
     "slide_type": "slide"
    }
   },
   "source": [
    "# That's it!\n",
    "\n",
    "## Next Part: Iterators and generators"
   ]
  }
 ],
 "metadata": {
  "celltoolbar": "Slideshow",
  "kernelspec": {
   "display_name": "Python 3 (ipykernel)",
   "language": "python",
   "name": "python3"
  },
  "language_info": {
   "codemirror_mode": {
    "name": "ipython",
    "version": 3
   },
   "file_extension": ".py",
   "mimetype": "text/x-python",
   "name": "python",
   "nbconvert_exporter": "python",
   "pygments_lexer": "ipython3",
   "version": "3.10.13"
  }
 },
 "nbformat": 4,
 "nbformat_minor": 2
}
