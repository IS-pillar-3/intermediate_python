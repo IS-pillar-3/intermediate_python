{
 "cells": [
  {
   "cell_type": "markdown",
   "metadata": {
    "slideshow": {
     "slide_type": "slide"
    }
   },
   "source": [
    "#### <center>Intermediate Python and Software Enginnering</center>\n",
    "\n",
    "\n",
    "## <center>Week 02 - Excercises</center>\n",
    "\n",
    "\n",
    "### <center>Innovation Scholars Programme</center>\n",
    "### <center>King's College London, Medical Research Council and UKRI <center>"
   ]
  },
  {
   "cell_type": "markdown",
   "metadata": {},
   "source": [
    "# Exercises\n",
    "\n",
    "The purpose of this notebook is to practice with the concepts of lambda expressions, zip, iterators, generators, and itertools."
   ]
  },
  {
   "cell_type": "markdown",
   "metadata": {},
   "source": [
    "---\n",
    "## Some functions and lambdas!\n",
    "\n",
    "Here is a string (run this cell first):"
   ]
  },
  {
   "cell_type": "code",
   "execution_count": null,
   "metadata": {},
   "outputs": [],
   "source": [
    "alphabet = 'abcdefghijklmnopqrstuvwxyz'\n",
    "\n",
    "# get the consonants by converting alphabet to a set and getting the difference between it and the set of vowels\n",
    "consonants = set(alphabet).difference('aeiou')"
   ]
  },
  {
   "cell_type": "markdown",
   "metadata": {},
   "source": [
    "The `map` function applies a given function to each value from an input data structure and produces the output from that function. For example, doubling a list of integers:\n",
    "\n",
    "```python\n",
    "    mapvals = map(lambda i: i * 2, [1, 2, 3, 4])\n",
    "    print(list(mapvals)) # prints [2, 4, 6, 8]\n",
    "```\n",
    "\n",
    "### Exercise 1:\n",
    "Using the map function with a lambda, create a new version of `alphabet` the vowels 'aeiou' converted to uppercase. \n",
    "\n",
    "Hint: the in-place conditional expression\n",
    "```python\n",
    "    X if COND else Y\n",
    "```\n",
    "will equal `X` if expression `COND` evaluates to True otherwise will equal `Y`, you might want to use this in your lambda."
   ]
  },
  {
   "cell_type": "code",
   "execution_count": null,
   "metadata": {},
   "outputs": [],
   "source": []
  },
  {
   "cell_type": "markdown",
   "metadata": {},
   "source": [
    "Using the map function and a function you define, convert all the consonants to uppercase:"
   ]
  },
  {
   "cell_type": "code",
   "execution_count": null,
   "metadata": {},
   "outputs": [],
   "source": []
  },
  {
   "cell_type": "markdown",
   "metadata": {},
   "source": [
    "Print out `alphabet` with all vowels in upper case then with all consonants in lower case:"
   ]
  },
  {
   "cell_type": "code",
   "execution_count": null,
   "metadata": {},
   "outputs": [],
   "source": []
  },
  {
   "cell_type": "markdown",
   "metadata": {},
   "source": [
    "Bonus: given the simplicity of the operations above, you could write either as a list comprehension:"
   ]
  },
  {
   "cell_type": "code",
   "execution_count": null,
   "metadata": {},
   "outputs": [],
   "source": []
  },
  {
   "cell_type": "markdown",
   "metadata": {},
   "source": [
    "---\n",
    "## Populate a dictionary"
   ]
  },
  {
   "cell_type": "markdown",
   "metadata": {},
   "source": [
    "### Exercise 2:\n",
    "Given a list of cities and a corresponding list of populations:\n",
    "* Create a dictionary out of cities and populations using zip()\n",
    "* Print out each city and its population by alphabetic order\n",
    "* Print out each city and its population by decreasing population size"
   ]
  },
  {
   "cell_type": "code",
   "execution_count": null,
   "metadata": {},
   "outputs": [],
   "source": [
    "cities = ['Johannesburg', 'Beijing', 'Tokyo', 'London', 'Rio de Janeiro']\n",
    "populations = [4949000, 21707000, 13515000, 8825000, 6520000]\n",
    "\n",
    "# your code here"
   ]
  },
  {
   "cell_type": "markdown",
   "metadata": {},
   "source": [
    "---\n",
    "## Inner Functions and Partial\n",
    "\n",
    "Using partial, it is possible to 'bind' values to a function's parameters and then return a new callable object which can then be called with further unbound parameters. \n",
    "\n",
    "### Exercise 3:\n",
    "Using partial, we can create a function `treble_and_add_two` by binding the values `3` and `2` to `x` and `c` of a defined function `mult_and_add`:"
   ]
  },
  {
   "cell_type": "code",
   "execution_count": null,
   "metadata": {},
   "outputs": [],
   "source": [
    "from functools import partial \n",
    "\n",
    "def mult_and_add(x,y,c):\n",
    "    return x * y + c\n",
    "\n",
    "treble_and_add_two = partial(mult_and_add, x=3, c=2)\n",
    "\n",
    "print(treble_and_add_two(y=4))"
   ]
  },
  {
   "cell_type": "markdown",
   "metadata": {},
   "source": [
    "### Exercise 4:\n",
    "Write a function that allows you to bind values to `x` an `c` and returns a callable object that you can supply `y` to. Use it to make a function that doubles `y` and adds `3` to it:"
   ]
  },
  {
   "cell_type": "code",
   "execution_count": null,
   "metadata": {},
   "outputs": [],
   "source": [
    "def mult_and_add_factory(x, c):\n",
    "    # your code here using an inner defined function (ie. use def here)\n",
    "    pass\n",
    "\n",
    "def mult_and_add_lambda_factory(x, c):\n",
    "    # your code here using a lambda expression\n",
    "    pass\n",
    "\n",
    "double_and_add_three = mult_and_add_factory(2, 3)\n",
    "print(double_and_add_three(y=4))\n",
    "\n",
    "quadruple_and_add_five = mult_and_add_lambda_factory(4, 5)\n",
    "print(quadruple_and_add_five(y=3))"
   ]
  },
  {
   "cell_type": "markdown",
   "metadata": {},
   "source": [
    "---\n",
    "## Args + Kwargs\n",
    "\n",
    "As you have seen in the slides, python provides a special argument `*args`, which takes any number of positional parameters. \n",
    "\n",
    "### Exercise 5:\n",
    "Using \\*args, write a function `mult_plus_a_bit` that takes a variable number of inputs and multiplies them together, adding a bit to each new parameter before the multiplication:"
   ]
  },
  {
   "cell_type": "code",
   "execution_count": null,
   "metadata": {},
   "outputs": [],
   "source": [
    "\n",
    "def mult_plus_a_bit(*args, a_bit=1e-3):\n",
    "    # your code here\n",
    "    pass\n",
    "\n",
    "print(mult_plus_a_bit(*[1, 2, 3], a_bit=0.2))\n",
    "print(mult_plus_a_bit(1, 2, 3, 4, a_bit=0.2))"
   ]
  },
  {
   "cell_type": "markdown",
   "metadata": {},
   "source": [
    "### Exercise 6:\n",
    "Define a function which takes a variable number of keyword arguments and prints them with their values one per line in alphabetical order:"
   ]
  },
  {
   "cell_type": "code",
   "execution_count": null,
   "metadata": {},
   "outputs": [],
   "source": [
    "def print_kws(**kwargs):\n",
    "    # your code here\n",
    "    \n",
    "    \n",
    "print_kws(foo='bar', x=123, a='eh?')\n",
    "# Should print:\n",
    "#   a = eh?\n",
    "#   foo = bar\n",
    "#   x = 123"
   ]
  },
  {
   "cell_type": "markdown",
   "metadata": {},
   "source": [
    "---\n",
    "## Some Sorting\n",
    "\n",
    "The `sorted` function can be used to get the sorted version of a data structure in sorted order:"
   ]
  },
  {
   "cell_type": "code",
   "execution_count": null,
   "metadata": {},
   "outputs": [],
   "source": [
    "sentence = 'I Like Pizza With Pineapple.'\n",
    "\n",
    "def basic_sort(s):\n",
    "    return sorted(s)\n",
    "\n",
    "print(basic_sort(sentence))"
   ]
  },
  {
   "cell_type": "markdown",
   "metadata": {},
   "source": [
    "### Exercise 7:\n",
    "Filter out non-letters from string and sort the rest:"
   ]
  },
  {
   "cell_type": "code",
   "execution_count": null,
   "metadata": {},
   "outputs": [],
   "source": [
    "def sort_alphanumerics(s):\n",
    "    # your code here\n",
    "\n",
    "print(sort_alphanumerics(sentence))"
   ]
  },
  {
   "cell_type": "markdown",
   "metadata": {},
   "source": [
    "### Exercise 8:\n",
    "Sort with non-letters removed and capital letters last rather than first. Two potential approaches:\n",
    "* Split into two strings, and sort both independently\n",
    "* Sort the string using a clever function for the 'key' parameter: `sorted(s, key=lambda x: do something clever with x)`"
   ]
  },
  {
   "cell_type": "code",
   "execution_count": null,
   "metadata": {},
   "outputs": [],
   "source": [
    "def sort_with_capitals_last(s):\n",
    "    pass\n",
    "\n",
    "print(sort_with_capitals_last(sentence))"
   ]
  },
  {
   "cell_type": "markdown",
   "metadata": {},
   "source": [
    "### Exercise 9:\n",
    "Given `sentence`, reverse the ordering of words in the sentence, ie. \"I ekil azzip htiw elppaenip\". Python has a number of different ways that strings can be reversed:\n",
    "* Think about treating strings as lists\n",
    "* Consider slice syntax"
   ]
  },
  {
   "cell_type": "code",
   "execution_count": null,
   "metadata": {},
   "outputs": [],
   "source": [
    "def reverse_words(s):\n",
    "    #your code here - should return a sentence with the words reversed\n",
    "\n",
    "print(reverse_words(sentence))"
   ]
  },
  {
   "cell_type": "markdown",
   "metadata": {},
   "source": [
    "---\n",
    "## Exercise 10: Change Machine\n",
    "\n",
    "Emulate a machine that gives out change:\n",
    "* The user puts in a certain amount of money\n",
    "* The machine works out how much change the user is due given a total price\n",
    "* The machine always gives the fewest possible coins to make the change\n",
    "* Assume that the machine always has all denominations of coins available\n",
    "* The machine is configured with a set of coin denominations, eg. (1, 5, 10, 50, 100).\n",
    "  * This is an example of a 'nice' set of coins\n",
    "  * Later workshops will revisit this problem in a harder mode with optimisation through dynamic programming."
   ]
  },
  {
   "cell_type": "code",
   "execution_count": null,
   "metadata": {},
   "outputs": [],
   "source": [
    "class ChangeMachine:\n",
    "    def __init__(self, denominations):\n",
    "        # your code here, `denominations` is a list of numbers you should store\n",
    "        pass\n",
    "        \n",
    "    def give_change(self, price, supplied):\n",
    "        # your code here, figure out how much of each denomination to give, trying to minimize the number of coins\n",
    "        pass\n",
    "\n",
    "m = ChangeMachine([1, 5, 10, 50, 100]) # denominations in ascending order\n",
    "print(m.give_change(732, 1000)) # buying something for 732 with 1000 in cash"
   ]
  },
  {
   "cell_type": "markdown",
   "metadata": {},
   "source": [
    "---\n",
    "## Extra Exercise 11: Args + Kwargs\n",
    "\n",
    "The following function `fn` does a lot of useful stuff, but relies on lists being passed to it in a sorted order - use partial or an inner function to ensure that the list that is passed is always sorted"
   ]
  },
  {
   "cell_type": "code",
   "execution_count": null,
   "metadata": {},
   "outputs": [],
   "source": [
    "def fn(a, b, data=None, coeff_a=1.0, coeff_b=1e-4):\n",
    "    if not data:\n",
    "        return [], []\n",
    "    max_d = data[-1] # dangerous assumption - the data is sorted!\n",
    "    out_data_a = [coeff_a * x / max_d + a for x in data]\n",
    "    out_data_b = [coeff_b * x / max_d + b for x in data]\n",
    "    return out_data_a, out_data_b\n",
    "\n",
    "\n",
    "print('wrong!', fn(2, 3, data=[2, 7, 1, 9, 8, 3]))\n",
    "print('correct!', fn(2, 3, data=[1,2,3,7,8,9]))\n",
    "\n",
    "# wrap this function so that a sorted list is passed to the library function, you'll have to consider the data to sort being in either args or kwargs\n",
    "def my_fn(*args, **kwargs):\n",
    "    # your code here\n",
    "\n",
    "print(my_fn(1, 2, [1,3,2]))\n",
    "print(my_fn(1, 2, data=[1,3,2]))\n",
    "print(my_fn(1, 2, [1,3,2], 2, -0.5))\n",
    "print(my_fn(1, 2, [1,3,2], coeff_a=2, coeff_b=-0.5))\n",
    "print(my_fn(a=1, b=2, data=[1,3,2], coeff_a=2, coeff_b=-0.5))\n",
    "print(my_fn(coeff_b=-0.5, coeff_a=2, data=[1,3,2], a=1, b=2))\n"
   ]
  },
  {
   "cell_type": "markdown",
   "metadata": {},
   "source": [
    "---\n",
    "## Range and Enumerate\n",
    "\n",
    "We've seen the use of range() in a lot of places, which takes a start, stop, and step value to define a range of values. \n",
    "\n",
    "### Exercise 12\n",
    ":\n",
    "Provide an iterator class implementation to replicate this behaviour:"
   ]
  },
  {
   "cell_type": "code",
   "execution_count": null,
   "metadata": {},
   "outputs": [],
   "source": [
    "class my_range:\n",
    "    # your code here, refer to the notes with our powers class\n",
    "        \n",
    "print(list(my_range(1,10)))"
   ]
  },
  {
   "cell_type": "markdown",
   "metadata": {},
   "source": [
    "### Exercise 13:\n",
    "Implement iterator again as a generator function:"
   ]
  },
  {
   "cell_type": "code",
   "execution_count": null,
   "metadata": {},
   "outputs": [],
   "source": []
  },
  {
   "cell_type": "markdown",
   "metadata": {},
   "source": [
    "The function `enumerate()` produces pairs from a given iterable containing an incrementing count and the value itself, eg.:\n",
    "\n",
    "```python\n",
    "list(enumerate('hello')) \n",
    ">>> [(0, 'h'), (1, 'e'), (2, 'l'), (3, 'l'), (4, 'o')]\n",
    "```\n",
    "### Exercise 14:\n",
    "Provide a generator implementation of this function:"
   ]
  },
  {
   "cell_type": "code",
   "execution_count": null,
   "metadata": {},
   "outputs": [],
   "source": [
    "def my_enumerate(iterable):\n",
    "    # your code here\n",
    "    pass\n",
    "        \n",
    "print(list(my_enumerate(['a','b','c','d','e'])))"
   ]
  },
  {
   "cell_type": "markdown",
   "metadata": {},
   "source": [
    "---\n",
    "### Exercise 15:\n",
    "Write a function that returns the prime numbers between 2 and 'n' inclusive. There are lots of ways this can be done, both algorithmically and in terms of python. Think for loops, for...else loops, use of 'any', generators, etc. Feel free to use the simplest algorithm you can think of but try to implement this in at least two different ways."
   ]
  },
  {
   "cell_type": "code",
   "execution_count": null,
   "metadata": {},
   "outputs": [],
   "source": [
    "def primeloop(n):\n",
    "    # your code here\n",
    "    pass\n",
    "            \n",
    "print(primeloop.__name__)\n",
    "print(primeloop(50))"
   ]
  },
  {
   "cell_type": "markdown",
   "metadata": {},
   "source": [
    "---\n",
    "## Collatz conjecture\n",
    "\n",
    "The Collatz conjecture is a sequence of numbers starting with any positive integer and obeying the following rules:\n",
    "* If a value is odd, the next value is 3 * value + 1\n",
    "* If a value is even, the next value is value / 2\n",
    "\n",
    "Amazingly, a Collatz sequence starting with any positive integer is conjectured to always end up at 1. \n",
    "\n",
    "### Exercise 16: \n",
    "Write a generator using yield to generate the Collatz sequence starting with a positive integer that stops once the value 1 is reached:"
   ]
  },
  {
   "cell_type": "code",
   "execution_count": null,
   "metadata": {},
   "outputs": [],
   "source": [
    "def collatz(start):\n",
    "    # your code here\n",
    "    pass\n",
    "\n",
    "# eg. list(collatz(12)) should print [12, 6, 3, 10, 5, 16, 8, 4, 2, 1]\n",
    "\n",
    "for i in range(1, 15):\n",
    "    print(list(collatz(i)))"
   ]
  },
  {
   "cell_type": "markdown",
   "metadata": {},
   "source": [
    "### Exercise 17: \n",
    "Using this function, we can plot how many iterations are required for a given starting integer to reach 1 use matplotlib to generate a chart showing this for all positive integers up to 50 (inclusive):"
   ]
  },
  {
   "cell_type": "code",
   "execution_count": null,
   "metadata": {},
   "outputs": [],
   "source": [
    "%matplotlib inline\n",
    "import matplotlib.pyplot as plt\n",
    "\n",
    "# your code here"
   ]
  },
  {
   "cell_type": "markdown",
   "metadata": {},
   "source": [
    "---\n",
    "## Extra Exercise 18: Palindromic Substring\n",
    "\n",
    "Palindromic substrings are sequences of letters with symmetry, i.e. reversing the string results in a set of letters in the same order as the starting string. 'abba' is a palindromic string for example. Write a palindromic substring checker that finds the longest palidromic substring in each of the three given sentences."
   ]
  },
  {
   "cell_type": "code",
   "execution_count": null,
   "metadata": {},
   "outputs": [],
   "source": [
    "sentence1 = 'abcdefg' # all of these letters are palindromic substrings of length 1\n",
    "sentence2 = 'foreverevereies' # 'reverever' is the palindromic substring here\n",
    "sentence3 = 'hereinliesabbaseilforeverevere'\n",
    "\n",
    "\n",
    "def palindromic_substring(sentence):\n",
    "    # your code here\n",
    "    pass\n",
    "      \n",
    "print(palindromic_substring(sentence1))\n",
    "print(palindromic_substring(sentence2))\n",
    "print(palindromic_substring(sentence3))"
   ]
  },
  {
   "cell_type": "markdown",
   "metadata": {},
   "source": [
    "---\n",
    "## Extra Exercise 19: Count the k-mers\n",
    "\n",
    "A k-mer is a sequence of letters of length k (e.g. accg is a k-mer of length 4). We have provided you the a generator 'generate_letters' to create the sequence. Feel free to rewrite it another way or experiment with it however you like.\n",
    "\n",
    "Write the function `find_kmers` which:\n",
    " 1. Finds all k-mers in the given sequence of DNA\n",
    " 2. Prints the k-mers in decreasing frequency order with sequences of equal frequency in alphabetical order (read docs on sorted to see how to use `key` argument)\n",
    " 3. Prints a list of all k-mers which do not appear in the sequence\n",
    " \n",
    "Your solution should work for k-mers of length 3, 4, and 5."
   ]
  },
  {
   "cell_type": "code",
   "execution_count": null,
   "metadata": {},
   "outputs": [],
   "source": [
    "import random\n",
    "\n",
    "def generate_letters(length, seed=12345678):\n",
    "    letters = ['a', 'c', 'g', 't']\n",
    "    \n",
    "    random.seed(seed) # using a constant seed ensures the sequences of values from randint is the same\n",
    "    \n",
    "    for _ in range(length):\n",
    "        yield letters[random.randint(0, 3)]\n",
    "\n",
    "        \n",
    "dnasequence = ''.join(generate_letters(1000))\n",
    "\n",
    "\n",
    "def find_kmers(length, dna):\n",
    "    # your code here\n",
    "    pass\n",
    "\n",
    "\n",
    "find_kmers(3, dnasequence)\n",
    "find_kmers(4, dnasequence)\n",
    "find_kmers(5, dnasequence)"
   ]
  }
 ],
 "metadata": {
  "kernelspec": {
   "display_name": "Python 3 (ipykernel)",
   "language": "python",
   "name": "python3"
  },
  "language_info": {
   "codemirror_mode": {
    "name": "ipython",
    "version": 3
   },
   "file_extension": ".py",
   "mimetype": "text/x-python",
   "name": "python",
   "nbconvert_exporter": "python",
   "pygments_lexer": "ipython3",
   "version": "3.10.13"
  }
 },
 "nbformat": 4,
 "nbformat_minor": 2
}
