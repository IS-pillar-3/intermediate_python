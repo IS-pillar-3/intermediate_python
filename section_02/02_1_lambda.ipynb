{
 "cells": [
  {
   "cell_type": "markdown",
   "metadata": {
    "slideshow": {
     "slide_type": "slide"
    }
   },
   "source": [
    "#### <center>Intermediate Python and Software Enginnering</center>\n",
    "\n",
    "\n",
    "## <center>Section 02 - Part 01 - Lambda</center>\n",
    "\n",
    "\n",
    "### <center>Innovation Scholars Programme</center>\n",
    "### <center>King's College London, Medical Research Council and UKRI <center>"
   ]
  },
  {
   "cell_type": "markdown",
   "metadata": {
    "slideshow": {
     "slide_type": "slide"
    }
   },
   "source": [
    "### Lambda Expressions\n",
    "\n",
    "* Used to create anonymous functions which return only an expression\n",
    "* Can be used as values, passed as arguments, etc.\n",
    "* Roughly, <b>`func = lambda a, b, ... : E`</b> is equivalent to:\n",
    "```python\n",
    "def func(a, b, ...):\n",
    "    return E\n",
    "```\n",
    "where expression `E` relies on the arguments `a`, `b`, ..."
   ]
  },
  {
   "cell_type": "markdown",
   "metadata": {
    "slideshow": {
     "slide_type": "slide"
    }
   },
   "source": [
    "* Allows simple definitions of evaluatable expressions:"
   ]
  },
  {
   "cell_type": "code",
   "execution_count": null,
   "metadata": {
    "slideshow": {
     "slide_type": "fragment"
    }
   },
   "outputs": [],
   "source": [
    "mul2 = lambda x: x * 2\n",
    "\n",
    "print(mul2(13), mul2(-21))"
   ]
  },
  {
   "cell_type": "markdown",
   "metadata": {
    "slideshow": {
     "slide_type": "slide"
    }
   },
   "source": [
    "* Often used as arguments to other functions which require something callable to determine internal behaviour\n",
    "* Eg. the filter function uses a callable accepting each item and returning True/False to indicate whether to keep the item:"
   ]
  },
  {
   "cell_type": "code",
   "execution_count": null,
   "metadata": {
    "slideshow": {
     "slide_type": "fragment"
    }
   },
   "outputs": [],
   "source": [
    "intlist=[3, 14, 39, -4, 28, 2, 37]\n",
    "flist=filter(lambda i: i >= 0, intlist)\n",
    "\n",
    "print(list(flist)) # keep only positive values"
   ]
  },
  {
   "cell_type": "markdown",
   "metadata": {
    "slideshow": {
     "slide_type": "slide"
    }
   },
   "source": [
    "* Eg. when sorting a list, a `key` value accepts a list item and returns the key which is used for comparison, changing this allows the sort process to be modified:"
   ]
  },
  {
   "cell_type": "code",
   "execution_count": null,
   "metadata": {
    "slideshow": {
     "slide_type": "fragment"
    }
   },
   "outputs": [],
   "source": [
    "intlist=[3, 14, 39, -4, 28, 2, 37]\n",
    "\n",
    "print(sorted(intlist))\n",
    "print(sorted(intlist,key=lambda i: -i)) # reverse sort order\n",
    "# order by distance from 10\n",
    "print(sorted(intlist,key=lambda i: abs(10 - i))) "
   ]
  },
  {
   "cell_type": "markdown",
   "metadata": {
    "slideshow": {
     "slide_type": "slide"
    }
   },
   "source": [
    "# That's it!\n",
    "\n",
    "## Next Part: Name, scope and binding"
   ]
  }
 ],
 "metadata": {
  "celltoolbar": "Slideshow",
  "kernelspec": {
   "display_name": "Python 3 (ipykernel)",
   "language": "python",
   "name": "python3"
  },
  "language_info": {
   "codemirror_mode": {
    "name": "ipython",
    "version": 3
   },
   "file_extension": ".py",
   "mimetype": "text/x-python",
   "name": "python",
   "nbconvert_exporter": "python",
   "pygments_lexer": "ipython3",
   "version": "3.10.13"
  }
 },
 "nbformat": 4,
 "nbformat_minor": 2
}
