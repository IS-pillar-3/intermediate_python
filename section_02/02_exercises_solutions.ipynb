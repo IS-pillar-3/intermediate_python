{
 "cells": [
  {
   "cell_type": "markdown",
   "metadata": {
    "slideshow": {
     "slide_type": "slide"
    }
   },
   "source": [
    "#### <center>Intermediate Python and Software Enginnering</center>\n",
    "\n",
    "\n",
    "## <center>Section 02 - Excercises</center>\n",
    "\n",
    "\n",
    "### <center>Innovation Scholars Programme</center>\n",
    "### <center>King's College London, Medical Research Council and UKRI <center>"
   ]
  },
  {
   "cell_type": "markdown",
   "metadata": {},
   "source": [
    "# Exercises\n",
    "\n",
    "The purpose of this notebook is to practice with the concepts of lambda expressions, zip, iterators, generators, and itertools."
   ]
  },
  {
   "cell_type": "markdown",
   "metadata": {},
   "source": [
    "---\n",
    "## Some functions and lambdas!\n",
    "\n",
    "Here is a string (run this cell first):"
   ]
  },
  {
   "cell_type": "code",
   "execution_count": 26,
   "metadata": {},
   "outputs": [],
   "source": [
    "alphabet = 'abcdefghijklmnopqrstuvwxyz'\n",
    "\n",
    "# get the consonants by converting alphabet to a set and getting the difference between it and the set of vowels\n",
    "consonants = set(alphabet).difference('aeiou')"
   ]
  },
  {
   "cell_type": "markdown",
   "metadata": {},
   "source": [
    "The `map` function applies a given function to each value from an input data structure and produces the output from that function. For example, doubling a list of integers:\n",
    "\n",
    "```python\n",
    "    mapvals = map(lambda i: i * 2, [1, 2, 3, 4])\n",
    "    print(list(mapvals)) # prints [2, 4, 6, 8]\n",
    "```\n",
    "\n",
    "### Exercise 1:\n",
    "Using the map function with a lambda, create a new version of `alphabet` the vowels 'aeiou' converted to uppercase. \n",
    "\n",
    "Hint: the in-place conditional expression\n",
    "```python\n",
    "    X if COND else Y\n",
    "```\n",
    "will equal `X` if expression `COND` evaluates to True otherwise will equal `Y`, you might want to use this in your lambda."
   ]
  },
  {
   "cell_type": "code",
   "execution_count": 27,
   "metadata": {},
   "outputs": [
    {
     "name": "stdout",
     "output_type": "stream",
     "text": [
      "['A', 'b', 'c', 'd', 'E', 'f', 'g', 'h', 'I', 'j', 'k', 'l', 'm', 'n', 'O', 'p', 'q', 'r', 's', 't', 'U', 'v', 'w', 'x', 'y', 'z']\n"
     ]
    }
   ],
   "source": [
    "# print out string 'alphabet' with all vowels in upper case\n",
    "print(list(map(lambda x: x.upper() if x in 'aeiou' else x, alphabet)))"
   ]
  },
  {
   "cell_type": "markdown",
   "metadata": {},
   "source": [
    "Using the map function and a function you define, convert all the consonants to uppercase:"
   ]
  },
  {
   "cell_type": "code",
   "execution_count": 28,
   "metadata": {},
   "outputs": [
    {
     "name": "stdout",
     "output_type": "stream",
     "text": [
      "aBCDeFGHiJKLMNoPQRSTuVWXYZ\n"
     ]
    }
   ],
   "source": [
    "def consonants_to_upper(x):\n",
    "    return x.upper() if x in consonants else x\n",
    "\n",
    "# print out string 'alphabet' with all consonants in upper case\n",
    "print(''.join(map(consonants_to_upper, alphabet)))"
   ]
  },
  {
   "cell_type": "markdown",
   "metadata": {},
   "source": [
    "Print out `alphabet` with all vowels in upper case then with all consonants in lower case:"
   ]
  },
  {
   "cell_type": "code",
   "execution_count": 66,
   "metadata": {},
   "outputs": [
    {
     "name": "stdout",
     "output_type": "stream",
     "text": [
      "AEIOUbcdfghjklmnpqrstvwxyz\n",
      "AbcdEfghIjklmnOpqrstUvwxyz\n"
     ]
    }
   ],
   "source": [
    "print(''.join(sorted([c.upper() if c in 'aeiou' else c for c in alphabet],key=lambda i: i.lower() not in 'aeiou')))\n",
    "print(''.join([c.upper() if c in 'aeiou' else c for c in alphabet]))"
   ]
  },
  {
   "cell_type": "markdown",
   "metadata": {},
   "source": [
    "Bonus: given the simplicity of the operations above, you could write either as a list comprehension:"
   ]
  },
  {
   "cell_type": "code",
   "execution_count": 30,
   "metadata": {},
   "outputs": [
    {
     "name": "stdout",
     "output_type": "stream",
     "text": [
      "AbcdEfghIjklmnOpqrstUvwxyz\n"
     ]
    }
   ],
   "source": [
    "print(''.join([c.upper() if c in 'aeiou' else c for c in alphabet]))"
   ]
  },
  {
   "cell_type": "markdown",
   "metadata": {},
   "source": [
    "---\n",
    "## Populate a dictionary"
   ]
  },
  {
   "cell_type": "markdown",
   "metadata": {},
   "source": [
    "### Exercise 2:\n",
    "Given a list of cities and a corresponding list of populations:\n",
    "* Create a dictionary out of cities and populations using zip()\n",
    "* Print out each city and its population by alphabetic order\n",
    "* Print out each city and its population by decreasing population size"
   ]
  },
  {
   "cell_type": "code",
   "execution_count": 100,
   "metadata": {},
   "outputs": [
    {
     "name": "stdout",
     "output_type": "stream",
     "text": [
      "[('Beijing', 21707000), ('Johannesburg', 4949000), ('London', 8825000), ('Rio de Janeiro', 6520000), ('Tokyo', 13515000)]\n",
      "[('Beijing', 21707000), ('Tokyo', 13515000), ('London', 8825000), ('Rio de Janeiro', 6520000), ('Johannesburg', 4949000)]\n",
      "dict_items([('Johannesburg', 4949000), ('Beijing', 21707000), ('Tokyo', 13515000), ('London', 8825000), ('Rio de Janeiro', 6520000)])\n"
     ]
    }
   ],
   "source": [
    "cities = ['Johannesburg', 'Beijing', 'Tokyo', 'London', 'Rio de Janeiro']\n",
    "populations = [4949000, 21707000, 13515000, 8825000, 6520000]\n",
    "\n",
    "d = dict(zip(cities, populations))\n",
    "print(sorted(d.items()))\n",
    "print(sorted(d.items(), key=lambda x: -x[1]))\n",
    "print(d.items())"
   ]
  },
  {
   "cell_type": "markdown",
   "metadata": {},
   "source": [
    "---\n",
    "## Inner Functions and Partial\n",
    "\n",
    "Using partial, it is possible to 'bind' values to a function's parameters and then return a new callable object which can then be called with further unbound parameters. \n",
    "\n",
    "### Exercise 3:\n",
    "Using partial, we can create a function `treble_and_add_two` by binding the values `3` and `2` to `x` and `c` of a defined function `mult_and_add`:"
   ]
  },
  {
   "cell_type": "code",
   "execution_count": 32,
   "metadata": {},
   "outputs": [
    {
     "name": "stdout",
     "output_type": "stream",
     "text": [
      "14\n"
     ]
    }
   ],
   "source": [
    "from functools import partial \n",
    "\n",
    "def mult_and_add(x,y,c):\n",
    "    return x * y + c\n",
    "\n",
    "treble_and_add_two = partial(mult_and_add, x=3, c=2)\n",
    "\n",
    "print(treble_and_add_two(y=4))"
   ]
  },
  {
   "cell_type": "markdown",
   "metadata": {},
   "source": [
    "### Exercise 4:\n",
    "Write a function that allows you to bind values to `x` an `c` and returns a callable object that you can supply `y` to. Use it to make a function that doubles `y` and adds `3` to it:"
   ]
  },
  {
   "cell_type": "code",
   "execution_count": 61,
   "metadata": {},
   "outputs": [
    {
     "name": "stdout",
     "output_type": "stream",
     "text": [
      "11\n",
      "17\n"
     ]
    }
   ],
   "source": [
    "def mult_and_add_factory(x, c):\n",
    "    def _inner_fn(y):\n",
    "        return x * y + c\n",
    "      \n",
    "    return _inner_fn\n",
    "\n",
    "def mult_and_add_lambda_factory(x, c):\n",
    "    return lambda y: x * y + c\n",
    "\n",
    "double_and_add_three = mult_and_add_factory(2, 3)\n",
    "print(double_and_add_three(y=4))\n",
    "\n",
    "quadruple_and_add_five = mult_and_add_lambda_factory(4, 5)\n",
    "print(quadruple_and_add_five(y=3))"
   ]
  },
  {
   "cell_type": "markdown",
   "metadata": {},
   "source": [
    "---\n",
    "## Args + Kwargs\n",
    "\n",
    "As you have seen in the slides, python provides a special argument `*args`, which takes any number of positional parameters. \n",
    "\n",
    "### Exercise 5:\n",
    "Using \\*args, write a function `mult_plus_a_bit` that takes a variable number of inputs and multiplies them together, adding a bit to each new parameter before the multiplication:"
   ]
  },
  {
   "cell_type": "code",
   "execution_count": 34,
   "metadata": {},
   "outputs": [
    {
     "name": "stdout",
     "output_type": "stream",
     "text": [
      "8.448\n",
      "35.4816\n"
     ]
    }
   ],
   "source": [
    "\n",
    "def mult_plus_a_bit(*args, a_bit=1e-3):\n",
    "    current = 1.0\n",
    "    for a in args:\n",
    "        current *= (a + a_bit)\n",
    "    return current\n",
    "\n",
    "print(mult_plus_a_bit(*[1, 2, 3], a_bit=0.2))\n",
    "print(mult_plus_a_bit(1, 2, 3, 4, a_bit=0.2))"
   ]
  },
  {
   "cell_type": "markdown",
   "metadata": {},
   "source": [
    "### Exercise 6:\n",
    "Define a function which takes a variable number of keyword arguments and prints them with their values one per line in alphabetical order:"
   ]
  },
  {
   "cell_type": "code",
   "execution_count": 73,
   "metadata": {},
   "outputs": [
    {
     "name": "stdout",
     "output_type": "stream",
     "text": [
      "Initial order\n",
      "foo = bar\n",
      "x = 123\n",
      "a = eh?\n",
      "Sorted by key\n",
      "a = eh?\n",
      "foo = bar\n",
      "x = 123\n",
      "Sorted by value\n",
      "x = 123\n",
      "foo = bar\n",
      "a = eh?\n"
     ]
    }
   ],
   "source": [
    "def print_kws1(**kwargs):\n",
    "    print('Initial order')\n",
    "    for k, v in kwargs.items():\n",
    "        print(k,'=',v)\n",
    "\n",
    "def print_kws2(**kwargs):\n",
    "    print('Sorted by key')\n",
    "    for k, v in sorted(kwargs.items()):\n",
    "        print(k,'=',v)\n",
    "        \n",
    "def print_kws3(**kwargs):\n",
    "    print('Sorted by value')\n",
    "    for k, v in sorted(kwargs.items(), key=lambda i : str(i[1])):\n",
    "        print(k,'=',v)\n",
    "    \n",
    "print_kws1(foo='bar', x=123, a='eh?')\n",
    "print_kws2(foo='bar', x=123, a='eh?')\n",
    "print_kws3(foo='bar', x=123, a='eh?')\n",
    "# Should print:\n",
    "#   a = eh?\n",
    "#   foo = bar\n",
    "#   x = 123"
   ]
  },
  {
   "cell_type": "markdown",
   "metadata": {},
   "source": [
    "---\n",
    "## Some Sorting\n",
    "\n",
    "The `sorted` function can be used to get the sorted version of a data structure in sorted order:"
   ]
  },
  {
   "cell_type": "code",
   "execution_count": 36,
   "metadata": {},
   "outputs": [
    {
     "name": "stdout",
     "output_type": "stream",
     "text": [
      "[' ', ' ', ' ', ' ', '.', 'I', 'L', 'P', 'P', 'W', 'a', 'a', 'e', 'e', 'e', 'h', 'i', 'i', 'i', 'i', 'k', 'l', 'n', 'p', 'p', 't', 'z', 'z']\n"
     ]
    }
   ],
   "source": [
    "sentence = 'I Like Pizza With Pineapple.'\n",
    "\n",
    "def basic_sort(s):\n",
    "    return sorted(s)\n",
    "\n",
    "print(basic_sort(sentence))"
   ]
  },
  {
   "cell_type": "markdown",
   "metadata": {},
   "source": [
    "### Exercise 7:\n",
    "Filter out non-letters from string and sort the rest:"
   ]
  },
  {
   "cell_type": "code",
   "execution_count": 56,
   "metadata": {},
   "outputs": [
    {
     "name": "stdout",
     "output_type": "stream",
     "text": [
      "ILPPWaaeeehiiiiklnpptzz\n",
      "ILPPWaaeeehiiiiklnpptzz\n",
      "ILPPWaaeeehiiiiklnpptzz\n"
     ]
    }
   ],
   "source": [
    "def sort_alphanumerics1(s):\n",
    "    # non-letters are getting in the way! filter them out and sort the letters\n",
    "    return ''.join(sorted(filter(lambda x: x.isalpha(), s)))\n",
    "\n",
    "def sort_alphanumerics2(s):\n",
    "    # non-letters are getting in the way! filter them out and sort the letters\n",
    "    return ''.join(sorted([x for x in s if x.isalpha()]))\n",
    "\n",
    "def sort_alphanumerics3(s):\n",
    "    # non-letters are getting in the way! filter them out and sort the letters\n",
    "    def _inner_filter(seq):\n",
    "        for i in seq:\n",
    "            if i.isalpha():\n",
    "                yield i\n",
    "    return ''.join(sorted(_inner_filter(s)))\n",
    "\n",
    "print(sort_alphanumerics1(sentence))\n",
    "print(sort_alphanumerics2(sentence))\n",
    "print(sort_alphanumerics3(sentence))"
   ]
  },
  {
   "cell_type": "markdown",
   "metadata": {},
   "source": [
    "### Exercise 8:\n",
    "Sort with non-letters removed and capital letters last rather than first. Two potential approaches:\n",
    "* Split into two strings, and sort both independently\n",
    "* Sort the string using a clever function for the 'key' parameter: `sorted(s, key=lambda x: do something clever with x)`"
   ]
  },
  {
   "cell_type": "code",
   "execution_count": 83,
   "metadata": {},
   "outputs": [
    {
     "name": "stdout",
     "output_type": "stream",
     "text": [
      "aaeeehiiiiklnpptzzILPPW\n",
      "aaeeehiiiiklnpptzzILPPW\n"
     ]
    }
   ],
   "source": [
    "def sort_with_capitals_last1(s):\n",
    "    lower = []\n",
    "    upper = []\n",
    "    for i in s:\n",
    "        if i.isalpha():\n",
    "            if i.isupper():\n",
    "                upper.append(i)\n",
    "            else:\n",
    "                lower.append(i)\n",
    "    return ''.join(sorted(lower) + sorted(upper))\n",
    "\n",
    "def sort_with_capitals_last2(s):\n",
    "    fs = filter(lambda x: x.isalpha(), s)\n",
    "    sorted_s = sorted(fs, key=lambda x: (x.isupper(),x))\n",
    "    return ''.join(sorted_s)\n",
    "\n",
    "print(sort_with_capitals_last1(sentence))\n",
    "print(sort_with_capitals_last2(sentence))"
   ]
  },
  {
   "cell_type": "markdown",
   "metadata": {},
   "source": [
    "### Exercise 9:\n",
    "Given `sentence`, reverse the ordering of words in the sentence, ie. \"I ekil azzip htiw elppaenip\". Python has a number of different ways that strings can be reversed:\n",
    "* Think about treating strings as lists\n",
    "* Consider slice syntax"
   ]
  },
  {
   "cell_type": "code",
   "execution_count": 86,
   "metadata": {},
   "outputs": [
    {
     "name": "stdout",
     "output_type": "stream",
     "text": [
      "I ekiL azziP htiW .elppaeniP\n",
      "I ekiL azziP htiW .elppaeniP\n",
      "I ekiL azziP htiW elppaeniP.\n"
     ]
    }
   ],
   "source": [
    "def reverse_words_using_reverse(s):\n",
    "    words = s.split()\n",
    "    revwords = map(lambda w: ''.join(reversed(w)), words)\n",
    "    return ' '.join(revwords)\n",
    "\n",
    "\n",
    "def reverse_words_using_slice(s):\n",
    "    words = s.split()\n",
    "    revwords = list(map(lambda w: w[::-1], words))\n",
    "    return ' '.join(revwords)\n",
    "\n",
    "\n",
    "def reverse_words_the_hard_way(s): # not quite equivalent?\n",
    "    ls = list(s)\n",
    "\n",
    "    def find_word_start(s, i):\n",
    "        while i < len(s) and not s[i].isalpha():\n",
    "            i += 1\n",
    "        return i\n",
    "\n",
    "    def find_word_end(ls, i):\n",
    "        while i < len(s) and s[i].isalpha():\n",
    "            i += 1\n",
    "        return i\n",
    "    \n",
    "    def reverse_word(s, start_inc, end_exc):\n",
    "        i = start_inc\n",
    "        j = end_exc-1\n",
    "        while i < j:\n",
    "            s[i], s[j] = s[j], s[i]\n",
    "            i += 1\n",
    "            j -= 1\n",
    "            \n",
    "    cend = 0\n",
    "    while True:\n",
    "        cstart = find_word_start(ls, cend)\n",
    "        if cstart == len(ls):\n",
    "            break\n",
    "        cend = find_word_end(ls, cstart)\n",
    "        reverse_word(ls, cstart, cend)\n",
    "        if cend == len(ls):\n",
    "            break\n",
    "        cstart = cend\n",
    "    return ''.join(ls)\n",
    "\n",
    "  \n",
    "for fn in reverse_words_using_reverse, reverse_words_using_slice, reverse_words_the_hard_way:\n",
    "    print(fn(sentence))"
   ]
  },
  {
   "cell_type": "markdown",
   "metadata": {},
   "source": [
    "---\n",
    "## Exercise 10: Change Machine\n",
    "\n",
    "Emulate a machine that gives out change:\n",
    "* The user puts in a certain amount of money\n",
    "* The machine works out how much change the user is due given a total price\n",
    "* The machine always gives the fewest possible coins to make the change\n",
    "* Assume that the machine always has all denominations of coins available\n",
    "* The machine is configured with a set of coin denominations, eg. (1, 5, 10, 50, 100).\n",
    "  * This is an example of a 'nice' set of coins\n",
    "  * Later workshops will revisit this problem in a harder mode with optimisation through dynamic programming."
   ]
  },
  {
   "cell_type": "code",
   "execution_count": 40,
   "metadata": {},
   "outputs": [
    {
     "name": "stdout",
     "output_type": "stream",
     "text": [
      "{1: 3, 5: 1, 10: 1, 50: 1, 100: 2}\n"
     ]
    }
   ],
   "source": [
    "class ChangeMachine:\n",
    "    def __init__(self, denominations):\n",
    "        self._denominations = sorted(denominations)\n",
    "        \n",
    "    def give_change(self, price, supplied):\n",
    "        # Creation of a dictionary to accumulate the change to return\n",
    "        change = {d:0 for d in self._denominations}\n",
    "        # Computation of the total amount to return\n",
    "        remaining = supplied - price\n",
    "        for i in reversed(self._denominations):\n",
    "            while remaining >= i:\n",
    "                change[i] += 1\n",
    "                remaining -= i\n",
    "        return change\n",
    "\n",
    "m = ChangeMachine([1, 5, 10, 50, 100]) # denominations in ascending order\n",
    "print(m.give_change(732, 1000)) # buying something for 732 with 1000 in cash"
   ]
  },
  {
   "cell_type": "markdown",
   "metadata": {},
   "source": [
    "---\n",
    "## Extra Exercise 11: Args + Kwargs\n",
    "\n",
    "The following function `fn` does a lot of useful stuff, but relies on lists being passed to it in a sorted order - use partial or an inner function to ensure that the list that is passed is always sorted"
   ]
  },
  {
   "cell_type": "code",
   "execution_count": 41,
   "metadata": {},
   "outputs": [
    {
     "name": "stdout",
     "output_type": "stream",
     "text": [
      "wrong! ([2.6666666666666665, 4.333333333333334, 2.3333333333333335, 5.0, 4.666666666666666, 3.0], [3.0000666666666667, 3.0002333333333335, 3.0000333333333336, 3.0003, 3.0002666666666666, 3.0001])\n",
      "correct! ([2.111111111111111, 2.2222222222222223, 2.3333333333333335, 2.7777777777777777, 2.888888888888889, 3.0], [3.000011111111111, 3.0000222222222224, 3.0000333333333336, 3.000077777777778, 3.000088888888889, 3.0001])\n",
      "([1.3333333333333333, 1.6666666666666665, 2.0], [2.0000333333333336, 2.0000666666666667, 2.0001])\n",
      "([1.3333333333333333, 1.6666666666666665, 2.0], [2.0000333333333336, 2.0000666666666667, 2.0001])\n",
      "([1.6666666666666665, 2.333333333333333, 3.0], [1.8333333333333333, 1.6666666666666667, 1.5])\n",
      "([1.6666666666666665, 2.333333333333333, 3.0], [1.8333333333333333, 1.6666666666666667, 1.5])\n",
      "([1.6666666666666665, 2.333333333333333, 3.0], [1.8333333333333333, 1.6666666666666667, 1.5])\n",
      "([1.6666666666666665, 2.333333333333333, 3.0], [1.8333333333333333, 1.6666666666666667, 1.5])\n"
     ]
    }
   ],
   "source": [
    "def fn(a, b, data=None, coeff_a=1.0, coeff_b=1e-4):\n",
    "    if not data:\n",
    "        return [], []\n",
    "    max_d = data[-1] # dangerous assumption - the data is sorted!\n",
    "    out_data_a = [coeff_a * x / max_d + a for x in data]\n",
    "    out_data_b = [coeff_b * x / max_d + b for x in data]\n",
    "    return out_data_a, out_data_b\n",
    "\n",
    "\n",
    "print('wrong!', fn(2, 3, data=[2, 7, 1, 9, 8, 3]))\n",
    "print('correct!', fn(2, 3, data=[1,2,3,7,8,9]))\n",
    "\n",
    "# wrap this function so that a sorted list is passed to the library function, you'll have to consider the data to sort being in either args or kwargs\n",
    "def my_fn(*args, **kwargs):\n",
    "    if len(args) >= 3:\n",
    "        args = list(args)\n",
    "        args[2] = sorted(args[2])\n",
    "    elif 'data' in kwargs:\n",
    "        kwargs['data'] = sorted(kwargs['data'])\n",
    "    return fn(*args, **kwargs)\n",
    "\n",
    "print(my_fn(1, 2, [1,3,2]))\n",
    "print(my_fn(1, 2, data=[1,3,2]))\n",
    "print(my_fn(1, 2, [1,3,2], 2, -0.5))\n",
    "print(my_fn(1, 2, [1,3,2], coeff_a=2, coeff_b=-0.5))\n",
    "print(my_fn(a=1, b=2, data=[1,3,2], coeff_a=2, coeff_b=-0.5))\n",
    "print(my_fn(coeff_b=-0.5, coeff_a=2, data=[1,3,2], a=1, b=2))\n"
   ]
  },
  {
   "cell_type": "markdown",
   "metadata": {},
   "source": [
    "---\n",
    "## Range and Enumerate\n",
    "\n",
    "We've seen the use of range() in a lot of places, which takes a start, stop, and step value to define a range of values. \n",
    "\n",
    "### Exercise 12\n",
    ":\n",
    "Provide an iterator class implementation to replicate this behaviour:"
   ]
  },
  {
   "cell_type": "code",
   "execution_count": 101,
   "metadata": {},
   "outputs": [
    {
     "name": "stdout",
     "output_type": "stream",
     "text": [
      "[1, 2, 3, 4, 5, 6, 7, 8, 9]\n"
     ]
    }
   ],
   "source": [
    "class my_range:\n",
    "    def __init__(self, start, end_exclusive):\n",
    "        self._start = start\n",
    "        self._end_exclusive = end_exclusive\n",
    "\n",
    "    def __iter__(self):\n",
    "        self._current = self._start\n",
    "        return self\n",
    "        \n",
    "    def __next__(self):\n",
    "        if self._current >= self._end_exclusive:\n",
    "            raise StopIteration\n",
    "        else:\n",
    "            current = self._current\n",
    "            self._current += 1\n",
    "            return current\n",
    "        \n",
    "print(list(my_range(1,10)))"
   ]
  },
  {
   "cell_type": "markdown",
   "metadata": {},
   "source": [
    "### Exercise 13:\n",
    "Implement iterator again as a generator function:"
   ]
  },
  {
   "cell_type": "code",
   "execution_count": 43,
   "metadata": {},
   "outputs": [
    {
     "name": "stdout",
     "output_type": "stream",
     "text": [
      "[0, 1, 2, 3, 4, 5, 6, 7, 8, 9]\n"
     ]
    }
   ],
   "source": [
    "def my_range_gen(start,end):\n",
    "    i=0\n",
    "    while i<end:\n",
    "        yield i\n",
    "        i+=1\n",
    "        \n",
    "print(list(my_range_gen(1,10)))"
   ]
  },
  {
   "cell_type": "markdown",
   "metadata": {},
   "source": [
    "The function `enumerate()` produces pairs from a given iterable containing an incrementing count and the value itself, eg.:\n",
    "\n",
    "```python\n",
    "list(enumerate('hello')) \n",
    ">>> [(0, 'h'), (1, 'e'), (2, 'l'), (3, 'l'), (4, 'o')]\n",
    "```\n",
    "### Exercise 14:\n",
    "Provide a generator implementation of this function:"
   ]
  },
  {
   "cell_type": "code",
   "execution_count": 44,
   "metadata": {},
   "outputs": [
    {
     "name": "stdout",
     "output_type": "stream",
     "text": [
      "[(0, 'a'), (1, 'b'), (2, 'c'), (3, 'd'), (4, 'e')]\n"
     ]
    }
   ],
   "source": [
    "def my_enumerate(iterable):\n",
    "    i = 0\n",
    "    for e in iterable:\n",
    "        yield i, e\n",
    "        i += 1\n",
    "        \n",
    "print(list(my_enumerate(['a','b','c','d','e'])))"
   ]
  },
  {
   "cell_type": "markdown",
   "metadata": {},
   "source": [
    "---\n",
    "### Exercise 15:\n",
    "Write a function that returns the prime numbers between 2 and 'n' inclusive. There are lots of ways this can be done, both algorithmically and in terms of python. Think for loops, for...else loops, use of 'any', generators, etc. Feel free to use the simplest algorithm you can think of but try to implement this in at least two different ways."
   ]
  },
  {
   "cell_type": "code",
   "execution_count": 88,
   "metadata": {},
   "outputs": [
    {
     "name": "stdout",
     "output_type": "stream",
     "text": [
      "primeloop\n",
      "[2, 3, 5, 7, 11, 13, 17, 19, 23, 29, 31, 37, 41, 43, 47]\n",
      "primeloop\n",
      "[2, 3, 5, 7, 11, 13, 17, 19, 23, 29, 31, 37, 41, 43, 47, 53, 59, 61, 67, 71, 73, 79, 83, 89, 97]\n",
      "primeloop2\n",
      "[2, 3, 4, 5, 6, 7, 8, 9, 10, 11, 12, 13, 14, 15, 16, 17, 18, 19, 20, 21, 22, 23, 24, 25, 26, 27, 28, 29, 30, 31, 32, 33, 34, 35, 36, 37, 38, 39, 40, 41, 42, 43, 44, 45, 46, 47, 48, 49, 50, 51, 52, 53, 54, 55, 56, 57, 58, 59, 60, 61, 62, 63, 64, 65, 66, 67, 68, 69, 70, 71, 72, 73, 74, 75, 76, 77, 78, 79, 80, 81, 82, 83, 84, 85, 86, 87, 88, 89, 90, 91, 92, 93, 94, 95, 96, 97, 98, 99, 100]\n",
      "primeloop3\n",
      "[2, 3, 5, 7, 11, 13, 17, 19, 23, 29, 31, 37, 41, 43, 47, 53, 59, 61, 67, 71, 73, 79, 83, 89, 97]\n",
      "primeloop4\n",
      "[2, 3, 5, 7, 11, 13, 17, 19, 23, 29, 31, 37, 41, 43, 47, 53, 59, 61, 67, 71, 73, 79, 83, 89, 97]\n"
     ]
    }
   ],
   "source": [
    "def primeloop(n):\n",
    "    result=[]\n",
    "    \n",
    "    for i in range(2, n+1):\n",
    "\n",
    "        foundmultiple = False\n",
    "        for j in range(i-1, 1, -1):\n",
    "            if i % j == 0:\n",
    "                foundmultiple = True\n",
    "                break\n",
    "\n",
    "        if not foundmultiple:\n",
    "            result.append(i)\n",
    "            \n",
    "    return result\n",
    "            \n",
    "print(primeloop.__name__)\n",
    "print(primeloop(50))\n",
    "\n",
    "# Other solutions:\n",
    "\n",
    "# use a for...else loop (quite a python-specific construct)\n",
    "# this avoids the requirement for a local variable\n",
    "def primeloop2(n):\n",
    "    result=[]\n",
    "    \n",
    "    for i in range(2, n+1):\n",
    "\n",
    "        for j in range(i-1, 1, -1):\n",
    "            if i % j == 0:\n",
    "                break\n",
    "        else:\n",
    "            result.append(i)\n",
    "            \n",
    "    return result\n",
    "\n",
    "\n",
    "def primeloop3(n):\n",
    "    result=[]\n",
    "    \n",
    "    for i in range(2, n+1):\n",
    "        if not any(i%j==0 for j in range(i-1, 1, -1)):\n",
    "            result.append(i)\n",
    "            \n",
    "    return result\n",
    "            \n",
    "            \n",
    "def primeloop4(n):\n",
    "    hasDivisor=lambda i: any(i%j==0 for j in range(i-1, 1, -1))\n",
    "    \n",
    "    return [i for i in range(2,n+1) if not hasDivisor(i)]\n",
    "            \n",
    "            \n",
    "def getprimes(n, primeloop):\n",
    "    result = list()\n",
    "    \n",
    "    primeloop(n, result)\n",
    "            \n",
    "    return result\n",
    "\n",
    "\n",
    "for op in primeloop,primeloop2,primeloop3,primeloop4:\n",
    "    print(op.__name__)\n",
    "    print(op(100))"
   ]
  },
  {
   "cell_type": "markdown",
   "metadata": {},
   "source": [
    "---\n",
    "## Collatz conjecture\n",
    "\n",
    "The Collatz conjecture is a sequence of numbers starting with any positive integer and obeying the following rules:\n",
    "* If a value is odd, the next value is 3 * value + 1\n",
    "* If a value is even, the next value is value / 2\n",
    "\n",
    "Amazingly, a Collatz sequence starting with any positive integer is conjectured to always end up at 1. \n",
    "\n",
    "### Exercise 16: \n",
    "Write a generator using yield to generate the Collatz sequence starting with a positive integer that stops once the value 1 is reached:"
   ]
  },
  {
   "cell_type": "code",
   "execution_count": 95,
   "metadata": {},
   "outputs": [
    {
     "name": "stdout",
     "output_type": "stream",
     "text": [
      "[1]\n",
      "[2, 1]\n",
      "[3, 10, 5, 16, 8, 4, 2, 1]\n",
      "[4, 2, 1]\n",
      "[5, 16, 8, 4, 2, 1]\n",
      "[6, 3, 10, 5, 16, 8, 4, 2, 1]\n",
      "[7, 22, 11, 34, 17, 52, 26, 13, 40, 20, 10, 5, 16, 8, 4, 2, 1]\n",
      "[8, 4, 2, 1]\n",
      "[9, 28, 14, 7, 22, 11, 34, 17, 52, 26, 13, 40, 20, 10, 5, 16, 8, 4, 2, 1]\n",
      "[10, 5, 16, 8, 4, 2, 1]\n",
      "[11, 34, 17, 52, 26, 13, 40, 20, 10, 5, 16, 8, 4, 2, 1]\n",
      "[12, 6, 3, 10, 5, 16, 8, 4, 2, 1]\n",
      "[13, 40, 20, 10, 5, 16, 8, 4, 2, 1]\n",
      "[14, 7, 22, 11, 34, 17, 52, 26, 13, 40, 20, 10, 5, 16, 8, 4, 2, 1]\n"
     ]
    }
   ],
   "source": [
    "def collatz(start):\n",
    "    cur = start\n",
    "    yield cur\n",
    "    while cur != 1:\n",
    "        cur = 3 * cur + 1 if cur % 2 else int(cur / 2)\n",
    "        yield cur\n",
    "\n",
    "# eg. list(collatz(12)) should print [12, 6, 3, 10, 5, 16, 8, 4, 2, 1]\n",
    "\n",
    "for i in range(1, 15):\n",
    "    print(list(collatz(i)))"
   ]
  },
  {
   "cell_type": "markdown",
   "metadata": {},
   "source": [
    "### Exercise 17: \n",
    "Using this function, we can plot how many iterations are required for a given starting integer to reach 1 use matplotlib to generate a chart showing this for all positive integers up to 50 (inclusive):"
   ]
  },
  {
   "cell_type": "code",
   "execution_count": 47,
   "metadata": {},
   "outputs": [
    {
     "data": {
      "text/plain": [
       "<BarContainer object of 50 artists>"
      ]
     },
     "execution_count": 47,
     "metadata": {},
     "output_type": "execute_result"
    },
    {
     "data": {
      "image/png": "[encoded data removed]",
      "text/plain": [
       "<Figure size 432x288 with 1 Axes>"
      ]
     },
     "metadata": {
      "needs_background": "light"
     },
     "output_type": "display_data"
    }
   ],
   "source": [
    "%matplotlib inline\n",
    "import matplotlib.pyplot as plt\n",
    "\n",
    "max_i = 50\n",
    "plt.bar([i for i in range(1,max_i+1)], [len(list(collatz(i))) for i in range(1, max_i+1)])"
   ]
  },
  {
   "cell_type": "markdown",
   "metadata": {},
   "source": [
    "---\n",
    "## Extra Exercise 18: Palindromic Substring\n",
    "\n",
    "Palindromic substrings are sequences of letters with symmetry, i.e. reversing the string results in a set of letters in the same order as the starting string. 'abba' is a palindromic string for example. Write a palindromic substring checker that finds the longest palidromic substring in each of the three given sentences."
   ]
  },
  {
   "cell_type": "code",
   "execution_count": 96,
   "metadata": {},
   "outputs": [
    {
     "name": "stdout",
     "output_type": "stream",
     "text": [
      "a\n",
      "reverever\n",
      "liesabbaseil\n"
     ]
    }
   ],
   "source": [
    "sentence1 = 'abcdefg' # all of these letters are palindromic substrings of length 1\n",
    "sentence2 = 'foreverevereies' # 'reverever' is the palindromic substring here\n",
    "sentence3 = 'hereinliesabbaseilforeverevere'\n",
    "\n",
    "\n",
    "def palindromic_substring_brute_force(sentence):\n",
    "    def isPalindrome(s):\n",
    "        return s[0]==s[-1] and isPalindrome(s[1:-1]) if s else True\n",
    "\n",
    "    lims = (0,1)\n",
    "    for i in range(len(sentence)):\n",
    "        for j in range(i+1,len(sentence)):\n",
    "            if isPalindrome(sentence[i:j]):\n",
    "                if j - i > lims[1] - lims[0]:\n",
    "                    lims = (i, j)\n",
    "    return sentence[lims[0]:lims[1]]\n",
    "\n",
    "\n",
    "def palindromic_substring(sentence):\n",
    "    def str_size(s, e):\n",
    "        return e - s + 1\n",
    "    max_start = 0\n",
    "    max_end = 0\n",
    "    \n",
    "    for i in range(0, len(sentence)):\n",
    "        s = i\n",
    "        e = i\n",
    "        # firstly, find out if this is the start of a sequence of identical characters\n",
    "        while e+1 < len(sentence) and sentence[e+1] == sentence[e]:\n",
    "            e += 1\n",
    "        \n",
    "        # now look backwards and forwards, as long as the new letters are identical to\n",
    "        # each other\n",
    "        while s-1 >= 0 and e+1 < len(sentence) and sentence[s-1] == sentence[e+1]:\n",
    "            s -= 1\n",
    "            e += 1\n",
    "\n",
    "        if str_size(s, e) > str_size(max_start, max_end):\n",
    "            max_start = s\n",
    "            max_end = e\n",
    "    \n",
    "    return sentence[max_start: max_end +1]\n",
    "      \n",
    "print(palindromic_substring(sentence1))\n",
    "print(palindromic_substring(sentence2))\n",
    "print(palindromic_substring(sentence3))"
   ]
  },
  {
   "cell_type": "markdown",
   "metadata": {},
   "source": [
    "---\n",
    "## Extra Exercise 19: Count the k-mers\n",
    "\n",
    "A k-mer is a sequence of letters of length k (e.g. accg is a k-mer of length 4). We have provided you the a generator 'generate_letters' to create the sequence. Feel free to rewrite it another way or experiment with it however you like.\n",
    "\n",
    "Write the function `find_kmers` which:\n",
    " 1. Finds all k-mers in the given sequence of DNA\n",
    " 2. Prints the k-mers in decreasing frequency order with sequences of equal frequency in alphabetical order (read docs on sorted to see how to use `key` argument)\n",
    " 3. Prints a list of all k-mers which do not appear in the sequence\n",
    " \n",
    "Your solution should work for k-mers of length 3, 4, and 5."
   ]
  },
  {
   "cell_type": "code",
   "execution_count": 49,
   "metadata": {},
   "outputs": [
    {
     "name": "stdout",
     "output_type": "stream",
     "text": [
      "(30, 'acg') (26, 'gtt') (26, 'tac') (23, 'cta') (22, 'cca') (22, 'tag') (22, 'ttt') (21, 'cgt') (21, 'gat') (20, 'aaa') (20, 'ata') (19, 'aga') (19, 'cac') (19, 'gaa') (19, 'gcc') (19, 'tcc') (19, 'tct') (19, 'tta') (18, 'act') (18, 'ccg') (18, 'ctc') (18, 'ggc') (17, 'aac') (17, 'ccc') (17, 'gct') (17, 'ttc') (16, 'agg') (16, 'cga') (16, 'cgg') (16, 'gga') (15, 'aag') (15, 'atc') (15, 'cgc') (15, 'tgt') (14, 'aca') (14, 'cag') (14, 'tgg') (14, 'ttg') (13, 'acc') (13, 'agc') (13, 'att') (13, 'cat') (13, 'ctg') (13, 'taa') (13, 'tat') (12, 'gac') (12, 'ggg') (12, 'gta') (11, 'aat') (11, 'agt') (11, 'caa') (11, 'cct') (11, 'ctt') (11, 'ggt') (11, 'gtg') (11, 'tca') (10, 'atg') (10, 'gca') (10, 'gcg') (10, 'tcg') (10, 'tgc') (9, 'gtc') (9, 'tga') (8, 'gag')\n",
      "[]\n",
      "0\n",
      "\n",
      "(13, 'cgtt') (11, 'tacg') (10, 'ctcc') (9, 'acga') (9, 'taga') (8, 'acgc') (8, 'ccac') (8, 'ctac') (8, 'gaaa') (8, 'ggcc') (8, 'gtta') (8, 'gttt') (8, 'tcta') (8, 'ttac') (8, 'ttct') (7, 'aacg') (7, 'acgt') (7, 'actc') (7, 'agaa') (7, 'agct') (7, 'atat') (7, 'cact') (7, 'ccat') (7, 'ccca') (7, 'ccgt') (7, 'cgat') (7, 'gata') (7, 'gcta') (7, 'tgtt') (6, 'aaag') (6, 'acgg') (6, 'acta') (6, 'agat') (6, 'atcc') (6, 'atct') (6, 'cacc') (6, 'cgcc') (6, 'cggc') (6, 'ctaa') (6, 'ctag') (6, 'gacg') (6, 'gatg') (6, 'gccg') (6, 'ggaa') (6, 'ggat') (6, 'ggca') (6, 'gggc') (6, 'gtag') (6, 'tact') (6, 'tata') (6, 'tcca') (6, 'tccg') (6, 'tgct') (6, 'ttgt') (6, 'tttc') (6, 'tttt') (5, 'aaaa') (5, 'aaat') (5, 'aaca') (5, 'aagg') (5, 'aatt') (5, 'agga') (5, 'aggc') (5, 'atac') (5, 'atag') (5, 'atta') (5, 'cacg') (5, 'catc') (5, 'ccag') (5, 'cgga') (5, 'cgta') (5, 'cttt') (5, 'gaac') (5, 'gatt') (5, 'gcca') (5, 'gcgt') (5, 'gctc') (5, 'gtac') (5, 'gttc') (5, 'gttg') (5, 'taac') (5, 'taca') (5, 'tagt') (5, 'tccc') (5, 'tctt') (5, 'tggt') (5, 'ttag') (5, 'ttgg') (5, 'ttta') (5, 'tttg') (4, 'aaac') (4, 'aagc') (4, 'acaa') (4, 'acat') (4, 'acca') (4, 'accc') (4, 'actg') (4, 'agac') (4, 'agtg') (4, 'caaa') (4, 'cagc') (4, 'cagg') (4, 'cata') (4, 'cccc') (4, 'cccg') (4, 'ccga') (4, 'ccgg') (4, 'cctg') (4, 'cgaa') (4, 'cggg') (4, 'ctct') (4, 'ctgc') (4, 'ctgt') (4, 'gaag') (4, 'gaga') (4, 'gcac') (4, 'gccc') (4, 'gcct') (4, 'gcgg') (4, 'ggtc') (4, 'gtca') (4, 'gtcg') (4, 'gtgc') (4, 'gtgg') (4, 'tacc') (4, 'tagc') (4, 'tagg') (4, 'tatc') (4, 'tcac') (4, 'tcag') (4, 'tctc') (4, 'tgac') (4, 'tgga') (4, 'tggg') (4, 'ttaa') (3, 'aacc') (3, 'aaga') (3, 'aagt') (3, 'aata') (3, 'aatc') (3, 'acac') (3, 'acag') (3, 'acct') (3, 'agcc') (3, 'aggg') (3, 'aggt') (3, 'agta') (3, 'agtt') (3, 'ataa') (3, 'atgg') (3, 'atgt') (3, 'attc') (3, 'attt') (3, 'caac') (3, 'caga') (3, 'cagt') (3, 'ccgc') (3, 'cctt') (3, 'cgag') (3, 'cgca') (3, 'cgcg') (3, 'cgct') (3, 'ctat') (3, 'ctga') (3, 'cttc') (3, 'gaca') (3, 'gact') (3, 'gagg') (3, 'gatc') (3, 'gctg') (3, 'ggcg') (3, 'gggt') (3, 'ggtt') (3, 'taaa') (3, 'taag') (3, 'tcaa') (3, 'tcga') (3, 'tcgc') (3, 'tgtc') (3, 'tgtg') (3, 'ttca') (3, 'ttcc') (3, 'ttcg') (3, 'ttga') (2, 'aact') (2, 'accg') (2, 'agag') (2, 'agcg') (2, 'atca') (2, 'atga') (2, 'atgc') (2, 'attg') (2, 'caag') (2, 'caat') (2, 'catg') (2, 'catt') (2, 'ccaa') (2, 'ccct') (2, 'ccta') (2, 'cctc') (2, 'cgac') (2, 'cgtg') (2, 'ctca') (2, 'ctcg') (2, 'ctgg') (2, 'cttg') (2, 'gaat') (2, 'gcaa') (2, 'gcag') (2, 'gcat') (2, 'gctt') (2, 'ggac') (2, 'ggag') (2, 'ggga') (2, 'ggta') (2, 'ggtg') (2, 'gtgt') (2, 'taat') (2, 'tatg') (2, 'tcct') (2, 'tcgg') (2, 'tcgt') (2, 'tctg') (2, 'tgaa') (2, 'tgat') (2, 'tgcc') (2, 'tgcg') (2, 'tgta') (2, 'ttat') (1, 'actt') (1, 'agca') (1, 'agtc') (1, 'atcg') (1, 'caca') (1, 'cgtc') (1, 'ctta') (1, 'gagc') (1, 'gcgc') (1, 'ggct') (1, 'gggg') (1, 'gtat') (1, 'gtct') (1, 'gtga') (1, 'tatt') (1, 'tgag') (1, 'tggc')\n",
      "['aatg', 'cggt', 'gacc', 'gagt', 'gcga', 'gtaa', 'gtcc', 'tcat', 'tgca', 'ttgc']\n",
      "10\n",
      "\n",
      "(5, 'acgat') (5, 'acgtt') (5, 'atata') (5, 'gacga') (5, 'tctaa') (5, 'ttcta') (4, 'acgga') (4, 'actac') (4, 'actcc') (4, 'agcta') (4, 'catct') (4, 'ccgtt') (4, 'cgata') (4, 'cgtta') (4, 'cgttt') (4, 'ctacg') (4, 'gggcc') (4, 'gttct') (4, 'tacgc') (4, 'tacgg') (4, 'tactc') (4, 'tagaa') (3, 'aaagt') (3, 'aacgt') (3, 'aagct') (3, 'aaggc') (3, 'aatta') (3, 'acgcc') (3, 'acgct') (3, 'agaag') (3, 'aggcc') (3, 'atact') (3, 'ataga') (3, 'atcca') (3, 'attag') (3, 'caccc') (3, 'cacta') (3, 'ccacc') (3, 'ccact') (3, 'ccata') (3, 'ccatc') (3, 'cccac') (3, 'cgaaa') (3, 'cggat') (3, 'cggca') (3, 'cgttc') (3, 'ctagt') (3, 'ctcca') (3, 'ctccc') (3, 'ctccg') (3, 'ctgac') (3, 'gaaag') (3, 'gaacg') (3, 'gatac') (3, 'gccat') (3, 'gccgg') (3, 'gcggg') (3, 'gcgtt') (3, 'gctat') (3, 'gctcc') (3, 'ggaaa') (3, 'ggccg') (3, 'ggcct') (3, 'ggcgt') (3, 'gtacg') (3, 'gtaga') (3, 'gtgct') (3, 'gttaa') (3, 'gttac') (3, 'gttgt') (3, 'gttta') (3, 'tacat') (3, 'tagac') (3, 'tagtg') (3, 'tatat') (3, 'tatcc') (3, 'tccac') (3, 'tccgt') (3, 'tcttt') (3, 'tgcta') (3, 'tgctc') (3, 'tggtc') (3, 'tgttt') (3, 'ttaac') (3, 'ttacc') (3, 'ttacg') (3, 'ttaga') (3, 'ttgtt') (3, 'tttga') (2, 'aaaaa') (2, 'aaaac') (2, 'aaacc') (2, 'aaagg') (2, 'aaata') (2, 'aaatt') (2, 'aacaa') (2, 'aacag') (2, 'aaccg') (2, 'aacgc') (2, 'aactc') (2, 'aagat') (2, 'acaaa') (2, 'acacg') (2, 'acagg') (2, 'accat') (2, 'accca') (2, 'acctg') (2, 'acgaa') (2, 'acggc') (2, 'actag') (2, 'actca') (2, 'actgt') (2, 'agaac') (2, 'agaca') (2, 'agatc') (2, 'agatg') (2, 'agcca') (2, 'aggag') (2, 'agggc') (2, 'aggtt') (2, 'agtac') (2, 'agtgc') (2, 'agtgg') (2, 'agtta') (2, 'atagc') (2, 'atatc') (2, 'atccc') (2, 'atcta') (2, 'atctc') (2, 'atgga') (2, 'attac') (2, 'attca') (2, 'caaag') (2, 'caaat') (2, 'caatc') (2, 'cacct') (2, 'cacgc') (2, 'cactg') (2, 'cagat') (2, 'cagcc') (2, 'cagct') (2, 'cagga') (2, 'cataa') (2, 'ccacg') (2, 'ccaga') (2, 'ccagc') (2, 'cccat') (2, 'cccca') (2, 'ccccc') (2, 'cccgc') (2, 'ccctt') (2, 'ccgag') (2, 'ccgat') (2, 'ccgca') (2, 'ccggc') (2, 'ccgta') (2, 'ccttc') (2, 'cgacg') (2, 'cgaga') (2, 'cgatt') (2, 'cgcat') (2, 'cgcca') (2, 'cgccc') (2, 'cgccg') (2, 'cgcgg') (2, 'cgctg') (2, 'cggaa') (2, 'cggga') (2, 'cgggc') (2, 'cgtac') (2, 'cgtag') (2, 'cgttg') (2, 'ctaaa') (2, 'ctaag') (2, 'ctact') (2, 'ctagc') (2, 'ctatc') (2, 'ctcac') (2, 'ctctt') (2, 'ctgct') (2, 'ctgtc') (2, 'cttct') (2, 'cttgg') (2, 'ctttg') (2, 'ctttt') (2, 'gaaac') (2, 'gaaat') (2, 'gaaca') (2, 'gaagc') (2, 'gacac') (2, 'gacta') (2, 'gagat') (2, 'gaggg') (2, 'gatag') (2, 'gatat') (2, 'gatcc') (2, 'gatgc') (2, 'gatgg') (2, 'gattc') (2, 'gcact') (2, 'gcagc') (2, 'gccgt') (2, 'gccta') (2, 'gcctc') (2, 'gcgta') (2, 'gctac') (2, 'gctag') (2, 'gctct') (2, 'ggaac') (2, 'ggata') (2, 'ggatg') (2, 'ggatt') (2, 'ggcaa') (2, 'ggcac') (2, 'ggcag') (2, 'ggtag') (2, 'ggtcg') (2, 'ggttg') (2, 'gtagg') (2, 'gtcag') (2, 'gtggt') (2, 'gtgtt') (2, 'gttgg') (2, 'gtttc') (2, 'gtttt') (2, 'taaaa') (2, 'taacg') (2, 'taatt') (2, 'tacca') (2, 'tacgt') (2, 'tagag') (2, 'tagct') (2, 'tagga') (2, 'tatag') (2, 'tcaac') (2, 'tcacc') (2, 'tcagg') (2, 'tcagt') (2, 'tccag') (2, 'tccca') (2, 'tcccg') (2, 'tccga') (2, 'tcctg') (2, 'tcgaa') (2, 'tcgcg') (2, 'tctag') (2, 'tctcc') (2, 'tctcg') (2, 'tgacg') (2, 'tggaa') (2, 'tgggt') (2, 'tgtca') (2, 'tgtgc') (2, 'tgtta') (2, 'tgttc') (2, 'ttaca') (2, 'ttcaa') (2, 'ttccg') (2, 'ttgaa') (2, 'ttggg') (2, 'ttggt') (2, 'ttgtg') (2, 'tttac') (2, 'tttcc') (2, 'tttcg') (2, 'tttgt') (2, 'tttta') (2, 'ttttc') (1, 'aaaat') (1, 'aaaca') (1, 'aaacg') (1, 'aaaga') (1, 'aaatc') (1, 'aacat') (1, 'aacca') (1, 'aacga') (1, 'aacgg') (1, 'aagaa') (1, 'aagca') (1, 'aagga') (1, 'aaggt') (1, 'aagta') (1, 'aagtc') (1, 'aagtt') (1, 'aataa') (1, 'aatac') (1, 'aatat') (1, 'aatca') (1, 'aatcc') (1, 'aatcg') (1, 'aattc') (1, 'aattg') (1, 'acaag') (1, 'acaat') (1, 'acact') (1, 'acaga') (1, 'acata') (1, 'acatc') (1, 'acatg') (1, 'acatt') (1, 'accac') (1, 'accag') (1, 'acccg') (1, 'accct') (1, 'accgg') (1, 'accgt') (1, 'acctt') (1, 'acgac') (1, 'acgag') (1, 'acgca') (1, 'acgcg') (1, 'acgta') (1, 'acgtg') (1, 'actct') (1, 'actga') (1, 'actgc') (1, 'acttg') (1, 'agaaa') (1, 'agaat') (1, 'agacg') (1, 'agact') (1, 'agaga') (1, 'agagg') (1, 'agata') (1, 'agatt') (1, 'agcac') (1, 'agcct') (1, 'agcgg') (1, 'agcgt') (1, 'agctc') (1, 'agctg') (1, 'agctt') (1, 'aggaa') (1, 'aggac') (1, 'aggat') (1, 'aggca') (1, 'aggcg') (1, 'agggt') (1, 'aggta') (1, 'agtag') (1, 'agtca') (1, 'agttg') (1, 'ataaa') (1, 'ataac') (1, 'ataag') (1, 'ataca') (1, 'atacg') (1, 'atcac') (1, 'atcag') (1, 'atccg') (1, 'atcgg') (1, 'atctg') (1, 'atctt') (1, 'atgac') (1, 'atgat') (1, 'atgcg') (1, 'atgct') (1, 'atggt') (1, 'atgtc') (1, 'atgtg') (1, 'atgtt') (1, 'attct') (1, 'attgg') (1, 'attgt') (1, 'atttc') (1, 'atttg') (1, 'atttt') (1, 'caaca') (1, 'caacg') (1, 'caact') (1, 'caagc') (1, 'caagg') (1, 'cacaa') (1, 'cacca') (1, 'cacga') (1, 'cacgg') (1, 'cacgt') (1, 'cactc') (1, 'cactt') (1, 'cagaa') (1, 'caggg') (1, 'caggt') (1, 'cagta') (1, 'cagtg') (1, 'cagtt') (1, 'catag') (1, 'catat') (1, 'catca') (1, 'catgg') (1, 'catgt') (1, 'catta') (1, 'cattt') (1, 'ccaaa') (1, 'ccaac') (1, 'ccagt') (1, 'ccatt') (1, 'cccaa') (1, 'cccag') (1, 'cccga') (1, 'cccgt') (1, 'ccgcc') (1, 'ccggg') (1, 'ccgtc') (1, 'cctaa') (1, 'cctac') (1, 'cctcc') (1, 'cctct') (1, 'cctga') (1, 'cctgc') (1, 'cctgg') (1, 'cctgt') (1, 'ccttt') (1, 'cgaac') (1, 'cgagg') (1, 'cgatg') (1, 'cgcac') (1, 'cgcgc') (1, 'cgctc') (1, 'cggcc') (1, 'cggcg') (1, 'cggct') (1, 'cgtat') (1, 'cgtcg') (1, 'cgtgg') (1, 'cgtgt') (1, 'ctaac') (1, 'ctaat') (1, 'ctaca') (1, 'ctacc') (1, 'ctagg') (1, 'ctatg') (1, 'ctcct') (1, 'ctcga') (1, 'ctcgc') (1, 'ctcta') (1, 'ctctc') (1, 'ctgcc') (1, 'ctgcg') (1, 'ctgga') (1, 'ctggg') (1, 'ctgta') (1, 'ctgtt') (1, 'cttac') (1, 'cttcg') (1, 'ctttc') (1, 'gaaaa') (1, 'gaaga') (1, 'gaagg') (1, 'gaata') (1, 'gaatt') (1, 'gacag') (1, 'gacgt') (1, 'gactg') (1, 'gagaa') (1, 'gagac') (1, 'gagcg') (1, 'gaggc') (1, 'gatct') (1, 'gatga') (1, 'gatgt') (1, 'gatta') (1, 'gattg') (1, 'gattt') (1, 'gcaag') (1, 'gcaat') (1, 'gcaca') (1, 'gcacc') (1, 'gcatc') (1, 'gcatg') (1, 'gccac') (1, 'gccag') (1, 'gccca') (1, 'gcccc') (1, 'gcccg') (1, 'gccct') (1, 'gccga') (1, 'gcgcc') (1, 'gcggc') (1, 'gctga') (1, 'gctgc') (1, 'gctgg') (1, 'gctta') (1, 'gcttt') (1, 'ggaat') (1, 'ggacg') (1, 'ggact') (1, 'ggaga') (1, 'ggagg') (1, 'ggcca') (1, 'ggccc') (1, 'ggctt') (1, 'gggaa') (1, 'gggat') (1, 'gggca') (1, 'gggcg') (1, 'ggggc') (1, 'gggta') (1, 'gggtc') (1, 'gggtg') (1, 'ggtca') (1, 'ggtct') (1, 'ggtga') (1, 'ggtgg') (1, 'ggttt') (1, 'gtaca') (1, 'gtact') (1, 'gtagt') (1, 'gtatg') (1, 'gtcaa') (1, 'gtcac') (1, 'gtcga') (1, 'gtcgc') (1, 'gtcgg') (1, 'gtcgt') (1, 'gtctt') (1, 'gtgat') (1, 'gtgcc') (1, 'gtggc') (1, 'gtggg') (1, 'gttag') (1, 'gttat') (1, 'gttcc') (1, 'gtttg') (1, 'taaag') (1, 'taaca') (1, 'taacc') (1, 'taact') (1, 'taaga') (1, 'taagc') (1, 'taagg') (1, 'tacaa') (1, 'tacac') (1, 'taccc') (1, 'tacct') (1, 'tacga') (1, 'tacta') (1, 'tactg') (1, 'tagcc') (1, 'tagcg') (1, 'taggc') (1, 'taggt') (1, 'tagta') (1, 'tagtt') (1, 'tatac') (1, 'tatct') (1, 'tatga') (1, 'tatgt') (1, 'tattt') (1, 'tcaaa') (1, 'tcacg') (1, 'tcact') (1, 'tccaa') (1, 'tcccc') (1, 'tccgc') (1, 'tcgac') (1, 'tcgcc') (1, 'tcgga') (1, 'tcggc') (1, 'tcgtg') (1, 'tcgtt') (1, 'tctac') (1, 'tctgc') (1, 'tctgt') (1, 'tcttc') (1, 'tcttg') (1, 'tgaaa') (1, 'tgaag') (1, 'tgaca') (1, 'tgact') (1, 'tgagc') (1, 'tgatc') (1, 'tgatg') (1, 'tgccc') (1, 'tgccg') (1, 'tgcgg') (1, 'tgcgt') (1, 'tggac') (1, 'tggat') (1, 'tggca') (1, 'tgggc') (1, 'tgggg') (1, 'tggtg') (1, 'tggtt') (1, 'tgtac') (1, 'tgtag') (1, 'tgtcg') (1, 'tgtgt') (1, 'ttaat') (1, 'ttagg') (1, 'ttagt') (1, 'ttata') (1, 'ttatt') (1, 'ttcag') (1, 'ttcct') (1, 'ttcga') (1, 'ttcgc') (1, 'ttcgt') (1, 'ttctc') (1, 'ttctg') (1, 'ttctt') (1, 'ttgag') (1, 'ttgga') (1, 'ttgta') (1, 'tttaa') (1, 'tttag') (1, 'tttat') (1, 'tttca') (1, 'tttct') (1, 'ttttg') (1, 'ttttt')\n",
      "['aaaag', 'aaact', 'aaagc', 'aaatg', 'aacac', 'aaccc', 'aacct', 'aacta', 'aactg', 'aactt', 'aagac', 'aagag', 'aagcc', 'aagcg', 'aaggg', 'aagtg', 'aatag', 'aatct', 'aatga', 'aatgc', 'aatgg', 'aatgt', 'aattt', 'acaac', 'acaca', 'acacc', 'acagc', 'acagt', 'accaa', 'acccc', 'accga', 'accgc', 'accta', 'acctc', 'acggg', 'acggt', 'acgtc', 'actaa', 'actat', 'actcg', 'actgg', 'actta', 'acttc', 'acttt', 'agacc', 'agagc', 'agagt', 'agcaa', 'agcag', 'agcat', 'agccc', 'agccg', 'agcga', 'agcgc', 'aggct', 'aggga', 'agggg', 'aggtc', 'aggtg', 'agtaa', 'agtat', 'agtcc', 'agtcg', 'agtct', 'agtga', 'agtgt', 'agttc', 'agttt', 'ataat', 'atacc', 'atagg', 'atagt', 'atatg', 'atatt', 'atcaa', 'atcat', 'atcct', 'atcga', 'atcgc', 'atcgt', 'atgaa', 'atgag', 'atgca', 'atgcc', 'atggc', 'atggg', 'atgta', 'attaa', 'attat', 'attcc', 'attcg', 'attga', 'attgc', 'attta', 'caaaa', 'caaac', 'caacc', 'caaga', 'caagt', 'caata', 'caatg', 'caatt', 'cacac', 'cacag', 'cacat', 'caccg', 'cagac', 'cagag', 'cagca', 'cagcg', 'caggc', 'cagtc', 'catac', 'catcc', 'catcg', 'catga', 'catgc', 'cattc', 'cattg', 'ccaag', 'ccaat', 'ccaca', 'ccagg', 'ccatg', 'ccccg', 'cccct', 'cccgg', 'cccta', 'ccctc', 'ccctg', 'ccgaa', 'ccgac', 'ccgcg', 'ccgct', 'ccgga', 'ccggt', 'ccgtg', 'cctag', 'cctat', 'cctca', 'cctcg', 'cctta', 'ccttg', 'cgaag', 'cgaat', 'cgaca', 'cgacc', 'cgact', 'cgagc', 'cgagt', 'cgatc', 'cgcaa', 'cgcag', 'cgcct', 'cgcga', 'cgcgt', 'cgcta', 'cgctt', 'cggac', 'cggag', 'cgggg', 'cgggt', 'cggta', 'cggtc', 'cggtg', 'cggtt', 'cgtaa', 'cgtca', 'cgtcc', 'cgtct', 'cgtga', 'cgtgc', 'ctaga', 'ctata', 'ctatt', 'ctcaa', 'ctcag', 'ctcat', 'ctcgg', 'ctcgt', 'ctctg', 'ctgaa', 'ctgag', 'ctgat', 'ctgca', 'ctggc', 'ctggt', 'ctgtg', 'cttaa', 'cttag', 'cttat', 'cttca', 'cttcc', 'cttga', 'cttgc', 'cttgt', 'cttta', 'gaacc', 'gaact', 'gaagt', 'gaatc', 'gaatg', 'gacaa', 'gacat', 'gacca', 'gaccc', 'gaccg', 'gacct', 'gacgc', 'gacgg', 'gactc', 'gactt', 'gagag', 'gagca', 'gagcc', 'gagct', 'gagga', 'gaggt', 'gagta', 'gagtc', 'gagtg', 'gagtt', 'gataa', 'gatca', 'gatcg', 'gcaaa', 'gcaac', 'gcacg', 'gcaga', 'gcagg', 'gcagt', 'gcata', 'gcatt', 'gccaa', 'gccgc', 'gcctg', 'gcctt', 'gcgaa', 'gcgac', 'gcgag', 'gcgat', 'gcgca', 'gcgcg', 'gcgct', 'gcgga', 'gcggt', 'gcgtc', 'gcgtg', 'gctaa', 'gctca', 'gctcg', 'gctgt', 'gcttc', 'gcttg', 'ggaag', 'ggaca', 'ggacc', 'ggagc', 'ggagt', 'ggatc', 'ggcat', 'ggcga', 'ggcgc', 'ggcgg', 'ggcta', 'ggctc', 'ggctg', 'gggac', 'gggag', 'gggct', 'gggga', 'ggggg', 'ggggt', 'gggtt', 'ggtaa', 'ggtac', 'ggtat', 'ggtcc', 'ggtgc', 'ggtgt', 'ggtta', 'ggttc', 'gtaaa', 'gtaac', 'gtaag', 'gtaat', 'gtacc', 'gtagc', 'gtata', 'gtatc', 'gtatt', 'gtcat', 'gtcca', 'gtccc', 'gtccg', 'gtcct', 'gtcta', 'gtctc', 'gtctg', 'gtgaa', 'gtgac', 'gtgag', 'gtgca', 'gtgcg', 'gtgga', 'gtgta', 'gtgtc', 'gtgtg', 'gttca', 'gttcg', 'gttga', 'gttgc', 'taaac', 'taaat', 'taagt', 'taata', 'taatc', 'taatg', 'tacag', 'taccg', 'tactt', 'tagat', 'tagca', 'taggg', 'tagtc', 'tataa', 'tatca', 'tatcg', 'tatgc', 'tatgg', 'tatta', 'tattc', 'tattg', 'tcaag', 'tcaat', 'tcaca', 'tcaga', 'tcagc', 'tcata', 'tcatc', 'tcatg', 'tcatt', 'tccat', 'tccct', 'tccgg', 'tccta', 'tcctc', 'tcctt', 'tcgag', 'tcgat', 'tcgca', 'tcgct', 'tcggg', 'tcggt', 'tcgta', 'tcgtc', 'tctat', 'tctca', 'tctct', 'tctga', 'tctgg', 'tctta', 'tgaac', 'tgaat', 'tgacc', 'tgaga', 'tgagg', 'tgagt', 'tgata', 'tgatt', 'tgcaa', 'tgcac', 'tgcag', 'tgcat', 'tgcca', 'tgcct', 'tgcga', 'tgcgc', 'tgctg', 'tgctt', 'tggag', 'tggcc', 'tggcg', 'tggct', 'tggga', 'tggta', 'tgtaa', 'tgtat', 'tgtcc', 'tgtct', 'tgtga', 'tgtgg', 'tgttg', 'ttaaa', 'ttaag', 'ttact', 'ttagc', 'ttatc', 'ttatg', 'ttcac', 'ttcat', 'ttcca', 'ttccc', 'ttcgg', 'ttgac', 'ttgat', 'ttgca', 'ttgcc', 'ttgcg', 'ttgct', 'ttggc', 'ttgtc', 'tttgc', 'tttgg']\n",
      "414\n",
      "\n"
     ]
    }
   ],
   "source": [
    "import random\n",
    "from collections import defaultdict\n",
    "\n",
    "def generate_letters(length, seed=12345678):\n",
    "    letters = ['a', 'c', 'g', 't']\n",
    "    \n",
    "    random.seed(seed) # using a constant seed ensures the sequences of values from randint is the same\n",
    "    \n",
    "    for _ in range(length):\n",
    "        yield letters[random.randint(0, 3)]\n",
    "\n",
    "        \n",
    "dnasequence = ''.join(generate_letters(1000))\n",
    "\n",
    "\n",
    "def find_kmers(length, dna):\n",
    "    d = defaultdict(int)\n",
    "\n",
    "    for i in range(length, len(dna)):\n",
    "        d[dna[i-length:i]] += 1\n",
    "\n",
    "\n",
    "    d_freq_sorted = sorted(d.items(), key=lambda x: (-x[1], x[0]))\n",
    "    r = ' '.join(str((v, k)) for k,v in d_freq_sorted)\n",
    "    print(r)\n",
    "\n",
    "    import itertools as it\n",
    "\n",
    "    args = ['acgt'] * length\n",
    "    allkmers = set(''.join(i) for i in it.product(*args))\n",
    "    print(sorted(list(allkmers.difference(d.keys()))))\n",
    "    print(len(allkmers.difference(d.keys())))\n",
    "    print()\n",
    "\n",
    "\n",
    "find_kmers(3, dnasequence)\n",
    "find_kmers(4, dnasequence)\n",
    "find_kmers(5, dnasequence)"
   ]
  },
  {
   "cell_type": "code",
   "execution_count": null,
   "metadata": {},
   "outputs": [],
   "source": []
  }
 ],
 "metadata": {
  "kernelspec": {
   "display_name": "Python 3 (ipykernel)",
   "language": "python",
   "name": "python3"
  },
  "language_info": {
   "codemirror_mode": {
    "name": "ipython",
    "version": 3
   },
   "file_extension": ".py",
   "mimetype": "text/x-python",
   "name": "python",
   "nbconvert_exporter": "python",
   "pygments_lexer": "ipython3",
   "version": "3.10.13"
  }
 },
 "nbformat": 4,
 "nbformat_minor": 2
}
