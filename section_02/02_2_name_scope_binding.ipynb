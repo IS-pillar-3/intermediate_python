{
 "cells": [
  {
   "cell_type": "markdown",
   "metadata": {
    "slideshow": {
     "slide_type": "slide"
    }
   },
   "source": [
    "#### <center>Intermediate Python and Software Enginnering</center>\n",
    "\n",
    "\n",
    "## <center>Section 02 - Part 02 - Name, scope and binding</center>\n",
    "\n",
    "\n",
    "### <center>Innovation Scholars Programme</center>\n",
    "### <center>King's College London, Medical Research Council and UKRI <center>"
   ]
  },
  {
   "cell_type": "markdown",
   "metadata": {
    "slideshow": {
     "slide_type": "slide"
    }
   },
   "source": [
    "### Names, Scope, Binding\n",
    "\n",
    "* Variables in Python reference objects\n",
    "* Assigning an object to a variable binds it to that name\n",
    "* A variable's scope is the area (function definition, statement, etc.) where they are defined\n",
    "* Expressions are defined in terms of the names accessible in their scope and remain bound to them"
   ]
  },
  {
   "cell_type": "markdown",
   "metadata": {
    "slideshow": {
     "slide_type": "slide"
    }
   },
   "source": [
    "* Eg. variables outside a routine can be accessed from inside provided they exist when the function is called:"
   ]
  },
  {
   "cell_type": "code",
   "execution_count": null,
   "metadata": {
    "slideshow": {
     "slide_type": "fragment"
    }
   },
   "outputs": [],
   "source": [
    "gvalue = 42 # global variable\n",
    "\n",
    "def mult(x):\n",
    "    return gvalue * x\n",
    "\n",
    "print(mult(-1)) # multiply gvalue by -1\n",
    "gvalue = 43     # modifying a variable affects the bound value\n",
    "print(mult(-1)) # multiply gvalue by -1"
   ]
  },
  {
   "cell_type": "markdown",
   "metadata": {
    "slideshow": {
     "slide_type": "slide"
    }
   },
   "source": [
    "* This was seen earlier with lambdas, which can bind to arguments as well as global variables:"
   ]
  },
  {
   "cell_type": "code",
   "execution_count": null,
   "metadata": {
    "slideshow": {
     "slide_type": "fragment"
    }
   },
   "outputs": [],
   "source": [
    "gvalue = 42 # global variable\n",
    "\n",
    "def getMultFunc(lhs):\n",
    "    f = lambda rhs: gvalue * lhs * rhs\n",
    "    # f bound to lhs as well as gvalue\n",
    "    return f\n",
    "\n",
    "mul4 = getMultFunc(4)\n",
    "print(mul4(418))"
   ]
  },
  {
   "cell_type": "markdown",
   "metadata": {
    "slideshow": {
     "slide_type": "slide"
    }
   },
   "source": [
    "* Expressions are bound to the scope(s) they are defined in, binding them to a name before it's present in the scope does work:"
   ]
  },
  {
   "cell_type": "code",
   "execution_count": null,
   "metadata": {
    "slideshow": {
     "slide_type": "fragment"
    }
   },
   "outputs": [],
   "source": [
    "# no ghosts here\n",
    "def mult(x):\n",
    "    return ghost * x \n",
    "\n",
    "ghost = 42\n",
    "\n",
    "print(mult(-1))"
   ]
  },
  {
   "cell_type": "markdown",
   "metadata": {
    "slideshow": {
     "slide_type": "slide"
    }
   },
   "source": [
    "* Loop variable in a `for` loop is assigned in this way, ie. it is not a new name for each iteration:"
   ]
  },
  {
   "cell_type": "code",
   "execution_count": null,
   "metadata": {
    "slideshow": {
     "slide_type": "fragment"
    }
   },
   "outputs": [],
   "source": [
    "callables = []\n",
    "\n",
    "for i in range(5): # i is not fresh on every iteration\n",
    "    callables.append(lambda: i)\n",
    "\n",
    "#print(callables)\n",
    "print(callables[0]())\n",
    "print(callables[1]())\n",
    "print(callables[2]())\n",
    "print(callables[3]())\n",
    "print(callables[4]())"
   ]
  },
  {
   "cell_type": "markdown",
   "metadata": {
    "slideshow": {
     "slide_type": "slide"
    }
   },
   "source": [
    "* One solution is to bind a new variable for the lambda to the current value of the loop variable:"
   ]
  },
  {
   "cell_type": "code",
   "execution_count": null,
   "metadata": {
    "slideshow": {
     "slide_type": "fragment"
    }
   },
   "outputs": [],
   "source": [
    "callables = []\n",
    "\n",
    "for i in range(5):\n",
    "    callables.append(lambda x=i: x) # x is fresh on every iteration\n",
    "\n",
    "print(callables[0]())\n",
    "print(callables[1]())\n",
    "print(callables[2]())\n",
    "print(callables[3]())\n",
    "print(callables[4]())"
   ]
  },
  {
   "cell_type": "markdown",
   "metadata": {
    "slideshow": {
     "slide_type": "slide"
    }
   },
   "source": [
    "#### Jupyter\n",
    "* Variables in each Jupyter cell get declared in a global scope\n",
    "* Seen already where a definition in a cell gets re-used in another\n",
    "* `globals()` lists the variables in the global scope:"
   ]
  },
  {
   "cell_type": "code",
   "execution_count": null,
   "metadata": {
    "slideshow": {
     "slide_type": "fragment"
    }
   },
   "outputs": [],
   "source": [
    "print(tuple(globals()))"
   ]
  },
  {
   "cell_type": "markdown",
   "metadata": {
    "slideshow": {
     "slide_type": "slide"
    }
   },
   "source": [
    "* Be careful when re-using variable names, overwriting values in cells can make earlier ones not behave as expected\n",
    "* To keep variables's scope within one cell, wrap your code in a function:"
   ]
  },
  {
   "cell_type": "code",
   "execution_count": null,
   "metadata": {
    "slideshow": {
     "slide_type": "fragment"
    }
   },
   "outputs": [],
   "source": [
    "def do():\n",
    "    x = 42\n",
    "    print(x)\n",
    "    \n",
    "do()"
   ]
  },
  {
   "cell_type": "code",
   "execution_count": null,
   "metadata": {
    "slideshow": {
     "slide_type": "fragment"
    }
   },
   "outputs": [],
   "source": [
    "'x' in globals()"
   ]
  },
  {
   "cell_type": "markdown",
   "metadata": {
    "slideshow": {
     "slide_type": "slide"
    }
   },
   "source": [
    "### Closures\n",
    "* A closure is a routine \"enclosing\" variables outside its definition\n",
    "* Lambdas become closures when they use non-argument variables in their expression\n",
    "* Other callables do so when they reference variables outside their definitions\n",
    "* Scopes stay captured inside these enclosing definitions"
   ]
  },
  {
   "cell_type": "code",
   "execution_count": null,
   "metadata": {
    "slideshow": {
     "slide_type": "slide"
    }
   },
   "outputs": [],
   "source": [
    "def getMultFunc(lhs):\n",
    "    return lambda rhs: lhs * rhs\n",
    "    # the scope of getMultFunc is bound to the lambda\n",
    "    # the value that lhs is bound to is part of the lambda's closure\n",
    "\n",
    "mul2 = getMultFunc(2) # returned lambda bound to scope with lhs=2\n",
    "mul10 = getMultFunc(10) # returned lambda bound to scope with lhs=10\n",
    "\n",
    "print(mul2(42), mul10(42))"
   ]
  },
  {
   "cell_type": "markdown",
   "metadata": {
    "slideshow": {
     "slide_type": "slide"
    }
   },
   "source": [
    "* Normal nested functions can do this as well:"
   ]
  },
  {
   "cell_type": "code",
   "execution_count": null,
   "metadata": {
    "slideshow": {
     "slide_type": "fragment"
    }
   },
   "outputs": [],
   "source": [
    "def getMultFunc(lhs):\n",
    "    def _inner(rhs):\n",
    "        return lhs * rhs\n",
    "    \n",
    "    return _inner\n",
    "\n",
    "mul2 = getMultFunc(2)\n",
    "mul10 = getMultFunc(10)\n",
    "\n",
    "print(mul2(42), mul10(13))"
   ]
  },
  {
   "cell_type": "markdown",
   "metadata": {
    "slideshow": {
     "slide_type": "fragment"
    }
   },
   "source": [
    "* Lambdas are obviously cleaner for this application"
   ]
  },
  {
   "cell_type": "markdown",
   "metadata": {
    "slideshow": {
     "slide_type": "slide"
    }
   },
   "source": [
    "# That's it!\n",
    "\n",
    "## Next Part: Idiomatic Python"
   ]
  }
 ],
 "metadata": {
  "celltoolbar": "Slideshow",
  "kernelspec": {
   "display_name": "Python 3 (ipykernel)",
   "language": "python",
   "name": "python3"
  },
  "language_info": {
   "codemirror_mode": {
    "name": "ipython",
    "version": 3
   },
   "file_extension": ".py",
   "mimetype": "text/x-python",
   "name": "python",
   "nbconvert_exporter": "python",
   "pygments_lexer": "ipython3",
   "version": "3.10.13"
  }
 },
 "nbformat": 4,
 "nbformat_minor": 2
}
