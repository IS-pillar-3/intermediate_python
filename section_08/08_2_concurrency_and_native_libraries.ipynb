{
 "cells": [
  {
   "cell_type": "markdown",
   "metadata": {
    "slideshow": {
     "slide_type": "slide"
    }
   },
   "source": [
    "#### <center>Intermediate Python and Software Enginnering</center>\n",
    "\n",
    "\n",
    "## <center>Section 08 - Part 02 - Concurrency and Native Libraries</center>\n",
    "\n",
    "\n",
    "### <center>Innovation Scholars Programme</center>\n",
    "### <center>King's College London, Medical Research Council and UKRI <center>"
   ]
  },
  {
   "cell_type": "markdown",
   "metadata": {
    "slideshow": {
     "slide_type": "slide"
    }
   },
   "source": [
    "* `Event` primitive: threads wait on an event and continue when another thread triggers the event"
   ]
  },
  {
   "cell_type": "code",
   "execution_count": 4,
   "metadata": {
    "slideshow": {
     "slide_type": "fragment"
    }
   },
   "outputs": [
    {
     "name": "stdout",
     "output_type": "stream",
     "text": [
      "1584566380.590494 Waiting...\n",
      "1584566380.5911107 Waiting...\n",
      "1584566380.591558 Ready, set...\n",
      "1584566385.59893321584566385.5992033 Go!\n",
      " Go!\n"
     ]
    },
    {
     "data": {
      "application/javascript": [
       "\n",
       "            setTimeout(function() {\n",
       "                var nbb_cell_id = 4;\n",
       "                var nbb_formatted_code = \"ev = threading.Event()\\n\\n\\ndef wait_on_event():\\n    print(time.time(), \\\"Waiting...\\\")\\n    ev.wait()\\n    print(time.time(), \\\"Go!\\\")\\n\\n\\nt1 = threading.Thread(target=wait_on_event)\\nt2 = threading.Thread(target=wait_on_event)\\nt1.start()\\nt2.start()\\nprint(time.time(), \\\"Ready, set...\\\")\\ntime.sleep(5)\\nev.set()  # release t1 and t2\";\n",
       "                var nbb_cells = Jupyter.notebook.get_cells();\n",
       "                for (var i = 0; i < nbb_cells.length; ++i) {\n",
       "                    if (nbb_cells[i].input_prompt_number == nbb_cell_id) {\n",
       "                        nbb_cells[i].set_text(nbb_formatted_code);\n",
       "                        break;\n",
       "                    }\n",
       "                }\n",
       "            }, 500);\n",
       "            "
      ],
      "text/plain": [
       "<IPython.core.display.Javascript object>"
      ]
     },
     "metadata": {},
     "output_type": "display_data"
    }
   ],
   "source": [
    "ev = threading.Event()\n",
    "\n",
    "\n",
    "def wait_on_event():\n",
    "    print(time.time(), \"Waiting...\")\n",
    "    ev.wait()\n",
    "    print(time.time(), \"Go!\")\n",
    "\n",
    "\n",
    "t1 = threading.Thread(target=wait_on_event)\n",
    "t2 = threading.Thread(target=wait_on_event)\n",
    "t1.start()\n",
    "t2.start()\n",
    "print(time.time(), \"Ready, set...\")\n",
    "time.sleep(5)\n",
    "ev.set()  # release t1 and t2"
   ]
  },
  {
   "cell_type": "markdown",
   "metadata": {
    "slideshow": {
     "slide_type": "slide"
    }
   },
   "source": [
    "* Other primitives exist to serve other functions:\n",
    "  * `RLock`: recursive lock, allows a thread to acquire the same lock multiple times\n",
    "  * `Semaphore`: every time a thread acquires this object a counter decrements, when it reaches 0 the acquiring thread must wait until it goes up\n",
    "  * `Barrier`: force all threads to wait until each one in a group have starting waiting\n",
    "  * `Condition`: waiting on a callable expressing some condition to wait for"
   ]
  }
 ],
 "metadata": {
  "celltoolbar": "Slideshow",
  "kernelspec": {
   "display_name": "Python 3 (ipykernel)",
   "language": "python",
   "name": "python3"
  },
  "language_info": {
   "codemirror_mode": {
    "name": "ipython",
    "version": 3
   },
   "file_extension": ".py",
   "mimetype": "text/x-python",
   "name": "python",
   "nbconvert_exporter": "python",
   "pygments_lexer": "ipython3",
   "version": "3.10.9"
  }
 },
 "nbformat": 4,
 "nbformat_minor": 4
}
