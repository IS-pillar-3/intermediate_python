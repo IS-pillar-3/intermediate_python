{
 "cells": [
  {
   "cell_type": "markdown",
   "metadata": {
    "slideshow": {
     "slide_type": "slide"
    }
   },
   "source": [
    "#### <center>Intermediate Python and Software Enginnering</center>\n",
    "\n",
    "\n",
    "## <center>Section 08 - Part 07 - Numba </center>\n",
    "\n",
    "\n",
    "### <center>Innovation Scholars Programme</center>\n",
    "### <center>King's College London, Medical Research Council and UKRI <center>"
   ]
  },
  {
   "cell_type": "markdown",
   "metadata": {
    "slideshow": {
     "slide_type": "slide"
    }
   },
   "source": [
    "## CPython Interface\n",
    "\n",
    "* The base interpreter, CPython, has its own interface in C\n",
    "* Allows the definition of routines, types, etc. in compiled code\n",
    "* Many built-in types and routines are implemented this way\n",
    "* A C module using this interface can be compiled into a shared library and loaded like a Python module\n",
    "* Rather painful 🙁"
   ]
  },
  {
   "cell_type": "markdown",
   "metadata": {
    "slideshow": {
     "slide_type": "slide"
    }
   },
   "source": [
    "* C code needs to be written to use the CPython API and compiled to a shared object, hard for this to be portable\n",
    "* Alternative is to write regular C/C++ and use a wrapper generator, eg. SWIG\n",
    "* Generates code to compile to a shared object to be loaded as a Python module, this calls the C/C++ code\n",
    "* Can also load and call shared objects through the `ctypes` module, also painful 🙁"
   ]
  },
  {
   "cell_type": "markdown",
   "metadata": {
    "slideshow": {
     "slide_type": "slide"
    }
   },
   "source": [
    "## Numba\n",
    "\n",
    "* Library for compiling Python code into native code at runtime\n",
    "* Reads Python code and re-interprets it as C code then sends this off to a compiler\n",
    "* Understands Numpy types and is able to generate fast code directly accessing their memory\n",
    "* Typically used as a decorator `jit` on functions"
   ]
  },
  {
   "cell_type": "code",
   "execution_count": 7,
   "metadata": {
    "slideshow": {
     "slide_type": "slide"
    }
   },
   "outputs": [
    {
     "name": "stdout",
     "output_type": "stream",
     "text": [
      "1.67 ms ± 88 µs per loop (mean ± std. dev. of 7 runs, 100 loops each)\n",
      "1.39 ms ± 11 µs per loop (mean ± std. dev. of 7 runs, 1000 loops each)\n",
      "160 ms ± 2.73 ms per loop (mean ± std. dev. of 7 runs, 10 loops each)\n"
     ]
    }
   ],
   "source": [
    "from numba import jit\n",
    "import numpy as np\n",
    "\n",
    "# nopython=True raises an error if compilation fails, silent otherwise\n",
    "@jit(nopython=True)\n",
    "def example(result, a, b):\n",
    "    for i in range(len(result)):\n",
    "        result[i] = np.exp(a[i] * 0.2 + b[i] * 0.8)\n",
    "\n",
    "\n",
    "a = np.random.rand(10 ** 5)\n",
    "b = np.random.rand(a.shape[0])\n",
    "result = np.zeros_like(a)\n",
    "\n",
    "%timeit np.exp(a * 0.2 + b * 0.8) # equivalent Numpy\n",
    "%timeit example(result,a,b)\n",
    "%timeit example.py_func(result,a,b) # original Python code"
   ]
  },
  {
   "cell_type": "markdown",
   "metadata": {
    "slideshow": {
     "slide_type": "slide"
    }
   },
   "source": [
    "* Function `example` is defined in a constrained subset of Python\n",
    "* Must use object types and idioms Numba can understand how to convert to C\n",
    "* This includes Python primitives, using `range` in for loops, Numpy arrays\n",
    "* Code is not compiled until first invocation of function, by default argument/return types are inferred at this point to determine how to compile\n",
    "* Types can be explicitly stated in decorator"
   ]
  },
  {
   "cell_type": "markdown",
   "metadata": {
    "slideshow": {
     "slide_type": "slide"
    }
   },
   "source": [
    "* Argument type is important property, essentially some static typing rules are being applied\n",
    "* Can fail if arguments are not compatible with those it was compiled for:"
   ]
  },
  {
   "cell_type": "code",
   "execution_count": 6,
   "metadata": {
    "slideshow": {
     "slide_type": "fragment"
    }
   },
   "outputs": [
    {
     "name": "stdout",
     "output_type": "stream",
     "text": [
      "Failed in nopython mode pipeline (step: nopython frontend)\n",
      "\u001b[1m\u001b[1mnon-precise type pyobject\u001b[0m\n",
      "\u001b[0m\u001b[1m[1] During: typing of argument at <ipython-input-1-bb15d7b8645f> (7)\u001b[0m\n",
      "\u001b[1m\n",
      "File \"<ipython-input-1-bb15d7b8645f>\", line 7:\u001b[0m\n",
      "\u001b[1mdef example(result, a, b):\n",
      "\u001b[1m    for i in range(len(result)):\n",
      "\u001b[0m    \u001b[1m^\u001b[0m\u001b[0m\n",
      "\n",
      "This error may have been caused by the following argument(s):\n",
      "- argument 0: \u001b[1mcannot determine Numba type of <class 'range'>\u001b[0m\n",
      "\n",
      "This error may have been caused by the following argument(s):\n",
      "- argument 0: \u001b[1mcannot determine Numba type of <class 'range'>\u001b[0m\n",
      "\n"
     ]
    }
   ],
   "source": [
    "try:\n",
    "    lr = range(10 ** 5)\n",
    "    example(lr, a, b)\n",
    "except Exception as e:\n",
    "    print(e)"
   ]
  },
  {
   "cell_type": "markdown",
   "metadata": {
    "slideshow": {
     "slide_type": "slide"
    }
   },
   "source": [
    "* `jit` has a `nogil` option to disable the GIL during execution\n",
    "* Intepreter-safe since code shouldn't use Python objects\n",
    "* As normal:"
   ]
  },
  {
   "cell_type": "code",
   "execution_count": 26,
   "metadata": {
    "slideshow": {
     "slide_type": "fragment"
    }
   },
   "outputs": [
    {
     "name": "stdout",
     "output_type": "stream",
     "text": [
      "2.42 ms ± 203 µs per loop (mean ± std. dev. of 7 runs, 100 loops each)\n"
     ]
    },
    {
     "data": {
      "application/javascript": [
       "\n",
       "            setTimeout(function() {\n",
       "                var nbb_cell_id = 26;\n",
       "                var nbb_formatted_code = \"from multiprocessing.pool import ThreadPool\\n\\nnum_threads = 12\\nwith ThreadPool(num_threads) as p:\\n    asplit = np.array_split(a, num_threads)\\n    bsplit = np.array_split(b, num_threads)\\n    rsplit = np.array_split(result, num_threads)\\n    %timeit p.starmap(example, zip(rsplit, asplit, bsplit))\";\n",
       "                var nbb_cells = Jupyter.notebook.get_cells();\n",
       "                for (var i = 0; i < nbb_cells.length; ++i) {\n",
       "                    if (nbb_cells[i].input_prompt_number == nbb_cell_id) {\n",
       "                        nbb_cells[i].set_text(nbb_formatted_code);\n",
       "                        break;\n",
       "                    }\n",
       "                }\n",
       "            }, 500);\n",
       "            "
      ],
      "text/plain": [
       "<IPython.core.display.Javascript object>"
      ]
     },
     "metadata": {},
     "output_type": "display_data"
    }
   ],
   "source": [
    "from multiprocessing.pool import ThreadPool\n",
    "\n",
    "num_threads = 12\n",
    "with ThreadPool(num_threads) as p:\n",
    "    asplit = np.array_split(a, num_threads)\n",
    "    bsplit = np.array_split(b, num_threads)\n",
    "    rsplit = np.array_split(result, num_threads)\n",
    "    %timeit p.starmap(example, zip(rsplit, asplit, bsplit))"
   ]
  },
  {
   "cell_type": "markdown",
   "metadata": {
    "slideshow": {
     "slide_type": "slide"
    }
   },
   "source": [
    "* With `nogil`:"
   ]
  },
  {
   "cell_type": "code",
   "execution_count": 27,
   "metadata": {
    "slideshow": {
     "slide_type": "fragment"
    }
   },
   "outputs": [
    {
     "name": "stdout",
     "output_type": "stream",
     "text": [
      "354 µs ± 14.9 µs per loop (mean ± std. dev. of 7 runs, 1000 loops each)\n"
     ]
    },
    {
     "data": {
      "application/javascript": [
       "\n",
       "            setTimeout(function() {\n",
       "                var nbb_cell_id = 27;\n",
       "                var nbb_formatted_code = \"@jit(nopython=True, nogil=True)\\ndef example(result, a, b):\\n    for i in range(len(result)):\\n        result[i] = np.exp(a[i] * 0.2 + b[i] * 0.8)\\n\\n\\nwith ThreadPool(num_threads) as p:\\n    asplit = np.array_split(a, num_threads)\\n    bsplit = np.array_split(b, num_threads)\\n    rsplit = np.array_split(result, num_threads)\\n    %timeit p.starmap(example, zip(rsplit,asplit,bsplit))\";\n",
       "                var nbb_cells = Jupyter.notebook.get_cells();\n",
       "                for (var i = 0; i < nbb_cells.length; ++i) {\n",
       "                    if (nbb_cells[i].input_prompt_number == nbb_cell_id) {\n",
       "                        nbb_cells[i].set_text(nbb_formatted_code);\n",
       "                        break;\n",
       "                    }\n",
       "                }\n",
       "            }, 500);\n",
       "            "
      ],
      "text/plain": [
       "<IPython.core.display.Javascript object>"
      ]
     },
     "metadata": {},
     "output_type": "display_data"
    }
   ],
   "source": [
    "@jit(nopython=True, nogil=True)\n",
    "def example(result, a, b):\n",
    "    for i in range(len(result)):\n",
    "        result[i] = np.exp(a[i] * 0.2 + b[i] * 0.8)\n",
    "\n",
    "\n",
    "with ThreadPool(num_threads) as p:\n",
    "    asplit = np.array_split(a, num_threads)\n",
    "    bsplit = np.array_split(b, num_threads)\n",
    "    rsplit = np.array_split(result, num_threads)\n",
    "    %timeit p.starmap(example, zip(rsplit,asplit,bsplit))"
   ]
  },
  {
   "cell_type": "markdown",
   "metadata": {
    "slideshow": {
     "slide_type": "slide"
    }
   },
   "source": [
    "* Still not as fast as the Numpy equivalent but getting speed-up from threads finally\n",
    "* Algorithms which cannot be vectorized would benefit much more from Numba compilation\n",
    "* Numba has other facilities for compiling classes or even whole modules, using CUDA for GPU computation, array stencils, etc."
   ]
  },
  {
   "cell_type": "code",
   "execution_count": 9,
   "metadata": {
    "scrolled": true,
    "slideshow": {
     "slide_type": "slide"
    }
   },
   "outputs": [
    {
     "data": {
      "text/plain": [
       "<matplotlib.image.AxesImage at 0x7f0a01379190>"
      ]
     },
     "execution_count": 9,
     "metadata": {},
     "output_type": "execute_result"
    },
    {
     "data": {
      "image/png": "[encoded data removed]",
      "text/plain": [
       "<Figure size 720x720 with 1 Axes>"
      ]
     },
     "metadata": {
      "needs_background": "light"
     },
     "output_type": "display_data"
    }
   ],
   "source": [
    "%matplotlib inline\n",
    "from numba import stencil\n",
    "import matplotlib.pyplot as plt\n",
    "\n",
    "im = plt.imread(\"Python_logo_and_wordmark.svg.png\")\n",
    "\n",
    "\n",
    "@stencil(neighborhood=((-1, 1), (-1, 1)), cval=0.0)\n",
    "def kernel1(a):  # laplace operator for edge-detection\n",
    "    total = a[1, 1] * 9.0\n",
    "    for x in range(0, 3):\n",
    "        for y in range(0, 3):\n",
    "            total -= a[x, y]\n",
    "\n",
    "    return abs(total)\n",
    "\n",
    "\n",
    "f = plt.figure(figsize=(10, 10))\n",
    "plt.imshow(kernel1(im[..., 1]))"
   ]
  }
 ],
 "metadata": {
  "celltoolbar": "Slideshow",
  "kernelspec": {
   "display_name": "Python 3 (ipykernel)",
   "language": "python",
   "name": "python3"
  },
  "language_info": {
   "codemirror_mode": {
    "name": "ipython",
    "version": 3
   },
   "file_extension": ".py",
   "mimetype": "text/x-python",
   "name": "python",
   "nbconvert_exporter": "python",
   "pygments_lexer": "ipython3",
   "version": "3.10.9"
  }
 },
 "nbformat": 4,
 "nbformat_minor": 4
}
