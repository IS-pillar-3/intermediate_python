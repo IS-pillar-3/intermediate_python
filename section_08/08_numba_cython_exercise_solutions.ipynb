{
 "cells": [
  {
   "cell_type": "markdown",
   "metadata": {},
   "source": [
    "#### <center>Intermediate Python and Software Enginnering</center>\n",
    "\n",
    "\n",
    "## <center>Section 08 - Numba and Cython - Exercise Solutions</center>\n",
    "\n",
    "\n",
    "### <center>Innovation Scholars Programme</center>\n",
    "### <center>King's College London, Medical Research Council and UKRI <center>"
   ]
  },
  {
   "cell_type": "markdown",
   "metadata": {},
   "source": [
    "# Numba/Cython \n",
    "\n",
    "Recall the quicksort algorithm where we divide the unsorted list into sorted halves recursively:"
   ]
  },
  {
   "cell_type": "code",
   "execution_count": 3,
   "metadata": {},
   "outputs": [
    {
     "name": "stdout",
     "output_type": "stream",
     "text": [
      "[0.04738538 0.10212594 0.13503405 0.15141471 0.1860002  0.20493435\n",
      " 0.2378761  0.25598357 0.31142673 0.3175635  0.38775255 0.39066275\n",
      " 0.40743788 0.47707207 0.5403788  0.57338805 0.60088621 0.69719703\n",
      " 0.71250038 0.71439115 0.71989031 0.74373576 0.80757828 0.82350922]\n"
     ]
    }
   ],
   "source": [
    "import numpy as np\n",
    "\n",
    "\n",
    "def qsort(arr):\n",
    "    if len(arr) < 2:\n",
    "        return arr\n",
    "    else:\n",
    "        pivot = arr[:1]\n",
    "        rest = arr[1:]\n",
    "        left = qsort(rest[rest <= pivot])\n",
    "        right = qsort(rest[rest > pivot])\n",
    "\n",
    "        return np.concatenate((left, pivot, right))\n",
    "\n",
    "\n",
    "sortarr = qsort(np.random.rand(24))\n",
    "print(sortarr)"
   ]
  },
  {
   "cell_type": "markdown",
   "metadata": {},
   "source": [
    "This takes some time for large arrays:"
   ]
  },
  {
   "cell_type": "code",
   "execution_count": 4,
   "metadata": {},
   "outputs": [
    {
     "name": "stdout",
     "output_type": "stream",
     "text": [
      "321 ms ± 6.82 ms per loop (mean ± std. dev. of 7 runs, 1 loop each)\n"
     ]
    }
   ],
   "source": [
    "%timeit qsort(np.random.rand(100000).astype(np.float32))"
   ]
  },
  {
   "cell_type": "markdown",
   "metadata": {},
   "source": [
    "We can use Numba to speed things up when the arguments and operations are all known types like Numpy arrays:"
   ]
  },
  {
   "cell_type": "code",
   "execution_count": 5,
   "metadata": {},
   "outputs": [
    {
     "name": "stdout",
     "output_type": "stream",
     "text": [
      "[0.05799419 0.08529736 0.11437497 0.11801493 0.15224953 0.18903235\n",
      " 0.242708   0.2625493  0.3305468  0.33269766 0.34336498 0.3583178\n",
      " 0.6261637  0.6574366  0.81262803 0.82482165 0.84997797 0.85754323\n",
      " 0.875942   0.89214283 0.9035035  0.9043852  0.9501806  0.98601705]\n"
     ]
    }
   ],
   "source": [
    "from numba import jit\n",
    "\n",
    "\n",
    "@jit(nopython=True)\n",
    "def qsort_numba(arr):\n",
    "    if len(arr) < 2:\n",
    "        return arr\n",
    "    else:\n",
    "        pivot = arr[:1]\n",
    "        rest = arr[1:]\n",
    "        left = qsort_numba(rest[rest <= pivot])\n",
    "        right = qsort_numba(rest[rest > pivot])\n",
    "\n",
    "        return np.concatenate((left, pivot, right))\n",
    "\n",
    "\n",
    "sortarr = qsort_numba(np.random.rand(24).astype(np.float32))\n",
    "print(sortarr)"
   ]
  },
  {
   "cell_type": "code",
   "execution_count": 6,
   "metadata": {},
   "outputs": [
    {
     "name": "stdout",
     "output_type": "stream",
     "text": [
      "60.6 ms ± 1.92 ms per loop (mean ± std. dev. of 7 runs, 10 loops each)\n"
     ]
    }
   ],
   "source": [
    "%timeit qsort_numba(np.random.rand(100000).astype(np.float32))"
   ]
  },
  {
   "cell_type": "markdown",
   "metadata": {},
   "source": [
    "### Exercise 1: \n",
    "\n",
    "Implement an array re-ordering function:"
   ]
  },
  {
   "cell_type": "code",
   "execution_count": 7,
   "metadata": {},
   "outputs": [
    {
     "name": "stdout",
     "output_type": "stream",
     "text": [
      "95 µs ± 4.22 µs per loop (mean ± std. dev. of 7 runs, 10000 loops each)\n"
     ]
    }
   ],
   "source": [
    "@jit(nopython=True)\n",
    "def reorder_array(arr, indices, out):\n",
    "    \"\"\"\n",
    "    Define a function which fills in `out` with values from `arr` such that a value\n",
    "    at position `i` is taken from `arr[indices[i]]`. Implement this in pure Python,\n",
    "    see how slow it is, then use Numba to speed it up.\n",
    "    \"\"\"\n",
    "    for i, ind in enumerate(indices):\n",
    "        out[i] = arr[ind]\n",
    "\n",
    "\n",
    "arr = np.random.rand(100000).astype(np.float32)\n",
    "indices = np.arange(arr.shape[0])\n",
    "out = np.zeros_like(arr)\n",
    "np.random.shuffle(indices)\n",
    "\n",
    "%timeit reorder_array(arr,indices,out)"
   ]
  },
  {
   "cell_type": "markdown",
   "metadata": {},
   "source": [
    "### Exercise 2:\n",
    "\n",
    "Use Numba's in-built parallel abilities to speed up the function even more.\n",
    "\n",
    "Reference: https://numba.pydata.org/numba-doc/dev/user/parallel.html#explicit-parallel-loops\n",
    "\n",
    "You will want to use prange and parallel=True option for jit, nogil=True may be a good idea also"
   ]
  },
  {
   "cell_type": "code",
   "execution_count": 8,
   "metadata": {},
   "outputs": [
    {
     "name": "stderr",
     "output_type": "stream",
     "text": [
      "<ipython-input-8-fa5481aefe30>:1: NumbaWarning: \n",
      "Compilation is falling back to object mode WITH looplifting enabled because Function \"reorder_array_parallel\" failed type inference due to: Untyped global name 'prange': cannot determine Numba type of <class 'numba.core.ir.UndefinedType'>\n",
      "\n",
      "File \"<ipython-input-8-fa5481aefe30>\", line 8:\n",
      "def reorder_array_parallel(arr, indices, out):\n",
      "    <source elided>\n",
      "    \"\"\"\n",
      "    for i in prange(indices.shape[0]):\n",
      "    ^\n",
      "\n",
      "'prange' looks like a Numba internal function, has it been imported (i.e. 'from numba import prange')?\n",
      "\n",
      "  @jit(parallel=True, nogil=True)\n",
      "<ipython-input-8-fa5481aefe30>:1: NumbaWarning: \n",
      "Compilation is falling back to object mode WITHOUT looplifting enabled because Function \"reorder_array_parallel\" failed type inference due to: Untyped global name 'prange': cannot determine Numba type of <class 'numba.core.ir.UndefinedType'>\n",
      "\n",
      "File \"<ipython-input-8-fa5481aefe30>\", line 8:\n",
      "def reorder_array_parallel(arr, indices, out):\n",
      "    <source elided>\n",
      "    \"\"\"\n",
      "    for i in prange(indices.shape[0]):\n",
      "    ^\n",
      "\n",
      "'prange' looks like a Numba internal function, has it been imported (i.e. 'from numba import prange')?\n",
      "\n",
      "  @jit(parallel=True, nogil=True)\n",
      "/usr/local/lib/python3.8/site-packages/numba/core/object_mode_passes.py:177: NumbaWarning: Function \"reorder_array_parallel\" was compiled in object mode without forceobj=True, but has lifted loops.\n",
      "\n",
      "File \"<ipython-input-8-fa5481aefe30>\", line 8:\n",
      "def reorder_array_parallel(arr, indices, out):\n",
      "    <source elided>\n",
      "    \"\"\"\n",
      "    for i in prange(indices.shape[0]):\n",
      "    ^\n",
      "\n",
      "  warnings.warn(errors.NumbaWarning(warn_msg,\n",
      "/usr/local/lib/python3.8/site-packages/numba/core/object_mode_passes.py:187: NumbaDeprecationWarning: \n",
      "Fall-back from the nopython compilation path to the object mode compilation path has been detected, this is deprecated behaviour.\n",
      "\n",
      "For more information visit https://numba.pydata.org/numba-doc/latest/reference/deprecation.html#deprecation-of-object-mode-fall-back-behaviour-when-using-jit\n",
      "\n",
      "File \"<ipython-input-8-fa5481aefe30>\", line 8:\n",
      "def reorder_array_parallel(arr, indices, out):\n",
      "    <source elided>\n",
      "    \"\"\"\n",
      "    for i in prange(indices.shape[0]):\n",
      "    ^\n",
      "\n",
      "  warnings.warn(errors.NumbaDeprecationWarning(msg,\n",
      "<ipython-input-8-fa5481aefe30>:1: NumbaWarning: Code running in object mode won't allow parallel execution despite nogil=True.\n",
      "  @jit(parallel=True, nogil=True)\n"
     ]
    },
    {
     "ename": "NameError",
     "evalue": "global name 'prange' is not defined",
     "output_type": "error",
     "traceback": [
      "\u001b[0;31m---------------------------------------------------------------------------\u001b[0m",
      "\u001b[0;31mNameError\u001b[0m                                 Traceback (most recent call last)",
      "\u001b[0;32m<ipython-input-8-fa5481aefe30>\u001b[0m in \u001b[0;36m<module>\u001b[0;34m\u001b[0m\n\u001b[1;32m     16\u001b[0m \u001b[0mnp\u001b[0m\u001b[0;34m.\u001b[0m\u001b[0mrandom\u001b[0m\u001b[0;34m.\u001b[0m\u001b[0mshuffle\u001b[0m\u001b[0;34m(\u001b[0m\u001b[0mindices\u001b[0m\u001b[0;34m)\u001b[0m\u001b[0;34m\u001b[0m\u001b[0;34m\u001b[0m\u001b[0m\n\u001b[1;32m     17\u001b[0m \u001b[0;34m\u001b[0m\u001b[0m\n\u001b[0;32m---> 18\u001b[0;31m \u001b[0mget_ipython\u001b[0m\u001b[0;34m(\u001b[0m\u001b[0;34m)\u001b[0m\u001b[0;34m.\u001b[0m\u001b[0mrun_line_magic\u001b[0m\u001b[0;34m(\u001b[0m\u001b[0;34m'timeit'\u001b[0m\u001b[0;34m,\u001b[0m \u001b[0;34m'reorder_array_parallel(arr,indices,out)'\u001b[0m\u001b[0;34m)\u001b[0m\u001b[0;34m\u001b[0m\u001b[0;34m\u001b[0m\u001b[0m\n\u001b[0m",
      "\u001b[0;32m/usr/local/lib/python3.8/site-packages/IPython/core/interactiveshell.py\u001b[0m in \u001b[0;36mrun_line_magic\u001b[0;34m(self, magic_name, line, _stack_depth)\u001b[0m\n\u001b[1;32m   2324\u001b[0m                 \u001b[0mkwargs\u001b[0m\u001b[0;34m[\u001b[0m\u001b[0;34m'local_ns'\u001b[0m\u001b[0;34m]\u001b[0m \u001b[0;34m=\u001b[0m \u001b[0mself\u001b[0m\u001b[0;34m.\u001b[0m\u001b[0mget_local_scope\u001b[0m\u001b[0;34m(\u001b[0m\u001b[0mstack_depth\u001b[0m\u001b[0;34m)\u001b[0m\u001b[0;34m\u001b[0m\u001b[0;34m\u001b[0m\u001b[0m\n\u001b[1;32m   2325\u001b[0m             \u001b[0;32mwith\u001b[0m \u001b[0mself\u001b[0m\u001b[0;34m.\u001b[0m\u001b[0mbuiltin_trap\u001b[0m\u001b[0;34m:\u001b[0m\u001b[0;34m\u001b[0m\u001b[0;34m\u001b[0m\u001b[0m\n\u001b[0;32m-> 2326\u001b[0;31m                 \u001b[0mresult\u001b[0m \u001b[0;34m=\u001b[0m \u001b[0mfn\u001b[0m\u001b[0;34m(\u001b[0m\u001b[0;34m*\u001b[0m\u001b[0margs\u001b[0m\u001b[0;34m,\u001b[0m \u001b[0;34m**\u001b[0m\u001b[0mkwargs\u001b[0m\u001b[0;34m)\u001b[0m\u001b[0;34m\u001b[0m\u001b[0;34m\u001b[0m\u001b[0m\n\u001b[0m\u001b[1;32m   2327\u001b[0m             \u001b[0;32mreturn\u001b[0m \u001b[0mresult\u001b[0m\u001b[0;34m\u001b[0m\u001b[0;34m\u001b[0m\u001b[0m\n\u001b[1;32m   2328\u001b[0m \u001b[0;34m\u001b[0m\u001b[0m\n",
      "\u001b[0;32m<decorator-gen-53>\u001b[0m in \u001b[0;36mtimeit\u001b[0;34m(self, line, cell, local_ns)\u001b[0m\n",
      "\u001b[0;32m/usr/local/lib/python3.8/site-packages/IPython/core/magic.py\u001b[0m in \u001b[0;36m<lambda>\u001b[0;34m(f, *a, **k)\u001b[0m\n\u001b[1;32m    185\u001b[0m     \u001b[0;31m# but it's overkill for just that one bit of state.\u001b[0m\u001b[0;34m\u001b[0m\u001b[0;34m\u001b[0m\u001b[0;34m\u001b[0m\u001b[0m\n\u001b[1;32m    186\u001b[0m     \u001b[0;32mdef\u001b[0m \u001b[0mmagic_deco\u001b[0m\u001b[0;34m(\u001b[0m\u001b[0marg\u001b[0m\u001b[0;34m)\u001b[0m\u001b[0;34m:\u001b[0m\u001b[0;34m\u001b[0m\u001b[0;34m\u001b[0m\u001b[0m\n\u001b[0;32m--> 187\u001b[0;31m         \u001b[0mcall\u001b[0m \u001b[0;34m=\u001b[0m \u001b[0;32mlambda\u001b[0m \u001b[0mf\u001b[0m\u001b[0;34m,\u001b[0m \u001b[0;34m*\u001b[0m\u001b[0ma\u001b[0m\u001b[0;34m,\u001b[0m \u001b[0;34m**\u001b[0m\u001b[0mk\u001b[0m\u001b[0;34m:\u001b[0m \u001b[0mf\u001b[0m\u001b[0;34m(\u001b[0m\u001b[0;34m*\u001b[0m\u001b[0ma\u001b[0m\u001b[0;34m,\u001b[0m \u001b[0;34m**\u001b[0m\u001b[0mk\u001b[0m\u001b[0;34m)\u001b[0m\u001b[0;34m\u001b[0m\u001b[0;34m\u001b[0m\u001b[0m\n\u001b[0m\u001b[1;32m    188\u001b[0m \u001b[0;34m\u001b[0m\u001b[0m\n\u001b[1;32m    189\u001b[0m         \u001b[0;32mif\u001b[0m \u001b[0mcallable\u001b[0m\u001b[0;34m(\u001b[0m\u001b[0marg\u001b[0m\u001b[0;34m)\u001b[0m\u001b[0;34m:\u001b[0m\u001b[0;34m\u001b[0m\u001b[0;34m\u001b[0m\u001b[0m\n",
      "\u001b[0;32m/usr/local/lib/python3.8/site-packages/IPython/core/magics/execution.py\u001b[0m in \u001b[0;36mtimeit\u001b[0;34m(self, line, cell, local_ns)\u001b[0m\n\u001b[1;32m   1167\u001b[0m             \u001b[0;32mfor\u001b[0m \u001b[0mindex\u001b[0m \u001b[0;32min\u001b[0m \u001b[0mrange\u001b[0m\u001b[0;34m(\u001b[0m\u001b[0;36m0\u001b[0m\u001b[0;34m,\u001b[0m \u001b[0;36m10\u001b[0m\u001b[0;34m)\u001b[0m\u001b[0;34m:\u001b[0m\u001b[0;34m\u001b[0m\u001b[0;34m\u001b[0m\u001b[0m\n\u001b[1;32m   1168\u001b[0m                 \u001b[0mnumber\u001b[0m \u001b[0;34m=\u001b[0m \u001b[0;36m10\u001b[0m \u001b[0;34m**\u001b[0m \u001b[0mindex\u001b[0m\u001b[0;34m\u001b[0m\u001b[0;34m\u001b[0m\u001b[0m\n\u001b[0;32m-> 1169\u001b[0;31m                 \u001b[0mtime_number\u001b[0m \u001b[0;34m=\u001b[0m \u001b[0mtimer\u001b[0m\u001b[0;34m.\u001b[0m\u001b[0mtimeit\u001b[0m\u001b[0;34m(\u001b[0m\u001b[0mnumber\u001b[0m\u001b[0;34m)\u001b[0m\u001b[0;34m\u001b[0m\u001b[0;34m\u001b[0m\u001b[0m\n\u001b[0m\u001b[1;32m   1170\u001b[0m                 \u001b[0;32mif\u001b[0m \u001b[0mtime_number\u001b[0m \u001b[0;34m>=\u001b[0m \u001b[0;36m0.2\u001b[0m\u001b[0;34m:\u001b[0m\u001b[0;34m\u001b[0m\u001b[0;34m\u001b[0m\u001b[0m\n\u001b[1;32m   1171\u001b[0m                     \u001b[0;32mbreak\u001b[0m\u001b[0;34m\u001b[0m\u001b[0;34m\u001b[0m\u001b[0m\n",
      "\u001b[0;32m/usr/local/lib/python3.8/site-packages/IPython/core/magics/execution.py\u001b[0m in \u001b[0;36mtimeit\u001b[0;34m(self, number)\u001b[0m\n\u001b[1;32m    167\u001b[0m         \u001b[0mgc\u001b[0m\u001b[0;34m.\u001b[0m\u001b[0mdisable\u001b[0m\u001b[0;34m(\u001b[0m\u001b[0;34m)\u001b[0m\u001b[0;34m\u001b[0m\u001b[0;34m\u001b[0m\u001b[0m\n\u001b[1;32m    168\u001b[0m         \u001b[0;32mtry\u001b[0m\u001b[0;34m:\u001b[0m\u001b[0;34m\u001b[0m\u001b[0;34m\u001b[0m\u001b[0m\n\u001b[0;32m--> 169\u001b[0;31m             \u001b[0mtiming\u001b[0m \u001b[0;34m=\u001b[0m \u001b[0mself\u001b[0m\u001b[0;34m.\u001b[0m\u001b[0minner\u001b[0m\u001b[0;34m(\u001b[0m\u001b[0mit\u001b[0m\u001b[0;34m,\u001b[0m \u001b[0mself\u001b[0m\u001b[0;34m.\u001b[0m\u001b[0mtimer\u001b[0m\u001b[0;34m)\u001b[0m\u001b[0;34m\u001b[0m\u001b[0;34m\u001b[0m\u001b[0m\n\u001b[0m\u001b[1;32m    170\u001b[0m         \u001b[0;32mfinally\u001b[0m\u001b[0;34m:\u001b[0m\u001b[0;34m\u001b[0m\u001b[0;34m\u001b[0m\u001b[0m\n\u001b[1;32m    171\u001b[0m             \u001b[0;32mif\u001b[0m \u001b[0mgcold\u001b[0m\u001b[0;34m:\u001b[0m\u001b[0;34m\u001b[0m\u001b[0;34m\u001b[0m\u001b[0m\n",
      "\u001b[0;32m<magic-timeit>\u001b[0m in \u001b[0;36minner\u001b[0;34m(_it, _timer)\u001b[0m\n",
      "\u001b[0;31mNameError\u001b[0m: global name 'prange' is not defined"
     ]
    }
   ],
   "source": [
    "@jit(parallel=True, nogil=True)\n",
    "def reorder_array_parallel(arr, indices, out):\n",
    "    \"\"\"\n",
    "    Define a function which returns a new array of the same shape/type as `arr` with the\n",
    "    value at position `i` is taken from `arr[indices[i]]`. Implement this in pure Python,\n",
    "    see how slow it is, then use Numba to speed it up.\n",
    "    \"\"\"\n",
    "    for i in prange(indices.shape[0]):\n",
    "        out[i] = arr[indices[i]]\n",
    "\n",
    "\n",
    "arr = np.random.rand(100000).astype(np.float32)\n",
    "indices = np.arange(arr.shape[0])\n",
    "out = np.zeros_like(arr)\n",
    "\n",
    "np.random.shuffle(indices)\n",
    "\n",
    "%timeit reorder_array_parallel(arr,indices,out)"
   ]
  },
  {
   "cell_type": "markdown",
   "metadata": {},
   "source": [
    "### Exercise 3: \n",
    "\n",
    "Below is the code to draw a Mandelbrot fractal. This is a popular example of iterating over arrays. The code is terribly slow, speed it up by compiling both functions with Numba. Can parallelism be applied here?"
   ]
  },
  {
   "cell_type": "code",
   "execution_count": null,
   "metadata": {},
   "outputs": [],
   "source": [
    "%matplotlib inline\n",
    "import matplotlib.pyplot as plt\n",
    "\n",
    "\n",
    "@jit(nopython=True)\n",
    "def mandelbrot(creal, cimag, max_iters):\n",
    "    real = creal\n",
    "    imag = cimag\n",
    "\n",
    "    for n in range(max_iters):\n",
    "        real2 = real * real\n",
    "        imag2 = imag * imag\n",
    "        \n",
    "        if real2 + imag2 > 4.0:\n",
    "            return n\n",
    "        \n",
    "        imag = 2 * real * imag + cimag\n",
    "        real = real2 - imag2 + creal\n",
    "\n",
    "    return 0\n",
    "\n",
    "\n",
    "@jit(nopython=True, parallel=True)\n",
    "def calc_mandelbrot(im, max_iters, centerx, centery, valuewidth, valueheight):\n",
    "    w = im.shape[0]\n",
    "    h = im.shape[1]\n",
    "    \n",
    "    for i in prange(w):\n",
    "        for j in prange(h):\n",
    "            creal = (i / w - 0.5) * valuewidth + centerx\n",
    "            cimag = (j / h - 0.5) * valueheight + centery\n",
    "\n",
    "            im[i, j] = mandelbrot(creal, cimag, max_iters)\n",
    "\n",
    "\n",
    "max_iters = 100\n",
    "im = np.zeros((1000, 1000))\n",
    "\n",
    "%timeit calc_mandelbrot(im,max_iters,-0.75,0,3,3)\n",
    "\n",
    "plt.figure(figsize=(20, 20))\n",
    "plt.imshow(im * (im < max_iters), cmap=\"hot\")"
   ]
  },
  {
   "cell_type": "code",
   "execution_count": null,
   "metadata": {},
   "outputs": [],
   "source": [
    "max_iters = 2000\n",
    "im = np.zeros((2000, 2000))\n",
    "\n",
    "calc_mandelbrot(im, max_iters, -0.74875, 0.06507, 0.0001, 0.0001)\n",
    "\n",
    "plt.figure(figsize=(20, 20))\n",
    "plt.imshow(im * (im < max_iters), cmap=\"hot\")"
   ]
  },
  {
   "cell_type": "markdown",
   "metadata": {},
   "source": [
    "## Cython\n",
    "\n",
    "We need to load the extension for Cython in the notebook:"
   ]
  },
  {
   "cell_type": "code",
   "execution_count": null,
   "metadata": {},
   "outputs": [],
   "source": [
    "%load_ext cython"
   ]
  },
  {
   "cell_type": "markdown",
   "metadata": {},
   "source": [
    "### Exercise 4: \n",
    "\n",
    "Implement the reordering in Cython:"
   ]
  },
  {
   "cell_type": "code",
   "execution_count": null,
   "metadata": {},
   "outputs": [],
   "source": [
    "%%cython\n",
    "\n",
    "cpdef void reorder_array_cython(float[:] arr,int[:] indices,float[:] out):\n",
    "    \"\"\"\n",
    "    Define a function which fills in `out` with values from `arr` such that a value\n",
    "    at position `i` is taken from `arr[indices[i]]`. Implement this in pure Python,\n",
    "    see how slow it is, then use Numba to speed it up.\n",
    "    \"\"\"\n",
    "    cdef int i, ind, n = arr.shape[0]\n",
    "    for i in range(n):\n",
    "        ind = indices[i]\n",
    "        out[i] = arr[ind]"
   ]
  },
  {
   "cell_type": "code",
   "execution_count": null,
   "metadata": {},
   "outputs": [],
   "source": [
    "arr = np.random.rand(100000).astype(np.float32)\n",
    "indices = np.arange(arr.shape[0]).astype(np.int32)\n",
    "out = np.zeros_like(arr)\n",
    "np.random.shuffle(indices)\n",
    "\n",
    "%timeit reorder_array_cython(arr,indices,out)"
   ]
  },
  {
   "cell_type": "markdown",
   "metadata": {},
   "source": [
    "### Exercise 5: \n",
    "\n",
    "We can get more performance by using Cython parallel features. \n",
    "Re-implement the reorder function using Cython's prange. Compare speeds versus the above.\n",
    "\n",
    "There are also decorators that may help: https://cython.readthedocs.io/en/latest/src/userguide/numpy_tutorial.html#tuning-indexing-further"
   ]
  },
  {
   "cell_type": "code",
   "execution_count": null,
   "metadata": {},
   "outputs": [],
   "source": [
    "%%cython \n",
    "\n",
    "import cython\n",
    "from cython.parallel import prange\n",
    "\n",
    "@cython.boundscheck(False)  # Deactivate bounds checking\n",
    "@cython.wraparound(False)   # Deactivate negative indexing.\n",
    "cpdef void reorder_array_cython_parallel(float[:] arr,int[:] indices,float[:] out) nogil:\n",
    "    \"\"\"\n",
    "    Define a function which fills in `out` with values from `arr` such that a value\n",
    "    at position `i` is taken from `arr[indices[i]]`. Implement this in pure Python,\n",
    "    see how slow it is, then use Numba to speed it up.\n",
    "    \"\"\"\n",
    "    cdef int i, ind, n = arr.shape[0]\n",
    "    for i in prange(n):\n",
    "        ind = indices[i]\n",
    "        out[i] = arr[ind]"
   ]
  },
  {
   "cell_type": "code",
   "execution_count": null,
   "metadata": {},
   "outputs": [],
   "source": [
    "arr = np.random.rand(100000).astype(np.float32)\n",
    "indices = np.arange(arr.shape[0]).astype(np.int32)\n",
    "out = np.zeros_like(arr)\n",
    "np.random.shuffle(indices)\n",
    "\n",
    "%timeit reorder_array_cython_parallel(arr,indices,out)"
   ]
  },
  {
   "cell_type": "markdown",
   "metadata": {},
   "source": [
    "### Exercise 6: re-implement the Mandelbrot program with Cython. \n",
    "\n",
    "I have provided the function prototypes again, you should be using `cdef` to declare variables and `prange` where appropriate."
   ]
  },
  {
   "cell_type": "code",
   "execution_count": null,
   "metadata": {},
   "outputs": [],
   "source": [
    "%%cython \n",
    "\n",
    "import cython\n",
    "from cython.parallel import prange\n",
    "\n",
    "cdef int mandelbrot_cython(double creal, double cimag, int max_iter) nogil:\n",
    "    cdef:\n",
    "        double real2, imag2\n",
    "        double real = creal, imag = cimag\n",
    "        int n\n",
    "\n",
    "    for n in range(max_iter):\n",
    "        real2 = real*real\n",
    "        imag2 = imag*imag\n",
    "        if real2 + imag2 > 4.0:\n",
    "            return n\n",
    "        imag = 2* real*imag + cimag\n",
    "        real = real2 - imag2 + creal\n",
    "        \n",
    "    return 0\n",
    "\n",
    "@cython.boundscheck(False)  # Deactivate bounds checking\n",
    "@cython.wraparound(False)   # Deactivate negative indexing.\n",
    "cpdef void calc_mandelbrot_cython(double[:,:] im,int max_iters,double centerx,double centery,double valuewidth,double valueheight) nogil:\n",
    "    cdef:\n",
    "        int w,h,i,j\n",
    "        float creal,cimag\n",
    "        \n",
    "    w=im.shape[0]\n",
    "    h=im.shape[1]\n",
    "    \n",
    "    for i in prange(w):\n",
    "        for j in prange(h):\n",
    "            creal = (i/w-0.5)*valuewidth+centerx\n",
    "            cimag = (j/h-0.5)*valueheight+centery\n",
    "            im[i,j]=mandelbrot_cython(creal,cimag,max_iters)"
   ]
  },
  {
   "cell_type": "code",
   "execution_count": null,
   "metadata": {},
   "outputs": [],
   "source": [
    "max_iters=100\n",
    "im = np.zeros((1000, 1000))\n",
    "\n",
    "%timeit calc_mandelbrot_cython(im,max_iters,-0.75,0,3,3)\n",
    "\n",
    "plt.figure(figsize=(20, 20))\n",
    "plt.imshow(im * (im < max_iters), cmap=\"hot\")"
   ]
  },
  {
   "cell_type": "markdown",
   "metadata": {},
   "source": [
    "## Bonus: \n",
    "\n",
    "Mandelbrot implemented using `numba.vectorize`. There's nothing to do here, it's just an interesting implementation which is fastest of those above."
   ]
  },
  {
   "cell_type": "code",
   "execution_count": null,
   "metadata": {},
   "outputs": [],
   "source": [
    "from numba import vectorize\n",
    "\n",
    "\n",
    "@vectorize([\"float64(float64, float64, int32)\"], target=\"parallel\")\n",
    "def mandelbrot_v(creal, cimag, max_iters):\n",
    "    real = creal\n",
    "    imag = cimag\n",
    "\n",
    "    for n in range(max_iters):\n",
    "        real2 = real * real\n",
    "        imag2 = imag * imag\n",
    "\n",
    "        if real2 + imag2 > 4.0:\n",
    "            return n\n",
    "\n",
    "        imag = 2 * real * imag + cimag\n",
    "        real = real2 - imag2 + creal\n",
    "\n",
    "    return 0\n",
    "\n",
    "\n",
    "def mandelbrot_vectorize(minx, maxx, miny, maxy, width, height, max_iters):\n",
    "    x, y = np.mgrid[minx : maxx : (maxx - minx) / width, miny : maxy : (maxy - miny) / height]\n",
    "\n",
    "    return mandelbrot_v(x, y, max_iters)"
   ]
  },
  {
   "cell_type": "code",
   "execution_count": null,
   "metadata": {},
   "outputs": [],
   "source": [
    "max_iters=100\n",
    "%timeit im=mandelbrot_vectorize(-2.,1,-1.5,1.5,1000,1000,max_iters)\n",
    "\n",
    "plt.figure(figsize=(20, 20))\n",
    "plt.imshow(im * (im < max_iters), cmap=\"afmhot\")"
   ]
  },
  {
   "cell_type": "code",
   "execution_count": null,
   "metadata": {},
   "outputs": [],
   "source": []
  }
 ],
 "metadata": {
  "kernelspec": {
   "display_name": "Python 3 (ipykernel)",
   "language": "python",
   "name": "python3"
  },
  "language_info": {
   "codemirror_mode": {
    "name": "ipython",
    "version": 3
   },
   "file_extension": ".py",
   "mimetype": "text/x-python",
   "name": "python",
   "nbconvert_exporter": "python",
   "pygments_lexer": "ipython3",
   "version": "3.10.9"
  }
 },
 "nbformat": 4,
 "nbformat_minor": 4
}
