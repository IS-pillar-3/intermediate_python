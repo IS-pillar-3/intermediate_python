{
 "cells": [
  {
   "cell_type": "markdown",
   "metadata": {
    "slideshow": {
     "slide_type": "slide"
    }
   },
   "source": [
    "#### <center>Intermediate Python and Software Enginnering</center>\n",
    "\n",
    "\n",
    "## <center>Section 08 - Part 01 - Concurrency and Thread</center>\n",
    "\n",
    "\n",
    "### <center>Innovation Scholars Programme</center>\n",
    "### <center>King's College London, Medical Research Council and UKRI <center>"
   ]
  },
  {
   "cell_type": "markdown",
   "metadata": {
    "slideshow": {
     "slide_type": "slide"
    }
   },
   "source": [
    "## What we'll cover\n",
    "* Native libraries\n",
    "* concurrency\n",
    "* threads, processes\n",
    "* deadlock, locks, semaphores\n",
    "* shared memory\n",
    "* GIL\n",
    "* GPU computation"
   ]
  },
  {
   "cell_type": "markdown",
   "metadata": {
    "slideshow": {
     "slide_type": "slide"
    }
   },
   "source": [
    "# Concurrency\n",
    "\n",
    "* Running multiple computational streams at the same time\n",
    "* Seen when running multiple programs at same time on a device\n",
    "* Each running program exists in a process, these can be executed in parallel\n",
    "* Within each process can be smaller lightweight streams of control flow called threads\n",
    "* GPUs use massive parallelism to render fast"
   ]
  },
  {
   "cell_type": "markdown",
   "metadata": {
    "slideshow": {
     "slide_type": "slide"
    }
   },
   "source": [
    "* Simple thread example in Python:"
   ]
  },
  {
   "cell_type": "code",
   "execution_count": 1,
   "metadata": {
    "slideshow": {
     "slide_type": "fragment"
    }
   },
   "outputs": [
    {
     "name": "stdout",
     "output_type": "stream",
     "text": [
      "1584566359.368052 Hello, thread!\n",
      "1584566359.3685863 Done\n"
     ]
    },
    {
     "data": {
      "application/javascript": [
       "\n",
       "            setTimeout(function() {\n",
       "                var nbb_cell_id = 1;\n",
       "                var nbb_formatted_code = \"%load_ext nb_black\\nimport threading, time\\n\\n\\ndef print_msg(msg):\\n    for i in range(5):\\n        print(time.time(), msg)\\n        time.sleep(0.1)\\n\\n\\nt = threading.Thread(target=print_msg, args=(\\\"Hello, thread!\\\",))\\nt.start()\\nprint(time.time(), \\\"Done\\\")\";\n",
       "                var nbb_cells = Jupyter.notebook.get_cells();\n",
       "                for (var i = 0; i < nbb_cells.length; ++i) {\n",
       "                    if (nbb_cells[i].input_prompt_number == nbb_cell_id) {\n",
       "                        nbb_cells[i].set_text(nbb_formatted_code);\n",
       "                        break;\n",
       "                    }\n",
       "                }\n",
       "            }, 500);\n",
       "            "
      ],
      "text/plain": [
       "<IPython.core.display.Javascript object>"
      ]
     },
     "metadata": {},
     "output_type": "display_data"
    },
    {
     "name": "stdout",
     "output_type": "stream",
     "text": [
      "1584566359.4684453 Hello, thread!\n",
      "1584566359.5687037 Hello, thread!\n",
      "1584566359.6689537 Hello, thread!\n",
      "1584566359.7692175 Hello, thread!\n"
     ]
    }
   ],
   "source": [
    "%load_ext nb_black\n",
    "import threading, time\n",
    "\n",
    "\n",
    "def print_msg(msg):\n",
    "    for i in range(5):\n",
    "        print(time.time(), msg)\n",
    "        time.sleep(0.1)\n",
    "\n",
    "\n",
    "t = threading.Thread(target=print_msg, args=(\"Hello, thread!\",))\n",
    "t.start()\n",
    "print(time.time(), \"Done\")"
   ]
  },
  {
   "cell_type": "markdown",
   "metadata": {
    "slideshow": {
     "slide_type": "slide"
    }
   },
   "source": [
    "* In Python, a thread object is created which represents a separate flow of execution\n",
    "* Target callable (or `Thread.run()` if this is `None`) is executed concurrently\n",
    "* Thread calling `start()` can continue on its own after that\n",
    "* Allows multiple computations to be done at once, using more CPU resources if multiple cores are present"
   ]
  },
  {
   "cell_type": "markdown",
   "metadata": {
    "slideshow": {
     "slide_type": "slide"
    }
   },
   "source": [
    "* Python programs are often composed of multiple threads\n",
    "* When running on command line or in Jupyter you interact with one directly, others in background could be doing other tasks\n",
    "* Eg. in many GUI frameworks, one \"message pump\" thread handles events coming from user input and triggers code elsewhere to do some task\n",
    "* If these task routines do not spawn new threads they will lock the windowing environment until they complete"
   ]
  },
  {
   "cell_type": "markdown",
   "metadata": {
    "slideshow": {
     "slide_type": "slide"
    }
   },
   "source": [
    "* Thread objects have methods for control:\n",
    "* `start` starts the thread, only call once\n",
    "* `join` waits for the thread to finish before allowing the calling thread to continue (blocking)\n",
    "* `is_alive` checks if the thread is still running"
   ]
  },
  {
   "cell_type": "code",
   "execution_count": 2,
   "metadata": {
    "slideshow": {
     "slide_type": "fragment"
    }
   },
   "outputs": [
    {
     "name": "stdout",
     "output_type": "stream",
     "text": [
      "1584566365.8451903 Hello, thread!\n",
      "True\n",
      "1584566365.945567 Hello, thread!\n",
      "1584566366.0458167 Hello, thread!\n",
      "1584566366.1460655 Hello, thread!\n",
      "1584566366.2463303 Hello, thread!\n",
      "1584566366.3473692 Done False\n"
     ]
    },
    {
     "data": {
      "application/javascript": [
       "\n",
       "            setTimeout(function() {\n",
       "                var nbb_cell_id = 2;\n",
       "                var nbb_formatted_code = \"t = threading.Thread(target=print_msg, args=(\\\"Hello, thread!\\\",))\\nt.start()\\nprint(t.is_alive())  # is the thread running?\\nt.join()  # wait for thread to finish\\nprint(time.time(), \\\"Done\\\", t.is_alive())\";\n",
       "                var nbb_cells = Jupyter.notebook.get_cells();\n",
       "                for (var i = 0; i < nbb_cells.length; ++i) {\n",
       "                    if (nbb_cells[i].input_prompt_number == nbb_cell_id) {\n",
       "                        nbb_cells[i].set_text(nbb_formatted_code);\n",
       "                        break;\n",
       "                    }\n",
       "                }\n",
       "            }, 500);\n",
       "            "
      ],
      "text/plain": [
       "<IPython.core.display.Javascript object>"
      ]
     },
     "metadata": {},
     "output_type": "display_data"
    }
   ],
   "source": [
    "t = threading.Thread(target=print_msg, args=(\"Hello, thread!\",))\n",
    "t.start()\n",
    "print(t.is_alive())  # is the thread running?\n",
    "t.join()  # wait for thread to finish\n",
    "print(time.time(), \"Done\", t.is_alive())"
   ]
  },
  {
   "cell_type": "markdown",
   "metadata": {
    "slideshow": {
     "slide_type": "slide"
    }
   },
   "source": [
    "* Threads need to co-operate to implement concurrent behaviour, special mechanisms must be used to do this and prevent semantic issues\n",
    "* Eg. if a thread is stopped waiting for an event that never occurs, it is deadlocked\n",
    "* Happens if two threads rely on the other to respond, can't do that while waiting\n",
    "* Eg. if a data structure is manipulated by two threads at once these can overwrite one anothers changes and put the structure in an inconsistent state"
   ]
  },
  {
   "cell_type": "markdown",
   "metadata": {
    "slideshow": {
     "slide_type": "slide"
    }
   },
   "source": [
    "* Simplest mechanism is a lock which only one thread can own at a time, other threads requesting the lock must wait:"
   ]
  },
  {
   "cell_type": "code",
   "execution_count": 3,
   "metadata": {
    "slideshow": {
     "slide_type": "fragment"
    }
   },
   "outputs": [
    {
     "name": "stdout",
     "output_type": "stream",
     "text": [
      "1584566369.747519 I want to do something!\n",
      "1584566369.7479808 No, you have to wait...\n",
      "1584566374.7548938 Doing the thing!\n"
     ]
    },
    {
     "data": {
      "application/javascript": [
       "\n",
       "            setTimeout(function() {\n",
       "                var nbb_cell_id = 3;\n",
       "                var nbb_formatted_code = \"lock = threading.Lock()\\n\\n\\ndef do_critical():\\n    print(time.time(), \\\"I want to do something!\\\")\\n    with lock:  # critical section is execution area where lock is held\\n        print(time.time(), \\\"Doing the thing!\\\")\\n\\n\\nt = threading.Thread(target=do_critical)\\nwith lock:\\n    t.start()\\n    print(time.time(), \\\"No, you have to wait...\\\")\\n    time.sleep(5)\";\n",
       "                var nbb_cells = Jupyter.notebook.get_cells();\n",
       "                for (var i = 0; i < nbb_cells.length; ++i) {\n",
       "                    if (nbb_cells[i].input_prompt_number == nbb_cell_id) {\n",
       "                        nbb_cells[i].set_text(nbb_formatted_code);\n",
       "                        break;\n",
       "                    }\n",
       "                }\n",
       "            }, 500);\n",
       "            "
      ],
      "text/plain": [
       "<IPython.core.display.Javascript object>"
      ]
     },
     "metadata": {},
     "output_type": "display_data"
    }
   ],
   "source": [
    "lock = threading.Lock()\n",
    "\n",
    "\n",
    "def do_critical():\n",
    "    print(time.time(), \"I want to do something!\")\n",
    "    with lock:  # critical section is execution area where lock is held\n",
    "        print(time.time(), \"Doing the thing!\")\n",
    "\n",
    "\n",
    "t = threading.Thread(target=do_critical)\n",
    "with lock:\n",
    "    t.start()\n",
    "    print(time.time(), \"No, you have to wait...\")\n",
    "    time.sleep(5)"
   ]
  },
  {
   "cell_type": "markdown",
   "metadata": {
    "slideshow": {
     "slide_type": "slide"
    }
   },
   "source": [
    "* Ensures that only one thread can enter critical section at a time\n",
    "* Used to co-ordinate access to a data structure, only code in a critical section should modify something shared\n",
    "* Deadlock can still occur if one thread holds a lock another is waiting on and won't release until that one responds somehow; this can't happen so both are stuck\n",
    "* Any behaviour dependent on timing is a race condition and can cause unwanted behaviour"
   ]
  },
  {
   "cell_type": "markdown",
   "metadata": {
    "slideshow": {
     "slide_type": "slide"
    }
   },
   "source": [
    "* Famous thought experiment is Dining Philosophers <img style=\"float:right;margin:2cm\" width=\"350\" src=\"https://upload.wikimedia.org/wikipedia/commons/thumb/7/7b/An_illustration_of_the_dining_philosophers_problem.png/463px-An_illustration_of_the_dining_philosophers_problem.png\">\n",
    "* 5 people at table with 5 forks, need 2 forks to eat (ie. acquire fork locks)\n",
    "* If all 5 pick up a fork at once, deadlock\n",
    "* Each diner must try to pick up one fork then another, if this fails they have to let go of a fork to let others continue"
   ]
  }
 ],
 "metadata": {
  "celltoolbar": "Slideshow",
  "kernelspec": {
   "display_name": "Python 3 (ipykernel)",
   "language": "python",
   "name": "python3"
  },
  "language_info": {
   "codemirror_mode": {
    "name": "ipython",
    "version": 3
   },
   "file_extension": ".py",
   "mimetype": "text/x-python",
   "name": "python",
   "nbconvert_exporter": "python",
   "pygments_lexer": "ipython3",
   "version": "3.10.9"
  }
 },
 "nbformat": 4,
 "nbformat_minor": 4
}
