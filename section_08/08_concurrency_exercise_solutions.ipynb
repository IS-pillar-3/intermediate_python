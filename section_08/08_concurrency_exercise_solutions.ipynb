{
 "cells": [
  {
   "cell_type": "markdown",
   "metadata": {},
   "source": [
    "#### <center>Intermediate Python and Software Enginnering</center>\n",
    "\n",
    "\n",
    "## <center>Section 08 - Concurrency - Exercise Solutions</center>\n",
    "\n",
    "\n",
    "### <center>Innovation Scholars Programme</center>\n",
    "### <center>King's College London, Medical Research Council and UKRI <center>"
   ]
  },
  {
   "cell_type": "markdown",
   "metadata": {},
   "source": [
    "### Need for locking\n",
    "\n",
    "**Exercise 1**: Write two functions that operate on a global variable 'value'. One function adds 1 to value 'iterations' times. One function subtracts 1 to value 'iterations' times.  We need to use the given lock value for a reason, be sure to use it correctly in your code. What should the output be?\n",
    "\n",
    "What happens when you set iterations to be 1000, 10000, 100000, 1000000? Run each iteration count a number of times and look at the results. Why do you think the behaviour changes?\n"
   ]
  },
  {
   "cell_type": "code",
   "execution_count": 2,
   "metadata": {},
   "outputs": [
    {
     "name": "stdout",
     "output_type": "stream",
     "text": [
      "0\n"
     ]
    }
   ],
   "source": [
    "import threading as t\n",
    "\n",
    "value = 0\n",
    "iterations = 1000\n",
    "lock = t.Lock()\n",
    "\n",
    "def adding():\n",
    "    global value\n",
    "    for _ in range(iterations):\n",
    "        with lock:\n",
    "            value += 1\n",
    "\n",
    "def subtracting():\n",
    "    global value\n",
    "    for _ in range(iterations):\n",
    "        with lock:\n",
    "            value -= 1\n",
    "\n",
    "t0 = t.Thread(target=adding)\n",
    "t1 = t.Thread(target=subtracting)\n",
    "t0.start()\n",
    "t1.start()\n",
    "t0.join()\n",
    "t1.join()\n",
    "print(value)\n",
    "\n",
    "\n",
    "# Having experimented with iteration lengths, use locks to make this safe"
   ]
  },
  {
   "cell_type": "markdown",
   "metadata": {},
   "source": [
    "### Producer-Consumer\n",
    "\n",
    "This is a very common pattern composed of one or more producer threads which place data into a data structure and one or more consumer threads which remove it. Both may be implementing complex behaviour but the key pattern is that they communicate through the shared data structure. They must be implemented in a way which is thread-safe and controllable, that is the threads will start and complete in a controlled way.\n",
    "\n",
    "**Exercise 2**: implement the functions below to define producer and consumer threads"
   ]
  },
  {
   "cell_type": "code",
   "execution_count": 5,
   "metadata": {},
   "outputs": [
    {
     "name": "stdout",
     "output_type": "stream",
     "text": [
      "Producing 30\n",
      "Producing 54\n",
      "Producing 51\n",
      "Producing 69\n",
      "Producing 57\n",
      "Producing 58\n",
      "Producing 81\n",
      "Producing 52\n",
      "Producing 58\n",
      "Producing 44\n",
      "Consuming 30\n",
      "Consuming 54\n",
      "Consuming 51\n",
      "Consuming 69\n",
      "Consuming 57\n",
      "Consuming 58\n",
      "Consuming 81\n",
      "Consuming 52\n",
      "Consuming 58\n",
      "Consuming 44\n"
     ]
    }
   ],
   "source": [
    "import threading as t\n",
    "\n",
    "queue=[]\n",
    "lock=t.Lock()\n",
    "import random\n",
    "\n",
    "SENTINEL=object() # this is one way to indicate a stopping condition\n",
    "\n",
    "\n",
    "def producer(num_values):\n",
    "    for n in range(num_values):\n",
    "        with lock:\n",
    "            val = random.randint(10,99)\n",
    "            print('Producing',val)\n",
    "            queue.append(val)\n",
    "            \n",
    "    with lock:\n",
    "        queue.append(SENTINEL) # assumes only one producer, how would we handle multiples?\n",
    "            \n",
    "        \n",
    "def consumer():\n",
    "    while True:\n",
    "        with lock:\n",
    "            if len(queue)>0:\n",
    "                val=queue.pop(0)\n",
    "                if val is SENTINEL:\n",
    "                    break\n",
    "                    \n",
    "                print('Consuming',val)\n",
    "            \n",
    "            \n",
    "t0 = t.Thread(target=producer,args=(10,))\n",
    "t1 = t.Thread(target=consumer)\n",
    "t0.start()\n",
    "t1.start()\n",
    "t0.join()\n",
    "t1.join()"
   ]
  },
  {
   "cell_type": "markdown",
   "metadata": {},
   "source": [
    "### The Producer / Consumer Queue\n",
    "\n",
    "We can use a producer / consumer queue whenever we have two (or more) threads in the following relationship:\n",
    "* One (or more) producer threads doing work and putting the results of the work into a queue\n",
    "* One (or more) threads that are consuming the work done by the producer threads by taking an item of work off the queue\n",
    "\n",
    "In a basic producer / consumer queue, we can have a lock that is shared by producers and consumers. The lock must be obtained before:\n",
    "* Pushing an item onto the queue\n",
    "* Popping an item off the queue\n",
    "\n",
    "**Exercise 3**: Write a producer consumer Queue by implementing the following methods which use an internal lock to synchronize. Use this type to re-implement your code for the above exercise. For this exercise and the following exercises, run each stage a number of times so that you can see the effects of running threaded code. "
   ]
  },
  {
   "cell_type": "code",
   "execution_count": 6,
   "metadata": {},
   "outputs": [
    {
     "name": "stdout",
     "output_type": "stream",
     "text": [
      "50084.88256199735\n",
      "polled_empty = 215234\n",
      "longest_queue = 3442\n",
      "Done!\n"
     ]
    }
   ],
   "source": [
    "import threading as t\n",
    "import random\n",
    "\n",
    "class Queue:\n",
    "    def __init__(self):\n",
    "        self.lock = t.Lock()\n",
    "        self.queue = list()\n",
    "        self.polled_empty = 0\n",
    "        self.longest_queue = 0\n",
    "    \n",
    "    def qpush(self, value):\n",
    "        with self.lock:\n",
    "            self.queue.insert(0, value)\n",
    "        \n",
    "    def qpop(self):\n",
    "        while True:\n",
    "            with self.lock:\n",
    "                if len(self.queue) > 0:\n",
    "                    self.longest_queue = max(len(self.queue), self.longest_queue)\n",
    "                    return self.queue.pop()\n",
    "                else:\n",
    "                    self.polled_empty += 1\n",
    "                    \n",
    "    def get_polled_empty(self):\n",
    "        with self.lock:\n",
    "            return self.polled_empty\n",
    "        \n",
    "    def get_longest_queue(self):\n",
    "        with self.lock:\n",
    "            return self.longest_queue\n",
    "        \n",
    "\n",
    "q = Queue()\n",
    "iterations = 10000\n",
    "r = random.Random(12345678)\n",
    "\n",
    "def produce():\n",
    "    for i in range(iterations):\n",
    "        rsum = sum([r.random() for _ in range(10)])\n",
    "        q.qpush(rsum)\n",
    "\n",
    "def consume():\n",
    "    sum = 0\n",
    "    for i in range(iterations):\n",
    "        sum += q.qpop()\n",
    "    print(sum)\n",
    "\n",
    "t0 = t.Thread(target=produce)\n",
    "t1 = t.Thread(target=consume)\n",
    "t0.start()\n",
    "t1.start()\n",
    "t0.join()\n",
    "t1.join()\n",
    "print('polled_empty =', q.get_polled_empty())\n",
    "print('longest_queue =', q.get_longest_queue())\n",
    "print(\"Done!\")"
   ]
  },
  {
   "cell_type": "markdown",
   "metadata": {},
   "source": [
    "**Exercise 4**: Add a get_polled_empty() method which returns how many times the queue was checked when empty by the consumer. Add a get_longest_queue() method that returns the longest that the queue was when checked by the consumer.\n",
    "\n",
    "**Exercise 5**: Notice that the consumer (almost) never has time to drain the queue. Make the producer use random to calculate a more expensive value so that the consumer has time to catch up.  "
   ]
  },
  {
   "cell_type": "markdown",
   "metadata": {},
   "source": [
    "### Dining philosophers\n",
    "A philosopher needs two forks to eat (one for each hand). A philosopher can only pick up a single fork in an action, and so picking up two forks requires two actions. \n",
    "\n",
    "**Exercise 6**: Implement the `Fork` and `Philosopher` classes."
   ]
  },
  {
   "cell_type": "code",
   "execution_count": null,
   "metadata": {},
   "outputs": [
    {
     "name": "stdout",
     "output_type": "stream",
     "text": [
      "philosopher 0 got_fork 0philosopher 1 got_fork 1\n",
      "philosopher 2 got_fork 2\n",
      "philosopher 3 got_fork 3\n",
      "philosopher 4 got_fork 4\n",
      "\n"
     ]
    }
   ],
   "source": [
    "import threading as t\n",
    "\n",
    "\n",
    "class Fork:\n",
    "    def __init__(self, index):\n",
    "        self.lock = t.Lock()\n",
    "        self.index = index\n",
    "        \n",
    "    def get_fork(self, philosopher):\n",
    "        self.lock.acquire()\n",
    "        print('philosopher {} got_fork {}'.format(philosopher, self.index))\n",
    "        \n",
    "    def release_fork(self, philosopher):\n",
    "        self.lock.release()\n",
    "        print('philosopher {} released_fork {}'.format(philosopher, self.index))\n",
    "        \n",
    "class Philosopher:\n",
    "    def __init__(self, index, forks, count):\n",
    "        self.index = index\n",
    "        self.forks = forks\n",
    "        self.count = count\n",
    "        \n",
    "    def eat(self):\n",
    "        print('philosopher {} eats!'.format(self.index))\n",
    "        \n",
    "    def go(self):\n",
    "        self.cur = 0\n",
    "        while self.cur < self.count:\n",
    "            self.forks[self.index].get_fork(self.index)\n",
    "            next_fork = (self.index + 1) % len(self.forks)\n",
    "            self.forks[next_fork].get_fork(self.index)\n",
    "            self.eat()\n",
    "            self.forks[next_fork].release_fork(self.index)\n",
    "            self.forks[self.index].release_fork(self.index)\n",
    "            self.cur += 1\n",
    "        \n",
    "\n",
    "count = 10\n",
    "forks = [Fork(i) for i in range(0, 5)]\n",
    "\n",
    "philosophers = [Philosopher(i, forks, count) for i in range(0, 5)]\n",
    "\n",
    "threads = []\n",
    "for p in philosophers:\n",
    "    th = t.Thread(target=p.go)\n",
    "    threads.append(th)\n",
    "    th.start()\n",
    "\n",
    "for th in threads:\n",
    "    th.join()\n",
    "    \n",
    "print('done!')"
   ]
  },
  {
   "cell_type": "markdown",
   "metadata": {},
   "source": [
    "You will likely have noticed that your code doesn't always complete. This can happen when every philosopher has grabbed their left fork and no-one is letting go of the fork they grabbed. There are several ways to resolve this:\n",
    "1. Release the fork after a certain amount of time\n",
    "2. Always obtain forks in a particular precedence order. This means that one of the philosophers will grab their right fork before the left fork"
   ]
  }
 ],
 "metadata": {
  "kernelspec": {
   "display_name": "Python 3 (ipykernel)",
   "language": "python",
   "name": "python3"
  },
  "language_info": {
   "codemirror_mode": {
    "name": "ipython",
    "version": 3
   },
   "file_extension": ".py",
   "mimetype": "text/x-python",
   "name": "python",
   "nbconvert_exporter": "python",
   "pygments_lexer": "ipython3",
   "version": "3.10.9"
  }
 },
 "nbformat": 4,
 "nbformat_minor": 4
}
