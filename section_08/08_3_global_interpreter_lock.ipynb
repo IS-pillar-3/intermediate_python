{
 "cells": [
  {
   "cell_type": "markdown",
   "metadata": {
    "slideshow": {
     "slide_type": "slide"
    }
   },
   "source": [
    "#### <center>Intermediate Python and Software Enginnering</center>\n",
    "\n",
    "\n",
    "## <center>Section 08 - Part 03 - Global Interpreter Lock</center>\n",
    "\n",
    "\n",
    "### <center>Innovation Scholars Programme</center>\n",
    "### <center>King's College London, Medical Research Council and UKRI <center>"
   ]
  },
  {
   "cell_type": "markdown",
   "metadata": {
    "slideshow": {
     "slide_type": "slide"
    }
   },
   "source": [
    "## Global Interpreter Lock\n",
    "\n",
    "* Python uses a global lock, the GIL, to prevent threads from interpreting code at the same time\n",
    "* Prevents objects from being accessed by multiple threads at once, alternative would be expensive per-object locks\n",
    "* Threading in Python doesn't provide much speed-up as a result\n",
    "* Threads still needed for GUIs, asynchronous IO (which releases the GIL), concurrent calls to non-Python code (also releases the GIL, eg. Numpy)"
   ]
  },
  {
   "cell_type": "markdown",
   "metadata": {
    "slideshow": {
     "slide_type": "slide"
    }
   },
   "source": [
    "* One solution to speeding up calculations is multiprocessing\n",
    "* A process differs from threads in having it's own memory address space\n",
    "* Processes need to use shared memory, pipes, sockets, or other mechanisms to communicate\n",
    "* Each process is a separate program with separate GIL\n",
    "* Locks, events, etc. have versions for processes"
   ]
  },
  {
   "cell_type": "markdown",
   "metadata": {
    "slideshow": {
     "slide_type": "slide"
    }
   },
   "source": [
    "* Creating a process is (almost) as easy:"
   ]
  },
  {
   "cell_type": "code",
   "execution_count": 5,
   "metadata": {
    "slideshow": {
     "slide_type": "fragment"
    }
   },
   "outputs": [
    {
     "name": "stdout",
     "output_type": "stream",
     "text": [
      "Process 19329 spawning a new process\n",
      "I am process 19353\n"
     ]
    },
    {
     "data": {
      "application/javascript": "\n            setTimeout(function() {\n                var nbb_cell_id = 5;\n                var nbb_formatted_code = \"import multiprocessing, os\\n\\n\\ndef print_mp():\\n    print(\\\"I am process\\\", os.getpid())\\n\\n\\nprint(\\\"Process\\\", os.getpid(), \\\"spawning a new process\\\")\\np = multiprocessing.Process(target=print_mp)\\np.start()\";\n                var nbb_cells = Jupyter.notebook.get_cells();\n                for (var i = 0; i < nbb_cells.length; ++i) {\n                    if (nbb_cells[i].input_prompt_number == nbb_cell_id) {\n                        nbb_cells[i].set_text(nbb_formatted_code);\n                        break;\n                    }\n                }\n            }, 500);\n            ",
      "text/plain": [
       "<IPython.core.display.Javascript object>"
      ]
     },
     "metadata": {},
     "output_type": "display_data"
    }
   ],
   "source": [
    "import multiprocessing, os\n",
    "\n",
    "\n",
    "def print_mp():\n",
    "    print(\"I am process\", os.getpid())\n",
    "\n",
    "\n",
    "print(\"Process\", os.getpid(), \"spawning a new process\")\n",
    "p = multiprocessing.Process(target=print_mp)\n",
    "p.start()"
   ]
  },
  {
   "cell_type": "markdown",
   "metadata": {
    "slideshow": {
     "slide_type": "slide"
    }
   },
   "source": [
    "* Processes don't share memory so how did the code for `print_mp` get to the new process to be executed?\n",
    "* Answer: black magic\n",
    "* Real answer: Python has ways of reloading script files in subprocesses, serializing data/code and sending it down a channel, or (in Linux and macOS) using the weird way subprocesses are spawned by cloning with `fork()`"
   ]
  },
  {
   "cell_type": "markdown",
   "metadata": {
    "slideshow": {
     "slide_type": "slide"
    }
   },
   "source": [
    "* Above code doesn't work in Windows\n",
    "* Instead write to file and run as a module:"
   ]
  },
  {
   "cell_type": "code",
   "execution_count": 6,
   "metadata": {
    "slideshow": {
     "slide_type": "fragment"
    }
   },
   "outputs": [
    {
     "name": "stdout",
     "output_type": "stream",
     "text": [
      "Overwriting mptest.py\n"
     ]
    },
    {
     "data": {
      "application/javascript": "\n            setTimeout(function() {\n                var nbb_cell_id = 6;\n                var nbb_formatted_code = \"%%writefile mptest.py\\n\\nimport multiprocessing, os\\n\\ndef print_mp():\\n    print('I am process',os.getpid())\\n\\nif __name__=='__main__': # needed to prevent errors from multiple loads\\n    print('Process',os.getpid(), 'spawning a new process')\\n    p=multiprocessing.Process(target=print_mp)\\n    p.start()\";\n                var nbb_cells = Jupyter.notebook.get_cells();\n                for (var i = 0; i < nbb_cells.length; ++i) {\n                    if (nbb_cells[i].input_prompt_number == nbb_cell_id) {\n                        nbb_cells[i].set_text(nbb_formatted_code);\n                        break;\n                    }\n                }\n            }, 500);\n            ",
      "text/plain": [
       "<IPython.core.display.Javascript object>"
      ]
     },
     "metadata": {},
     "output_type": "display_data"
    }
   ],
   "source": [
    "%%writefile mptest.py\n",
    "\n",
    "import multiprocessing, os\n",
    "\n",
    "def print_mp():\n",
    "    print('I am process',os.getpid())\n",
    "\n",
    "if __name__=='__main__': # needed to prevent errors from multiple loads\n",
    "    print('Process',os.getpid(), 'spawning a new process')\n",
    "    p=multiprocessing.Process(target=print_mp)\n",
    "    p.start()"
   ]
  },
  {
   "cell_type": "code",
   "execution_count": 7,
   "metadata": {
    "slideshow": {
     "slide_type": "slide"
    }
   },
   "outputs": [
    {
     "name": "stdout",
     "output_type": "stream",
     "text": [
      "Process 19357 spawning a new process\r\n",
      "I am process 19358\r\n"
     ]
    },
    {
     "data": {
      "application/javascript": "\n            setTimeout(function() {\n                var nbb_cell_id = 7;\n                var nbb_formatted_code = \"!python mptest.py\";\n                var nbb_cells = Jupyter.notebook.get_cells();\n                for (var i = 0; i < nbb_cells.length; ++i) {\n                    if (nbb_cells[i].input_prompt_number == nbb_cell_id) {\n                        nbb_cells[i].set_text(nbb_formatted_code);\n                        break;\n                    }\n                }\n            }, 500);\n            ",
      "text/plain": [
       "<IPython.core.display.Javascript object>"
      ]
     },
     "metadata": {},
     "output_type": "display_data"
    }
   ],
   "source": [
    "!python mptest.py"
   ]
  },
  {
   "cell_type": "markdown",
   "metadata": {
    "slideshow": {
     "slide_type": "slide"
    }
   },
   "source": [
    "* Processes communicate using locks, events, etc. but share large amounts of data with shared memory\n",
    "* Special memory OS allows multiple processes to access"
   ]
  },
  {
   "cell_type": "code",
   "execution_count": 8,
   "metadata": {
    "slideshow": {
     "slide_type": "fragment"
    }
   },
   "outputs": [
    {
     "name": "stdout",
     "output_type": "stream",
     "text": [
      "Overwriting arraytest.py\n"
     ]
    },
    {
     "data": {
      "application/javascript": "\n            setTimeout(function() {\n                var nbb_cell_id = 8;\n                var nbb_formatted_code = \"%%writefile arraytest.py\\nimport multiprocessing\\n\\ndef fill_array(arr):\\n    arr[:]=[5,6,7]\\n    \\nif __name__=='__main__':\\n    dat=multiprocessing.Array('i',[1,2,3])\\n    p=multiprocessing.Process(target=fill_array,args=(dat,))\\n    p.start()\\n    p.join()\\n    print(dat[:])\";\n                var nbb_cells = Jupyter.notebook.get_cells();\n                for (var i = 0; i < nbb_cells.length; ++i) {\n                    if (nbb_cells[i].input_prompt_number == nbb_cell_id) {\n                        nbb_cells[i].set_text(nbb_formatted_code);\n                        break;\n                    }\n                }\n            }, 500);\n            ",
      "text/plain": [
       "<IPython.core.display.Javascript object>"
      ]
     },
     "metadata": {},
     "output_type": "display_data"
    }
   ],
   "source": [
    "%%writefile arraytest.py\n",
    "import multiprocessing\n",
    "\n",
    "def fill_array(arr):\n",
    "    arr[:]=[5,6,7]\n",
    "    \n",
    "if __name__=='__main__':\n",
    "    dat=multiprocessing.Array('i',[1,2,3])\n",
    "    p=multiprocessing.Process(target=fill_array,args=(dat,))\n",
    "    p.start()\n",
    "    p.join()\n",
    "    print(dat[:])"
   ]
  },
  {
   "cell_type": "code",
   "execution_count": 9,
   "metadata": {
    "slideshow": {
     "slide_type": "slide"
    }
   },
   "outputs": [
    {
     "name": "stdout",
     "output_type": "stream",
     "text": [
      "[5, 6, 7]\r\n"
     ]
    },
    {
     "data": {
      "application/javascript": "\n            setTimeout(function() {\n                var nbb_cell_id = 9;\n                var nbb_formatted_code = \"!python arraytest.py\";\n                var nbb_cells = Jupyter.notebook.get_cells();\n                for (var i = 0; i < nbb_cells.length; ++i) {\n                    if (nbb_cells[i].input_prompt_number == nbb_cell_id) {\n                        nbb_cells[i].set_text(nbb_formatted_code);\n                        break;\n                    }\n                }\n            }, 500);\n            ",
      "text/plain": [
       "<IPython.core.display.Javascript object>"
      ]
     },
     "metadata": {},
     "output_type": "display_data"
    }
   ],
   "source": [
    "!python arraytest.py"
   ]
  },
  {
   "cell_type": "markdown",
   "metadata": {
    "slideshow": {
     "slide_type": "slide"
    }
   },
   "source": [
    "* Easier to use advanced facilities like `Pool` and `Manager`:"
   ]
  },
  {
   "cell_type": "code",
   "execution_count": 10,
   "metadata": {
    "slideshow": {
     "slide_type": "fragment"
    }
   },
   "outputs": [
    {
     "name": "stdout",
     "output_type": "stream",
     "text": [
      "Overwriting pooltest.py\n"
     ]
    },
    {
     "data": {
      "application/javascript": "\n            setTimeout(function() {\n                var nbb_cell_id = 10;\n                var nbb_formatted_code = \"%%writefile pooltest.py\\nfrom multiprocessing import Pool, Manager\\n\\ndef fill_array(index,arr):\\n    arr[index]=index**2\\n\\nif __name__=='__main__':\\n    with Manager() as manager:\\n        arr=manager.list(range(10))\\n        \\n        with Pool(processes=2) as pool:\\n            dat = [(i,arr) for i in range(10)]\\n            res=pool.starmap_async(fill_array, dat)\\n            res.get(timeout=1)\\n            print(arr)\";\n                var nbb_cells = Jupyter.notebook.get_cells();\n                for (var i = 0; i < nbb_cells.length; ++i) {\n                    if (nbb_cells[i].input_prompt_number == nbb_cell_id) {\n                        nbb_cells[i].set_text(nbb_formatted_code);\n                        break;\n                    }\n                }\n            }, 500);\n            ",
      "text/plain": [
       "<IPython.core.display.Javascript object>"
      ]
     },
     "metadata": {},
     "output_type": "display_data"
    }
   ],
   "source": [
    "%%writefile pooltest.py\n",
    "from multiprocessing import Pool, Manager\n",
    "\n",
    "def fill_array(index,arr):\n",
    "    arr[index]=index**2\n",
    "\n",
    "if __name__=='__main__':\n",
    "    with Manager() as manager:\n",
    "        arr=manager.list(range(10))\n",
    "        \n",
    "        with Pool(processes=2) as pool:\n",
    "            dat = [(i,arr) for i in range(10)]\n",
    "            res=pool.starmap_async(fill_array, dat)\n",
    "            res.get(timeout=1)\n",
    "            print(arr)"
   ]
  },
  {
   "cell_type": "code",
   "execution_count": 11,
   "metadata": {
    "slideshow": {
     "slide_type": "slide"
    }
   },
   "outputs": [
    {
     "name": "stdout",
     "output_type": "stream",
     "text": [
      "[0, 1, 4, 9, 16, 25, 36, 49, 64, 81]\r\n"
     ]
    },
    {
     "data": {
      "application/javascript": "\n            setTimeout(function() {\n                var nbb_cell_id = 11;\n                var nbb_formatted_code = \"!python pooltest.py\";\n                var nbb_cells = Jupyter.notebook.get_cells();\n                for (var i = 0; i < nbb_cells.length; ++i) {\n                    if (nbb_cells[i].input_prompt_number == nbb_cell_id) {\n                        nbb_cells[i].set_text(nbb_formatted_code);\n                        break;\n                    }\n                }\n            }, 500);\n            ",
      "text/plain": [
       "<IPython.core.display.Javascript object>"
      ]
     },
     "metadata": {},
     "output_type": "display_data"
    }
   ],
   "source": [
    "!python pooltest.py"
   ]
  },
  {
   "cell_type": "markdown",
   "metadata": {
    "slideshow": {
     "slide_type": "fragment"
    }
   },
   "source": [
    "* `Manager` is used to manage shared lists and other structures between processes\n",
    "* `Pool` manages spawning processes and apply operations to them like map or starmap in this case"
   ]
  }
 ],
 "metadata": {
  "celltoolbar": "Slideshow",
  "kernelspec": {
   "display_name": "Python 3 (ipykernel)",
   "language": "python",
   "name": "python3"
  },
  "language_info": {
   "codemirror_mode": {
    "name": "ipython",
    "version": 3
   },
   "file_extension": ".py",
   "mimetype": "text/x-python",
   "name": "python",
   "nbconvert_exporter": "python",
   "pygments_lexer": "ipython3",
   "version": "3.10.9"
  }
 },
 "nbformat": 4,
 "nbformat_minor": 4
}
