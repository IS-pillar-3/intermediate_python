{
 "cells": [
  {
   "cell_type": "code",
   "execution_count": 4,
   "metadata": {},
   "outputs": [
    {
     "name": "stdout",
     "output_type": "stream",
     "text": [
      "9.25 ms ± 93 µs per loop (mean ± std. dev. of 7 runs, 100 loops each)\n",
      "9.24 s ± 4.62 ms per loop (mean ± std. dev. of 7 runs, 1 loop each)\n"
     ]
    }
   ],
   "source": [
    "import numpy as np\n",
    "import os\n",
    "\n",
    "# disable numpy's multithreading for demonstration reasons\n",
    "os.environ['MKL_NUM_THREADS']='1'\n",
    "\n",
    "num_results=1000\n",
    "\n",
    "output=np.zeros((num_results,))\n",
    "arr=np.random.rand(200,200)\n",
    "\n",
    "    \n",
    "def expensive_calculation(idx):\n",
    "    for i in range(10):\n",
    "        inv=np.linalg.inv(arr+idx)\n",
    "    return np.linalg.det(inv)\n",
    "\n",
    "\n",
    "def expensive_loop(output):\n",
    "    for i in range(output.shape[0]):\n",
    "        output[i]=expensive_calculation(i)\n",
    "        \n",
    "        \n",
    "%timeit expensive_calculation(0)\n",
    "%timeit expensive_loop(output)"
   ]
  },
  {
   "cell_type": "code",
   "execution_count": null,
   "metadata": {},
   "outputs": [],
   "source": [
    "import cProfile\n",
    "\n",
    "pr=cProfile.Profile()\n",
    "pr.enable()\n",
    "expensive_loop(output)\n",
    "pr.disable()\n",
    "\n",
    "pr.print_stats()"
   ]
  },
  {
   "cell_type": "code",
   "execution_count": 13,
   "metadata": {},
   "outputs": [
    {
     "name": "stdout",
     "output_type": "stream",
     "text": [
      "1.6 s ± 107 ms per loop (mean ± std. dev. of 7 runs, 1 loop each)\n"
     ]
    }
   ],
   "source": [
    "import multiprocessing as mp\n",
    "\n",
    "# for CPUs that use hyperthreading there are half as many physical cores, trying to use each core twice may be slower\n",
    "num_cpus=mp.cpu_count()//2\n",
    "\n",
    "def expensive_loop_mp(output):\n",
    "    with mp.Pool(num_cpus) as pool:\n",
    "        # 1 argument tuple for each call\n",
    "        args=[(i,) for i in range(output.shape[0])]\n",
    "        \n",
    "        # `expensive_calculation` is called in separate processes which all have their own copies\n",
    "        # of `arr`, alternative would be to define `arr` in shared memory and pass it to each as argument\n",
    "        out=pool.starmap(expensive_calculation,args)\n",
    "        \n",
    "    # copy result into output array, could have shared this instead and include it as an argument\n",
    "    for i in range(output.shape[0]):\n",
    "        output[i]=out[i]\n",
    "        \n",
    "%timeit expensive_loop_mp(output)"
   ]
  }
 ],
 "metadata": {
  "kernelspec": {
   "display_name": "Python 3 (ipykernel)",
   "language": "python",
   "name": "python3"
  },
  "language_info": {
   "codemirror_mode": {
    "name": "ipython",
    "version": 3
   },
   "file_extension": ".py",
   "mimetype": "text/x-python",
   "name": "python",
   "nbconvert_exporter": "python",
   "pygments_lexer": "ipython3",
   "version": "3.10.9"
  }
 },
 "nbformat": 4,
 "nbformat_minor": 4
}
