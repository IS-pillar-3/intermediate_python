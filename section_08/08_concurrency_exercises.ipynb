{
 "cells": [
  {
   "cell_type": "markdown",
   "metadata": {},
   "source": [
    "#### <center>Intermediate Python and Software Enginnering</center>\n",
    "\n",
    "\n",
    "## <center>Section 08 - Concurrency - Exercises</center>\n",
    "\n",
    "\n",
    "### <center>Innovation Scholars Programme</center>\n",
    "### <center>King's College London, Medical Research Council and UKRI <center>"
   ]
  },
  {
   "cell_type": "markdown",
   "metadata": {},
   "source": [
    "### Need for locking\n",
    "\n",
    "**Exercise 1**: Write two functions that operate on a global variable 'value'. One function adds 1 to value 'iterations' times. One function subtracts 1 to value 'iterations' times.  We need to use the given lock value for a reason, be sure to use it correctly in your code. What should the output be?\n",
    "\n",
    "What happens when you set iterations to be 1000, 10000, 100000, 1000000? Run each iteration count a number of times and look at the results. Why do you think the behaviour changes?\n"
   ]
  },
  {
   "cell_type": "code",
   "execution_count": 3,
   "metadata": {},
   "outputs": [
    {
     "name": "stdout",
     "output_type": "stream",
     "text": [
      "0\n"
     ]
    }
   ],
   "source": [
    "import threading as t\n",
    "\n",
    "value = 0\n",
    "iterations = 0\n",
    "lock = t.Lock()\n",
    "\n",
    "def adding():\n",
    "    \"\"\"Increment `value` the number of times given by `iterations`.\"\"\"\n",
    "    global value # allows the code to reference the global variable `value`\n",
    "    # your code here\n",
    "\n",
    "def subtracting():\n",
    "    \"\"\"Decrement `value` the number of times given by `iterations`.\"\"\"\n",
    "    global value\n",
    "    # your code here\n",
    "\n",
    "t0 = t.Thread(target=adding)\n",
    "t1 = t.Thread(target=subtracting)\n",
    "t0.start()\n",
    "t1.start()\n",
    "t0.join()\n",
    "t1.join()\n",
    "print(value)\n",
    "\n",
    "\n",
    "# Having experimented with iteration lengths, use locks to make this safe"
   ]
  },
  {
   "cell_type": "markdown",
   "metadata": {},
   "source": [
    "### Producer-Consumer\n",
    "\n",
    "This is a very common pattern composed of one or more producer threads which place data into a data structure and one or more consumer threads which remove it. Both may be implementing complex behaviour but the key pattern is that they communicate through the shared data structure. They must be implemented in a way which is thread-safe and controllable, that is the threads will start and complete in a controlled way.\n",
    "\n",
    "**Exercise 2**: implement the functions below to define producer and consumer threads"
   ]
  },
  {
   "cell_type": "code",
   "execution_count": 4,
   "metadata": {},
   "outputs": [],
   "source": [
    "import threading as t\n",
    "\n",
    "queue=[] # add items with append, remove with pop\n",
    "lock=t.Lock() # what do we need to lock and why?\n",
    "\n",
    "def producer(num_values):\n",
    "    \"\"\"Put `num_values` objects on the queue, these can be random numbers or whatever.\"\"\"\n",
    "            \n",
    "def consumer():\n",
    "    \"\"\"Take all objects of the queue and print them.\"\"\"\n",
    "           \n",
    "            \n",
    "t0 = t.Thread(target=producer,args=(10,)) # only creating one producer in this test, more?\n",
    "t1 = t.Thread(target=consumer)\n",
    "t0.start()\n",
    "t1.start()\n",
    "t0.join()\n",
    "t1.join() # will this stop? If not, what do we do about it?"
   ]
  },
  {
   "cell_type": "markdown",
   "metadata": {},
   "source": [
    "### The Producer / Consumer Queue\n",
    "\n",
    "We can use a producer / consumer queue whenever we have two (or more) threads in the following relationship:\n",
    "* One (or more) producer threads doing work and putting the results of the work into a queue\n",
    "* One (or more) threads that are consuming the work done by the producer threads by taking an item of work off the queue\n",
    "\n",
    "In a basic producer / consumer queue, we can have a lock that is shared by producers and consumers. The lock must be obtained before:\n",
    "* Pushing an item onto the queue\n",
    "* Popping an item off the queue\n",
    "\n",
    "**Exercise 3**: Write a producer consumer Queue by implementing the following methods which use an internal lock to synchronize. Use this type to re-implement your code for the above exercise. For this exercise and the following exercises, run each stage a number of times so that you can see the effects of running threaded code. "
   ]
  },
  {
   "cell_type": "code",
   "execution_count": null,
   "metadata": {},
   "outputs": [],
   "source": [
    "import threading as t\n",
    "import random\n",
    "\n",
    "class Queue:\n",
    "    def __init__(self):\n",
    "        \"\"\"Initialize an empty queue\"\"\"\n",
    "    \n",
    "    def qpush(self, value):\n",
    "        \"\"\"Push `value` onto the end of the queue.\"\"\"\n",
    "        \n",
    "    def qpop(self):\n",
    "        \"\"\"Pop the top item off the queue and return.\"\"\"\n",
    "\n",
    "    def get_polled_empty(self):\n",
    "        \"\"\"Return the number of times `qpop` found the queue empty.\"\"\"\n",
    "        \n",
    "    def get_longest_queue(self):\n",
    "        \"\"\"Get the largest size the queue was at any point in time.\"\"\"\n",
    "        \n",
    "\n",
    "q = Queue()\n",
    "iterations=100\n",
    "\n",
    "# Re-implement your producer consumer code to use `q` as the synchronized data structure.\n",
    "# Both producer and consumer should produce/consume only `iterations` number of items.\n",
    "\n",
    "print('polled_empty =', q.get_polled_empty())\n",
    "print('longest_queue =', q.get_longest_queue())\n",
    "print(\"Done!\")"
   ]
  },
  {
   "cell_type": "markdown",
   "metadata": {},
   "source": [
    "**Exercise 4**: Add a get_polled_empty() method which returns how many times the queue was checked when empty by the consumer. Add a get_longest_queue() method that returns the longest that the queue was when checked by the consumer.\n",
    "\n",
    "**Exercise 5**: Notice that the consumer (almost) never has time to drain the queue. Make the producer use random to calculate a more expensive value so that the consumer has time to catch up.  "
   ]
  },
  {
   "cell_type": "markdown",
   "metadata": {},
   "source": [
    "### Dining philosophers\n",
    "A philosopher needs two forks to eat (one for each hand). A philosopher can only pick up a single fork in an action, and so picking up two forks requires two actions. \n",
    "\n",
    "**Exercise 6**: Implement the `Fork` and `Philosopher` classes."
   ]
  },
  {
   "cell_type": "code",
   "execution_count": null,
   "metadata": {},
   "outputs": [],
   "source": [
    "import threading as t\n",
    "\n",
    "\n",
    "class Fork:\n",
    "    def __init__(self, index):\n",
    "        \"\"\"Your code here\"\"\"\n",
    "        \n",
    "    def get_fork(self, philosopher):\n",
    "        \"\"\"Your code here, ensure `philosopher` as exclusive access to this fork.\"\"\"\n",
    "        \n",
    "    def release_fork(self, philosopher):\n",
    "        \"\"\"Your code here\"\"\"\n",
    "        \n",
    "        \n",
    "class Philosopher:\n",
    "    def __init__(self, index, forks, count):\n",
    "        \"\"\"Your code here\"\"\"\n",
    "        \n",
    "    def eat(self):\n",
    "        \"\"\"Your code here, you will have to have exclusive access to fork at `index` and the next one to do this.\"\"\"\n",
    "        \n",
    "    def go(self):\n",
    "        \"\"\"Your code here, eat `count` number of times.\"\"\"\n",
    "        \n",
    "        \n",
    "count = 10\n",
    "forks = [Fork(i) for i in range(5)]\n",
    "\n",
    "philosophers = [Philosopher(i, forks, count) for i in range(5)]\n",
    "\n",
    "threads = []\n",
    "for p in philosophers:\n",
    "    th = t.Thread(target=p.go)\n",
    "    threads.append(th)\n",
    "    th.start()\n",
    "\n",
    "for th in threads:\n",
    "    th.join()\n",
    "\n",
    "print('done!')"
   ]
  },
  {
   "cell_type": "markdown",
   "metadata": {},
   "source": [
    "You will likely have noticed that your code doesn't always complete. This can happen when every philosopher has grabbed their left fork and no-one is letting go of the fork they grabbed. There are several ways to resolve this:\n",
    "1. Release the fork after a certain amount of time\n",
    "2. Always obtain forks in a particular precedence order. This means that one of the philosophers will grab their right fork before the left fork"
   ]
  }
 ],
 "metadata": {
  "kernelspec": {
   "display_name": "Python 3 (ipykernel)",
   "language": "python",
   "name": "python3"
  },
  "language_info": {
   "codemirror_mode": {
    "name": "ipython",
    "version": 3
   },
   "file_extension": ".py",
   "mimetype": "text/x-python",
   "name": "python",
   "nbconvert_exporter": "python",
   "pygments_lexer": "ipython3",
   "version": "3.10.9"
  }
 },
 "nbformat": 4,
 "nbformat_minor": 4
}
