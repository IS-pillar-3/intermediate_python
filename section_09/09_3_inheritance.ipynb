{
 "cells": [
  {
   "cell_type": "markdown",
   "metadata": {
    "slideshow": {
     "slide_type": "slide"
    }
   },
   "source": [
    "#### <center>Intermediate Python and Software Enginnering</center>\n",
    "\n",
    "\n",
    "## <center>Section 09 - Part 03 - Inheritance</center>\n",
    "\n",
    "\n",
    "### <center>Innovation Scholars Programme</center>\n",
    "### <center>King's College London, Medical Research Council and UKRI <center>"
   ]
  },
  {
   "cell_type": "markdown",
   "metadata": {
    "slideshow": {
     "slide_type": "slide"
    }
   },
   "source": [
    "## Inheritance\n",
    "* An important aspect of reuse in OO\n",
    "* A class (the subclass) inherits from others (the superclasses) to include their members in its definition\n",
    "* Members don't have to be redefined to reuse them in a new context\n",
    "* The subclass is a new type but also is simultaneously what it inherits\n",
    "* Python allows multiple inheritance where a class can inherit from multiple superclasses"
   ]
  },
  {
   "cell_type": "code",
   "execution_count": 34,
   "metadata": {
    "slideshow": {
     "slide_type": "slide"
    }
   },
   "outputs": [
    {
     "name": "stdout",
     "output_type": "stream",
     "text": [
      "34 43 88 103.67738422626219\n"
     ]
    }
   ],
   "source": [
    "class Point3(Point2):\n",
    "    def __init__(self, x, y, z):\n",
    "        super().__init__(x, y) # call parent constructor\n",
    "        self._z = z\n",
    "    def z(self): return self._z\n",
    "    def set_z(self,z): self._z = z\n",
    "    def length_sq(self): return super().length_sq() + self._z**2\n",
    "        \n",
    "p3 = Point3(34, 43, 88)\n",
    "print(p3.x(), p3.y(), p3.z(), p3.length())\n"
   ]
  },
  {
   "cell_type": "markdown",
   "metadata": {
    "slideshow": {
     "slide_type": "fragment"
    }
   },
   "source": [
    "* `Point3` assumes members of `Point2` into its own definition\n",
    "* Subclasses should be specializations, that is they represent the same concept as those they inherit but add special features\n",
    "* Contrast with *inheritance of convenience* where a subclass inherits members but doesn't behave like special form of superclass"
   ]
  },
  {
   "cell_type": "markdown",
   "metadata": {
    "slideshow": {
     "slide_type": "slide"
    }
   },
   "source": [
    "* The principle of substitutability states that, wherever instances of a type are used, these objects can be substituted for instances of a subtype and still maintain correctness\n",
    "* Requires that subclasses be defined as specializations so that they have at least the same behaviour as the superclass\n",
    "* Algorithms, routines, etc. must also be implemented assuming the objects they get may be of a subclass \n",
    "* Related to the idea of duck typing where that expectation is stated in terms of public interface"
   ]
  },
  {
   "cell_type": "markdown",
   "metadata": {
    "slideshow": {
     "slide_type": "slide"
    }
   },
   "source": [
    "* Eg. any algorithm expecting a `Point2` should continue to function with a `Point3`:"
   ]
  },
  {
   "cell_type": "code",
   "execution_count": 35,
   "metadata": {
    "slideshow": {
     "slide_type": "fragment"
    }
   },
   "outputs": [
    {
     "name": "stdout",
     "output_type": "stream",
     "text": [
      "Object <__main__.Point2 object at 0x105601fd0> has length 7.211102550927978\n",
      "Object <__main__.Point3 object at 0x1056010d0> has length 103.67738422626219\n"
     ]
    }
   ],
   "source": [
    "def print_length(p):\n",
    "    print('Object',p,'has length',p.length())\n",
    "    \n",
    "print_length(p)\n",
    "print_length(p3) # Point3 objects are substitutable for Point2 objects"
   ]
  },
  {
   "cell_type": "markdown",
   "metadata": {
    "slideshow": {
     "slide_type": "slide"
    }
   },
   "source": [
    "* Methods can be overridden, that is replaced, in subclasses to modify behaviour\n",
    "* Inherited methods not overridden will be bound to the overridden ones if they call them\n",
    "* Allows subclasses to modify some of the behaviour from superclasses but reuse most of their features\n",
    "* In `Point3`, `length_sq` was overridden and `length` calls this new version"
   ]
  },
  {
   "cell_type": "markdown",
   "metadata": {
    "slideshow": {
     "slide_type": "subslide"
    }
   },
   "source": [
    "More formally, for any class `B` inheriting `A` to be considered substitutable:\n",
    "* `B` must have at least the members of `A`\n",
    "* The invariant (property of the object's state which must be true when not being operating on) for `B` must imply that of `A` \n",
    "* For any method `B.m` overriding `A.m`:\n",
    "  * The precondition (property that must be true before the call) of `B.m` must imply that of `A.m`\n",
    "  * The postcondition (property that will be true after the call) of `A.m` must imply that of `B.m`"
   ]
  },
  {
   "cell_type": "markdown",
   "metadata": {
    "slideshow": {
     "slide_type": "slide"
    }
   },
   "source": [
    "## Multiple Inheritance\n",
    "* Potential for ambiguity when inheriting from multiple classes\n",
    "* If members from two different superclasses have the same name, the subclass will get the member of the first superclass its declared to inherit from\n",
    "* `super` function is used to create a special wrapper to access the members of a superclass as seen in `lengthSq` for `Point3`\n",
    "* One can manually resolve conflicts this way, but easier to avoid multiple inheritance altogether"
   ]
  },
  {
   "cell_type": "markdown",
   "metadata": {
    "slideshow": {
     "slide_type": "slide"
    }
   },
   "source": [
    "* If two inherited classes have the same method definition, how is the choice determined?"
   ]
  },
  {
   "cell_type": "code",
   "execution_count": 38,
   "metadata": {
    "slideshow": {
     "slide_type": "fragment"
    }
   },
   "outputs": [
    {
     "data": {
      "text/plain": [
       "<bound method A.meth of <__main__.C object at 0x1045db250>>"
      ]
     },
     "execution_count": 38,
     "metadata": {},
     "output_type": "execute_result"
    }
   ],
   "source": [
    "class A: \n",
    "    def meth(self): pass\n",
    "class B: \n",
    "    def meth(self): pass\n",
    "class C(A,B): pass\n",
    "\n",
    "c=C()\n",
    "c.meth # A.meth is provided"
   ]
  },
  {
   "cell_type": "markdown",
   "metadata": {
    "slideshow": {
     "slide_type": "slide"
    }
   },
   "source": [
    "* Method resolution order (MRO) is determined by the inheritance order\n",
    "* When a method is requested, this list of types is searched in order until the first method with the desired name is found\n",
    "* `super(T,O)` is used to override this, producing a proxy around object `O` omitting type `T` from this list:"
   ]
  },
  {
   "cell_type": "code",
   "execution_count": 40,
   "metadata": {
    "slideshow": {
     "slide_type": "fragment"
    }
   },
   "outputs": [
    {
     "name": "stdout",
     "output_type": "stream",
     "text": [
      "Method resolution order of class C: (<class '__main__.C'>, <class '__main__.A'>, <class '__main__.B'>, <class 'object'>)\n"
     ]
    },
    {
     "data": {
      "text/plain": [
       "<bound method B.meth of <__main__.C object at 0x1045db250>>"
      ]
     },
     "execution_count": 40,
     "metadata": {},
     "output_type": "execute_result"
    }
   ],
   "source": [
    "print('Method resolution order of class C:',C.__mro__)\n",
    "super(A,c).meth # B.meth is provided instead"
   ]
  },
  {
   "cell_type": "markdown",
   "metadata": {
    "slideshow": {
     "slide_type": "slide"
    }
   },
   "source": [
    "## Polymorphism\n",
    "* As the name suggests, relating the concepts of having many forms in terms of objects and type\n",
    "* An object is polymorphic in that it can have multiple types\n",
    "* Every object is a subtype of `object` as well as whatever class it was instantiated from:"
   ]
  },
  {
   "cell_type": "code",
   "execution_count": 41,
   "metadata": {
    "slideshow": {
     "slide_type": "fragment"
    }
   },
   "outputs": [
    {
     "name": "stdout",
     "output_type": "stream",
     "text": [
      "True True\n"
     ]
    }
   ],
   "source": [
    "print(isinstance(p3, Point3), isinstance(p3, Point2))"
   ]
  },
  {
   "cell_type": "markdown",
   "metadata": {
    "slideshow": {
     "slide_type": "skip"
    }
   },
   "source": [
    "* In statically-typed languages polymorphism impacts what type of objects variables can store/reference\n",
    "* Eg. in Java, given a type `B` which inherits from `A`, a variable with type `A` can store instances of `A` or `B`\n",
    "* Only the members of `A` are accessible through this variable\n",
    "* An object of type `C` unrelated to either cannot be assigned to this variable"
   ]
  },
  {
   "cell_type": "markdown",
   "metadata": {
    "slideshow": {
     "slide_type": "skip"
    }
   },
   "source": [
    "## Non-Python Concepts\n",
    "* Overloading: multiple methods can be defined with the same name, they are differentiated by their argument types\n",
    "* Generics/templates: definitions are parameterized by type variables, different versions can be defined for different types\n",
    "* Interfaces: can contain abstract method declarations only, meant to define the abstract interface inheriting classes will implement\n",
    "* Access modifiers: keywords like `private` controlling access rights to object members"
   ]
  },
  {
   "cell_type": "markdown",
   "metadata": {
    "slideshow": {
     "slide_type": "slide"
    }
   },
   "source": [
    "## Python Object Model\n",
    "\n",
    "* Python objects are implemented as dictionaries\n",
    "* When using dot notation like `obj.member`, the `member` value is searched by name in this dictionary then returned\n",
    "* No distinction is made between method or member when doing this, so can replace one with the other\n",
    "* Functions `getattr`, `hasattr`, and `setattr`, can be used to manipulate objects\n",
    "* https://docs.python.org/3/reference/datamodel.html#customizing-module-attribute-access"
   ]
  },
  {
   "cell_type": "markdown",
   "metadata": {
    "slideshow": {
     "slide_type": "slide"
    }
   },
   "source": [
    "* `dir` and `__dict__` can be used to see some of the special members defining how the object works:"
   ]
  },
  {
   "cell_type": "code",
   "execution_count": 42,
   "metadata": {
    "slideshow": {
     "slide_type": "fragment"
    }
   },
   "outputs": [
    {
     "name": "stdout",
     "output_type": "stream",
     "text": [
      "['__add__', '__class__', '__delattr__', '__dict__', '__dir__', '__doc__', '__eq__', '__format__', '__ge__', '__getattribute__', '__gt__', '__hash__', '__init__', '__init_subclass__', '__le__', '__lt__', '__module__', '__ne__', '__new__', '__reduce__', '__reduce_ex__', '__repr__', '__setattr__', '__sizeof__', '__str__', '__subclasshook__', '__weakref__', '_x', '_y', '_z', 'length', 'length_sq', 'set_x', 'set_y', 'set_z', 'x', 'y', 'z']\n",
      "{'_x': 1, '_y': 2, '_z': 3}\n"
     ]
    }
   ],
   "source": [
    "obj=Point3(1,2,3)\n",
    "print(dir(obj))\n",
    "print(obj.__dict__)"
   ]
  },
  {
   "cell_type": "markdown",
   "metadata": {
    "slideshow": {
     "slide_type": "slide"
    }
   },
   "source": [
    "# That's it!\n"
   ]
  }
 ],
 "metadata": {
  "celltoolbar": "Slideshow",
  "kernelspec": {
   "display_name": "Python 3 (ipykernel)",
   "language": "python",
   "name": "python3"
  },
  "language_info": {
   "codemirror_mode": {
    "name": "ipython",
    "version": 3
   },
   "file_extension": ".py",
   "mimetype": "text/x-python",
   "name": "python",
   "nbconvert_exporter": "python",
   "pygments_lexer": "ipython3",
   "version": "3.10.9"
  }
 },
 "nbformat": 4,
 "nbformat_minor": 2
}
