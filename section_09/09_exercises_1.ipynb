{
 "cells": [
  {
   "cell_type": "markdown",
   "metadata": {},
   "source": [
    "#### <center>Intermediate Python and Software Enginnering</center>\n",
    "\n",
    "\n",
    "## <center>Section 09 - Object Orientation - Exercises</center>\n",
    "\n",
    "\n",
    "### <center>Innovation Scholars Programme</center>\n",
    "### <center>King's College London, Medical Research Council and UKRI <center>"
   ]
  },
  {
   "cell_type": "markdown",
   "metadata": {},
   "source": [
    "### Exercises - Part 01\n",
    "\n",
    "The aim of this exercise is to create a simple Matplotlib Graphics Engine, provided in the last cell.\n",
    "\n",
    "The first stage is to define two classes. First one is `Point` and encodes a point x and y coordinates. The second one is `Vector` and encodes a vector characterised by an amplitude and an angle. The `Vector` constructor should be initialised using two points, start and end. Use `math.atan2` rather than `math.atan` to compute the angle.\n",
    "\n",
    "For each class define the following operators\n",
    " * `+`, `-`, `*`, `/`\n",
    " * Vector and Vector\n",
    " * Vector and number\n",
    " * Number and Vector\n",
    " * `__str__` and `__repr__`\n"
   ]
  },
  {
   "cell_type": "code",
   "execution_count": null,
   "metadata": {},
   "outputs": [],
   "source": [
    "# point line\n",
    "from math import sqrt\n",
    "\n",
    "class Point:\n",
    "    def __init__(self, x, y):\n",
    "        return\n",
    "    \n",
    "    def __add__(self, other):\n",
    "        return None\n",
    "    \n",
    "    def __sub__(self, other):\n",
    "        return None\n",
    "    \n",
    "    def __mul__(self, other):\n",
    "        return None\n",
    "\n",
    "    def __rmul__(self, other):\n",
    "        return None\n",
    "    \n",
    "    def __truediv__(self, other):\n",
    "        return None\n",
    "    \n",
    "    def __str__(self):\n",
    "        return None\n",
    "    \n",
    "    def __repr__(self):\n",
    "        return None\n",
    "    \n",
    "    def __iter__(self):\n",
    "        return None\n",
    "        \n",
    "    def closest_point(self, p0, p1):\n",
    "        \"\"\" Comment this function and explain its behavior\n",
    "        \"\"\"\n",
    "        v01 = p1 - p0\n",
    "        v20 = p0 - self\n",
    "        t = -(v20.x * v01.x + v20.y * v01.y)/(v01.x**2 + v01.y**2)\n",
    "        pt =  t * p1 + (1 - t) * p0\n",
    "        return pt\n",
    "    \n",
    "    @staticmethod\n",
    "    def interleave(*points):\n",
    "        return None\n",
    "\n",
    "\n",
    "Point.closest_point(Point(5,3), Point(1, 0), Point(10,0))\n",
    "        \n",
    "list(Point(1,2))\n",
    "\n",
    "# Add the vector class\n",
    "\n"
   ]
  },
  {
   "cell_type": "markdown",
   "metadata": {},
   "source": [
    "Add the __init__ method that takes the elements of the (two dimensional) point and assigns them to fields within the class."
   ]
  },
  {
   "cell_type": "code",
   "execution_count": null,
   "metadata": {},
   "outputs": [],
   "source": [
    "p = Point(4, 5)\n",
    "\n",
    "# The following code should write something like 'Point(4, 5)' to stdout\n",
    "p"
   ]
  },
  {
   "cell_type": "markdown",
   "metadata": {},
   "source": [
    "Add the ability to multiply a point with another point (hadamard product style; not matrix multiplication):"
   ]
  },
  {
   "cell_type": "code",
   "execution_count": null,
   "metadata": {},
   "outputs": [],
   "source": [
    "a = Point(1, 2)\n",
    "b = Point(3, 4)\n",
    "\n",
    "# The following code should write something like 'Point(3, 8)' to stdout\n",
    "a * b"
   ]
  },
  {
   "cell_type": "markdown",
   "metadata": {},
   "source": [
    "We want to be able to multiply our point by scalar values. For that, we need to modify `__mul__` to handle this case:"
   ]
  },
  {
   "cell_type": "code",
   "execution_count": null,
   "metadata": {},
   "outputs": [],
   "source": [
    "a = Point(1, 2)\n",
    "b = 3\n",
    "\n",
    "# The following code should write something like 'Point(3, 6)' to stdout\n",
    "a * b"
   ]
  },
  {
   "cell_type": "markdown",
   "metadata": {},
   "source": [
    "Multiplying a point by a scalar is great, but what about if we want to multiply a scalar by a point? For that, we need `__rmul__`. Try to implement it in terms of `__mul__`:"
   ]
  },
  {
   "cell_type": "code",
   "execution_count": null,
   "metadata": {},
   "outputs": [],
   "source": [
    "b * a\n",
    "# The following code should write something like 'Point(3, 6)' to stdout"
   ]
  },
  {
   "cell_type": "markdown",
   "metadata": {},
   "source": [
    "Now implement the operators for addition, subtraction and division:"
   ]
  },
  {
   "cell_type": "code",
   "execution_count": null,
   "metadata": {},
   "outputs": [],
   "source": [
    "a = Point(1, 2)\n",
    "b = Point(3, 4)\n",
    "\n",
    "print(a + b)\n",
    "print(a - b)\n",
    "print(a / b)"
   ]
  },
  {
   "cell_type": "markdown",
   "metadata": {},
   "source": [
    " Let's start adding some useful additional functions. Vectors have length, so let's add a length function. Note: There is a `__len__` function that a class can implement to work with python's `len` builtin. We aren't using it because `__len__` is generally associated with the number of items that a container of some description 'has'. The length of a vector does not have the same semantics."
   ]
  },
  {
   "cell_type": "code",
   "execution_count": null,
   "metadata": {},
   "outputs": [],
   "source": [
    "v = Vector(Point(1, 2), Point(2, 4))\n",
    "print(v.length())\n",
    "print(v.angle())"
   ]
  },
  {
   "cell_type": "markdown",
   "metadata": {},
   "source": [
    "Let's plot a closest point example in matplotlib. Use different styles for the end points of the line, the specified point, point on the line that is the closest:"
   ]
  },
  {
   "cell_type": "code",
   "execution_count": null,
   "metadata": {},
   "outputs": [],
   "source": [
    "%matplotlib inline\n",
    "import matplotlib.pyplot as plt\n",
    "    \n",
    "    \n",
    "def make_closest_point_plot(p, p0, p1):\n",
    "    fig, ax = plt.subplots(figsize=(8,8))\n",
    "    p10x, p10y = Point.interleave(p0, p1)\n",
    "    fline10 = plt.Line2D(p10x, p10y)\n",
    "    ax.add_line(fline10)\n",
    "    \n",
    "    pc = Point.closest_point(p, p0, p1)\n",
    "    ptxs, ptys = Point.interleave(p, pc)\n",
    "    flinept = plt.Line2D(ptxs, ptys, ls='dashed')\n",
    "    ax.add_line(flinept)\n",
    "    \n",
    "    fp0 = plt.Circle(p0, radius=.1)\n",
    "    ax.add_patch(fp0)\n",
    "    \n",
    "    fp1 = plt.Circle(p1, radius=.1)\n",
    "    ax.add_patch(fp1)\n",
    "    \n",
    "    fp = plt.Circle(p, radius=.1)\n",
    "    ax.add_patch(fp)\n",
    "    \n",
    "    fpc = plt.Circle(pc, radius=.1)\n",
    "    ax.add_patch(fpc)\n",
    "    \n",
    "    ax.axis('scaled')\n",
    "    \n",
    "\n",
    "make_closest_point_plot(Point(3,5), Point(1, 0), Point(10, 2))"
   ]
  }
 ],
 "metadata": {
  "kernelspec": {
   "display_name": "Python 3 (ipykernel)",
   "language": "python",
   "name": "python3"
  },
  "language_info": {
   "codemirror_mode": {
    "name": "ipython",
    "version": 3
   },
   "file_extension": ".py",
   "mimetype": "text/x-python",
   "name": "python",
   "nbconvert_exporter": "python",
   "pygments_lexer": "ipython3",
   "version": "3.10.9"
  }
 },
 "nbformat": 4,
 "nbformat_minor": 2
}
