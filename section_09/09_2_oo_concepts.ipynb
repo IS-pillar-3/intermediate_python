{
 "cells": [
  {
   "cell_type": "markdown",
   "metadata": {
    "slideshow": {
     "slide_type": "slide"
    }
   },
   "source": [
    "#### <center>Intermediate Python and Software Enginnering</center>\n",
    "\n",
    "\n",
    "## <center>Section 09 - Part 02 - Concepts</center>\n",
    "\n",
    "\n",
    "### <center>Innovation Scholars Programme</center>\n",
    "### <center>King's College London, Medical Research Council and UKRI <center>"
   ]
  },
  {
   "cell_type": "markdown",
   "metadata": {
    "slideshow": {
     "slide_type": "slide"
    }
   },
   "source": [
    "## Class and Object\n",
    "* We've seen classes many times already\n",
    "* Defines the type of objects, that is state the members the object will have which in turn defines structure and behaviour\n",
    "* Objects are always instances of classes, they are created using the class as the template to derive their members from\n",
    "* Python uses dynamic classes/objects allowing one to change members at runtime, but we won't cover that here"
   ]
  },
  {
   "cell_type": "markdown",
   "metadata": {
    "slideshow": {
     "slide_type": "slide"
    }
   },
   "source": [
    "* Objects are abstract data types (ADTs), that is they encapsulate data and the operations on that data in one construct which presents an abstract interface to clients\n",
    "* Encapsulation (information hiding) is an important concept:\n",
    "  * Idea of hiding implementation details from whatever code uses a class\n",
    "  * Saves clients from having to know too much about implementation or interfering with internal operations\n",
    "  * Inheriting classes and reusing their definitions in subsequent ones is much easier\n",
    "  * Implementation details can be changed without affecting clients"
   ]
  },
  {
   "cell_type": "markdown",
   "metadata": {
    "slideshow": {
     "slide_type": "slide"
    }
   },
   "source": [
    "* A simple `Point2` object:"
   ]
  },
  {
   "cell_type": "code",
   "execution_count": 28,
   "metadata": {
    "slideshow": {
     "slide_type": "fragment"
    }
   },
   "outputs": [],
   "source": [
    "class Point2:\n",
    "    def __init__(self, x, y):\n",
    "        self._x = x\n",
    "        self._y = y\n",
    "    def x(self): \n",
    "        return self._x\n",
    "    def y(self): \n",
    "        return self._y\n",
    "    def set_x(self,x): \n",
    "        self._x = x\n",
    "    def set_y(self,y): \n",
    "        self._y = y\n",
    "    def length_sq(self): \n",
    "        return (self._x**2 + self._y**2) \n",
    "    def length(self): \n",
    "        return self.length_sq()**0.5"
   ]
  },
  {
   "cell_type": "markdown",
   "metadata": {
    "slideshow": {
     "slide_type": "slide"
    }
   },
   "source": [
    "* The interface for the class is defined by the constructor and method signatures\n",
    "* Data members `_x` and `_y` are understood by Python convention to be private because of the underscore prefix\n",
    "* A client need only these methods to create and use this class:"
   ]
  },
  {
   "cell_type": "code",
   "execution_count": 29,
   "metadata": {
    "slideshow": {
     "slide_type": "fragment"
    }
   },
   "outputs": [
    {
     "name": "stdout",
     "output_type": "stream",
     "text": [
      "36 42 55.31726674375732\n"
     ]
    }
   ],
   "source": [
    "p = Point2(34,42)\n",
    "p.set_x(36)\n",
    "print(p.x(), p.y(), p.length())"
   ]
  },
  {
   "cell_type": "markdown",
   "metadata": {
    "slideshow": {
     "slide_type": "slide"
    }
   },
   "source": [
    "* Classes are composed of:\n",
    "  * Constructor: special function for creating instance objects of class\n",
    "  * Methods: routines operating on object data and other argument data\n",
    "  * Attributes: members of object storing data\n",
    "* Objects are created (instantiated) by calling the constructor with arguments, the new object will have members defined by the class and the constructor's code"
   ]
  },
  {
   "cell_type": "markdown",
   "metadata": {
    "slideshow": {
     "slide_type": "slide"
    }
   },
   "source": [
    "* Methods in Python become bound to their object on instantiation so that `self` is always known\n",
    "* Accessing a method as a member of a class produces an unbound function which requires `self` to be explicitly provided:"
   ]
  },
  {
   "cell_type": "code",
   "execution_count": 32,
   "metadata": {
    "slideshow": {
     "slide_type": "fragment"
    }
   },
   "outputs": [
    {
     "name": "stdout",
     "output_type": "stream",
     "text": [
      "<bound method Point2.x of <__main__.Point2 object at 0x1045db7c0>>\n",
      "36\n",
      "<function Point2.x at 0x1045e31f0>\n",
      "36\n"
     ]
    }
   ],
   "source": [
    "print(p.x)\n",
    "print(p.x())\n",
    "print(Point2.x)\n",
    "print(Point2.x(p))"
   ]
  },
  {
   "cell_type": "markdown",
   "metadata": {
    "slideshow": {
     "slide_type": "slide"
    }
   },
   "source": [
    "* Operators can be defined using specially-named methods\n",
    "* Eg. `__add__` for adding `self` to some given argument:\n",
    "* Further documentation: https://docs.python.org/3.7/reference/datamodel.html#emulating-numeric-types"
   ]
  },
  {
   "cell_type": "code",
   "execution_count": 33,
   "metadata": {
    "slideshow": {
     "slide_type": "fragment"
    }
   },
   "outputs": [
    {
     "name": "stdout",
     "output_type": "stream",
     "text": [
      "4 6\n"
     ]
    }
   ],
   "source": [
    "class Point2:\n",
    "    def __init__(self, x, y):\n",
    "        self._x = x\n",
    "        self._y = y\n",
    "    def x(self): \n",
    "        return self._x\n",
    "    def y(self): \n",
    "        return self._y\n",
    "    def set_x(self,x): \n",
    "        self._x = x\n",
    "    def set_y(self,y): \n",
    "        self._y = y\n",
    "    def length_sq(self): \n",
    "        return (self._x**2 + self._y**2) \n",
    "    def length(self): \n",
    "        return self.length_sq()**0.5\n",
    "    \n",
    "    def __add__(self, other):\n",
    "        return Point2(self.x() + other.x(), self.y() + other.y())\n",
    "    \n",
    "p = Point2(1, 2) + Point2(3, 4)\n",
    "print(p.x(), p.y())"
   ]
  }
 ],
 "metadata": {
  "celltoolbar": "Slideshow",
  "kernelspec": {
   "display_name": "Python 3 (ipykernel)",
   "language": "python",
   "name": "python3"
  },
  "language_info": {
   "codemirror_mode": {
    "name": "ipython",
    "version": 3
   },
   "file_extension": ".py",
   "mimetype": "text/x-python",
   "name": "python",
   "nbconvert_exporter": "python",
   "pygments_lexer": "ipython3",
   "version": "3.10.9"
  }
 },
 "nbformat": 4,
 "nbformat_minor": 2
}
