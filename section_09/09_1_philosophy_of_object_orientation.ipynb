{
 "cells": [
  {
   "cell_type": "markdown",
   "metadata": {
    "slideshow": {
     "slide_type": "slide"
    }
   },
   "source": [
    "#### <center>Intermediate Python and Software Enginnering</center>\n",
    "\n",
    "\n",
    "## <center>Section 09 - Part 01 - Philosophy of Object Orientation</center>\n",
    "\n",
    "\n",
    "### <center>Innovation Scholars Programme</center>\n",
    "### <center>King's College London, Medical Research Council and UKRI <center>"
   ]
  },
  {
   "cell_type": "markdown",
   "metadata": {
    "slideshow": {
     "slide_type": "slide"
    }
   },
   "source": [
    "## What we'll cover\n",
    "* Overview of object-orientation\n",
    "* Discussion of the basic philosophy of OO\n",
    "* Concepts: classes, objects, methods, polymorphism\n",
    "* Inheritance: subtype as specialization, substitutability, single and multiple, overriding"
   ]
  },
  {
   "cell_type": "markdown",
   "metadata": {
    "slideshow": {
     "slide_type": "slide"
    }
   },
   "source": [
    "* ADT example without classes:"
   ]
  },
  {
   "cell_type": "code",
   "execution_count": 27,
   "metadata": {
    "slideshow": {
     "slide_type": "fragment"
    }
   },
   "outputs": [
    {
     "name": "stdout",
     "output_type": "stream",
     "text": [
      "1 2 2.23606797749979\n"
     ]
    }
   ],
   "source": [
    "def Point2(x,y): return [x,y]\n",
    "\n",
    "def get_x(p): return p[0]\n",
    "\n",
    "def get_y(p): return p[1]\n",
    "\n",
    "def length(p): return (get_x(p)**2+get_y(p)**2)**0.5\n",
    "\n",
    "p=Point2(1,2)\n",
    "print(get_x(p), get_y(p), length(p))"
   ]
  },
  {
   "cell_type": "markdown",
   "metadata": {
    "slideshow": {
     "slide_type": "slide"
    }
   },
   "source": [
    "* Relationship between datatype and operation is loose\n",
    "* Want a closer relationship, making data and operations on the data explicitly associated\n",
    "* Want to be able to extend a concept with new operations without having to redefine everything\n",
    "* Also use these extended concepts in existing code without modification\n",
    "* Solution is to use objects, constructs in a program containing data items (called fields, attributes, and other names) and operations on that data (procedures, methods)"
   ]
  },
  {
   "cell_type": "markdown",
   "metadata": {
    "slideshow": {
     "slide_type": "slide"
    }
   },
   "source": [
    "## Object Orientation\n",
    "* Object oriented programming (OOP) covers the concepts behind class/object definition, design philosophy, and system architecture\n",
    "* Different way of thinking about structuring programs and modules\n",
    "* Objective is to promote good coding practices, provide mechanisms for reuse, and support modularity"
   ]
  }
 ],
 "metadata": {
  "celltoolbar": "Slideshow",
  "kernelspec": {
   "display_name": "Python 3 (ipykernel)",
   "language": "python",
   "name": "python3"
  },
  "language_info": {
   "codemirror_mode": {
    "name": "ipython",
    "version": 3
   },
   "file_extension": ".py",
   "mimetype": "text/x-python",
   "name": "python",
   "nbconvert_exporter": "python",
   "pygments_lexer": "ipython3",
   "version": "3.10.9"
  }
 },
 "nbformat": 4,
 "nbformat_minor": 2
}
