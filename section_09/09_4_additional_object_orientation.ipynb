{
 "cells": [
  {
   "cell_type": "markdown",
   "metadata": {
    "slideshow": {
     "slide_type": "slide"
    }
   },
   "source": [
    "#### <center>Intermediate Python and Software Enginnering</center>\n",
    "\n",
    "\n",
    "## <center>Section 09 - Part 04 - Additional Object Orientation</center>\n",
    "\n",
    "\n",
    "### <center>Innovation Scholars Programme</center>\n",
    "### <center>King's College London, Medical Research Council and UKRI <center>"
   ]
  },
  {
   "cell_type": "markdown",
   "metadata": {
    "slideshow": {
     "slide_type": "slide"
    }
   },
   "source": [
    "## What we'll cover\n",
    "* OO architecture: \n",
    "  * Data hiding and abstraction\n",
    "  * Modularity\n",
    "  * Compositionality\n",
    "  * Reusability\n",
    "* Design patterns (super briefly)"
   ]
  },
  {
   "cell_type": "markdown",
   "metadata": {
    "slideshow": {
     "slide_type": "slide"
    }
   },
   "source": [
    "## Architecture\n",
    "* Discussing software architecture is always a little vague\n",
    "* Object-oriented software architecture is meant to emphasize key ideas to improve quality:\n",
    "  * Data hiding/abstraction\n",
    "  * Modularity\n",
    "  * Compositionality\n",
    "  * Reusability\n",
    "  * Correctness"
   ]
  },
  {
   "cell_type": "markdown",
   "metadata": {
    "slideshow": {
     "slide_type": "slide"
    }
   },
   "source": [
    "* Classes and using them to define ADTs achieves the desired abstraction \n",
    "* Hiding implementation details allows classes to define an interface boundary between them and clients\n",
    "* This lets clients use their instances without knowing too much about them internally\n",
    "* Reduces coupling between components, less coupling means fewer interrelationships which can be a source of error"
   ]
  },
  {
   "cell_type": "markdown",
   "metadata": {
    "slideshow": {
     "slide_type": "slide"
    }
   },
   "source": [
    "* Invididual classes or groups of closely related ones form modules\n",
    "* A module is a collection of code elements which are integrated together to implement a part of a system\n",
    "* Whole systems are composed of modules assigned separate areas of functionality within that system\n",
    "* Object orientation encourages the organisation of code into modules and helps define the boundaries between them as the collective interface of the implementing classes"
   ]
  },
  {
   "cell_type": "markdown",
   "metadata": {
    "slideshow": {
     "slide_type": "slide"
    }
   },
   "source": [
    "* Objects use one another through member values and method arguments\n",
    "* Their relationship is typically co-operative where they provide functionality to one another\n",
    "* OO systems are defined as the composition of objects\n",
    "* Objects are the building blocks, so emphasizing compositionality by making them easy for other external clients to build upon"
   ]
  },
  {
   "cell_type": "markdown",
   "metadata": {
    "slideshow": {
     "slide_type": "slide"
    }
   },
   "source": [
    "* Defining classes with the expectation they will be used in unforeseen contexts contributes to reuse\n",
    "* We want to use classes in new situations, either as objects or through inheritance, to use them as building blocks for our own code\n",
    "* Consider the design of classes so that creating and using them is easier for code outside of the module their defined in, reduce the number of requirements they have to function correctly, and present a coherent understandable public interface"
   ]
  },
  {
   "cell_type": "markdown",
   "metadata": {
    "slideshow": {
     "slide_type": "slide"
    }
   },
   "source": [
    "* Design patterns are a set of well-defined but generalized architectural concepts common in OO systems\n",
    "* A design pattern is like a window, well-defined with common features, no two windows are alike but all are recognizable as such\n",
    "* We've already seen the iterator pattern in depth\n",
    "* Useful to consider patterns as an analysis of OO architecture"
   ]
  },
  {
   "cell_type": "markdown",
   "metadata": {
    "slideshow": {
     "slide_type": "slide"
    }
   },
   "source": [
    "#### Subject-Observer\n",
    "* Defines a relationship between subject objects and observer objects\n",
    "* Observer objects register their interest in the subject, when a particular event occurs the subject notifies the observers\n",
    "* Allows objects to keep track of when state changes and channel the process for reacting to change through a specific mechanism\n",
    "* Eg. button in a UI is a subject, press button and observers react"
   ]
  },
  {
   "cell_type": "code",
   "execution_count": 2,
   "metadata": {
    "slideshow": {
     "slide_type": "slide"
    }
   },
   "outputs": [],
   "source": [
    "class AbstractSubject(object):\n",
    "    def __init__(self):\n",
    "        self.observers=set() \n",
    "        \n",
    "    def add_observer(self,o):\n",
    "        self.observers.add(o)\n",
    "        \n",
    "    def remove_observer(self,o):\n",
    "        self.observers.remove(o)\n",
    "        \n",
    "    def notify_observers(self):\n",
    "        for o in self.observers:\n",
    "            o.notify(self)\n",
    "            \n",
    "class AbstractObserver(object):\n",
    "    def notify(self,subject): pass"
   ]
  },
  {
   "cell_type": "code",
   "execution_count": 3,
   "metadata": {
    "slideshow": {
     "slide_type": "slide"
    }
   },
   "outputs": [
    {
     "name": "stdout",
     "output_type": "stream",
     "text": [
      "Michael saw that Graham changed names\n",
      "John saw that Graham changed names\n"
     ]
    }
   ],
   "source": [
    "class NameSubject(AbstractSubject):\n",
    "    def __init__(self,n):\n",
    "        AbstractSubject.__init__(self)\n",
    "        self.name=n\n",
    "    \n",
    "    def set_name(self,n):\n",
    "        self.name=n\n",
    "        self.notify_observers()\n",
    "\n",
    "class NameObserver(AbstractObserver):\n",
    "    def __init__(self,n):\n",
    "        self.name=n\n",
    "        \n",
    "    def notify(self,subject):\n",
    "        print(self.name,'saw that',subject.name,'changed names')\n",
    "        \n",
    "s=NameSubject('Terry')\n",
    "o1=NameObserver('John')\n",
    "s.add_observer(o1)\n",
    "o2=NameObserver('Michael')\n",
    "s.add_observer(o2)\n",
    "s.set_name('Graham')"
   ]
  },
  {
   "cell_type": "markdown",
   "metadata": {
    "slideshow": {
     "slide_type": "slide"
    }
   },
   "source": [
    "#### Template Method\n",
    "* An algorithm method is defined in terms of abstract methods declared along side\n",
    "* Expectation is that the methods are implemented/overridden in a subtype\n",
    "* Allows the skeleton of an algorithm to be defined which can be adapted to many uses through subtyping and overriding"
   ]
  },
  {
   "cell_type": "code",
   "execution_count": 4,
   "metadata": {
    "slideshow": {
     "slide_type": "slide"
    }
   },
   "outputs": [],
   "source": [
    "class AbstractAlgorithm(object):\n",
    "    def do_something(self): \n",
    "        pass\n",
    "    \n",
    "    def do_something_else(self): \n",
    "        pass\n",
    "    \n",
    "    def do_algorithm(self):\n",
    "        self.do_something()\n",
    "        self.do_something_else()\n",
    "        # other actions..."
   ]
  },
  {
   "cell_type": "markdown",
   "metadata": {
    "slideshow": {
     "slide_type": "slide"
    }
   },
   "source": [
    "#### Adapter\n",
    "* Define a new class to adapt the interface of one to the client expectation of another\n",
    "* Client expects behaviour through certain methods, the adapter provides these methods but calls method of the adapted object which are different but provide the same behaviour\n",
    "* Idea is to make existing functionality available through an expected interface"
   ]
  },
  {
   "cell_type": "code",
   "execution_count": 5,
   "metadata": {
    "slideshow": {
     "slide_type": "slide"
    }
   },
   "outputs": [
    {
     "name": "stdout",
     "output_type": "stream",
     "text": [
      "Length: 14\n"
     ]
    }
   ],
   "source": [
    "def print_length(p):\n",
    "    print('Length:',p.get_length())\n",
    "    \n",
    "class StringAdapter:\n",
    "    \"\"\"Reference adapter for a string to provide getLength().\"\"\"\n",
    "    def __init__(self, s):\n",
    "        self.s = s\n",
    "        \n",
    "    def get_length(self):\n",
    "        return len(self.s)\n",
    "    \n",
    "print_length(StringAdapter(\"Hello, adapter\"))"
   ]
  },
  {
   "cell_type": "markdown",
   "metadata": {
    "slideshow": {
     "slide_type": "slide"
    }
   },
   "source": [
    "#### Proxy\n",
    " * Proxy object wraps an object behind another interface\n",
    " * Used to present an object as being something it isn't or to simplify the interface\n",
    " * Remote proxies represent an interface to another program or computer as an object, interacting with this object invokes communication operations\n",
    " * Virtual proxies present a false front to a large object that hasn't been loaded or created, used to defer something expensive until requested"
   ]
  },
  {
   "cell_type": "code",
   "execution_count": 6,
   "metadata": {
    "slideshow": {
     "slide_type": "slide"
    }
   },
   "outputs": [
    {
     "name": "stdout",
     "output_type": "stream",
     "text": [
      "filename: ./Week09_part02_lecture.ipynb\n",
      "line: {\n",
      "\n"
     ]
    }
   ],
   "source": [
    "class FileProxy(object):\n",
    "    def __init__(self, filename):\n",
    "        self.filename = filename\n",
    "        self.fileobj = None # don't open the file yet\n",
    "        \n",
    "    def get_filename(self):\n",
    "        return self.filename\n",
    "    \n",
    "    def readline(self):\n",
    "        if not self.fileobj: # open the file only when needed\n",
    "            self.fileobj = open(self.filename)\n",
    "            \n",
    "        return self.fileobj.readline()\n",
    "    \n",
    "fp=FileProxy('./Week09_part02_lecture.ipynb') # file not open yet\n",
    "print('filename:',fp.get_filename()) # still not open\n",
    "print('line:',fp.readline()) # now it's open"
   ]
  },
  {
   "cell_type": "markdown",
   "metadata": {
    "slideshow": {
     "slide_type": "slide"
    }
   },
   "source": [
    "* Many more patterns are common for creating objects, structuring relationships, behaviour, concurrency, etc.\n",
    "* A lot of patterns aren't needed in Python because of dynamic typing\n",
    "* Base reference: \"Design Patterns: Elements of Reusable Object-Oriented Software\"\n",
    "* We're going to cover a little more in practicals to get a better idea"
   ]
  },
  {
   "cell_type": "markdown",
   "metadata": {
    "slideshow": {
     "slide_type": "slide"
    }
   },
   "source": [
    "# That's it!"
   ]
  }
 ],
 "metadata": {
  "celltoolbar": "Slideshow",
  "kernelspec": {
   "display_name": "Python 3 (ipykernel)",
   "language": "python",
   "name": "python3"
  },
  "language_info": {
   "codemirror_mode": {
    "name": "ipython",
    "version": 3
   },
   "file_extension": ".py",
   "mimetype": "text/x-python",
   "name": "python",
   "nbconvert_exporter": "python",
   "pygments_lexer": "ipython3",
   "version": "3.10.9"
  }
 },
 "nbformat": 4,
 "nbformat_minor": 2
}
