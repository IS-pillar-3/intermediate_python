{
 "cells": [
  {
   "cell_type": "markdown",
   "metadata": {},
   "source": [
    "#### <center>Intermediate Python and Software Enginnering</center>\n",
    "\n",
    "\n",
    "## <center>Section 09 - Object Orientation - Exercise Solutions</center>\n",
    "\n",
    "\n",
    "### <center>Innovation Scholars Programme</center>\n",
    "### <center>King's College London, Medical Research Council and UKRI <center>"
   ]
  },
  {
   "cell_type": "markdown",
   "metadata": {},
   "source": [
    "### Exercises - Part 01\n",
    "\n",
    "The aim of this exercise is to create a simple Matplotlib Graphics Engine, provided in the last cell.\n",
    "\n",
    "The first stage is to define two classes. First one is `Point` and encodes a point x and y coordinates. The second one is `Vector` and encodes a vector characterised by an amplitude and an angle. The `Vector` constructor should be initialised using two points, start and end. Use `math.atan2` rather than `math.atan` to compute the angle.\n",
    "\n",
    "For each class define the following operators\n",
    " * `+`, `-`, `*`, `/`\n",
    " * Vector and Vector\n",
    " * Vector and number\n",
    " * Number and Vector\n",
    " * `__str__` and `__repr__`\n"
   ]
  },
  {
   "cell_type": "code",
   "execution_count": 4,
   "metadata": {},
   "outputs": [
    {
     "name": "stdout",
     "output_type": "stream",
     "text": [
      "(5.0, 0.0)\n"
     ]
    },
    {
     "data": {
      "text/plain": [
       "[1, 2]"
      ]
     },
     "execution_count": 4,
     "metadata": {},
     "output_type": "execute_result"
    }
   ],
   "source": [
    "# point line\n",
    "from math import sqrt, atan2\n",
    "\n",
    "\n",
    "class Point:\n",
    "    def __init__(self, x, y):\n",
    "        self.x = x\n",
    "        self.y = y\n",
    "\n",
    "    def __add__(self, other):\n",
    "        return Point(self.x + other.x, self.y + other.y)\n",
    "\n",
    "    def __sub__(self, other):\n",
    "        return Point(self.x - other.x, self.y - other.y)\n",
    "\n",
    "    def __mul__(self, other):\n",
    "        if isinstance(other, Point):\n",
    "            return Point(self.x * other.x, self.y * other.y)\n",
    "        else:\n",
    "            return Point(self.x * other, self.y * other)\n",
    "\n",
    "    def getx(self):\n",
    "        return self.x\n",
    "\n",
    "    def gety(self):\n",
    "        return self.y\n",
    "\n",
    "    def __rmul__(self, other):\n",
    "        return Point.__mul__(self, other)\n",
    "\n",
    "    def __truediv__(self, other):\n",
    "        return Point(self.x / other.x, self.y / other.y)\n",
    "\n",
    "    def __str__(self):\n",
    "        return \"({}, {})\".format(self.x, self.y)\n",
    "\n",
    "    def __repr__(self):\n",
    "        return \"Point\" + self.__str__() + \"\"\n",
    "\n",
    "    def __getitem__(self, index):\n",
    "        if index not in (0, 1):\n",
    "            raise IndexError(\"index is out of range\")\n",
    "\n",
    "        return self.x if index == 0 else self.y\n",
    "\n",
    "    def __iter__(self):\n",
    "        yield self.x\n",
    "        yield self.y\n",
    "\n",
    "    def closest_point(self, p0, p1):\n",
    "        v01 = p1 - p0\n",
    "        v20 = p0 - self\n",
    "        t = -(v20.x * v01.x + v20.y * v01.y) / (v01.x ** 2 + v01.y ** 2)\n",
    "        pt = t * p1 + (1 - t) * p0\n",
    "        return pt\n",
    "\n",
    "    @staticmethod\n",
    "    def interleave(*points):\n",
    "        return tuple(zip(*points))\n",
    "\n",
    "\n",
    "class Vector:\n",
    "    def __init__(self, p0, p1):\n",
    "        self._start = p0\n",
    "        self._end = p1\n",
    "\n",
    "    def length(self):\n",
    "        t = self._end - self._start\n",
    "        return sqrt(t.getx() ** 2 + t.gety() ** 2)\n",
    "\n",
    "    def angle(self):\n",
    "        t = self._end - self._start\n",
    "        return atan2(t.getx(), t.gety())\n",
    "\n",
    "print(Point.closest_point(Point(5, 3), Point(1, 0), Point(10, 0)))\n",
    "\n",
    "list(Point(1, 2))"
   ]
  },
  {
   "cell_type": "code",
   "execution_count": 2,
   "metadata": {},
   "outputs": [
    {
     "data": {
      "text/plain": [
       "Point(4, 5)"
      ]
     },
     "execution_count": 2,
     "metadata": {},
     "output_type": "execute_result"
    }
   ],
   "source": [
    "p = Point(4, 5)\n",
    "\n",
    "# The following code should write something like 'Point(4, 5)' to stdout\n",
    "p"
   ]
  },
  {
   "cell_type": "code",
   "execution_count": 3,
   "metadata": {},
   "outputs": [
    {
     "data": {
      "text/plain": [
       "Point(3, 8)"
      ]
     },
     "execution_count": 3,
     "metadata": {},
     "output_type": "execute_result"
    }
   ],
   "source": [
    "a = Point(1, 2)\n",
    "b = Point(3, 4)\n",
    "\n",
    "# The following code should write something like 'Point(3, 8)' to stdout\n",
    "a * b"
   ]
  },
  {
   "cell_type": "code",
   "execution_count": 4,
   "metadata": {},
   "outputs": [
    {
     "data": {
      "text/plain": [
       "Point(3, 6)"
      ]
     },
     "execution_count": 4,
     "metadata": {},
     "output_type": "execute_result"
    }
   ],
   "source": [
    "a = Point(1, 2)\n",
    "b = 3\n",
    "\n",
    "# The following code should write something like 'Point(3, 6)' to stdout\n",
    "a * b"
   ]
  },
  {
   "cell_type": "code",
   "execution_count": 5,
   "metadata": {},
   "outputs": [
    {
     "data": {
      "text/plain": [
       "Point(3, 6)"
      ]
     },
     "execution_count": 5,
     "metadata": {},
     "output_type": "execute_result"
    }
   ],
   "source": [
    "b * a\n",
    "# The following code should write something like 'Point(3, 6)' to stdout"
   ]
  },
  {
   "cell_type": "code",
   "execution_count": 6,
   "metadata": {},
   "outputs": [
    {
     "name": "stdout",
     "output_type": "stream",
     "text": [
      "(4, 6)\n",
      "(-2, -2)\n",
      "(0.3333333333333333, 0.5)\n"
     ]
    }
   ],
   "source": [
    "a = Point(1, 2)\n",
    "b = Point(3, 4)\n",
    "\n",
    "print(a + b)\n",
    "print(a - b)\n",
    "print(a / b)"
   ]
  },
  {
   "cell_type": "code",
   "execution_count": 7,
   "metadata": {},
   "outputs": [
    {
     "name": "stdout",
     "output_type": "stream",
     "text": [
      "2.23606797749979\n",
      "0.4636476090008061\n"
     ]
    }
   ],
   "source": [
    "v = Vector(Point(1, 2), Point(2, 4))\n",
    "print(v.length())\n",
    "print(v.angle())"
   ]
  },
  {
   "cell_type": "code",
   "execution_count": 8,
   "metadata": {},
   "outputs": [
    {
     "data": {
      "image/png": "[encoded data removed]",
      "text/plain": [
       "<Figure size 576x576 with 1 Axes>"
      ]
     },
     "metadata": {
      "needs_background": "light"
     },
     "output_type": "display_data"
    }
   ],
   "source": [
    "%matplotlib inline\n",
    "import matplotlib.pyplot as plt\n",
    "\n",
    "\n",
    "def make_closest_point_plot(p, p0, p1):\n",
    "    fig, ax = plt.subplots(figsize=(8, 8))\n",
    "    p10x, p10y = Point.interleave(p0, p1)\n",
    "    fline10 = plt.Line2D(p10x, p10y)\n",
    "    ax.add_line(fline10)\n",
    "\n",
    "    pc = Point.closest_point(p, p0, p1)\n",
    "    ptxs, ptys = Point.interleave(p, pc)\n",
    "    flinept = plt.Line2D(ptxs, ptys, ls=\"dashed\")\n",
    "    ax.add_line(flinept)\n",
    "\n",
    "    fp0 = plt.Circle(p0, radius=0.1)\n",
    "    ax.add_patch(fp0)\n",
    "\n",
    "    fp1 = plt.Circle(p1, radius=0.1)\n",
    "    ax.add_patch(fp1)\n",
    "\n",
    "    fp = plt.Circle(p, radius=0.1)\n",
    "    ax.add_patch(fp)\n",
    "\n",
    "    fpc = plt.Circle(pc, radius=0.1)\n",
    "    ax.add_patch(fpc)\n",
    "\n",
    "    ax.axis(\"scaled\")\n",
    "\n",
    "\n",
    "make_closest_point_plot(Point(3, 5), Point(1, 0), Point(10, 2))"
   ]
  },
  {
   "cell_type": "code",
   "execution_count": null,
   "metadata": {},
   "outputs": [],
   "source": []
  }
 ],
 "metadata": {
  "kernelspec": {
   "display_name": "Python 3 (ipykernel)",
   "language": "python",
   "name": "python3"
  },
  "language_info": {
   "codemirror_mode": {
    "name": "ipython",
    "version": 3
   },
   "file_extension": ".py",
   "mimetype": "text/x-python",
   "name": "python",
   "nbconvert_exporter": "python",
   "pygments_lexer": "ipython3",
   "version": "3.10.9"
  }
 },
 "nbformat": 4,
 "nbformat_minor": 2
}
