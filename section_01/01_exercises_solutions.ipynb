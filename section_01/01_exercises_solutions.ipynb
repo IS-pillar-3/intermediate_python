{
 "cells": [
  {
   "cell_type": "markdown",
   "metadata": {
    "slideshow": {
     "slide_type": "slide"
    }
   },
   "source": [
    "#### <center>Intermediate Python and Software Enginnering</center>\n",
    "\n",
    "\n",
    "## <center>Section 01 - Excercises</center>\n",
    "\n",
    "\n",
    "### <center>Innovation Scholars Programme</center>\n",
    "### <center>King's College London, Medical Research Council and UKRI <center>"
   ]
  },
  {
   "cell_type": "markdown",
   "metadata": {
    "slideshow": {
     "slide_type": "slide"
    }
   },
   "source": [
    "# Exercises\n",
    "\n",
    "The purpose of this notebook is to provide exercises for the concepts discussed in the introduction lecture. Below will be a number of cells with comments describing what code needs to be provided or other instructions."
   ]
  },
  {
   "cell_type": "markdown",
   "metadata": {
    "slideshow": {
     "slide_type": "skip"
    }
   },
   "source": [
    "---\n",
    "\n",
    "## Data types"
   ]
  },
  {
   "cell_type": "markdown",
   "metadata": {},
   "source": [
    "The first concepts we discussed were types:"
   ]
  },
  {
   "cell_type": "code",
   "execution_count": null,
   "metadata": {},
   "outputs": [],
   "source": [
    "val = 42\n",
    "print(val)"
   ]
  },
  {
   "cell_type": "markdown",
   "metadata": {},
   "source": [
    "The integer value `42` is numerically equivalent to the floating point value is represented as a different type. The type names `int` and `float` can be used to convert between types:"
   ]
  },
  {
   "cell_type": "code",
   "execution_count": null,
   "metadata": {},
   "outputs": [],
   "source": [
    "fval=float(val)\n",
    "print(val,fval)"
   ]
  },
  {
   "cell_type": "markdown",
   "metadata": {},
   "source": [
    "The `type` function can be used to query the type of objects:"
   ]
  },
  {
   "cell_type": "code",
   "execution_count": null,
   "metadata": {},
   "outputs": [],
   "source": [
    "print(type(val),type(fval))"
   ]
  },
  {
   "cell_type": "markdown",
   "metadata": {},
   "source": [
    "The type names `int`, `float`, `str`, and others can be used to convert between values:"
   ]
  },
  {
   "cell_type": "code",
   "execution_count": null,
   "metadata": {},
   "outputs": [],
   "source": [
    "# replace None with the string representation of `a` and assign a variable a\n",
    "astr = 'None'\n",
    "\n",
    "print(astr,type(astr),val==astr)"
   ]
  },
  {
   "cell_type": "markdown",
   "metadata": {},
   "source": [
    "### Exercise 1\n",
    "\n",
    "As mentioned all datatypes are objects and as such can have associated functions.\n",
    "\n",
    "Using the `print(dir(dtype))` command, e.g. `print(dir('Hello'))`, you can obtain all available function for a give data type (`dtype`). Ignore all functions starting with `__` (double underscore).\n",
    "\n",
    "Find the functions that enables you to:\n",
    "* Return the number of bits required to store a given int,\n",
    "* Check if the value stored in a float is an integer value,\n",
    "* Return a lower case, upper case or capitalised version of an input string,\n",
    "* Display the index of the first and last occurence of a character within a string,\n",
    "* Use the join() function to add a ',' separtor between each character of a string.\n",
    "* Display the real and imaginary part of the complex number `3+1j`\n",
    "\n",
    "\n",
    "Write all your functions in the code box below:"
   ]
  },
  {
   "cell_type": "code",
   "execution_count": null,
   "metadata": {},
   "outputs": [],
   "source": [
    "# your code here\n",
    "print('Integer Members')\n",
    "print(dir(int))\n",
    "print('Float Members')\n",
    "print(dir(float))\n",
    "print('String Members')\n",
    "print(dir(str))"
   ]
  },
  {
   "cell_type": "code",
   "execution_count": null,
   "metadata": {},
   "outputs": [],
   "source": [
    "i = 11\n",
    "print(i.bit_length())\n",
    "\n",
    "f = 11.9\n",
    "print(f.is_integer())\n",
    "\n",
    "s = 'This Is A String'\n",
    "print(s.capitalize())\n",
    "print(s.lower())\n",
    "print(s.upper())\n",
    "\n",
    "print(s.find('i'))\n",
    "print(s.rfind('i'))\n",
    "\n",
    "print(','.join(s))\n",
    "\n",
    "c = 3 + 1j\n",
    "print(type(c))\n",
    "print(c.real)\n",
    "print(c.imag)"
   ]
  },
  {
   "cell_type": "markdown",
   "metadata": {},
   "source": [
    "---\n",
    "\n",
    "## Operator"
   ]
  },
  {
   "cell_type": "markdown",
   "metadata": {},
   "source": [
    "How these different types produce different results when applied to numeric operators is important to understand. \n",
    "\n",
    "### Exercise 2:\n",
    "Assign integer and float values in different combinations to `a` and `b` to see what the `+` operator does:"
   ]
  },
  {
   "cell_type": "code",
   "execution_count": null,
   "metadata": {},
   "outputs": [],
   "source": [
    "# replace None with integer or float values\n",
    "a = 1.5\n",
    "b = 1\n",
    "\n",
    "print(a+b,type(a),type(b),type(a+b))"
   ]
  },
  {
   "cell_type": "markdown",
   "metadata": {},
   "source": [
    "Operators are provided for mathematics (`+ - * / // %`), comparison (`== != <= >= < >`) and others. \n",
    "\n",
    "### Exercise 3:\n",
    "Use operators to print out the product and ratio of `a` to `b` with different values in the cell below: "
   ]
  },
  {
   "cell_type": "code",
   "execution_count": null,
   "metadata": {},
   "outputs": [],
   "source": [
    "# your code here\n",
    "print(a * b, a / b)"
   ]
  },
  {
   "cell_type": "markdown",
   "metadata": {},
   "source": [
    "### Exercise 4:\n",
    "Use an operator to increment by 1 the value of `a` and then print it. \n",
    "Then use another operator to double the value of `b` and print it, and finally compare `a` and `b`.\n",
    "Use the shortest statements possible in these cases."
   ]
  },
  {
   "cell_type": "code",
   "execution_count": null,
   "metadata": {},
   "outputs": [],
   "source": [
    "a = 3\n",
    "b = 2.3\n",
    "\n",
    "# Use an operator to increment by 1 the value of `a` and then print it.\n",
    "\n",
    "print(a + 1)\n",
    "\n",
    "# Use an operator to double the value of `b` and then print it\n",
    "b *= 2\n",
    "print(b)\n",
    "\n",
    "# Compare both values and return `True` if `a` is larger than `b`\n",
    "print(a > b)"
   ]
  },
  {
   "cell_type": "markdown",
   "metadata": {},
   "source": [
    "---\n",
    "## Data Structures / Data Containers"
   ]
  },
  {
   "cell_type": "markdown",
   "metadata": {},
   "source": [
    "We construct lists with the `list` operator or `[]` syntax. Similarly tuple can be constructed with `tuple` or `()`. \n",
    "\n",
    "### Exercise 5:\n",
    "Add a name to the end of the list using `append()` then print the 0th element:"
   ]
  },
  {
   "cell_type": "code",
   "execution_count": null,
   "metadata": {},
   "outputs": [],
   "source": [
    "names = ['John','Graham']\n",
    "\n",
    "names.append('Eric')\n",
    "names += ['Ben']\n",
    "\n",
    "print(names)\n",
    "\n",
    "print(names[0])  # print the 0'th element of names"
   ]
  },
  {
   "cell_type": "markdown",
   "metadata": {},
   "source": [
    "Now do the equivalent operation with `names` as a tuple:"
   ]
  },
  {
   "cell_type": "code",
   "execution_count": null,
   "metadata": {},
   "outputs": [],
   "source": [
    "names = ('John','Graham') # can't modify tuples\n",
    "\n",
    "newnames = names + ('Eric',)\n",
    "# add a name to names by creating a new tuple \n",
    "print(newnames)"
   ]
  },
  {
   "cell_type": "markdown",
   "metadata": {},
   "source": [
    "### Exercise 6:\n",
    "\n",
    "List and tuples also have member functions. Address the following two code blocks' questions using such functions."
   ]
  },
  {
   "cell_type": "code",
   "execution_count": null,
   "metadata": {},
   "outputs": [],
   "source": [
    "names = ['John', 'Ben', 'Graham', 'Peter', 'Ben']\n",
    "\n",
    "# Print the same list in reverse order\n",
    "names.reverse()\n",
    "print(names)\n",
    "\n",
    "# Add your name at the beginning of the list\n",
    "names = ['Marc'] + names\n",
    "print(names)\n",
    "\n",
    "# Add your name at the end of the list\n",
    "names.append('Mark')\n",
    "print(names)\n",
    "\n",
    "# Remove the second occurence of `Ben`\n",
    "names.reverse()\n",
    "del names[names.index('Ben')]\n",
    "names.reverse()\n",
    "print(names)\n",
    "\n",
    "# Remove the last name from the list\n",
    "del names[-1]\n",
    "\n",
    "print(names)\n",
    "\n",
    "print(dir(names))"
   ]
  },
  {
   "cell_type": "code",
   "execution_count": null,
   "metadata": {},
   "outputs": [],
   "source": [
    "names = ('John', 'Ben', 'Graham', 'Peter', 'Ben')\n",
    "occurence = names.count('Ben') # Use a member function of tuple to return the number of times `Ben` appears\n",
    "print(occurence)"
   ]
  },
  {
   "cell_type": "markdown",
   "metadata": {},
   "source": [
    "### Exercise 7:\n",
    "A dictionary can be used to store the number of student with a given name in a class:"
   ]
  },
  {
   "cell_type": "code",
   "execution_count": null,
   "metadata": {},
   "outputs": [],
   "source": [
    "names = {'John': 1, 'Graham': 1, 'Peter': 1, 'Ben': 2}\n",
    "print(names)"
   ]
  },
  {
   "cell_type": "markdown",
   "metadata": {},
   "source": [
    "Write code to implement the following:"
   ]
  },
  {
   "cell_type": "code",
   "execution_count": null,
   "metadata": {},
   "outputs": [],
   "source": [
    "# Print the number of student called `Ben`\n",
    "\n",
    "print(names['Ben'])"
   ]
  },
  {
   "cell_type": "code",
   "execution_count": null,
   "metadata": {},
   "outputs": [],
   "source": [
    "# Add a new student name\n",
    "names['Eric'] = 1\n",
    "print(names)"
   ]
  },
  {
   "cell_type": "code",
   "execution_count": null,
   "metadata": {},
   "outputs": [],
   "source": [
    "# Increment the number of student called 'Peter'\n",
    "names['Peter'] = names['Peter'] + 1\n",
    "print(names)"
   ]
  },
  {
   "cell_type": "code",
   "execution_count": null,
   "metadata": {},
   "outputs": [],
   "source": [
    "# Display all the names (keys) stored in the dictionary\n",
    "\n",
    "print(list(names.keys()))"
   ]
  },
  {
   "cell_type": "markdown",
   "metadata": {},
   "source": [
    "---\n",
    "## Modules"
   ]
  },
  {
   "cell_type": "markdown",
   "metadata": {},
   "source": [
    "* \"NumPy is a library for the Python programming language, adding support for large, multi-dimensional arrays and matrices, along with a large collection of high-level mathematical functions to operate on these arrays.\"\n",
    "\n",
    "\n",
    "* \"Matplotlib is a plotting library for the Python programming language and its numerical mathematics extension NumPy. [...]\"\n",
    "\n",
    "In order to use non built-in libraries, you need to import them and have the opportunity to create alias names, such as:"
   ]
  },
  {
   "cell_type": "code",
   "execution_count": null,
   "metadata": {},
   "outputs": [],
   "source": [
    "import numpy # simple import\n",
    "print(numpy.random.rand())\n",
    "\n",
    "import numpy as np # rename for ease\n",
    "print(np.random.rand())\n",
    "\n",
    "import numpy.random as np_rand # even more easy\n",
    "print(np_rand.rand())"
   ]
  },
  {
   "cell_type": "markdown",
   "metadata": {},
   "source": [
    "Packages like NumPy have their own datatype, typical example being `numpy.ndarray`, which encodes a n-Dimentionnal array and can be used in mathematical function, such as:"
   ]
  },
  {
   "cell_type": "code",
   "execution_count": null,
   "metadata": {},
   "outputs": [],
   "source": [
    "import numpy as np\n",
    "array = np.array([1, 2, 3, 4, 5, 6])\n",
    "print(array)\n",
    "cos_array = np.cos(array)\n",
    "print(cos_array)"
   ]
  },
  {
   "cell_type": "markdown",
   "metadata": {},
   "source": [
    "The `numpy.arange` function enables to create an array, given a starting value, a limit and an increment:"
   ]
  },
  {
   "cell_type": "code",
   "execution_count": null,
   "metadata": {},
   "outputs": [],
   "source": [
    "import numpy as np\n",
    "\n",
    "array = np.arange(-5, 5, 1)\n",
    "print(array)"
   ]
  },
  {
   "cell_type": "markdown",
   "metadata": {},
   "source": [
    "Matplotlib also needs to be imported"
   ]
  },
  {
   "cell_type": "code",
   "execution_count": null,
   "metadata": {},
   "outputs": [],
   "source": [
    "import matplotlib.pyplot as plt\n",
    "import numpy as np\n",
    "\n",
    "# Ensures the plot is in the notebook\n",
    "%matplotlib inline\n",
    "\n",
    "x = np.array([1, 2, 3, 4, 5, 6])\n",
    "y = x / 2\n",
    "plt.plot(x, y, 'x')"
   ]
  },
  {
   "cell_type": "markdown",
   "metadata": {},
   "source": [
    "### Exercise 8:\n",
    "Write a code block which generates a plot of a cosine function in blue and sine function in red in the same figure. Both functions should be sampled between -2 pi and 2 pi. Numpy provides functions for sine and cosine and has constants for pi."
   ]
  },
  {
   "cell_type": "code",
   "execution_count": null,
   "metadata": {},
   "outputs": [],
   "source": [
    "import matplotlib.pyplot as plt\n",
    "import numpy as np\n",
    "\n",
    "# Ensures the plot is in the notebook\n",
    "%matplotlib inline\n",
    "\n",
    "# Your code here\n",
    "x = np.arange(-2*np.pi, 2*np.pi, 0.01)\n",
    "plt.plot(x, np.cos(x), 'b', label='Cos()')\n",
    "plt.plot(x, np.sin(x), 'r', label='Sin()')\n",
    "plt.xlabel('x values')\n",
    "plt.ylabel('y values')\n",
    "plt.legend(loc='upper right')"
   ]
  },
  {
   "cell_type": "markdown",
   "metadata": {},
   "source": [
    "---\n",
    "## Control Statements"
   ]
  },
  {
   "cell_type": "markdown",
   "metadata": {},
   "source": [
    "Conditionals in Python take the form of `if-elif-else` code blocks. The condition checks to see if the given expression evaluates to `True` and executes the block if this is so, otherwise it checks the next `elif` block or `else` block.\n",
    "\n",
    "### Exercise 9:\n",
    "Fill in the below statements to practice using condition and loop statements."
   ]
  },
  {
   "cell_type": "code",
   "execution_count": null,
   "metadata": {},
   "outputs": [],
   "source": [
    "number = -3.14159 # try other values\n",
    "\n",
    "# use an if-else block to print \"Yes\" if `number` is greater than 0 otherwise \"No\" \n",
    "\n",
    "if number > 0:\n",
    "    print('yes')\n",
    "else:\n",
    "    print('no')"
   ]
  },
  {
   "cell_type": "markdown",
   "metadata": {},
   "source": [
    "The `for` loop can be used to iterate over the members of a collection such as a list or tuple. "
   ]
  },
  {
   "cell_type": "code",
   "execution_count": null,
   "metadata": {},
   "outputs": [],
   "source": [
    "numbers = [411, 131, 272, 737, 129, 591, 943, 801, 62, 357, 199, 814, 136, 523, 556, 55, 860, 943, 411, 760]\n",
    "\n",
    "# write a loop to print the even numbers from `numbers` (% is remainder operator)\n",
    "for i in numbers:\n",
    "    if i % 2 is 0:\n",
    "        print(i)"
   ]
  },
  {
   "cell_type": "markdown",
   "metadata": {},
   "source": [
    "---\n",
    "## Functions"
   ]
  },
  {
   "cell_type": "markdown",
   "metadata": {},
   "source": [
    "Routines are defined starting with the `def` keyword, the name of the routine, its arguments, then its body.\n",
    "\n",
    "### Exercise 10:\n",
    "Provide function definitions below to implement the requested behaviour:"
   ]
  },
  {
   "cell_type": "code",
   "execution_count": null,
   "metadata": {},
   "outputs": [],
   "source": [
    "# define a routine called `is_even` which returns whether a given number is even or not\n",
    "\n",
    "def is_even(v):\n",
    "    if v % 2 is 0:\n",
    "        return True\n",
    "    return False\n",
    "\n",
    "print(is_even(42),is_even(numbers[11]),is_even(numbers[-1])) # -1 is the last element, -2 second last, etc."
   ]
  },
  {
   "cell_type": "code",
   "execution_count": null,
   "metadata": {},
   "outputs": [],
   "source": [
    "# a list comprehension is an expression which builds a list using an internal for loop\n",
    "print([v for v in numbers if is_even(v)]) # print all the even numbers\n",
    "\n",
    "# define a function `get_evens` to do the same thing for a given input list\n",
    "\n",
    "def get_evens(l):\n",
    "    out_list = []\n",
    "    \n",
    "    for i in l:\n",
    "        if is_even(i):\n",
    "            out_list += [i]\n",
    "    return out_list\n",
    "\n",
    "print(get_evens(numbers))"
   ]
  },
  {
   "cell_type": "markdown",
   "metadata": {},
   "source": [
    "---\n",
    "## Exceptions"
   ]
  },
  {
   "cell_type": "markdown",
   "metadata": {},
   "source": [
    "### Exercise 11:\n",
    "The following code fails to run, add the `try` and `except` keywords to capture this specific error and produce a meaningful error message instead of an exception. The error type is mentioned in the error message."
   ]
  },
  {
   "cell_type": "code",
   "execution_count": null,
   "metadata": {},
   "outputs": [],
   "source": [
    "def square(v):\n",
    "    return v**2\n",
    "\n",
    "values = [1, 2, 3, 4, 5, 6]\n",
    "for i in range(10):\n",
    "    try:\n",
    "        print(square(values[i]))\n",
    "    except IndexError as e:\n",
    "        raise IndexError('You are going out of range - check your code. Error message:', e)"
   ]
  },
  {
   "cell_type": "markdown",
   "metadata": {},
   "source": [
    "### Exercise 11+1:\n",
    "Modify the code below so that it handles the different arguments given in the print statements and detects any potential error.\n",
    "Display different messages based on the different conditions.\n",
    "In some cases, it should raise an exception if unexpected values are given and some others it should catch an error."
   ]
  },
  {
   "cell_type": "code",
   "execution_count": null,
   "metadata": {},
   "outputs": [],
   "source": [
    "import numpy as np\n",
    "def compute_circle_area(r):\n",
    "    if type(r) is not int and type(r) is not float:\n",
    "        raise TypeError('Unexpected radius type')\n",
    "    if r < 0:\n",
    "        raise ValueError('A positive value is expected for the radius')\n",
    "    a = np.pi * r * r\n",
    "    return a\n",
    "\n",
    "list_args = [2.1, 2+1j, -2.1 , 'radius']\n",
    "for i in list_args:\n",
    "    try:\n",
    "        print(compute_circle_area(i))\n",
    "    except TypeError as te:\n",
    "        print('Something went wrong: ', te)\n",
    "    except ValueError as ve:\n",
    "        print('Something went wrong: ', ve)"
   ]
  },
  {
   "cell_type": "markdown",
   "metadata": {},
   "source": [
    "---\n",
    "## Objects"
   ]
  },
  {
   "cell_type": "markdown",
   "metadata": {},
   "source": [
    "Recall the `Dimension` type from the lecture notes:"
   ]
  },
  {
   "cell_type": "code",
   "execution_count": null,
   "metadata": {},
   "outputs": [],
   "source": [
    "class Dimension:\n",
    "    def __init__(self, width, height): # constructor for object\n",
    "        self.width = width # declare members by assignment\n",
    "        self.height = height\n",
    "        \n",
    "    def measure(self): # method of class\n",
    "        return self.width * self.height"
   ]
  },
  {
   "cell_type": "markdown",
   "metadata": {},
   "source": [
    "### Exercise 12+1:\n",
    "Define a subclass of `Dimension` called `Dimension3` which adds a third dimension member `depth` and overrides `measure()` appropriately:"
   ]
  },
  {
   "cell_type": "code",
   "execution_count": null,
   "metadata": {},
   "outputs": [],
   "source": [
    "class Dimension3(Dimension):\n",
    "    def __init__(self, width, height, depth):\n",
    "        super().__init__(width, height)\n",
    "        self.depth = depth\n",
    "        \n",
    "    def measure(self): # method of class\n",
    "        return super().measure() * self.depth"
   ]
  },
  {
   "cell_type": "code",
   "execution_count": null,
   "metadata": {},
   "outputs": [],
   "source": [
    "d=Dimension3(10,12,22)\n",
    "\n",
    "print(d,d.depth,d.measure())\n",
    "\n",
    "# assert is used to assert some property of the program is True\n",
    "assert d.measure() == (10*12*22)"
   ]
  },
  {
   "cell_type": "markdown",
   "metadata": {},
   "source": [
    "---\n",
    "## Further Exercises\n"
   ]
  },
  {
   "cell_type": "markdown",
   "metadata": {},
   "source": [
    "### Exercise 13+1:\n",
    "Count the number of times each character appears in the following sentence ignoring case.Present the results in alphabetical order or ordered by frequency.\n",
    "\n",
    "Consider that there are a number of different ways to do this, that vary by iteration style and the use of different data structures. See if you can find at least two different ways!"
   ]
  },
  {
   "cell_type": "code",
   "execution_count": null,
   "metadata": {},
   "outputs": [],
   "source": [
    "# letter frequency: Display the number of time each letter appears in the following string\n",
    "# Counting letters\n",
    "s = (\"Peter Piper picked a peck of pickled peppers. If Peter Piper picked a \"\n",
    "     \"Peck of pickled peppers, where's the peck of pickled peppers Peter \"\n",
    "     \"Piper picked?\")\n",
    "print(s)\n",
    "\n",
    "d = {}\n",
    "for l in s:\n",
    "    l=l.lower()\n",
    "    if l in d:\n",
    "        d[l]+=1\n",
    "    else:\n",
    "        d[l]=1\n",
    "        \n",
    "print(d)"
   ]
  },
  {
   "cell_type": "markdown",
   "metadata": {},
   "source": [
    "### Exercise 14+1:\n",
    "FizzBuzz: define a function taking a value and for every number between 0 and that value return a list containing:\n",
    "* If the value is divisible by 3, \"fizz\"\n",
    "* If the value is divisible by 5, \"buzz\"\n",
    "* If the value is divisible by both 3 and 5, \"fizzbuzz\"\n",
    "* Otherwise, output the number\n",
    "\n",
    "Bonus prize! Write your solution so that it can be given an ordered list of numbers and words - e.g. `[(3, 'fizz'), (5, 'buzz'), (4, '')]`"
   ]
  },
  {
   "cell_type": "code",
   "execution_count": null,
   "metadata": {},
   "outputs": [],
   "source": [
    "def fizzbuzz(count):\n",
    "    result = list()\n",
    "    \n",
    "    for i in range(count):\n",
    "        out = ''\n",
    "        if i%3 is 0:\n",
    "            out += 'fizz'\n",
    "        if i%5 is 0:\n",
    "            out += 'buzz'\n",
    "        if out is '':\n",
    "            out = i\n",
    "            \n",
    "        result.append(out)\n",
    "\n",
    "    return result\n",
    "\n",
    "print(fizzbuzz(35))"
   ]
  },
  {
   "cell_type": "markdown",
   "metadata": {},
   "source": [
    "### Exercise 15+1:\n",
    "As seen in the previous excercises session, the matplotlib module can be imported to display figure. Use the `subplot()` to display both functions side by side. Refer to [the documentation](https://matplotlib.org/3.2.1/api/_as_gen/matplotlib.pyplot.subplot.html) for details."
   ]
  },
  {
   "cell_type": "code",
   "execution_count": null,
   "metadata": {},
   "outputs": [],
   "source": [
    "import matplotlib.pyplot as plt\n",
    "import numpy as np\n",
    "\n",
    "# Ensures the plot is in the notebook\n",
    "%matplotlib inline\n",
    "\n",
    "\n",
    "x = np.arange(-3*np.pi, 3*np.pi, 0.1)\n",
    "plt.subplot(1,2,1)\n",
    "plt.plot(x, np.cos(x), 'b', label='Sin()')\n",
    "plt.xlabel('x values')\n",
    "plt.ylabel('y values')\n",
    "plt.xlim(x[0], x[-1]+5)\n",
    "plt.subplot(1,2,2)\n",
    "plt.plot(x, np.sin(x), 'r', label='Cos()')\n",
    "plt.xlabel('x values')\n",
    "plt.ylabel('y values')\n",
    "plt.xlim(x[0], x[-1]+5)"
   ]
  },
  {
   "cell_type": "markdown",
   "metadata": {},
   "source": [
    "### Exercise 16+1:\n",
    "You previously computed the occurance of each letter in a given sentence. Use the `matplotlib.pyplot.bar()` function to display a bar chart with the corresponding values, by modifying the code below to use container of any length. [Bar documentation here](https://matplotlib.org/3.2.1/api/_as_gen/matplotlib.pyplot.bar.html)."
   ]
  },
  {
   "cell_type": "code",
   "execution_count": null,
   "metadata": {},
   "outputs": [],
   "source": [
    "import matplotlib.pyplot as plt\n",
    "import numpy as np\n",
    "\n",
    "# Ensures the plot is in the notebook\n",
    "%matplotlib inline\n",
    "\n",
    "plt.bar(range(len(d)), (d.values()), align='center')\n",
    "plt.xticks(range(len(d)), (d.keys()))"
   ]
  }
 ],
 "metadata": {
  "kernelspec": {
   "display_name": "Python 3 (ipykernel)",
   "language": "python",
   "name": "python3"
  },
  "language_info": {
   "codemirror_mode": {
    "name": "ipython",
    "version": 3
   },
   "file_extension": ".py",
   "mimetype": "text/x-python",
   "name": "python",
   "nbconvert_exporter": "python",
   "pygments_lexer": "ipython3",
   "version": "3.10.13"
  }
 },
 "nbformat": 4,
 "nbformat_minor": 2
}
