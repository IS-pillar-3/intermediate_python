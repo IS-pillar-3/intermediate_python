{
 "cells": [
  {
   "cell_type": "markdown",
   "metadata": {
    "slideshow": {
     "slide_type": "slide"
    }
   },
   "source": [
    "#### <center>Intermediate Python and Software Enginnering</center>\n",
    "\n",
    "\n",
    "## <center>Section 01 - Part 02 - How to use Python?</center>\n",
    "\n",
    "\n",
    "### <center>Innovation Scholars Programme</center>\n",
    "### <center>King's College London, Medical Research Council and UKRI <center>"
   ]
  },
  {
   "cell_type": "markdown",
   "metadata": {
    "slideshow": {
     "slide_type": "slide"
    }
   },
   "source": [
    "### Session overview\n",
    "* Python installation\n",
    "* Ways to run Python\n",
    "* Starting tips"
   ]
  },
  {
   "cell_type": "markdown",
   "metadata": {
    "slideshow": {
     "slide_type": "slide"
    }
   },
   "source": [
    "# How to use Python?\n",
    "\n",
    "* Python code from this course can be run using Google Colab notebooks. However, python can also be installed on your system. To do this, we recommend using Anaconda:\n",
    "\n",
    "  <img src=\"figures/anaconda_logo.png\" alt=\"Anaconda logo\" style=\"width: 200px;\"/>\n",
    "\n",
    "* Download and install from [https://www.anaconda.com/products/individual](https://www.anaconda.com/products/individual) \n",
    "\n",
    "- Python 3.10 version\n",
    "\n",
    "* Open Anaconda: Anaconda Navigator"
   ]
  },
  {
   "cell_type": "markdown",
   "metadata": {
    "slideshow": {
     "slide_type": "slide"
    }
   },
   "source": [
    "### Anaconda Home\n",
    "\n",
    "  <img src=\"figures/anaconda_home.png\" alt=\"Anaconda logo\" style=\"width: 1000px;\"/>"
   ]
  },
  {
   "cell_type": "markdown",
   "metadata": {
    "slideshow": {
     "slide_type": "slide"
    }
   },
   "source": [
    "### Anaconda Environment(s)\n",
    "\n",
    "* List of installed modules / packages\n",
    "  <img src=\"figures/anaconda_base_env.png\" alt=\"Anaconda logo\" style=\"width: 1000px;\"/>"
   ]
  },
  {
   "cell_type": "markdown",
   "metadata": {
    "slideshow": {
     "slide_type": "slide"
    }
   },
   "source": [
    "### Anaconda Environment(s)\n",
    "\n",
    "* You can create your own environment\n",
    "\n",
    "* Capability to switch between environment\n",
    "\n",
    "  <img src=\"figures/anaconda_new_env.png\" alt=\"Anaconda logo\" style=\"width: 1000px;\"/>"
   ]
  },
  {
   "cell_type": "markdown",
   "metadata": {
    "slideshow": {
     "slide_type": "slide"
    }
   },
   "source": [
    "### Anaconda Environment(s)\n",
    "\n",
    "* Add specific packages (modules) to each environement\n",
    "\n",
    "  <img src=\"figures/anaconda_add_numpy.png\" alt=\"Anaconda logo\" style=\"width: 1000px;\"/>"
   ]
  },
  {
   "cell_type": "markdown",
   "metadata": {
    "slideshow": {
     "slide_type": "slide"
    }
   },
   "source": [
    "### Anaconda Environment(s)\n",
    "\n",
    "* All dependencies automatically installed\n",
    "\n",
    "  <img src=\"figures/anaconda_add_numpy2.png\" alt=\"Anaconda logo\" style=\"width: 1000px;\"/>"
   ]
  },
  {
   "cell_type": "markdown",
   "metadata": {
    "slideshow": {
     "slide_type": "slide"
    }
   },
   "source": [
    "# Different ways to run Python code\n",
    "\n",
    "* Command line - Interactively: Python / iPython\n",
    "\n",
    "* Command line - Callable: command or file \n",
    "\n",
    "* Dedicated terminal windows\n",
    "\n",
    "* Jupyter Notebook\n",
    "\n",
    "* Integrated development environment (IDE): Pycharm / Spyder\n",
    "\n",
    "* Online - many interpreters served as web apps"
   ]
  },
  {
   "cell_type": "markdown",
   "metadata": {
    "slideshow": {
     "slide_type": "slide"
    }
   },
   "source": [
    "## Command line - Interactively\n",
    "\n",
    "* From a terminal, start *python* and write command successively\n",
    "\n",
    "  <img src=\"figures/python_cmdline.png\" alt=\"python command line\" style=\"width: 1000px;\"/>"
   ]
  },
  {
   "cell_type": "markdown",
   "metadata": {
    "slideshow": {
     "slide_type": "slide"
    }
   },
   "source": [
    "## Command line - Interactively\n",
    "\n",
    "* From a terminal, start *ipython* and write command successively\n",
    "\n",
    "  <img src=\"figures/ipython_cmdline.png\" alt=\"ipython command line\" style=\"width: 1000px;\"/>"
   ]
  },
  {
   "cell_type": "markdown",
   "metadata": {
    "slideshow": {
     "slide_type": "slide"
    }
   },
   "source": [
    "## Command line - callable code\n",
    "\n",
    "* From a terminal, directly typing the command(s)\n",
    "\n",
    "  `python -c \"print('Hello World')\"`\n",
    "  \n",
    "  `python -c \"a=3;b=a+4;print(b)\"`\n",
    "  \n",
    "* From a terminal, calling a file that contains the command(s)\n",
    "  \n",
    "  `python ./my_python_file.py`"
   ]
  },
  {
   "cell_type": "markdown",
   "metadata": {
    "slideshow": {
     "slide_type": "slide"
    }
   },
   "source": [
    "## Jupyter notebook\n",
    "\n",
    "\n",
    "* Need to run a jupyter notebook on your computer\n",
    "\n",
    "* Computation is organised by cell\n",
    "\n",
    "* Cells can contain code as well as text (This slides are a notebook for example)\n",
    "\n",
    "  <img src=\"figures/jupyter_example.png\" alt=\"Jupyter Notebook Example\" style=\"width: 1000px;\"/>"
   ]
  },
  {
   "cell_type": "markdown",
   "metadata": {
    "slideshow": {
     "slide_type": "slide"
    }
   },
   "source": [
    "## Integrated development environment (IDE)\n",
    "\n",
    "* Pycharm example\n",
    "\n",
    "<img src=\"figures/pycharm_screenshot.png\" alt=\"Pycharm screenshot\" style=\"width: 1000px;\"/>"
   ]
  },
  {
   "cell_type": "markdown",
   "metadata": {
    "slideshow": {
     "slide_type": "slide"
    }
   },
   "source": [
    "# Few things to know before starting writting Python code"
   ]
  },
  {
   "cell_type": "markdown",
   "metadata": {
    "slideshow": {
     "slide_type": "slide"
    }
   },
   "source": [
    "## Indentation matters\n",
    "\n",
    "* It determines which statements are part of which control block\n",
    "\n",
    "* First instance of indentation determines the number of used spaces or tabs"
   ]
  },
  {
   "cell_type": "code",
   "execution_count": null,
   "metadata": {
    "slideshow": {
     "slide_type": "fragment"
    }
   },
   "outputs": [],
   "source": [
    "a = 0\n",
    "for i in [0, 1, 2, 3, 4]:\n",
    "    a = a + i\n",
    "a = a * a\n",
    "print(a)"
   ]
  },
  {
   "cell_type": "code",
   "execution_count": null,
   "metadata": {
    "slideshow": {
     "slide_type": "fragment"
    }
   },
   "outputs": [],
   "source": [
    "a = 0\n",
    "for i in [0, 1, 2, 3, 4]:\n",
    "    a = a + i\n",
    "    a = a * a\n",
    "print(a)"
   ]
  },
  {
   "cell_type": "markdown",
   "metadata": {
    "slideshow": {
     "slide_type": "slide"
    }
   },
   "source": [
    "## Quotes don't (almost)\n",
    "\n",
    "`'` and `\"` can *mostly* be used interchangeably"
   ]
  },
  {
   "cell_type": "code",
   "execution_count": null,
   "metadata": {
    "slideshow": {
     "slide_type": "fragment"
    }
   },
   "outputs": [],
   "source": [
    "var1 = 'this is a string'\n",
    "var2 = \"this is a string\"\n",
    "print(type(var1), type(var2))\n",
    "print(var1 == var2)"
   ]
  },
  {
   "cell_type": "code",
   "execution_count": null,
   "metadata": {
    "slideshow": {
     "slide_type": "fragment"
    }
   },
   "outputs": [],
   "source": [
    "print(\"Let's go Python!\")\n",
    "print('Let\\'s go Python!')"
   ]
  },
  {
   "cell_type": "markdown",
   "metadata": {
    "slideshow": {
     "slide_type": "slide"
    }
   },
   "source": [
    "# That's it!\n",
    "\n",
    "## Next Part: Operators and control statements"
   ]
  }
 ],
 "metadata": {
  "celltoolbar": "Slideshow",
  "kernelspec": {
   "display_name": "Python 3 (ipykernel)",
   "language": "python",
   "name": "python3"
  },
  "language_info": {
   "codemirror_mode": {
    "name": "ipython",
    "version": 3
   },
   "file_extension": ".py",
   "mimetype": "text/x-python",
   "name": "python",
   "nbconvert_exporter": "python",
   "pygments_lexer": "ipython3",
   "version": "3.10.13"
  }
 },
 "nbformat": 4,
 "nbformat_minor": 2
}
