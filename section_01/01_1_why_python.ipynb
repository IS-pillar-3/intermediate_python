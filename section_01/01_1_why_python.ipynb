{
 "cells": [
  {
   "cell_type": "markdown",
   "metadata": {
    "slideshow": {
     "slide_type": "slide"
    }
   },
   "source": [
    "#### <center>Intermediate Python and Software Enginnering</center>\n",
    "\n",
    "\n",
    "## <center>Week 01 - Part 01 - Why Python?</center>\n",
    "\n",
    "\n",
    "### <center>Innovation Scholars Programme</center>\n",
    "### <center>King's College London, Medical Research Council and UKRI <center>"
   ]
  },
  {
   "cell_type": "markdown",
   "metadata": {
    "slideshow": {
     "slide_type": "slide"
    }
   },
   "source": [
    "### Session overview\n",
    "* Brief Python introduction\n",
    "* Motivations for using Python"
   ]
  },
  {
   "cell_type": "markdown",
   "metadata": {
    "slideshow": {
     "slide_type": "slide"
    }
   },
   "source": [
    "# What is Python?\n",
    "\n",
    "## General purpose\n",
    " * Can be use for any type of applications/projects:\n",
    "   * Database\n",
    "   * Scripting\n",
    "   * System Admin\n",
    "   * Web development\n",
    "   * IO\n",
    "   * Scientific modelling\n",
    "   * Visualisation\n",
    "   * Statistics\n",
    "   * ..."
   ]
  },
  {
   "cell_type": "markdown",
   "metadata": {
    "slideshow": {
     "slide_type": "slide"
    }
   },
   "source": [
    "## Interpreted and interactive language\n",
    "* Code is read as text and interpreted at runtime (as opposed to compiled code such as C++)\n",
    "* Code can be run in an interactive fashion, eg. sequentially, line by line. Example:"
   ]
  },
  {
   "cell_type": "code",
   "execution_count": null,
   "metadata": {
    "scrolled": true,
    "slideshow": {
     "slide_type": "fragment"
    }
   },
   "outputs": [],
   "source": [
    "a = 3\n",
    "print(a)"
   ]
  },
  {
   "cell_type": "code",
   "execution_count": null,
   "metadata": {
    "slideshow": {
     "slide_type": "fragment"
    }
   },
   "outputs": [],
   "source": [
    "b = 2 * a\n",
    "print(b)"
   ]
  },
  {
   "cell_type": "markdown",
   "metadata": {
    "slideshow": {
     "slide_type": "fragment"
    }
   },
   "source": [
    "* Can also be compiled for performance purposes"
   ]
  },
  {
   "cell_type": "markdown",
   "metadata": {
    "slideshow": {
     "slide_type": "slide"
    }
   },
   "source": [
    "## Dynamically typed\n",
    "* Everything is an object and the objects' structures are defined by types\n",
    "* Values are assigned to untypes variables\n",
    "* Type of variables/values/expressions determined when used\n",
    "* Correctness is checked at runtime"
   ]
  },
  {
   "cell_type": "code",
   "execution_count": null,
   "metadata": {
    "slideshow": {
     "slide_type": "fragment"
    }
   },
   "outputs": [],
   "source": [
    "v = 'another string'\n",
    "print(type(v))"
   ]
  },
  {
   "cell_type": "code",
   "execution_count": null,
   "metadata": {
    "slideshow": {
     "slide_type": "fragment"
    }
   },
   "outputs": [],
   "source": [
    "print(v + 'string') # can't add a number to a string"
   ]
  },
  {
   "cell_type": "markdown",
   "metadata": {
    "slideshow": {
     "slide_type": "slide"
    }
   },
   "source": [
    "## Multi-paradigm\n",
    "\n",
    "* Imperative: computation defined as the transition between program states\n",
    "* Procedural: programs composed of independent procedures/functions\n",
    "* Object-oriented: programs composed of objects encapsulating code and data\n",
    "* Functional: Computation is treated as evaluation of mathematical function\n",
    "\n",
    "See: https://blog.newrelic.com/engineering/python-programming-styles/"
   ]
  },
  {
   "cell_type": "code",
   "execution_count": null,
   "metadata": {
    "slideshow": {
     "slide_type": "slide"
    }
   },
   "outputs": [],
   "source": [
    "import functools\n",
    "my_list = [1, 2, 3, 4, 5]\n",
    "\n",
    "# Example 1, function to sum two values\n",
    "def add_it(x, y):\n",
    "    return x + y\n",
    "\n",
    "total1 = functools.reduce(add_it, my_list)\n",
    "\n",
    "# Example 2, sum function defined as expression (lambda)\n",
    "total2 = functools.reduce(lambda x, y: x + y, my_list)\n",
    "\n",
    "# Example 3, state all steps\n",
    "total3 = 0\n",
    "for i in my_list:\n",
    "    total3 += i\n",
    "\n",
    "print(total1,total2, total3)"
   ]
  },
  {
   "cell_type": "markdown",
   "metadata": {
    "slideshow": {
     "slide_type": "slide"
    }
   },
   "source": [
    "* Imperative\n",
    "\n",
    "  Focuses on how the program treats the data"
   ]
  },
  {
   "cell_type": "code",
   "execution_count": null,
   "metadata": {
    "slideshow": {
     "slide_type": "fragment"
    }
   },
   "outputs": [],
   "source": [
    "my_list = [1, 2, 3, 4, 5]\n",
    "total = 0\n",
    "for x in my_list:\n",
    "    total += x\n",
    "print(total)"
   ]
  },
  {
   "cell_type": "markdown",
   "metadata": {
    "slideshow": {
     "slide_type": "slide"
    }
   },
   "source": [
    "* Procedural\n",
    "\n",
    "  Processes are embedded into blocks. Code is simplified through the use of re-usable module (or function in the example below)"
   ]
  },
  {
   "cell_type": "code",
   "execution_count": null,
   "metadata": {
    "slideshow": {
     "slide_type": "fragment"
    }
   },
   "outputs": [],
   "source": [
    "my_list = [1, 2, 3, 4, 5]\n",
    "def do_add(any_list):\n",
    "    total = 0\n",
    "    for x in any_list:\n",
    "        total += x\n",
    "    return total\n",
    "print(do_add(my_list))"
   ]
  },
  {
   "cell_type": "markdown",
   "metadata": {
    "slideshow": {
     "slide_type": "slide"
    }
   },
   "source": [
    "* Object-oriented\n",
    "\n",
    "  Encapsulates functions (or properties) within objects such as classes"
   ]
  },
  {
   "cell_type": "code",
   "execution_count": null,
   "metadata": {
    "slideshow": {
     "slide_type": "fragment"
    }
   },
   "outputs": [],
   "source": [
    "class ChangeList(object):\n",
    "    def __init__(self, any_list):\n",
    "        self.any_list = any_list\n",
    "    def do_add(self):\n",
    "        self.total = functools.reduce(lambda x, y: x + y, self.any_list)\n",
    "\n",
    "my_list = [1, 2, 3, 4, 5]\n",
    "create_sum = ChangeList(my_list)\n",
    "create_sum.do_add()\n",
    "print(create_sum.total)"
   ]
  },
  {
   "cell_type": "markdown",
   "metadata": {
    "slideshow": {
     "slide_type": "slide"
    }
   },
   "source": [
    "## Garbage-collected\n",
    "\n",
    "* Automatic memory management. When a variable is not required anymore, it is automatically released from memory"
   ]
  },
  {
   "cell_type": "markdown",
   "metadata": {
    "slideshow": {
     "slide_type": "slide"
    }
   },
   "source": [
    "# Why are we using Python?\n",
    "\n",
    "* Open-source\n",
    "\n",
    "* Widely used in scientific community (industry and academia) and highest rate of increase.\n",
    "\n",
    "   * Data from github project and analysed by https://stackify.com:\n",
    "   <img src=\"figures/python_github.png\" alt=\"python_github\" style=\"width: 400px;\"/>\n",
    "\n",
    "   * Increasingly used for machine learning (especially deep learning with TensorFlow, pyTorch, ...)"
   ]
  },
  {
   "cell_type": "markdown",
   "metadata": {
    "slideshow": {
     "slide_type": "slide"
    }
   },
   "source": [
    "* Hierarchical Module system\n",
    "  * Facilitate code re-use and sharing"
   ]
  },
  {
   "cell_type": "code",
   "execution_count": null,
   "metadata": {
    "slideshow": {
     "slide_type": "fragment"
    }
   },
   "outputs": [],
   "source": [
    "import numpy\n",
    "a = numpy.array([[1, 2], [3, 4]])\n",
    "print(a)"
   ]
  },
  {
   "cell_type": "code",
   "execution_count": null,
   "metadata": {
    "slideshow": {
     "slide_type": "fragment"
    }
   },
   "outputs": [],
   "source": [
    "print(numpy.transpose(a))"
   ]
  },
  {
   "cell_type": "markdown",
   "metadata": {
    "slideshow": {
     "slide_type": "slide"
    }
   },
   "source": [
    "* Data structures for all types of data\n",
    "  * Store collection of related data\n",
    "  * Different structures have different purposes and characteristics\n",
    "  * Example List, tuple, set, dictionary"
   ]
  },
  {
   "cell_type": "markdown",
   "metadata": {
    "slideshow": {
     "slide_type": "slide"
    }
   },
   "source": [
    "* Large amount of type, function, libraries\n",
    "  * Built-in: type, operators, functions, io routine, ...\n",
    "  * External libraries (modules):\n",
    "    * Input-output handling. e.g: openpyxl, pydicom, ...\n",
    "    * Mathematical function. e.g.: numpy, scipy\n",
    "    * Visualisation. e.g. matplotlib\n",
    "    * Argument parsing. e.g. argparse, Click\n",
    "    * Image processing. e.g. Pillow\n",
    "    * Machine learning. e.g. scikit-learn\n",
    "    * Graphical user interface. e.g. PyQt, pyGtk\n",
    "    * Testing. e.g. nose\n",
    "    * Web development. e.g. Flask, Django\n",
    "    * Web scraping. e.g. BeautifulSoup\n",
    "    * ...\n"
   ]
  },
  {
   "cell_type": "markdown",
   "metadata": {
    "slideshow": {
     "slide_type": "slide"
    }
   },
   "source": [
    "* Embedded testing framework\n",
    "* Integration with other languages\n",
    "* Libraries for compiling fast code"
   ]
  },
  {
   "cell_type": "markdown",
   "metadata": {
    "slideshow": {
     "slide_type": "slide"
    }
   },
   "source": [
    "* Why are we using python rather than matlab?\n",
    " * Proprietary 🙁\n",
    " * Expensive 🙁\n",
    " * Hard to port 🙁\n",
    "* Python is free, open-source software designed to run on many platforms with little variation"
   ]
  },
  {
   "cell_type": "markdown",
   "metadata": {
    "slideshow": {
     "slide_type": "slide"
    }
   },
   "source": [
    "# That's it!\n",
    "\n",
    "## Next Part: How to use Python?"
   ]
  }
 ],
 "metadata": {
  "celltoolbar": "Slideshow",
  "kernelspec": {
   "display_name": "Python 3 (ipykernel)",
   "language": "python",
   "name": "python3"
  },
  "language_info": {
   "codemirror_mode": {
    "name": "ipython",
    "version": 3
   },
   "file_extension": ".py",
   "mimetype": "text/x-python",
   "name": "python",
   "nbconvert_exporter": "python",
   "pygments_lexer": "ipython3",
   "version": "3.10.13"
  }
 },
 "nbformat": 4,
 "nbformat_minor": 2
}
