{
 "cells": [
  {
   "cell_type": "markdown",
   "metadata": {
    "slideshow": {
     "slide_type": "slide"
    }
   },
   "source": [
    "#### <center>Intermediate Python and Software Enginnering</center>\n",
    "\n",
    "\n",
    "## <center>Section 01 - Part 05 - Functions</center>\n",
    "\n",
    "\n",
    "### <center>Innovation Scholars Programme</center>\n",
    "### <center>King's College London, Medical Research Council and UKRI <center>"
   ]
  },
  {
   "cell_type": "markdown",
   "metadata": {
    "slideshow": {
     "slide_type": "slide"
    }
   },
   "source": [
    "### Session overview\n",
    "* Functions\n",
    "* Exceptions"
   ]
  },
  {
   "cell_type": "markdown",
   "metadata": {
    "slideshow": {
     "slide_type": "slide"
    }
   },
   "source": [
    "# Functions\n",
    "\n",
    "    def N(A):\n",
    "      S\n",
    "* A function begins with `def`, its name and arguments\n",
    "* Statement `S` is executed with the supplied arguments values assigned to members of `A`\n",
    "* Function returns control flow to where it was called when the end of `S` is reached or `return` is called\n",
    "* If no `return` value, the function call evaluates to `None`"
   ]
  },
  {
   "cell_type": "code",
   "execution_count": null,
   "metadata": {
    "slideshow": {
     "slide_type": "fragment"
    }
   },
   "outputs": [],
   "source": [
    "def sum(x,y):\n",
    "    x + y\n",
    "\n",
    "print(sum(4,5))"
   ]
  },
  {
   "cell_type": "markdown",
   "metadata": {
    "slideshow": {
     "slide_type": "slide"
    }
   },
   "source": [
    "* Functions can have multiple arguments, default argument values, argument lists, and keyword arguments"
   ]
  },
  {
   "cell_type": "code",
   "execution_count": null,
   "metadata": {
    "slideshow": {
     "slide_type": "fragment"
    }
   },
   "outputs": [],
   "source": [
    "def sum2(x,y,z=0): # z will be 0 if not given\n",
    "    return x+y+z\n",
    "\n",
    "print(sum2(4,5))\n",
    "print(sum2(4,5,6))\n",
    "print(sum2(y=6,x=7)) # arguments can be set by name"
   ]
  },
  {
   "cell_type": "markdown",
   "metadata": {
    "slideshow": {
     "slide_type": "slide"
    }
   },
   "source": [
    " * Python passes argument values by object\n",
    " * Arguments are not assigned copies of given argument values\n",
    " * Routines can modify arguments as a result:"
   ]
  },
  {
   "cell_type": "code",
   "execution_count": null,
   "metadata": {
    "slideshow": {
     "slide_type": "fragment"
    }
   },
   "outputs": [],
   "source": [
    "v = ['Ben', 'Richard']\n",
    "\n",
    "def add_python(names):\n",
    "    names.append('Eric')\n",
    "    \n",
    "print(v)\n",
    "add_python(v)\n",
    "print(v)"
   ]
  },
  {
   "cell_type": "markdown",
   "metadata": {
    "slideshow": {
     "slide_type": "slide"
    }
   },
   "source": [
    "* Return statements with multiple values cause the function to return a tuple:"
   ]
  },
  {
   "cell_type": "code",
   "execution_count": null,
   "metadata": {
    "slideshow": {
     "slide_type": "fragment"
    }
   },
   "outputs": [],
   "source": [
    "def sum_diff(x,y):\n",
    "    return x+y,x-y\n",
    "\n",
    "print(sum_diff(4,5))\n",
    "print(type(sum_diff(4,5)))\n"
   ]
  },
  {
   "cell_type": "markdown",
   "metadata": {
    "slideshow": {
     "slide_type": "slide"
    }
   },
   "source": [
    "* Be careful with default arguments, they are initialized only once, not once per call:"
   ]
  },
  {
   "cell_type": "code",
   "execution_count": null,
   "metadata": {
    "scrolled": true,
    "slideshow": {
     "slide_type": "fragment"
    }
   },
   "outputs": [],
   "source": [
    "def misbehaved(x,arg=[]):\n",
    "    print('Current value of x = ', x)\n",
    "    print('Current value of arg = ', arg)\n",
    "    arg.append(x)\n",
    "    return arg\n",
    "\n",
    "print(misbehaved(1)) # expect [1]\n",
    "print(misbehaved(2)) # expect [2]"
   ]
  },
  {
   "cell_type": "markdown",
   "metadata": {
    "slideshow": {
     "slide_type": "fragment"
    }
   },
   "source": [
    "* So what's going on here with `arg`?"
   ]
  },
  {
   "cell_type": "markdown",
   "metadata": {
    "slideshow": {
     "slide_type": "slide"
    }
   },
   "source": [
    "### Exceptions\n",
    "\n",
    "* Error handling is done using exceptions"
   ]
  },
  {
   "cell_type": "code",
   "execution_count": null,
   "metadata": {
    "scrolled": true,
    "slideshow": {
     "slide_type": "fragment"
    }
   },
   "outputs": [],
   "source": [
    "raise Exception('I am an exception!')"
   ]
  },
  {
   "cell_type": "markdown",
   "metadata": {
    "slideshow": {
     "slide_type": "fragment"
    }
   },
   "source": [
    " * Many built-in exception types: `ValueError`, `ArithmeticError`, `IndexError`, `KeyError`, `MemoryError`, ..."
   ]
  },
  {
   "cell_type": "code",
   "execution_count": null,
   "metadata": {
    "slideshow": {
     "slide_type": "slide"
    }
   },
   "outputs": [],
   "source": [
    "def raise_func():\n",
    "    raise ValueError('Bad value in function!')\n",
    "    \n",
    "raise_func()\n",
    "print('No exception') # unreachable, control flow left this cell"
   ]
  },
  {
   "cell_type": "markdown",
   "metadata": {
    "slideshow": {
     "slide_type": "slide"
    }
   },
   "source": [
    "* When an exception is raised, using the `raise` statement, control flow jumps to where the exception is handled\n",
    "* The raised exception is either caught in a `try` code block or continues to propagate up the call stack (the chain of functions calling one another)\n",
    "* The `try` block has the opportunity to react to the exception and attempt to continue execution"
   ]
  },
  {
   "cell_type": "code",
   "execution_count": null,
   "metadata": {
    "slideshow": {
     "slide_type": "fragment"
    }
   },
   "outputs": [],
   "source": [
    "try:\n",
    "    raise ValueError('Bad value!') # control flow jumps from here...\n",
    "except ValueError as ve:\n",
    "    print('ValueError:',ve) # ... to here\n",
    "except Exception as e:\n",
    "    # but not here since the above except's type is more precise\n",
    "    print('Exception:',e) "
   ]
  },
  {
   "cell_type": "markdown",
   "metadata": {
    "slideshow": {
     "slide_type": "slide"
    }
   },
   "source": [
    "* Exceptions propagate through function calls, so a caller has to deal with the exception or pass it to their own\n",
    "* Exceptions can be ignored entirely, often not a great idea however:"
   ]
  },
  {
   "cell_type": "code",
   "execution_count": null,
   "metadata": {
    "slideshow": {
     "slide_type": "fragment"
    }
   },
   "outputs": [],
   "source": [
    "def normal_func():\n",
    "    raiseFunc() # exception comes from here ...\n",
    "    print('No exception') # never executed\n",
    "    \n",
    "try:\n",
    "    normal_func() # ... jumps to here...\n",
    "except: # ... and caught here\n",
    "    print('Ignoring all exceptions') "
   ]
  },
  {
   "cell_type": "markdown",
   "metadata": {
    "slideshow": {
     "slide_type": "slide"
    }
   },
   "source": [
    "# That's it!\n",
    "\n",
    "## Next Part: Objects and modules"
   ]
  }
 ],
 "metadata": {
  "celltoolbar": "Slideshow",
  "kernelspec": {
   "display_name": "Python 3 (ipykernel)",
   "language": "python",
   "name": "python3"
  },
  "language_info": {
   "codemirror_mode": {
    "name": "ipython",
    "version": 3
   },
   "file_extension": ".py",
   "mimetype": "text/x-python",
   "name": "python",
   "nbconvert_exporter": "python",
   "pygments_lexer": "ipython3",
   "version": "3.10.13"
  }
 },
 "nbformat": 4,
 "nbformat_minor": 2
}
