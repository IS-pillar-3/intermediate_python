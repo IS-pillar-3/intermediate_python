{
 "cells": [
  {
   "cell_type": "markdown",
   "metadata": {
    "slideshow": {
     "slide_type": "slide"
    }
   },
   "source": [
    "#### <center>Intermediate Python and Software Enginnering</center>\n",
    "\n",
    "\n",
    "## <center>Section 01 - Part 04 - Data types and data structures</center>\n",
    "\n",
    "\n",
    "### <center>Innovation Scholars Programme</center>\n",
    "### <center>King's College London, Medical Research Council and UKRI <center>"
   ]
  },
  {
   "cell_type": "markdown",
   "metadata": {
    "slideshow": {
     "slide_type": "slide"
    }
   },
   "source": [
    "### Session overview\n",
    "* Data types\n",
    "* Data structures"
   ]
  },
  {
   "cell_type": "markdown",
   "metadata": {
    "slideshow": {
     "slide_type": "slide"
    }
   },
   "source": [
    "# Data types\n",
    "\n",
    " * Multiple basic value types are built-in python\n",
    "   * Text\n",
    "   * Numeric\n",
    "   * Boolean\n",
    "   * Binary\n",
    "   \n",
    "`type()` can be used to query the type of any variable"
   ]
  },
  {
   "cell_type": "code",
   "execution_count": null,
   "metadata": {
    "slideshow": {
     "slide_type": "fragment"
    }
   },
   "outputs": [],
   "source": [
    "x = 1\n",
    "print(type(x))"
   ]
  },
  {
   "cell_type": "markdown",
   "metadata": {
    "slideshow": {
     "slide_type": "slide"
    }
   },
   "source": [
    "## Text data type"
   ]
  },
  {
   "cell_type": "code",
   "execution_count": null,
   "metadata": {
    "slideshow": {
     "slide_type": "fragment"
    }
   },
   "outputs": [],
   "source": [
    "x = 'This is some text'\n",
    "print(type(x))\n",
    "\n",
    "y = 't'\n",
    "print(type(y))"
   ]
  },
  {
   "cell_type": "markdown",
   "metadata": {
    "slideshow": {
     "slide_type": "slide"
    }
   },
   "source": [
    "## Numeric data type"
   ]
  },
  {
   "cell_type": "code",
   "execution_count": null,
   "metadata": {
    "slideshow": {
     "slide_type": "fragment"
    }
   },
   "outputs": [],
   "source": [
    "x = 1\n",
    "print(x)\n",
    "print(type(x))\n",
    "\n",
    "y = 1.\n",
    "print(y)\n",
    "print(type(y))\n",
    "\n",
    "z = 2 + 1j\n",
    "print(z)\n",
    "print(type(z))"
   ]
  },
  {
   "cell_type": "markdown",
   "metadata": {
    "slideshow": {
     "slide_type": "slide"
    }
   },
   "source": [
    "## Boolean data type"
   ]
  },
  {
   "cell_type": "code",
   "execution_count": null,
   "metadata": {
    "slideshow": {
     "slide_type": "fragment"
    }
   },
   "outputs": [],
   "source": [
    "x = True\n",
    "print(x)\n",
    "print(type(x))\n",
    "\n",
    "y = False\n",
    "print(y)\n",
    "print(type(y))\n",
    "\n",
    "print(type(2>3))"
   ]
  },
  {
   "cell_type": "markdown",
   "metadata": {
    "slideshow": {
     "slide_type": "slide"
    }
   },
   "source": [
    "## Binary data type"
   ]
  },
  {
   "cell_type": "code",
   "execution_count": null,
   "metadata": {
    "slideshow": {
     "slide_type": "fragment"
    }
   },
   "outputs": [],
   "source": [
    "x = b'b'\n",
    "print(x)\n",
    "for value in x:\n",
    "    print(value)\n",
    "print(type(x))\n",
    "\n",
    "y = bytearray(x)\n",
    "print(y)\n",
    "print(type(y))\n",
    "\n",
    "z = memoryview(bytes(3))\n",
    "print(z)\n",
    "print(type(z))\n"
   ]
  },
  {
   "cell_type": "markdown",
   "metadata": {
    "slideshow": {
     "slide_type": "slide"
    }
   },
   "source": [
    "# Data Structures / Data Containers\n",
    "\n",
    "* Basic data structures are built into the language:\n",
    "  * list: `[], [1,2,3], [[1,2],[3,4]]`\n",
    "  * tuple: `(), (1,), (2,3), ((1,2),(3,4))`\n",
    "  * set: `{1,2,3,2}`\n",
    "  * dictionary: `{1 : True, 2 : False}`\n",
    "  \n",
    "* The types of objects these store is dynamic, eg. a list can contain a mix of numbers and strings "
   ]
  },
  {
   "cell_type": "markdown",
   "metadata": {
    "slideshow": {
     "slide_type": "slide"
    }
   },
   "source": [
    "## List and Tuple\n",
    "\n",
    " * Lists and tuples both contain sequences of values of any type\n",
    " \n",
    " * Lists can be modified and extended, tuples cannot\n",
    " "
   ]
  },
  {
   "cell_type": "code",
   "execution_count": null,
   "metadata": {
    "slideshow": {
     "slide_type": "fragment"
    }
   },
   "outputs": [],
   "source": [
    "v = [1,2] # list of 2 values\n",
    "print(v[0]) # access value in list\n",
    "v.append(3) # append value to list\n",
    "print(v)\n",
    "v = v + [4] # create new list with list\n",
    "print(v)\n",
    "\n",
    "v[0]=0 # set value in list\n",
    "print(v)"
   ]
  },
  {
   "cell_type": "code",
   "execution_count": null,
   "metadata": {
    "slideshow": {
     "slide_type": "slide"
    }
   },
   "outputs": [],
   "source": [
    "v = (1,2) # tuple of 2 values\n",
    "v = 1, 2 # identical statement, different syntax\n",
    "print(v[0]) # access value in tuple\n",
    "# no equivalent to append since tuples can't be modified\n",
    "v = v + (3,) # create new tuple with tuple\n",
    "print(v)\n",
    "\n",
    "# v[0]=0 # not allowed"
   ]
  },
  {
   "cell_type": "markdown",
   "metadata": {
    "slideshow": {
     "slide_type": "slide"
    }
   },
   "source": [
    "### Unpacking\n",
    "\n",
    "* Multiple variables can be set simultaneously by assigning a data structure to them in one statement:"
   ]
  },
  {
   "cell_type": "code",
   "execution_count": null,
   "metadata": {
    "slideshow": {
     "slide_type": "fragment"
    }
   },
   "outputs": [],
   "source": [
    "s = (1,2)\n",
    "a, b = s # assign an existing tuple to variables\n",
    "print(a, b)\n",
    "\n",
    "a, b = 3, 4 # assign values explicitly\n",
    "print(a, b)"
   ]
  },
  {
   "cell_type": "markdown",
   "metadata": {
    "slideshow": {
     "slide_type": "slide"
    }
   },
   "source": [
    "### Indexing\n",
    "\n",
    "Lists and tuples (and other objects) can be indexed by integers but also ranges of the form `start:end:step` to get a subset of the object's contents. Any of the three values can be omitted:"
   ]
  },
  {
   "cell_type": "code",
   "execution_count": null,
   "metadata": {
    "slideshow": {
     "slide_type": "fragment"
    }
   },
   "outputs": [],
   "source": [
    "num=[0,1,2,3,4,5,6,7,8,9,10,11]\n",
    "print(num[2:5])    # print 2nd to 5th number\n",
    "print(num[:5])     # print 0th to 5th number\n",
    "print(num[5:])     # print 5th number on\n",
    "print(num[::2])    # print every other number\n",
    "print(num[1:10:3]) # print every 3rd number between the 1st and 10th"
   ]
  },
  {
   "cell_type": "markdown",
   "metadata": {
    "slideshow": {
     "slide_type": "slide"
    }
   },
   "source": [
    "### Indexing\n",
    "\n",
    "* Indices can be given as positive integers starting from 0, or negative integers starting from -1 which are intepreted as decrementing down from the end of a list/tuple:"
   ]
  },
  {
   "cell_type": "code",
   "execution_count": null,
   "metadata": {
    "slideshow": {
     "slide_type": "fragment"
    }
   },
   "outputs": [],
   "source": [
    "print(num[-1])       # print the last value\n",
    "print(num[0:-5])      # print 0th to 5th last value\n",
    "print(num[::-1])     # print every value in reverse\n",
    "print(num[-2:-8:-2]) # print every other number from the 2nd last to 8th last in reverse"
   ]
  },
  {
   "cell_type": "markdown",
   "metadata": {
    "slideshow": {
     "slide_type": "slide"
    }
   },
   "source": [
    "### Sets and Dictionaries\n",
    "\n",
    "* Sets contain an unordered collection of unique values"
   ]
  },
  {
   "cell_type": "code",
   "execution_count": null,
   "metadata": {
    "slideshow": {
     "slide_type": "fragment"
    }
   },
   "outputs": [],
   "source": [
    "v = {1,2} # set of 2 values\n",
    "v.add(3) # add value to set\n",
    "v.add(3) # does nothing since 3 is already in set\n",
    "print(v)\n",
    "v = list(v) # convert to list to access individual values\n",
    "print(v[0],v)"
   ]
  },
  {
   "cell_type": "markdown",
   "metadata": {
    "slideshow": {
     "slide_type": "slide"
    }
   },
   "source": [
    "### Sets and Dictionaries\n",
    "\n",
    "* Dictionaries relate objects (keys) to other objects (values) in a many-to-one mapping"
   ]
  },
  {
   "cell_type": "code",
   "execution_count": null,
   "metadata": {
    "slideshow": {
     "slide_type": "fragment"
    }
   },
   "outputs": [],
   "source": [
    "d = {\n",
    "    'class': 'Scientific Programing',\n",
    "    'lecturers': ['Eric', 'Ben', 'Richard','Marc'],\n",
    "    'student_number': 25\n",
    "}\n",
    "\n",
    "print(d)\n",
    "\n",
    "print(d['lecturers'])\n",
    "d.get('lecturers')\n",
    "\n",
    "for i in d:\n",
    "    print(i)"
   ]
  },
  {
   "cell_type": "markdown",
   "metadata": {
    "slideshow": {
     "slide_type": "slide"
    }
   },
   "source": [
    "# That's it!\n",
    "\n",
    "## Next Part: Functions"
   ]
  }
 ],
 "metadata": {
  "celltoolbar": "Slideshow",
  "kernelspec": {
   "display_name": "Python 3 (ipykernel)",
   "language": "python",
   "name": "python3"
  },
  "language_info": {
   "codemirror_mode": {
    "name": "ipython",
    "version": 3
   },
   "file_extension": ".py",
   "mimetype": "text/x-python",
   "name": "python",
   "nbconvert_exporter": "python",
   "pygments_lexer": "ipython3",
   "version": "3.10.13"
  }
 },
 "nbformat": 4,
 "nbformat_minor": 2
}
