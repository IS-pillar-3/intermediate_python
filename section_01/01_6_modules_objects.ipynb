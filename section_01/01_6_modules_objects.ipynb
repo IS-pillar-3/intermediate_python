{
 "cells": [
  {
   "cell_type": "markdown",
   "metadata": {
    "slideshow": {
     "slide_type": "slide"
    }
   },
   "source": [
    "#### <center>Intermediate Python and Software Enginnering</center>\n",
    "\n",
    "\n",
    "## <center>Section 01 - Part 06 - Modules and objects</center>\n",
    "\n",
    "\n",
    "### <center>Innovation Scholars Programme</center>\n",
    "### <center>King's College London, Medical Research Council and UKRI <center>"
   ]
  },
  {
   "cell_type": "markdown",
   "metadata": {
    "slideshow": {
     "slide_type": "slide"
    }
   },
   "source": [
    "### Session overview\n",
    "* Modules: What are they? How to use them?\n",
    "* Objects in python and object-orientation brief introduction"
   ]
  },
  {
   "cell_type": "markdown",
   "metadata": {
    "slideshow": {
     "slide_type": "slide"
    }
   },
   "source": [
    "### Modules\n",
    " * Python files containing code for a common purpose should be organized into modules\n",
    " * A module can contain functions, classes, variables, ...\n",
    " * A single .py file can be a module, multiple files can be packaged into archives (wheels)\n",
    " * Large amount of built-in modules: https://docs.python.org/3/py-modindex.html\n",
    " * External module can be added, e.g. numpy, matplotlib, ...\n",
    " * Installed modules can be access using the `import` keyword:"
   ]
  },
  {
   "cell_type": "code",
   "execution_count": null,
   "metadata": {
    "slideshow": {
     "slide_type": "fragment"
    }
   },
   "outputs": [],
   "source": [
    "import math # import whole module\n",
    "print(math.cos(math.pi*1.1))\n",
    "from math import sin # import only one object\n",
    "print(sin(math.pi*1.1))\n",
    "from math import sin, asin # import only one object\n",
    "print(sin(math.pi*1.1) + asin(1))\n",
    "from math import tan as anyname # import only one object and create an alias\n",
    "print(anyname(math.pi*1.1))"
   ]
  },
  {
   "cell_type": "markdown",
   "metadata": {
    "slideshow": {
     "slide_type": "slide"
    }
   },
   "source": [
    "### Modules\n",
    " * The `dir()` function enables to list of names defined by a module.\n",
    " * Modules include string variables providing information about the modules."
   ]
  },
  {
   "cell_type": "code",
   "execution_count": null,
   "metadata": {
    "slideshow": {
     "slide_type": "fragment"
    }
   },
   "outputs": [],
   "source": [
    "import math # import whole module\n",
    "\n",
    "module_content = dir(math)\n",
    "print(module_content)\n",
    "\n",
    "#print(math.__doc__)\n",
    "#print(math.__spec__)"
   ]
  },
  {
   "cell_type": "markdown",
   "metadata": {
    "slideshow": {
     "slide_type": "slide"
    }
   },
   "source": [
    "### Objects\n",
    "* Key feature to Python is that everything is an object\n",
    "* In this sense the architecture is object-based\n",
    "* Objects in the most general sense are programming concepts that encapsulate state and operations, ie. data and the routines that manipulate it\n",
    "* Object also have a concept of unique identity, type, and lifetime\n",
    "* Python is object-oriented in that its object model supports subtyping, polymorphism, as well as encapsulation"
   ]
  },
  {
   "cell_type": "markdown",
   "metadata": {
    "slideshow": {
     "slide_type": "slide"
    }
   },
   "source": [
    "* The form or blueprint of objects (ie. their type) is defined by a class, which provides a mechanism for creating instances of it, defining data, and defining routines (methods in the case of objects)\n",
    "* A simple type that represents a square area:"
   ]
  },
  {
   "cell_type": "code",
   "execution_count": null,
   "metadata": {
    "slideshow": {
     "slide_type": "fragment"
    }
   },
   "outputs": [],
   "source": [
    "class Dimension:\n",
    "    def __init__(self, width, height): # constructor for object\n",
    "        self.width = width # declare members by assignment\n",
    "        self.height = height\n",
    "        \n",
    "    def measure(self): # method of class\n",
    "        return self.width * self.height"
   ]
  },
  {
   "cell_type": "markdown",
   "metadata": {
    "slideshow": {
     "slide_type": "slide"
    }
   },
   "source": [
    " * A class is istantiated to create an object having the structure the class defines\n",
    " * Multiple instances of the same class can exist and (mostly) share no state"
   ]
  },
  {
   "cell_type": "code",
   "execution_count": null,
   "metadata": {
    "slideshow": {
     "slide_type": "fragment"
    }
   },
   "outputs": [],
   "source": [
    "a = Dimension(10,12) # create a Dimension object\n",
    "print(a, 'Area:', a.measure())\n",
    "\n",
    "b = Dimension(7,8) # create another\n",
    "print(a is b)\n",
    "print(b, 'Area:', b.measure())"
   ]
  },
  {
   "cell_type": "markdown",
   "metadata": {
    "slideshow": {
     "slide_type": "slide"
    }
   },
   "source": [
    "* Classes are defined with the `class` statement, which gives the class name and any other inherited classes\n",
    "* Constructors are always called `__init__` and are used to setup the object's state\n",
    "* Calling the class name creates an instance with a copy of the members the class defines, then `__init__` is called\n",
    "* Methods are class routines, they can only access the members of the associated instance, its arguments, and global variables\n",
    "* The `self` value always refers to the current object\n",
    "* Variables always store references to objects, that is they point to objects rather than store them"
   ]
  },
  {
   "cell_type": "markdown",
   "metadata": {
    "slideshow": {
     "slide_type": "slide"
    }
   },
   "source": [
    "### Operators\n",
    "* Methods can define behaviour when operators are used:"
   ]
  },
  {
   "cell_type": "code",
   "execution_count": null,
   "metadata": {
    "slideshow": {
     "slide_type": "fragment"
    }
   },
   "outputs": [],
   "source": [
    "class Dimension:\n",
    "    def __init__(self, width, height): \n",
    "        self.width = width \n",
    "        self.height = height\n",
    "        \n",
    "    def measure(self):\n",
    "        return self.width * self.height\n",
    "        \n",
    "    def __add__(self,a):\n",
    "        return Dimension(self.width+a,self.height+a) # new object\n",
    "    \n",
    "a = Dimension(10,10)\n",
    "b = a + 5 # same as a.__add__(b)\n",
    "\n",
    "print(a.width,b.width)\n",
    "print(a, b)"
   ]
  },
  {
   "cell_type": "markdown",
   "metadata": {
    "slideshow": {
     "slide_type": "slide"
    }
   },
   "source": [
    " * Operators have other methods: `__sub__` for `-`, `__iadd__` for `+=`, `__str__` for converting to string, etc.\n",
    " * An object is callable if it has a `__call__` method which implements the `()` operator:"
   ]
  },
  {
   "cell_type": "code",
   "execution_count": null,
   "metadata": {
    "slideshow": {
     "slide_type": "fragment"
    }
   },
   "outputs": [],
   "source": [
    "class CallableObj:\n",
    "    def __call__(self,a):\n",
    "        print(a)\n",
    "        \n",
    "c=CallableObj()\n",
    "c(123) # looks like a function call"
   ]
  },
  {
   "cell_type": "markdown",
   "metadata": {
    "slideshow": {
     "slide_type": "fragment"
    }
   },
   "source": [
    "* Functions and methods are just callable objects"
   ]
  },
  {
   "cell_type": "markdown",
   "metadata": {
    "slideshow": {
     "slide_type": "slide"
    }
   },
   "source": [
    "### Inheritance\n",
    " * Classes can be defined to include the members from another\n",
    " * This allows reuse of existing code in a new type which provides more functionality"
   ]
  },
  {
   "cell_type": "code",
   "execution_count": null,
   "metadata": {
    "slideshow": {
     "slide_type": "fragment"
    }
   },
   "outputs": [],
   "source": [
    "class Rectangle(Dimension):\n",
    "    def __init__(self,x,y,width,height):\n",
    "        # call the constructor of the inherited type\n",
    "        super().__init__(width,height) \n",
    "        self.x=x\n",
    "        self.y=y\n",
    "        \n",
    "    def is_inside(self,px,py):\n",
    "        return 0<=(px-self.x)<=self.width and 0<=(py-self.y)<=self.height\n",
    "    \n",
    "r=Rectangle(5,10,20,20)\n",
    "\n",
    "print(r.measure()) # inherited method\n",
    "print(r.is_inside(15,15),r.is_inside(0,0))"
   ]
  },
  {
   "cell_type": "markdown",
   "metadata": {
    "slideshow": {
     "slide_type": "slide"
    }
   },
   "source": [
    "* `Rectangle` is the subclass (or subtype) inheriting members from `Dimension` which is the superclass (or supertype)\n",
    "* Instances of `Rectangle` are also considered instances of `Dimension`\n",
    "* Every method and attribute is taken from `Dimension` and placed in `Rectangle` so that these are accessible to instances of `Rectangle`\n",
    "* `super()` is used to get a reference to `self` through which only inherited member are accessible, this allows `__init__` to call the constructor of the inherited type so it can do its own setup"
   ]
  },
  {
   "cell_type": "markdown",
   "metadata": {
    "slideshow": {
     "slide_type": "slide"
    }
   },
   "source": [
    "### Override\n",
    "* Inherited methods can be replaced to change their behaviour in subtypes:"
   ]
  },
  {
   "cell_type": "code",
   "execution_count": null,
   "metadata": {
    "slideshow": {
     "slide_type": "fragment"
    }
   },
   "outputs": [],
   "source": [
    "class Rectangle(Dimension):\n",
    "    def __init__(self,x,y,width,height):\n",
    "        super().__init__(width,height)\n",
    "        self.x=x\n",
    "        self.y=y\n",
    "        \n",
    "    def __add__(self,a): # replaces __add__ from Dimension\n",
    "        return Rectangle(self.x,self.y,self.width+a,self.height+a) \n",
    "    \n",
    "print(Dimension(5,5)+1) # returns a Dimension object\n",
    "print(Rectangle(0,0,5,5)+2) # returns a Rectangle object"
   ]
  },
  {
   "cell_type": "markdown",
   "metadata": {
    "slideshow": {
     "slide_type": "slide"
    }
   },
   "source": [
    "# That's it!\n",
    "\n",
    "## Next Part: Practical session"
   ]
  }
 ],
 "metadata": {
  "celltoolbar": "Slideshow",
  "kernelspec": {
   "display_name": "Python 3 (ipykernel)",
   "language": "python",
   "name": "python3"
  },
  "language_info": {
   "codemirror_mode": {
    "name": "ipython",
    "version": 3
   },
   "file_extension": ".py",
   "mimetype": "text/x-python",
   "name": "python",
   "nbconvert_exporter": "python",
   "pygments_lexer": "ipython3",
   "version": "3.10.13"
  }
 },
 "nbformat": 4,
 "nbformat_minor": 2
}
