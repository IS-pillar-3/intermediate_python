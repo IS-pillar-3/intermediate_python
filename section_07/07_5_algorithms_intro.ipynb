{
 "cells": [
  {
   "cell_type": "markdown",
   "metadata": {
    "slideshow": {
     "slide_type": "slide"
    }
   },
   "source": [
    "#### <center>Intermediate Python and Software Enginnering</center>\n",
    "\n",
    "\n",
    "## <center>Section 07 - Part 05 - Algorithms Introduction</center>\n",
    "\n",
    "\n",
    "### <center>Innovation Scholars Programme</center>\n",
    "### <center>King's College London, Medical Research Council and UKRI <center>"
   ]
  },
  {
   "cell_type": "markdown",
   "metadata": {
    "slideshow": {
     "slide_type": "slide"
    }
   },
   "source": [
    "## What we'll cover\n",
    "* What algorithms are: well defined solutions to well defined problems\n",
    "* Types of algorithms: searching, sorting, traversing\n",
    "* Complex types: functional/recursive definitions, divide-and-conquer, linear programming, dynamic programming, etc.\n",
    "* Time complexity and choosing the right algorithm"
   ]
  },
  {
   "cell_type": "markdown",
   "metadata": {
    "slideshow": {
     "slide_type": "slide"
    }
   },
   "source": [
    "## Algorithms\n",
    "* An algorithm is a well-defined solution to a well-defined problem\n",
    "* Well-definedness can take many forms, from informal to mathematically precise\n",
    "* Eg. step-by-step cooking/baking instructions represent an informal algorithm\n",
    "* We're concerned with algorithms as the code to produce a solution to a question defined in terms of inputs and starting conditions"
   ]
  },
  {
   "cell_type": "markdown",
   "metadata": {
    "slideshow": {
     "slide_type": "slide"
    }
   },
   "source": [
    "* One of the simplest is **Linear Search**: given an iterable, find the index of the searched-for item or None if it's not found"
   ]
  },
  {
   "cell_type": "code",
   "execution_count": 1,
   "metadata": {
    "slideshow": {
     "slide_type": "fragment"
    }
   },
   "outputs": [],
   "source": [
    "def lsearch(item,iterable):\n",
    "    \"\"\"Search for `item` in `iterable`.\"\"\"\n",
    "    for i, v in enumerate(iterable):\n",
    "        if v == item:\n",
    "            return i\n",
    "        \n",
    "    return None"
   ]
  },
  {
   "cell_type": "markdown",
   "metadata": {
    "slideshow": {
     "slide_type": "slide"
    }
   },
   "source": [
    "* Naively searches through the whole iterable looking for the item, stopping when it's found:"
   ]
  },
  {
   "cell_type": "code",
   "execution_count": 2,
   "metadata": {
    "slideshow": {
     "slide_type": "fragment"
    }
   },
   "outputs": [
    {
     "name": "stdout",
     "output_type": "stream",
     "text": [
      "750\n"
     ]
    }
   ],
   "source": [
    "nums = list(range(1000))\n",
    "\n",
    "print(lsearch(750,nums))"
   ]
  },
  {
   "cell_type": "markdown",
   "metadata": {
    "slideshow": {
     "slide_type": "fragment"
    }
   },
   "source": [
    "* If the item searched for isn't in the list or is last, every element will have to be visited\n",
    "* Thus has a time-complexity of O(n) in the worst case"
   ]
  },
  {
   "cell_type": "markdown",
   "metadata": {
    "slideshow": {
     "slide_type": "slide"
    }
   },
   "source": [
    "* If we restate the problem as searching for an item in a sorted list, then the sortedness can be used to find the item faster\n",
    "* Binary search looks at the middle element in the list, compares it to the search-for item and then continues searching on the lower half of the list if the item is less, the upper half if more\n",
    "* For each search iteration the search space halves, thus the time-complexity is O(log n)"
   ]
  },
  {
   "cell_type": "markdown",
   "metadata": {
    "slideshow": {
     "slide_type": "slide"
    }
   },
   "source": [
    "* Many varieties of sorting algorithms exist to take some iterable and produce a sorted one \n",
    "* Given input `S` and sorted result `R`, for every index `i` and `j` in `R` such that `i <= j`, we want `R[i] <= R[j]` to be true\n",
    "* How would be go about producing `R`?\n",
    "  * For input `S`, consider the sublist `S[0:n]` sorted for some `n>0`, then move value at position `n+1` into the correct position in that list\n",
    "  * Now `S[0:n+1]` is sorted, repeat process until whole list is sorted\n",
    "  * This is insertion sort:"
   ]
  },
  {
   "cell_type": "code",
   "execution_count": 7,
   "metadata": {
    "slideshow": {
     "slide_type": "slide"
    }
   },
   "outputs": [
    {
     "name": "stdout",
     "output_type": "stream",
     "text": [
      "Unsorted: [24 10 13 28 26 25 29 18 23 22 21 27 14 30 17 12 16 11 19 20 15]\n",
      "Sorted:   [10 11 12 13 14 15 16 17 18 19 20 21 22 23 24 25 26 27 28 29 30]\n"
     ]
    }
   ],
   "source": [
    "def insertionsort(seq):\n",
    "    \"\"\"Sort sequence `seq` inplace.\"\"\"\n",
    "    for n, val in enumerate(seq):\n",
    "        # seq[0:n] is sorted, add seq[n] to sorted part\n",
    "        i = n - 1 # position to insert key into\n",
    "        while i >= 0 and seq[i] > val:\n",
    "            # while the value at i is greater than key, the\n",
    "            # position key belongs in is still farther up \n",
    "            # the list so keep shuffling values down\n",
    "            seq[i + 1] = seq[i] # shuffle values down\n",
    "            i -= 1 # check previous position\n",
    "            \n",
    "        seq[i + 1] = val # insert key at correct position\n",
    "\n",
    "import numpy as np\n",
    "rand=np.arange(10,31)\n",
    "np.random.shuffle(rand)\n",
    "print('Unsorted:',rand)\n",
    "\n",
    "insertionsort(rand)\n",
    "print('Sorted:  ',rand)"
   ]
  },
  {
   "cell_type": "markdown",
   "metadata": {
    "slideshow": {
     "slide_type": "slide"
    }
   },
   "source": [
    "* Insertion sort relies on the idea that a value will \"bubble-up\" to the position it should be in the sorted list\n",
    "* Taking the sublist as sorted then bubbling-up the next value allows us to start from an initial state and incrementally work up to the final sorted list\n",
    "* In designing an algorithm like this, one would define the problem precisely then define a way to incrementally solve it"
   ]
  }
 ],
 "metadata": {
  "celltoolbar": "Slideshow",
  "kernelspec": {
   "display_name": "Python 3 (ipykernel)",
   "language": "python",
   "name": "python3"
  },
  "language_info": {
   "codemirror_mode": {
    "name": "ipython",
    "version": 3
   },
   "file_extension": ".py",
   "mimetype": "text/x-python",
   "name": "python",
   "nbconvert_exporter": "python",
   "pygments_lexer": "ipython3",
   "version": "3.10.9"
  }
 },
 "nbformat": 4,
 "nbformat_minor": 2
}
