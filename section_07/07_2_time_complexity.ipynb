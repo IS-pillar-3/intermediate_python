{
 "cells": [
  {
   "cell_type": "markdown",
   "metadata": {
    "slideshow": {
     "slide_type": "slide"
    }
   },
   "source": [
    "#### <center>Intermediate Python and Software Enginnering</center>\n",
    "\n",
    "\n",
    "## <center>Section 07 - Part 02 - Time Complexity</center>\n",
    "\n",
    "\n",
    "### <center>Innovation Scholars Programme</center>\n",
    "### <center>King's College London, Medical Research Council and UKRI <center>"
   ]
  },
  {
   "cell_type": "markdown",
   "metadata": {
    "slideshow": {
     "slide_type": "slide"
    }
   },
   "source": [
    "## Time Complexity\n",
    "* We estimate the amount of computation time an operation on a collection will take as a proportion of the structure's size\n",
    "* Big-O notation is used to state the estimated worst-case time an operation will require as a function of the size `n`\n",
    "* Eg. if operation `T` must visit each item in a collection and spend the same amount of time on each, the time requirement thus scales linearly with the size of the collection: `T(n) = O(n)`\n",
    "* If a operation `R` must visit the whole collection when visiting each item, then the time scales by the square of the collection size, thus `R(n) = O(n**2)`"
   ]
  },
  {
   "cell_type": "markdown",
   "metadata": {
    "slideshow": {
     "slide_type": "slide"
    }
   },
   "source": [
    "* Big-O notation is an approximation of the runtime cost so there's generally a few classes of complexity almost all algorithms fall into:\n",
    "  * Constant: `O(1)`\n",
    "  * Logarithmic: `O(log n)`\n",
    "  * Linearithmic: `O(n log n)`\n",
    "  * Linear: `O(n)`\n",
    "  * Quadratic: `O(n**2)`\n",
    "  * Polynomial: `O(n**c)`\n",
    "* Non-deterministic polynomial (NP) classes of algorithms exist which (almost certainly) require greater than polynomial time to complete, if one is shown to be in this category it is called NP-complete"
   ]
  },
  {
   "cell_type": "markdown",
   "metadata": {
    "slideshow": {
     "slide_type": "slide"
    }
   },
   "source": [
    "* Consider the `append` operation of the `LinkedList` type\n",
    "* Each node in the list must be visited to find the end node\n",
    "* This would be a linear-time function: `append(n) = O(n)`\n",
    "* Once clue to determining the time complexity of a routine is to see how many loops are nested in one another, `append` has only one loop so `O(n)`"
   ]
  },
  {
   "cell_type": "markdown",
   "metadata": {
    "slideshow": {
     "slide_type": "slide"
    }
   },
   "source": [
    "* Consider a `prepend` operation for `LinkedList`:"
   ]
  },
  {
   "cell_type": "code",
   "execution_count": 9,
   "metadata": {
    "slideshow": {
     "slide_type": "fragment"
    }
   },
   "outputs": [],
   "source": [
    "class LinkedList:\n",
    "    # ---previous definitions here---\n",
    "    def prepend(self,data):\n",
    "        # replace head node, old head becomes next in chain\n",
    "        self.head = LLNode(data, self.head)"
   ]
  },
  {
   "cell_type": "markdown",
   "metadata": {
    "slideshow": {
     "slide_type": "fragment"
    }
   },
   "source": [
    "* Operation not dependent on the size of the list, whether list is empty or massive this will take the same amount of time\n",
    "* A constant-time operation: `prepend(n) = O(1)`"
   ]
  },
  {
   "cell_type": "markdown",
   "metadata": {
    "slideshow": {
     "slide_type": "slide"
    }
   },
   "source": [
    "* `prepend` is going to be a lot faster than `append`, especially as the list grows\n",
    "* Depending on application, using a linked list like this to build a list will be more efficient than using `list` which has to resize allocated storage regularly\n",
    "* Choosing the data structure having operations of the right time complexity is key to fast code"
   ]
  }
 ],
 "metadata": {
  "celltoolbar": "Slideshow",
  "kernelspec": {
   "display_name": "Python 3 (ipykernel)",
   "language": "python",
   "name": "python3"
  },
  "language_info": {
   "codemirror_mode": {
    "name": "ipython",
    "version": 3
   },
   "file_extension": ".py",
   "mimetype": "text/x-python",
   "name": "python",
   "nbconvert_exporter": "python",
   "pygments_lexer": "ipython3",
   "version": "3.10.9"
  }
 },
 "nbformat": 4,
 "nbformat_minor": 2
}
