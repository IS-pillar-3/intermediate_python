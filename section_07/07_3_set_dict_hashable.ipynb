{
 "cells": [
  {
   "cell_type": "markdown",
   "metadata": {
    "slideshow": {
     "slide_type": "slide"
    }
   },
   "source": [
    "#### <center>Intermediate Python and Software Enginnering</center>\n",
    "\n",
    "\n",
    "## <center>Section 07 - Part 03 - Set, Dict and Hashable</center>\n",
    "\n",
    "\n",
    "### <center>Innovation Scholars Programme</center>\n",
    "### <center>King's College London, Medical Research Council and UKRI <center>"
   ]
  },
  {
   "cell_type": "markdown",
   "metadata": {
    "slideshow": {
     "slide_type": "slide"
    }
   },
   "source": [
    "* Eg.: `set` and `dict` rely on hashable types, ie. they implement `__hash__` returning a semi-unique constant hash value (an `int`)\n",
    "* Internally they stored values with lists called hashtables\n",
    "* Hash values are used to calculate an index in the table\n",
    "* Insertion, search, and other operations on `set` and `dict` thus average `O(1)` time complexity\n",
    "* Using `set` to accumulate unique instances of objects then converting to `list` may be faster than other approaches using lists only"
   ]
  },
  {
   "cell_type": "markdown",
   "metadata": {
    "slideshow": {
     "slide_type": "slide"
    }
   },
   "source": [
    "* Lookup with `in` keyword should be faster then with sets:"
   ]
  },
  {
   "cell_type": "code",
   "execution_count": 1,
   "metadata": {
    "slideshow": {
     "slide_type": "fragment"
    }
   },
   "outputs": [
    {
     "name": "stdout",
     "output_type": "stream",
     "text": [
      "1.71 µs ± 12 ns per loop (mean ± std. dev. of 7 runs, 1000000 loops each)\n",
      "8.42 µs ± 32.6 ns per loop (mean ± std. dev. of 7 runs, 100000 loops each)\n"
     ]
    }
   ],
   "source": [
    "nums=list(range(1000))\n",
    "\n",
    "%timeit 150 in nums # has to check every element, O(n)\n",
    "%timeit 750 in nums # has to check every element, O(n)"
   ]
  },
  {
   "cell_type": "code",
   "execution_count": 2,
   "metadata": {
    "slideshow": {
     "slide_type": "fragment"
    }
   },
   "outputs": [
    {
     "name": "stdout",
     "output_type": "stream",
     "text": [
      "39.2 ns ± 0.131 ns per loop (mean ± std. dev. of 7 runs, 10000000 loops each)\n",
      "53.8 ns ± 0.0538 ns per loop (mean ± std. dev. of 7 runs, 10000000 loops each)\n",
      "37.9 ns ± 0.0885 ns per loop (mean ± std. dev. of 7 runs, 10000000 loops each)\n"
     ]
    }
   ],
   "source": [
    "setnums=set(nums)\n",
    "\n",
    "%timeit 150 in setnums # look up position for 150 using hash, O(1)\n",
    "%timeit 750 in setnums # look up position for 750 using hash, O(1)\n",
    "%timeit 1111 in setnums # look up position for 750 using hash, O(1)"
   ]
  },
  {
   "cell_type": "markdown",
   "metadata": {
    "slideshow": {
     "slide_type": "slide"
    }
   },
   "source": [
    "## Set, Dict, Hashable\n",
    "* A hashable object is one implementing `__hash__` which should return a pseudo-unique integer\n",
    "* Hashes must not change throughout the object's lifetime, make sense only for immutable types (eg. `tuple`)\n",
    "* Calculating them is a complex subject for efficiency and security reasons, Python mostly uses the object's memory address\n",
    "* Collisions will occur, depends on implementation how these are handled"
   ]
  },
  {
   "cell_type": "markdown",
   "metadata": {
    "slideshow": {
     "slide_type": "slide"
    }
   },
   "source": [
    "* Hashes are used to calculate an index in a table for fast insertion and lookup\n",
    "* `set` could be implemented as a sparse list of objects of length `n` where the index of an object `a` is `hash(a)%n`\n",
    "* `dict` could be implemented as a set of key-value pairs whose hash is that of the key only\n",
    "* A collision, two distinct objects with the same index, can be addressed by placing the new object below the first one, or having a linked list at each index"
   ]
  },
  {
   "cell_type": "markdown",
   "metadata": {
    "slideshow": {
     "slide_type": "slide"
    }
   },
   "source": [
    "## Other Structures\n",
    "* More complex forms of sequential collections exist:\n",
    "  * Stack: items can only be added to or removed from end of list (LIFO: last-in-first-out)\n",
    "  * Queue: items can only be added to the end but removed from the start (FIFO: first-in-first-out)\n",
    "  * Deque (double-ended queue): items can only be added to the end but removed from start or end\n",
    "  * Priority queue: items are stored in order as defined by a priority criteria, only the highest priority item can be removed"
   ]
  },
  {
   "cell_type": "markdown",
   "metadata": {
    "slideshow": {
     "slide_type": "slide"
    }
   },
   "source": [
    "## Other Structures\n",
    "\n",
    "* Other non-linear collections exist:\n",
    "  * Binary trees: composed of nodes with data plus left and right subnodes\n",
    "  * Red-black trees: binary tree with color assigned to nodes, used to balance tree upon insertionto minimize lookup cost\n",
    "  * Heaps: a type of sorted binary tree stored as lists where element index indicates tree position\n",
    "  * N-ary trees: Same but with up to N subnodes\n",
    "  * Graphs: composed of nodes containing data plus links to any other arbitrary node, if links are directional it is a digraph (graph theory is a huge area)"
   ]
  },
  {
   "cell_type": "markdown",
   "metadata": {
    "slideshow": {
     "slide_type": "slide"
    }
   },
   "source": [
    "# That's it!\n",
    "\n",
    "## Next: Algorithms"
   ]
  }
 ],
 "metadata": {
  "celltoolbar": "Slideshow",
  "kernelspec": {
   "display_name": "Python 3 (ipykernel)",
   "language": "python",
   "name": "python3"
  },
  "language_info": {
   "codemirror_mode": {
    "name": "ipython",
    "version": 3
   },
   "file_extension": ".py",
   "mimetype": "text/x-python",
   "name": "python",
   "nbconvert_exporter": "python",
   "pygments_lexer": "ipython3",
   "version": "3.10.9"
  }
 },
 "nbformat": 4,
 "nbformat_minor": 2
}
