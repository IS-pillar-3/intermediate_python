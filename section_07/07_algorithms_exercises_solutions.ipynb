{
 "cells": [
  {
   "cell_type": "markdown",
   "metadata": {},
   "source": [
    "#### <center>Intermediate Python and Software Enginnering</center>\n",
    "\n",
    "\n",
    "## <center>Section 07 - Algorithms - Exercise Solutions</center>\n",
    "\n",
    "\n",
    "### <center>Innovation Scholars Programme</center>\n",
    "### <center>King's College London, Medical Research Council and UKRI <center>"
   ]
  },
  {
   "cell_type": "markdown",
   "metadata": {},
   "source": [
    "# Algorithms Exercises\n",
    "\n",
    "The purpose of this notebook is to explore some algorithm implementation."
   ]
  },
  {
   "cell_type": "markdown",
   "metadata": {},
   "source": [
    "### Dose Calculation\n",
    "\n",
    "A clinician wants to deliver a dose to a patient with a machine that has 4 settings.\n",
    "Note that this is not how radiotherapy works!\n",
    "The clinician wants to use the fewest number of shots to deliver the necessary therapy.\n",
    "A greedy approach only delivers the minimum shot count with certain shot values (1, 2, 5, 10, for example)\n",
    "It doesn't work with other dose ratios, such as 1, 5, 6, 10.\n",
    "\n",
    "For example, to deliver a dose of 12 units, if we use the remainder after removing the largest possible value,\n",
    "we would obtain:\n",
    "\n",
    "* 10: 12/10 = 1\n",
    "* 6: (12%10)/6 = 0\n",
    "* 5: ((12%10)%6)/5 = 0\n",
    "* 1: (((12%10)%6)%5)/1 = 2\n",
    "\n",
    "Giving us 1 shot of value 10 and two shots of value 1, while we could have used only 2 shots of value 6.\n",
    "\n",
    "### Exercise 1:\n",
    "Solve this problem using a brute force approach, e.g. test all possible combinations:"
   ]
  },
  {
   "cell_type": "code",
   "execution_count": 8,
   "metadata": {},
   "outputs": [
    {
     "name": "stdout",
     "output_type": "stream",
     "text": [
      "(0, 1, 3, 10)\n"
     ]
    }
   ],
   "source": [
    "from itertools import product\n",
    "\n",
    "def add_dose_bf(total_value, doses):\n",
    "    best = (total_value,) * len(doses)\n",
    "    best_sum = total_value * len(doses)\n",
    "    \n",
    "    for candidate in product(range(total_value + 1), repeat=len(doses)):\n",
    "        if sum(c * d for c,d in zip(candidate, doses)) == total_value:\n",
    "            candidate_sum = sum(candidate)\n",
    "            if candidate_sum < best_sum:\n",
    "                best = candidate\n",
    "                best_sum = candidate_sum\n",
    "    \n",
    "    return best\n",
    "\n",
    "# Define the possible shot values\n",
    "doses = (1, 5, 6, 10)\n",
    "# Compute the best solution\n",
    "print(add_dose_bf(123, doses))"
   ]
  },
  {
   "cell_type": "markdown",
   "metadata": {},
   "source": [
    "### Exercise 2:\n",
    "Solve this problem using dynamic programming by working bottom-up. When calculating the shots to use to reach the full dose, calculate the best way to deliver smaller doses first, ie. solve the sub problems first 1, 2, 3, 4, 5, 6, etc.:\n",
    "\n",
    "* 1  -> (1, 0, 0, 0)\n",
    "* 2  -> (2, 0, 0, 0)\n",
    "* 3  -> (3, 0, 0, 0)\n",
    "* 4  -> (4, 0, 0, 0)\n",
    "* 5  -> (5, 0, 0, 0) or (0, 1, 0, 0)\n",
    "* 6  -> (6, 0, 0, 0) or (1, 1, 0, 0) or (0, 0, 1, 0)\n",
    "* 7  -> (7, 0, 0, 0) or (2, 1, 0, 0) or (1, 0, 1, 0)\n",
    "* 8  -> (8, 0, 0, 0) or (3, 1, 0, 0) or (2, 0, 1, 0)\n",
    "* 9  -> (9, 0, 0, 0) or (4, 1, 0, 0) or (3, 0, 1, 0)\n",
    "* 10 -> (10, 0, 0, 0) or (5, 1, 0, 0) or (0, 2, 0, 0) or (4, 0, 1, 0) or (0, 0, 0, 1)\n",
    "* 11 -> (11, 0, 0, 0) or (6, 1, 0, 0) or (1, 2, 0, 0) or (5, 0, 1, 0) or (1, 0, 0, 1)\n",
    "* 12 -> (12, 0, 0, 0) or (7, 1, 0, 0) or (2, 2, 0, 0) or (6, 0, 1, 0) or (0, 0, 2, 0) or (2, 0, 0, 1)"
   ]
  },
  {
   "cell_type": "code",
   "execution_count": 40,
   "metadata": {},
   "outputs": [
    {
     "name": "stdout",
     "output_type": "stream",
     "text": [
      "[(0, 0, 0, 0), (1, 0, 0, 0)]\n"
     ]
    }
   ],
   "source": [
    "def add_dose(total_doses, doses):\n",
    "    \"\"\"\n",
    "    Given a list of best does values (where total_doses[i] is the best for a dose value of i),\n",
    "    calculate the next best dose value tuple in the sequence. This should add a tuple `best` to\n",
    "    `total_doses`, such that sum(d*b for d,b in zip(doses,best))==len(total_doses).\n",
    "    \"\"\"\n",
    "    last = len(total_doses)\n",
    "    best = None\n",
    "    \n",
    "    for i, d in enumerate(doses):\n",
    "        if last - d < 0:\n",
    "            break\n",
    "        earlier = last - d\n",
    "        candidate = tuple(d+1 if i == j else d for j, d in enumerate(total_doses[earlier]))\n",
    "        if best is None or sum(candidate) < sum(best):\n",
    "            best = candidate\n",
    "            \n",
    "    total_doses.append(best)\n",
    "\n",
    "# Define the possible shot values\n",
    "doses = (1, 5, 6, 10)\n",
    "# Create a list to store the solution for all total values\n",
    "total_doses = list()\n",
    "# Create the dose values for a total dose of 0\n",
    "total_doses.append((0,0,0,0))\n",
    "\n",
    "for i in range(1):\n",
    "    add_dose(total_doses, doses)\n",
    "    \n",
    "print(total_doses)\n",
    "\n",
    "# How do the two approaches compare in term of time and complexity? Use %timeit"
   ]
  },
  {
   "cell_type": "markdown",
   "metadata": {},
   "source": [
    "### Convex Hull\n",
    "\n",
    "We'll look into algorithms for calculating the convex hull of a set of points. The hull is defined by the minimum subset of points in the set which form the vertices of a mesh containing all other points. First let's define some helpful functions:"
   ]
  },
  {
   "cell_type": "code",
   "execution_count": 12,
   "metadata": {},
   "outputs": [
    {
     "name": "stdout",
     "output_type": "stream",
     "text": [
      "Subtraction output:\n",
      "(8, 10) (4, 4) (4, 6)\n"
     ]
    }
   ],
   "source": [
    "%matplotlib inline\n",
    "import matplotlib.pyplot as plt\n",
    "from math import cos\n",
    "from operator import add, sub, mul\n",
    "from functools import reduce\n",
    "import random\n",
    "\n",
    "\n",
    "def generate_points(quantity):\n",
    "    \"\"\"\n",
    "    Generate `quantity` number of random point within the range [0:100][0:100].\n",
    "    \"\"\"\n",
    "    random.seed(1234)\n",
    "    return [(random.gauss(0, 100), random.gauss(0, 100)) for _ in range(quantity)]\n",
    "\n",
    "\n",
    "def run_convex_hull(points, algo):\n",
    "    \"\"\"\n",
    "    Given callable `algo` accepting a point cloud `points` and returning a bool list stating if\n",
    "    a point is on the convex hull or not, this function with render the point cloud with the hull\n",
    "    points highlighted.\n",
    "    \"\"\"\n",
    "    filtered = algo(points)\n",
    "\n",
    "    hull_points = [v for i, v in enumerate(points) if not filtered[i]]\n",
    "    inside_points = list(filter(lambda p: p not in hull_points, points))\n",
    "\n",
    "    hx = list(p[0] for p in hull_points)\n",
    "    hy = list(p[1] for p in hull_points)\n",
    "    ix = list(p[0] for p in inside_points)\n",
    "    iy = list(p[1] for p in inside_points)\n",
    "    plt.scatter(ix, iy, s=2)\n",
    "    plt.scatter(hx, hy, s=50,marker='+')\n",
    "                \n",
    "\n",
    "# These points are there for illustration purpose, for the following functions\n",
    "a = (4,4)\n",
    "b = (8,10)\n",
    "c = (13,5)\n",
    "d = (9, 6)\n",
    "e = (10,2)\n",
    "\n",
    "# The following functions define a collection of operation on 2D coordinates\n",
    "\n",
    "# Subtraction\n",
    "def tuple_op(t_op):\n",
    "    \"\"\"\n",
    "    Returns a callable applying `t_op` element-wise to a pair of tuples.\n",
    "    \"\"\"\n",
    "    def _inner(pt1, pt2):\n",
    "        return tuple(map(t_op, pt1, pt2))\n",
    "    \n",
    "    return _inner\n",
    "\n",
    "subtract = tuple_op(sub)\n",
    "\n",
    "print('Subtraction output:')\n",
    "print(b,a,subtract(b, a))"
   ]
  },
  {
   "cell_type": "code",
   "execution_count": 13,
   "metadata": {},
   "outputs": [
    {
     "name": "stdout",
     "output_type": "stream",
     "text": [
      "Cross product output:\n",
      "-24\n",
      "24\n",
      "(4, 4) (8, 10) (13, 5) -> 50\n",
      "(4, 4) (8, 10) (9, 6) -> 22\n",
      "(4, 4) (8, 10) (10, 2) -> 44\n"
     ]
    }
   ],
   "source": [
    "def cross_product(pt1, pt2):\n",
    "    \"\"\"\n",
    "    Returns the cross product of between the two given points (vectors).\n",
    "    \"\"\"\n",
    "    cp = pt1[0] * pt2[1] - pt1[1] * pt2[0]\n",
    "    return cp\n",
    "\n",
    "print('Cross product output:')\n",
    "print(cross_product(subtract((10, 5), (2, 5)), subtract((8, 2), (2, 5))))\n",
    "print(cross_product(subtract((10, 5), (2, 5)), subtract((8, 8), (2, 5))))\n",
    "\n",
    "for p in (c,d,e):\n",
    "    print(f'{a} {b} {p} -> {cross_product(subtract(b, a), subtract(b, p))}')"
   ]
  },
  {
   "cell_type": "code",
   "execution_count": 14,
   "metadata": {},
   "outputs": [
    {
     "name": "stdout",
     "output_type": "stream",
     "text": [
      "Inside triangle check output:\n",
      "True\n",
      "False\n"
     ]
    }
   ],
   "source": [
    "def inside_tri(a,b,c,p):\n",
    "    \"\"\"\n",
    "    Returns True iff `p` lies within the triangle defined by (a,b,c). \n",
    "    \"\"\"\n",
    "    pve=0\n",
    "    pve += 1 if cross_product(subtract(b, a), subtract(p, a)) > 0.0 else -1\n",
    "    pve += 1 if cross_product(subtract(c, b), subtract(p, b)) > 0.0 else -1\n",
    "    pve += 1 if cross_product(subtract(a, c), subtract(p, c)) > 0.0 else -1\n",
    "    return pve == 3 or pve == -3\n",
    "\n",
    "print('Inside triangle check output:')\n",
    "print(inside_tri(a, b, c, d))\n",
    "print(inside_tri(a, b, c, e))"
   ]
  },
  {
   "cell_type": "markdown",
   "metadata": {},
   "source": [
    "### Exercise 3:\n",
    "What would be the complexity of a naive approach to check whether each point of a list  belongs within a triangle defined by any combination of three other points? Implement such a function below:"
   ]
  },
  {
   "cell_type": "code",
   "execution_count": 36,
   "metadata": {},
   "outputs": [
    {
     "data": {
      "image/png": "[encoded data removed]",
      "text/plain": [
       "<Figure size 432x288 with 1 Axes>"
      ]
     },
     "metadata": {
      "needs_background": "light"
     },
     "output_type": "display_data"
    }
   ],
   "source": [
    "from itertools import combinations\n",
    "\n",
    "def convex_hull1(points):\n",
    "    filtered = [False] * len(points)\n",
    "                    \n",
    "    for i,j,k in combinations(range(len(points)),3):\n",
    "        if any(filtered[idx] for idx in (i,j,k)):\n",
    "            continue\n",
    "            \n",
    "        a=points[i]\n",
    "        b=points[j]\n",
    "        c=points[k]\n",
    "        \n",
    "        for idx, p in enumerate(points):\n",
    "            if idx not in (i,j,k) and inside_tri(a,b,c,p):\n",
    "                filtered[idx]=True\n",
    "                \n",
    "    return filtered\n",
    "\n",
    "points = generate_points(1000)\n",
    "run_convex_hull(points, convex_hull1)"
   ]
  },
  {
   "cell_type": "markdown",
   "metadata": {},
   "source": [
    "### Exercise 4:\n",
    "A few \"simple\" changes could dramatically reduce the practical performance of this algorithm. Examples include \"pruning\" techniques (ensuring that we avoid multiple unecessary checks). Implement such an algorithm, where:\n",
    "* we avoid seeing permutations of the same triangle (abc), (acb), (cab), (cba), (bac), (bca)\n",
    "* we avoid checking points that we know we do not need to check"
   ]
  },
  {
   "cell_type": "code",
   "execution_count": 7,
   "metadata": {},
   "outputs": [
    {
     "data": {
      "image/png": "[encoded data removed]",
      "text/plain": [
       "<Figure size 432x288 with 1 Axes>"
      ]
     },
     "metadata": {
      "needs_background": "light"
     },
     "output_type": "display_data"
    }
   ],
   "source": [
    "def convex_hull2(points):\n",
    "    filtered = [False] * len(points)\n",
    "\n",
    "    for p in range(len(points)):\n",
    "        if filtered[p]:\n",
    "            continue\n",
    "\n",
    "        for q in range(len(points)):\n",
    "            if filtered[q] or p == q:\n",
    "                continue\n",
    "\n",
    "            for r in range(len(points)):\n",
    "                if filtered[r] or r in (p, q):\n",
    "                    continue\n",
    "\n",
    "                for s in range(len(points)):\n",
    "                    if filtered[s] or s in (p, q, r):\n",
    "                        continue\n",
    "\n",
    "                    filtered[s] = inside_tri(points[p], points[q], points[r], points[s])\n",
    "\n",
    "    return filtered\n",
    "\n",
    "points = generate_points(1000)\n",
    "run_convex_hull(points, convex_hull2)"
   ]
  },
  {
   "cell_type": "code",
   "execution_count": 10,
   "metadata": {},
   "outputs": [
    {
     "name": "stdout",
     "output_type": "stream",
     "text": [
      "8.28 s ± 2.82 ms per loop (mean ± std. dev. of 7 runs, 1 loop each)\n",
      "168 ms ± 173 µs per loop (mean ± std. dev. of 7 runs, 10 loops each)\n"
     ]
    }
   ],
   "source": [
    "points = generate_points(500)\n",
    "%timeit convex_hull1(points)\n",
    "%timeit convex_hull2(points)"
   ]
  },
  {
   "cell_type": "markdown",
   "metadata": {},
   "source": [
    "We know that points may cluster together, so choosing larger triangles could eliminate more internal points in one go. Can we intelligently choose triangles to select large ones and avoid small or narrow ones?"
   ]
  }
 ],
 "metadata": {
  "kernelspec": {
   "display_name": "Python 3 (ipykernel)",
   "language": "python",
   "name": "python3"
  },
  "language_info": {
   "codemirror_mode": {
    "name": "ipython",
    "version": 3
   },
   "file_extension": ".py",
   "mimetype": "text/x-python",
   "name": "python",
   "nbconvert_exporter": "python",
   "pygments_lexer": "ipython3",
   "version": "3.10.9"
  }
 },
 "nbformat": 4,
 "nbformat_minor": 2
}
