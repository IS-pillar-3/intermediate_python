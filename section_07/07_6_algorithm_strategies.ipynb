{
 "cells": [
  {
   "cell_type": "markdown",
   "metadata": {
    "slideshow": {
     "slide_type": "slide"
    }
   },
   "source": [
    "#### <center>Intermediate Python and Software Enginnering</center>\n",
    "\n",
    "\n",
    "## <center>Section 07 - Part 06 - Algorithm Strategies</center>\n",
    "\n",
    "\n",
    "### <center>Innovation Scholars Programme</center>\n",
    "### <center>King's College London, Medical Research Council and UKRI <center>"
   ]
  },
  {
   "cell_type": "markdown",
   "metadata": {
    "slideshow": {
     "slide_type": "slide"
    }
   },
   "source": [
    "## Algorithm Strategies\n",
    "* Divide-and-conquer: divide the data/search space into subparts and apply algorithm to these subproblems\n",
    "* Linear programming: given a linear function `f(x0,...,xn)` dependent on `n` variables with linear constraints stated for them, find the values for the variables to maximize/optimize `f`\n",
    "* Dynamic programming: like divide-and-conquer, solve subproblems into subsubproblems, solve them, and store solutions for future reuse\n",
    "* Greedy: try to find a globally optimal solution by finding locally optimal solutions within a local area of search space "
   ]
  },
  {
   "cell_type": "markdown",
   "metadata": {
    "slideshow": {
     "slide_type": "slide"
    }
   },
   "source": [
    "## Recursion and Functional Programming\n",
    "* Consider an algorithm as defining the relationship between states rather than a sequence of operations\n",
    "* Functional programming involves describing computation as this relationship, stating how a solution relates to the input data\n",
    "* We can then break problems into similar subproblems and define routines which call themselves in the subproblems\n",
    "* Consider linear search:"
   ]
  },
  {
   "cell_type": "code",
   "execution_count": 4,
   "metadata": {
    "slideshow": {
     "slide_type": "slide"
    }
   },
   "outputs": [
    {
     "name": "stdout",
     "output_type": "stream",
     "text": [
      "750\n"
     ]
    }
   ],
   "source": [
    "def lsearch(item, seq, index=0):\n",
    "    if len(seq) == 0:\n",
    "        return None\n",
    "    \n",
    "    head, *tail = seq\n",
    "    if head == item:\n",
    "        return index\n",
    "    \n",
    "    return lsearch(item, tail, index + 1)\n",
    "        \n",
    "nums = list(range(1000))\n",
    "print(lsearch(750,nums))"
   ]
  },
  {
   "cell_type": "markdown",
   "metadata": {
    "slideshow": {
     "slide_type": "slide"
    }
   },
   "source": [
    "* `lsearch` calls itself to continue searching in a sublist\n",
    "* Searching this sublist or the whole is the same operation\n",
    "* Unsearched sublist can be considered the subproblem to apply the same solution to as the whole list so this is something like divide-and-conquer"
   ]
  },
  {
   "cell_type": "markdown",
   "metadata": {
    "slideshow": {
     "slide_type": "slide"
    }
   },
   "source": [
    "* Recursion makes sense for sorting with partitioning algorithms like quicksort:"
   ]
  },
  {
   "cell_type": "code",
   "execution_count": 5,
   "metadata": {
    "slideshow": {
     "slide_type": "fragment"
    }
   },
   "outputs": [
    {
     "name": "stdout",
     "output_type": "stream",
     "text": [
      "Unsorted: [18 14 26 12 22 11 27 10 20 29 17 24 30 28 15 25 19 13 21 16 23]\n",
      "Sorted:   [10 11 12 13 14 15 16 17 18 19 20 21 22 23 24 25 26 27 28 29 30]\n"
     ]
    }
   ],
   "source": [
    "def qsort(seq):\n",
    "    if len(seq)<2:\n",
    "        return seq\n",
    "    \n",
    "    pivot, *tail = seq\n",
    "    lower = qsort([i for i in tail if i <= pivot])\n",
    "    upper = qsort([i for i in tail if i > pivot]) \n",
    "    return lower + [pivot] + upper\n",
    "    \n",
    "rand=np.arange(10,31)\n",
    "np.random.shuffle(rand)\n",
    "print('Unsorted:',rand)\n",
    "rand=qsort(rand)\n",
    "print('Sorted:  ',np.asarray(rand))"
   ]
  },
  {
   "cell_type": "markdown",
   "metadata": {
    "slideshow": {
     "slide_type": "slide"
    }
   },
   "source": [
    "## Time Complexity\n",
    "* How much time (and space) algorithms take is an important consideration as data gets large\n",
    "* Insertion sort is `O(n**2)` in worst case since every item added to the sorted sublist may need to be compared against every other, so `n` sorting operations do `n` compare operations\n",
    "* Faster sorting algorithms exist: quicksort on average is `O(n log n)`, bucket sort is `O(n)` for data assignable to buckets\n",
    "* For small datasets a simple but inefficient algorithm is easier to implement and has negligible time cost"
   ]
  },
  {
   "cell_type": "markdown",
   "metadata": {
    "slideshow": {
     "slide_type": "slide"
    }
   },
   "source": [
    "## Space Complexity\n",
    "* We need to consider how much memory algorithms use as well\n",
    "* `qsort` partitions the list being sorted into 2 sublists, this creates new objects each time, could instead be done inline by shuffling items in the original list\n",
    "* Algorithm design, and programming in general, involves traversing a 2-dimensional universe of time and space and making the trade-offs between the two"
   ]
  },
  {
   "cell_type": "markdown",
   "metadata": {
    "slideshow": {
     "slide_type": "slide"
    }
   },
   "source": [
    "# That's it!\n",
    "\n",
    "## Next: practicals"
   ]
  }
 ],
 "metadata": {
  "celltoolbar": "Slideshow",
  "kernelspec": {
   "display_name": "Python 3 (ipykernel)",
   "language": "python",
   "name": "python3"
  },
  "language_info": {
   "codemirror_mode": {
    "name": "ipython",
    "version": 3
   },
   "file_extension": ".py",
   "mimetype": "text/x-python",
   "name": "python",
   "nbconvert_exporter": "python",
   "pygments_lexer": "ipython3",
   "version": "3.10.9"
  }
 },
 "nbformat": 4,
 "nbformat_minor": 2
}
