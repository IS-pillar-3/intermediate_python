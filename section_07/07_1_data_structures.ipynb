{
 "cells": [
  {
   "cell_type": "markdown",
   "metadata": {
    "slideshow": {
     "slide_type": "slide"
    }
   },
   "source": [
    "#### <center>Intermediate Python and Software Enginnering</center>\n",
    "\n",
    "\n",
    "## <center>Section 07 - Part 01 - Data Structures</center>\n",
    "\n",
    "\n",
    "### <center>Innovation Scholars Programme</center>\n",
    "### <center>King's College London, Medical Research Council and UKRI <center>"
   ]
  },
  {
   "cell_type": "markdown",
   "metadata": {
    "slideshow": {
     "slide_type": "slide"
    }
   },
   "source": [
    "## What we'll cover\n",
    "* Data structures\n",
    "* Abstract Data Types\n",
    "* Time complexity\n",
    "* Choosing the right one for a task"
   ]
  },
  {
   "cell_type": "markdown",
   "metadata": {
    "slideshow": {
     "slide_type": "slide"
    }
   },
   "source": [
    "## Data Structures\n",
    "* Very simply the internal constructs (ie. objects) for storing data\n",
    "* Many ways exist to store the same data, the choice depends on application, efficiency, or some other quality metric\n",
    "* Already seen these in the primitive types `list`, `dict`, `set`, etc."
   ]
  },
  {
   "cell_type": "markdown",
   "metadata": {
    "slideshow": {
     "slide_type": "slide"
    }
   },
   "source": [
    "* Lists are the simplest type, storing data in some contiguous way\n",
    "* Individual items of data are accessed by index, so need to know size, type, etc. beforehand\n",
    "* Python handles all of these issues for you\n",
    "* For fast lists of numeric values use Numpy arrays"
   ]
  },
  {
   "cell_type": "markdown",
   "metadata": {
    "slideshow": {
     "slide_type": "slide"
    }
   },
   "source": [
    "* We can differentiate between types of data structures\n",
    "  * Collections like `list`, `tuple`, etc. are designed to generically store data objects, they provide routines and facilities related to storage mechanisms only and not for manipulating or computing with the stored data\n",
    "  * Compound data types like a simple vector in 3D space having `x`, `y`, and `z` numeric components or a Numpy array which store a specifically defined sort of data and provide operations over that data"
   ]
  },
  {
   "cell_type": "markdown",
   "metadata": {
    "slideshow": {
     "slide_type": "slide"
    }
   },
   "source": [
    "## Example: Linked List\n",
    "\n",
    "\n",
    "* A list of nodes, each with a data item and a reference to the next (or None) <img src=\"https://upload.wikimedia.org/wikipedia/commons/thumb/6/6d/Singly-linked-list.svg/600px-Singly-linked-list.svg.png\">\n",
    "* Interface works like a sequence, stack, and/or queue"
   ]
  },
  {
   "cell_type": "code",
   "execution_count": 6,
   "metadata": {
    "slideshow": {
     "slide_type": "fragment"
    }
   },
   "outputs": [],
   "source": [
    "class LLNode:\n",
    "    def __init__(self, data, nextNode=None):\n",
    "        self.data = data\n",
    "        self.nextNode = nextNode # None or LLNode instance"
   ]
  },
  {
   "cell_type": "code",
   "execution_count": 7,
   "metadata": {
    "slideshow": {
     "slide_type": "slide"
    }
   },
   "outputs": [],
   "source": [
    "class LinkedList:\n",
    "    def __init__(self):\n",
    "        self.head = None\n",
    "        \n",
    "    def append(self, data):\n",
    "        \"\"\"Add an item to the end of the list.\"\"\"\n",
    "        if self.head is None:\n",
    "            self.head = LLNode(data) # start a new list\n",
    "        else:\n",
    "            tail = self.head\n",
    "            while tail.nextNode is not None: # get tail of list\n",
    "                tail = tail.nextNode\n",
    "                \n",
    "            tail.nextNode = LLNode(data) # add to the tail"
   ]
  },
  {
   "cell_type": "markdown",
   "metadata": {
    "slideshow": {
     "slide_type": "slide"
    }
   },
   "source": [
    "* Could add more methods for putting an item at the front of the list, getting the n'th item, finding an item in list, removal, etc.\n",
    "* This would be used in place of a `list` or other type to take advantage of the time requirements of these operations when appropriate\n",
    "* Internal implementation of the linked list is hidden behind this interface, that is the details are abstracted away from any client\n"
   ]
  },
  {
   "cell_type": "markdown",
   "metadata": {
    "slideshow": {
     "slide_type": "slide"
    }
   },
   "source": [
    "## Abstract Data Type\n",
    "* An abstract data type (ADT) is composed of the two constructs:\n",
    "  * The data definition, stated as a structure of values\n",
    "  * The operations which create and manipulate these structures\n",
    "* Operations are exposed to clients as interface only, hiding the implementation details\n",
    "* This abstraction allows the data structure to be used by clients without knowing anything about internal details\n",
    "* Classes are types of ADTs combining data and operations in a single definition"
   ]
  }
 ],
 "metadata": {
  "celltoolbar": "Slideshow",
  "kernelspec": {
   "display_name": "Python 3 (ipykernel)",
   "language": "python",
   "name": "python3"
  },
  "language_info": {
   "codemirror_mode": {
    "name": "ipython",
    "version": 3
   },
   "file_extension": ".py",
   "mimetype": "text/x-python",
   "name": "python",
   "nbconvert_exporter": "python",
   "pygments_lexer": "ipython3",
   "version": "3.10.9"
  }
 },
 "nbformat": 4,
 "nbformat_minor": 2
}
